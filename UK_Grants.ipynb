{
  "cells": [
    {
      "cell_type": "markdown",
      "source": [
        "# Analysis of Flow of funds in UK Charities\n",
        "- 360GrantNav data has been used\n",
        "- it includes data of specific grant - date, funding and beneficiary organisation, grant amount, purpose etc\n",
        "- our goal is to get some insights into the flow of funds among cities/regions/districts"
      ],
      "metadata": {
        "id": "gSBvFTJpmLB4"
      }
    },
    {
      "cell_type": "code",
      "execution_count": 1,
      "metadata": {
        "id": "wQrXuLKm5Z4m"
      },
      "outputs": [],
      "source": [
        "import numpy as np\n",
        "import pandas as pd\n",
        "import networkx as nx\n",
        "from collections import Counter"
      ]
    },
    {
      "cell_type": "code",
      "execution_count": 2,
      "metadata": {
        "colab": {
          "base_uri": "https://localhost:8080/"
        },
        "id": "0K3SpqeBJXIQ",
        "outputId": "90628d6c-f4dc-4e55-845b-dabed1d55867"
      },
      "outputs": [
        {
          "output_type": "stream",
          "name": "stdout",
          "text": [
            "Mounted at /content/drive/\n"
          ]
        }
      ],
      "source": [
        "from google.colab import drive\n",
        "drive.mount('/content/drive/')"
      ]
    },
    {
      "cell_type": "code",
      "execution_count": 3,
      "metadata": {
        "colab": {
          "base_uri": "https://localhost:8080/",
          "height": 785
        },
        "id": "NkRUxqWHJq2S",
        "outputId": "bdb75bf7-8950-44c0-dd84-ed8a89197ce2"
      },
      "outputs": [
        {
          "output_type": "stream",
          "name": "stderr",
          "text": [
            "/usr/local/lib/python3.7/dist-packages/IPython/core/interactiveshell.py:2882: DtypeWarning: Columns (8,9,10,13,17,18,19,20,21,22,23,24,25,26,27,28,31,32,33,34,35,36,37,38,39,40,41,42,43,44,45,46,47,48,49,50,51,52,53,54,55,57,58,59,61,62,63,65,66,67,71,72,73,74,75,80,81,82,84,85,86,87) have mixed types.Specify dtype option on import or set low_memory=False.\n",
            "  exec(code_obj, self.user_global_ns, self.user_ns)\n"
          ]
        },
        {
          "output_type": "execute_result",
          "data": {
            "text/plain": [
              "                Identifier                              Title  \\\n",
              "0  360G-SomersetCF-A350096                 Church Re-ordering   \n",
              "1  360G-SomersetCF-A377421  2014/15 Taster sessions follow-up   \n",
              "2  360G-SomersetCF-A384802          Community Advice Pathways   \n",
              "3  360G-SomersetCF-A388084                 New kitchen/ diner   \n",
              "4  360G-SomersetCF-A392582            Blackdown Support Group   \n",
              "\n",
              "                                         Description Currency  \\\n",
              "0       Church building conversion for community use      GBP   \n",
              "1       Horse therapy sessions for disabled children      GBP   \n",
              "2                      Weekly advice drop-in service      GBP   \n",
              "3                                 New kitchen/ diner      GBP   \n",
              "4  Support to the elderly and the infirm in the B...      GBP   \n",
              "\n",
              "   Amount Applied For  Amount Awarded  Amount Disbursed  Award Date  \\\n",
              "0             20000.0         20000.0               NaN  2014-11-12   \n",
              "1              5000.0          2620.0               NaN  2016-02-09   \n",
              "2              1224.0          1224.0               NaN  2016-07-20   \n",
              "3             10000.0          2500.0               NaN  2016-02-17   \n",
              "4               500.0           500.0               NaN  2016-05-17   \n",
              "\n",
              "                                       URL Planned Dates:Start Date  ...  \\\n",
              "0                                      NaN               2014-11-01  ...   \n",
              "1   http://www.horseshoesandhandprints.org               2015-07-01  ...   \n",
              "2            http://www.southsomcab.org.uk               2016-02-01  ...   \n",
              "3                   http://www.swedauk.org               2016-03-01  ...   \n",
              "4  http://www.blackdownsupportgroup.org.uk               2016-04-01  ...   \n",
              "\n",
              "          Recipient Org: Org ID(s)  Recipient Org: Latest Income  \\\n",
              "0                              NaN                           NaN   \n",
              "1                   GB-CHC-1147898                           0.0   \n",
              "2  GB-CHC-1054134, GB-COH-03173414                      539413.0   \n",
              "3  GB-CHC-1056441, GB-COH-03208772                      241914.0   \n",
              "4                   GB-CHC-1013514                       52407.0   \n",
              "\n",
              "   Recipient Org: Latest Income Date Recipient Org: Org Type  \\\n",
              "0                                NaN                     NaN   \n",
              "1                         2020-06-30      Registered Charity   \n",
              "2                         2020-03-31      Registered Charity   \n",
              "3                         2020-03-31      Registered Charity   \n",
              "4                         2020-03-31      Registered Charity   \n",
              "\n",
              "   Recipient Org: Registered Postcode Recipient Org: Data Source  \\\n",
              "0                                 NaN                        NaN   \n",
              "1                            TA20 1HD                       ccew   \n",
              "2                            BA20 1SH                       ccew   \n",
              "3                             BA4 5BS                       ccew   \n",
              "4                            EX15 3SF                       ccew   \n",
              "\n",
              "  Recipient Org: Canonical Org ID            Recipient Org: Canonical Name  \\\n",
              "0                  GB-REV-XN22586    South Barrow Parochial Church Council   \n",
              "1                  GB-CHC-1147898                Horseshoes and Handprints   \n",
              "2                 GB-COH-03173414  Citizens Advice Bureau - South Somerset   \n",
              "3                 GB-COH-03208772                                    SWEDA   \n",
              "4                  GB-CHC-1013514                  Blackdown Support Group   \n",
              "\n",
              "                             License (see note)  \\\n",
              "0  https://creativecommons.org/licenses/by/4.0/   \n",
              "1  https://creativecommons.org/licenses/by/4.0/   \n",
              "2  https://creativecommons.org/licenses/by/4.0/   \n",
              "3  https://creativecommons.org/licenses/by/4.0/   \n",
              "4  https://creativecommons.org/licenses/by/4.0/   \n",
              "\n",
              "  Note, this file also contains OS data © Crown copyright and database right 2016, Royal Mail data © Royal Mail copyright and Database right 2016, National Statistics data © Crown copyright and database right 2015 & 2016, see http://grantnav.threesixtygiving.org/datasets/ for more information.  \n",
              "0                                                NaN                                                                                                                                                                                                                                                    \n",
              "1                                                NaN                                                                                                                                                                                                                                                    \n",
              "2                                                NaN                                                                                                                                                                                                                                                    \n",
              "3                                                NaN                                                                                                                                                                                                                                                    \n",
              "4                                                NaN                                                                                                                                                                                                                                                    \n",
              "\n",
              "[5 rows x 92 columns]"
            ],
            "text/html": [
              "\n",
              "  <div id=\"df-2d3e51bc-fe4c-43bd-a69a-2318f95b1355\">\n",
              "    <div class=\"colab-df-container\">\n",
              "      <div>\n",
              "<style scoped>\n",
              "    .dataframe tbody tr th:only-of-type {\n",
              "        vertical-align: middle;\n",
              "    }\n",
              "\n",
              "    .dataframe tbody tr th {\n",
              "        vertical-align: top;\n",
              "    }\n",
              "\n",
              "    .dataframe thead th {\n",
              "        text-align: right;\n",
              "    }\n",
              "</style>\n",
              "<table border=\"1\" class=\"dataframe\">\n",
              "  <thead>\n",
              "    <tr style=\"text-align: right;\">\n",
              "      <th></th>\n",
              "      <th>Identifier</th>\n",
              "      <th>Title</th>\n",
              "      <th>Description</th>\n",
              "      <th>Currency</th>\n",
              "      <th>Amount Applied For</th>\n",
              "      <th>Amount Awarded</th>\n",
              "      <th>Amount Disbursed</th>\n",
              "      <th>Award Date</th>\n",
              "      <th>URL</th>\n",
              "      <th>Planned Dates:Start Date</th>\n",
              "      <th>...</th>\n",
              "      <th>Recipient Org: Org ID(s)</th>\n",
              "      <th>Recipient Org: Latest Income</th>\n",
              "      <th>Recipient Org: Latest Income Date</th>\n",
              "      <th>Recipient Org: Org Type</th>\n",
              "      <th>Recipient Org: Registered Postcode</th>\n",
              "      <th>Recipient Org: Data Source</th>\n",
              "      <th>Recipient Org: Canonical Org ID</th>\n",
              "      <th>Recipient Org: Canonical Name</th>\n",
              "      <th>License (see note)</th>\n",
              "      <th>Note, this file also contains OS data © Crown copyright and database right 2016, Royal Mail data © Royal Mail copyright and Database right 2016, National Statistics data © Crown copyright and database right 2015 &amp; 2016, see http://grantnav.threesixtygiving.org/datasets/ for more information.</th>\n",
              "    </tr>\n",
              "  </thead>\n",
              "  <tbody>\n",
              "    <tr>\n",
              "      <th>0</th>\n",
              "      <td>360G-SomersetCF-A350096</td>\n",
              "      <td>Church Re-ordering</td>\n",
              "      <td>Church building conversion for community use</td>\n",
              "      <td>GBP</td>\n",
              "      <td>20000.0</td>\n",
              "      <td>20000.0</td>\n",
              "      <td>NaN</td>\n",
              "      <td>2014-11-12</td>\n",
              "      <td>NaN</td>\n",
              "      <td>2014-11-01</td>\n",
              "      <td>...</td>\n",
              "      <td>NaN</td>\n",
              "      <td>NaN</td>\n",
              "      <td>NaN</td>\n",
              "      <td>NaN</td>\n",
              "      <td>NaN</td>\n",
              "      <td>NaN</td>\n",
              "      <td>GB-REV-XN22586</td>\n",
              "      <td>South Barrow Parochial Church Council</td>\n",
              "      <td>https://creativecommons.org/licenses/by/4.0/</td>\n",
              "      <td>NaN</td>\n",
              "    </tr>\n",
              "    <tr>\n",
              "      <th>1</th>\n",
              "      <td>360G-SomersetCF-A377421</td>\n",
              "      <td>2014/15 Taster sessions follow-up</td>\n",
              "      <td>Horse therapy sessions for disabled children</td>\n",
              "      <td>GBP</td>\n",
              "      <td>5000.0</td>\n",
              "      <td>2620.0</td>\n",
              "      <td>NaN</td>\n",
              "      <td>2016-02-09</td>\n",
              "      <td>http://www.horseshoesandhandprints.org</td>\n",
              "      <td>2015-07-01</td>\n",
              "      <td>...</td>\n",
              "      <td>GB-CHC-1147898</td>\n",
              "      <td>0.0</td>\n",
              "      <td>2020-06-30</td>\n",
              "      <td>Registered Charity</td>\n",
              "      <td>TA20 1HD</td>\n",
              "      <td>ccew</td>\n",
              "      <td>GB-CHC-1147898</td>\n",
              "      <td>Horseshoes and Handprints</td>\n",
              "      <td>https://creativecommons.org/licenses/by/4.0/</td>\n",
              "      <td>NaN</td>\n",
              "    </tr>\n",
              "    <tr>\n",
              "      <th>2</th>\n",
              "      <td>360G-SomersetCF-A384802</td>\n",
              "      <td>Community Advice Pathways</td>\n",
              "      <td>Weekly advice drop-in service</td>\n",
              "      <td>GBP</td>\n",
              "      <td>1224.0</td>\n",
              "      <td>1224.0</td>\n",
              "      <td>NaN</td>\n",
              "      <td>2016-07-20</td>\n",
              "      <td>http://www.southsomcab.org.uk</td>\n",
              "      <td>2016-02-01</td>\n",
              "      <td>...</td>\n",
              "      <td>GB-CHC-1054134, GB-COH-03173414</td>\n",
              "      <td>539413.0</td>\n",
              "      <td>2020-03-31</td>\n",
              "      <td>Registered Charity</td>\n",
              "      <td>BA20 1SH</td>\n",
              "      <td>ccew</td>\n",
              "      <td>GB-COH-03173414</td>\n",
              "      <td>Citizens Advice Bureau - South Somerset</td>\n",
              "      <td>https://creativecommons.org/licenses/by/4.0/</td>\n",
              "      <td>NaN</td>\n",
              "    </tr>\n",
              "    <tr>\n",
              "      <th>3</th>\n",
              "      <td>360G-SomersetCF-A388084</td>\n",
              "      <td>New kitchen/ diner</td>\n",
              "      <td>New kitchen/ diner</td>\n",
              "      <td>GBP</td>\n",
              "      <td>10000.0</td>\n",
              "      <td>2500.0</td>\n",
              "      <td>NaN</td>\n",
              "      <td>2016-02-17</td>\n",
              "      <td>http://www.swedauk.org</td>\n",
              "      <td>2016-03-01</td>\n",
              "      <td>...</td>\n",
              "      <td>GB-CHC-1056441, GB-COH-03208772</td>\n",
              "      <td>241914.0</td>\n",
              "      <td>2020-03-31</td>\n",
              "      <td>Registered Charity</td>\n",
              "      <td>BA4 5BS</td>\n",
              "      <td>ccew</td>\n",
              "      <td>GB-COH-03208772</td>\n",
              "      <td>SWEDA</td>\n",
              "      <td>https://creativecommons.org/licenses/by/4.0/</td>\n",
              "      <td>NaN</td>\n",
              "    </tr>\n",
              "    <tr>\n",
              "      <th>4</th>\n",
              "      <td>360G-SomersetCF-A392582</td>\n",
              "      <td>Blackdown Support Group</td>\n",
              "      <td>Support to the elderly and the infirm in the B...</td>\n",
              "      <td>GBP</td>\n",
              "      <td>500.0</td>\n",
              "      <td>500.0</td>\n",
              "      <td>NaN</td>\n",
              "      <td>2016-05-17</td>\n",
              "      <td>http://www.blackdownsupportgroup.org.uk</td>\n",
              "      <td>2016-04-01</td>\n",
              "      <td>...</td>\n",
              "      <td>GB-CHC-1013514</td>\n",
              "      <td>52407.0</td>\n",
              "      <td>2020-03-31</td>\n",
              "      <td>Registered Charity</td>\n",
              "      <td>EX15 3SF</td>\n",
              "      <td>ccew</td>\n",
              "      <td>GB-CHC-1013514</td>\n",
              "      <td>Blackdown Support Group</td>\n",
              "      <td>https://creativecommons.org/licenses/by/4.0/</td>\n",
              "      <td>NaN</td>\n",
              "    </tr>\n",
              "  </tbody>\n",
              "</table>\n",
              "<p>5 rows × 92 columns</p>\n",
              "</div>\n",
              "      <button class=\"colab-df-convert\" onclick=\"convertToInteractive('df-2d3e51bc-fe4c-43bd-a69a-2318f95b1355')\"\n",
              "              title=\"Convert this dataframe to an interactive table.\"\n",
              "              style=\"display:none;\">\n",
              "        \n",
              "  <svg xmlns=\"http://www.w3.org/2000/svg\" height=\"24px\"viewBox=\"0 0 24 24\"\n",
              "       width=\"24px\">\n",
              "    <path d=\"M0 0h24v24H0V0z\" fill=\"none\"/>\n",
              "    <path d=\"M18.56 5.44l.94 2.06.94-2.06 2.06-.94-2.06-.94-.94-2.06-.94 2.06-2.06.94zm-11 1L8.5 8.5l.94-2.06 2.06-.94-2.06-.94L8.5 2.5l-.94 2.06-2.06.94zm10 10l.94 2.06.94-2.06 2.06-.94-2.06-.94-.94-2.06-.94 2.06-2.06.94z\"/><path d=\"M17.41 7.96l-1.37-1.37c-.4-.4-.92-.59-1.43-.59-.52 0-1.04.2-1.43.59L10.3 9.45l-7.72 7.72c-.78.78-.78 2.05 0 2.83L4 21.41c.39.39.9.59 1.41.59.51 0 1.02-.2 1.41-.59l7.78-7.78 2.81-2.81c.8-.78.8-2.07 0-2.86zM5.41 20L4 18.59l7.72-7.72 1.47 1.35L5.41 20z\"/>\n",
              "  </svg>\n",
              "      </button>\n",
              "      \n",
              "  <style>\n",
              "    .colab-df-container {\n",
              "      display:flex;\n",
              "      flex-wrap:wrap;\n",
              "      gap: 12px;\n",
              "    }\n",
              "\n",
              "    .colab-df-convert {\n",
              "      background-color: #E8F0FE;\n",
              "      border: none;\n",
              "      border-radius: 50%;\n",
              "      cursor: pointer;\n",
              "      display: none;\n",
              "      fill: #1967D2;\n",
              "      height: 32px;\n",
              "      padding: 0 0 0 0;\n",
              "      width: 32px;\n",
              "    }\n",
              "\n",
              "    .colab-df-convert:hover {\n",
              "      background-color: #E2EBFA;\n",
              "      box-shadow: 0px 1px 2px rgba(60, 64, 67, 0.3), 0px 1px 3px 1px rgba(60, 64, 67, 0.15);\n",
              "      fill: #174EA6;\n",
              "    }\n",
              "\n",
              "    [theme=dark] .colab-df-convert {\n",
              "      background-color: #3B4455;\n",
              "      fill: #D2E3FC;\n",
              "    }\n",
              "\n",
              "    [theme=dark] .colab-df-convert:hover {\n",
              "      background-color: #434B5C;\n",
              "      box-shadow: 0px 1px 3px 1px rgba(0, 0, 0, 0.15);\n",
              "      filter: drop-shadow(0px 1px 2px rgba(0, 0, 0, 0.3));\n",
              "      fill: #FFFFFF;\n",
              "    }\n",
              "  </style>\n",
              "\n",
              "      <script>\n",
              "        const buttonEl =\n",
              "          document.querySelector('#df-2d3e51bc-fe4c-43bd-a69a-2318f95b1355 button.colab-df-convert');\n",
              "        buttonEl.style.display =\n",
              "          google.colab.kernel.accessAllowed ? 'block' : 'none';\n",
              "\n",
              "        async function convertToInteractive(key) {\n",
              "          const element = document.querySelector('#df-2d3e51bc-fe4c-43bd-a69a-2318f95b1355');\n",
              "          const dataTable =\n",
              "            await google.colab.kernel.invokeFunction('convertToInteractive',\n",
              "                                                     [key], {});\n",
              "          if (!dataTable) return;\n",
              "\n",
              "          const docLinkHtml = 'Like what you see? Visit the ' +\n",
              "            '<a target=\"_blank\" href=https://colab.research.google.com/notebooks/data_table.ipynb>data table notebook</a>'\n",
              "            + ' to learn more about interactive tables.';\n",
              "          element.innerHTML = '';\n",
              "          dataTable['output_type'] = 'display_data';\n",
              "          await google.colab.output.renderOutput(dataTable, element);\n",
              "          const docLink = document.createElement('div');\n",
              "          docLink.innerHTML = docLinkHtml;\n",
              "          element.appendChild(docLink);\n",
              "        }\n",
              "      </script>\n",
              "    </div>\n",
              "  </div>\n",
              "  "
            ]
          },
          "metadata": {},
          "execution_count": 3
        }
      ],
      "source": [
        "data = pd.read_csv(\"drive/My Drive/UK_Data/Grants/grantnav-uk-20220118164816.csv\")\n",
        "data.head()"
      ]
    },
    {
      "cell_type": "code",
      "execution_count": 4,
      "metadata": {
        "colab": {
          "base_uri": "https://localhost:8080/"
        },
        "id": "ZA17MuPnx1ap",
        "outputId": "2adbb8cb-7150-4d54-e3df-748aa3480788"
      },
      "outputs": [
        {
          "output_type": "execute_result",
          "data": {
            "text/plain": [
              "(632657, 92)"
            ]
          },
          "metadata": {},
          "execution_count": 4
        }
      ],
      "source": [
        "data.shape"
      ]
    },
    {
      "cell_type": "markdown",
      "source": [
        "Data for 632,657 grants available "
      ],
      "metadata": {
        "id": "5w1YFwBX8opw"
      }
    },
    {
      "cell_type": "code",
      "execution_count": 5,
      "metadata": {
        "colab": {
          "base_uri": "https://localhost:8080/"
        },
        "id": "pGB30gFuK92C",
        "outputId": "0a2b470b-7909-430b-d869-59b47a70ab9d"
      },
      "outputs": [
        {
          "output_type": "execute_result",
          "data": {
            "text/plain": [
              "Index(['Identifier', 'Title', 'Description', 'Currency', 'Amount Applied For',\n",
              "       'Amount Awarded', 'Amount Disbursed', 'Award Date', 'URL',\n",
              "       'Planned Dates:Start Date', 'Planned Dates:End Date',\n",
              "       'Planned Dates:Duration (months)', 'Actual Dates:Start Date',\n",
              "       'Actual Dates:End Date', 'Actual Dates:Duration (months)',\n",
              "       'Recipient Org:Identifier', 'Recipient Org:Name',\n",
              "       'Recipient Org:Charity Number', 'Recipient Org:Company Number',\n",
              "       'Recipient Org:Postal Code',\n",
              "       'Recipient Org:Location:0:Geographic Code Type',\n",
              "       'Recipient Org:Location:0:Geographic Code',\n",
              "       'Recipient Org:Location:0:Name',\n",
              "       'Recipient Org:Location:1:Geographic Code Type',\n",
              "       'Recipient Org:Location:1:Geographic Code',\n",
              "       'Recipient Org:Location:1:Name',\n",
              "       'Recipient Org:Location:2:Geographic Code Type',\n",
              "       'Recipient Org:Location:2:Geographic Code',\n",
              "       'Recipient Org:Location:2:Name', 'Funding Org:Identifier',\n",
              "       'Funding Org:Name', 'Funding Org:Postal Code', 'Grant Programme:Code',\n",
              "       'Grant Programme:Title', 'Grant Programme:URL',\n",
              "       'Beneficiary Location:0:Name', 'Beneficiary Location:0:Country Code',\n",
              "       'Beneficiary Location:0:Geographic Code',\n",
              "       'Beneficiary Location:0:Geographic Code Type',\n",
              "       'Beneficiary Location:1:Name', 'Beneficiary Location:1:Country Code',\n",
              "       'Beneficiary Location:1:Geographic Code',\n",
              "       'Beneficiary Location:1:Geographic Code Type',\n",
              "       'Beneficiary Location:2:Name', 'Beneficiary Location:2:Country Code',\n",
              "       'Beneficiary Location:2:Geographic Code',\n",
              "       'Beneficiary Location:2:Geographic Code Type',\n",
              "       'Beneficiary Location:3:Name', 'Beneficiary Location:3:Country Code',\n",
              "       'Beneficiary Location:3:Geographic Code',\n",
              "       'Beneficiary Location:3:Geographic Code Type',\n",
              "       'Beneficiary Location:4:Name', 'Beneficiary Location:4:Country Code',\n",
              "       'Beneficiary Location:4:Geographic Code',\n",
              "       'Beneficiary Location:4:Geographic Code Type',\n",
              "       'Beneficiary Location:5:Name', 'Beneficiary Location:5:Country Code',\n",
              "       'Beneficiary Location:5:Geographic Code',\n",
              "       'Beneficiary Location:5:Geographic Code Type',\n",
              "       'Beneficiary Location:6:Name', 'Beneficiary Location:6:Country Code',\n",
              "       'Beneficiary Location:6:Geographic Code',\n",
              "       'Beneficiary Location:6:Geographic Code Type',\n",
              "       'Beneficiary Location:7:Name', 'Beneficiary Location:7:Country Code',\n",
              "       'Beneficiary Location:7:Geographic Code',\n",
              "       'Beneficiary Location:7:Geographic Code Type', 'From An Open Call?',\n",
              "       'The following fields are not in the 360 Giving Standard and are added by GrantNav.',\n",
              "       'Data Source', 'Publisher:Name', 'Recipient Region',\n",
              "       'Recipient District', 'Recipient District Geographic Code',\n",
              "       'Recipient Ward', 'Recipient Ward Geographic Code',\n",
              "       'Retrieved for use in GrantNav', 'Funding Org: Org Type',\n",
              "       'Funding Org: Canonical Org ID', 'Funding Org: Canonical Name',\n",
              "       'Recipient Org: Date Registered', 'Recipient Org: Date Removed',\n",
              "       'Recipient Org: Org ID(s)', 'Recipient Org: Latest Income',\n",
              "       'Recipient Org: Latest Income Date', 'Recipient Org: Org Type',\n",
              "       'Recipient Org: Registered Postcode', 'Recipient Org: Data Source',\n",
              "       'Recipient Org: Canonical Org ID', 'Recipient Org: Canonical Name',\n",
              "       'License (see note)',\n",
              "       'Note, this file also contains OS data © Crown copyright and database right 2016, Royal Mail data © Royal Mail copyright and Database right 2016, National Statistics data © Crown copyright and database right 2015 & 2016, see http://grantnav.threesixtygiving.org/datasets/ for more information.'],\n",
              "      dtype='object')"
            ]
          },
          "metadata": {},
          "execution_count": 5
        }
      ],
      "source": [
        "data.columns"
      ]
    },
    {
      "cell_type": "code",
      "execution_count": 6,
      "metadata": {
        "colab": {
          "base_uri": "https://localhost:8080/"
        },
        "id": "mPL42Sy4eCz5",
        "outputId": "9ffcac41-dc0a-45e4-f249-6295074bccc6"
      },
      "outputs": [
        {
          "output_type": "execute_result",
          "data": {
            "text/plain": [
              "{1991: 1,\n",
              " 1996: 3,\n",
              " 1997: 139,\n",
              " 1998: 343,\n",
              " 1999: 477,\n",
              " 2000: 407,\n",
              " 2001: 494,\n",
              " 2002: 484,\n",
              " 2003: 566,\n",
              " 2004: 18813,\n",
              " 2005: 25801,\n",
              " 2006: 20868,\n",
              " 2007: 15442,\n",
              " 2008: 13671,\n",
              " 2009: 16537,\n",
              " 2010: 16172,\n",
              " 2011: 16294,\n",
              " 2012: 19222,\n",
              " 2013: 22286,\n",
              " 2014: 27741,\n",
              " 2015: 28261,\n",
              " 2016: 38542,\n",
              " 2017: 58186,\n",
              " 2018: 85649,\n",
              " 2019: 97989,\n",
              " 2020: 81281,\n",
              " 2021: 26970,\n",
              " 2022: 18}"
            ]
          },
          "metadata": {},
          "execution_count": 6
        }
      ],
      "source": [
        "daterange = {}\n",
        "for i in data['Award Date']:\n",
        "  d = int(i.split(\"-\")[0])\n",
        "  if d in daterange:\n",
        "    daterange[d]+=1\n",
        "  else:\n",
        "    daterange[d]=1\n",
        "\n",
        "daterange  ={x:daterange[x] for x in sorted(daterange)}\n",
        "daterange"
      ]
    },
    {
      "cell_type": "markdown",
      "source": [
        "most of the grants in the data are between the years 2004 and 2021"
      ],
      "metadata": {
        "id": "c5YkaZC6_OCt"
      }
    },
    {
      "cell_type": "markdown",
      "source": [
        "# Funding Org Location"
      ],
      "metadata": {
        "id": "AyUhtBYP_r3f"
      }
    },
    {
      "cell_type": "code",
      "execution_count": null,
      "metadata": {
        "colab": {
          "base_uri": "https://localhost:8080/"
        },
        "id": "w8kzrL_2B-C4",
        "outputId": "b9599d6a-172a-4484-d194-4dda31eb8693"
      },
      "outputs": [
        {
          "output_type": "execute_result",
          "data": {
            "text/plain": [
              "0"
            ]
          },
          "metadata": {},
          "execution_count": 9
        }
      ],
      "source": [
        "data['Funding Org:Name'].isna().sum()"
      ]
    },
    {
      "cell_type": "code",
      "execution_count": 10,
      "metadata": {
        "colab": {
          "base_uri": "https://localhost:8080/"
        },
        "id": "raDtxDNZi2w4",
        "outputId": "671e6b87-a5a4-44cd-f04d-b279835582f2"
      },
      "outputs": [
        {
          "output_type": "stream",
          "name": "stdout",
          "text": [
            "228\n"
          ]
        },
        {
          "output_type": "execute_result",
          "data": {
            "text/plain": [
              "['A B Charitable Trust',\n",
              " 'ARCADIA',\n",
              " 'Access to Justice Foundation',\n",
              " 'Alan & Babette Sainsbury Charitable Fund',\n",
              " 'Alex Ferry Foundation',\n",
              " 'Andrew Lloyd Webber Foundation',\n",
              " 'Armed Forces Covenant Fund Trust',\n",
              " 'Arts Council England',\n",
              " 'BBC Children in Need',\n",
              " 'Barrow Cadbury Trust']"
            ]
          },
          "metadata": {},
          "execution_count": 10
        }
      ],
      "source": [
        "temp = data['Funding Org:Name'].unique()\n",
        "print(len(temp))\n",
        "sorted(temp)[:10]"
      ]
    },
    {
      "cell_type": "markdown",
      "source": [
        "All tha grants in the dataset are funded by 228 organisations."
      ],
      "metadata": {
        "id": "nYMBxRpRAAcV"
      }
    },
    {
      "cell_type": "code",
      "execution_count": 7,
      "metadata": {
        "colab": {
          "base_uri": "https://localhost:8080/"
        },
        "id": "pF8OuaZ7eJV3",
        "outputId": "3e1ec038-3aa3-4628-c44c-5c91b4880982"
      },
      "outputs": [
        {
          "output_type": "execute_result",
          "data": {
            "text/plain": [
              "631615"
            ]
          },
          "metadata": {},
          "execution_count": 7
        }
      ],
      "source": [
        "# since we want to see locationwise flow of funds, postalcode may be helpful\n",
        "data['Funding Org:Postal Code'].isna().sum()"
      ]
    },
    {
      "cell_type": "code",
      "execution_count": null,
      "metadata": {
        "colab": {
          "base_uri": "https://localhost:8080/"
        },
        "id": "womSygiD_WbI",
        "outputId": "74c1111b-a671-4947-9927-86ed1cba33b8"
      },
      "outputs": [
        {
          "output_type": "execute_result",
          "data": {
            "text/plain": [
              "array([nan, 'EH3 6BB', 'KT2 6LX', 'SE1 4YR', 'SW1P 3AZ'], dtype=object)"
            ]
          },
          "metadata": {},
          "execution_count": 8
        }
      ],
      "source": [
        "data['Funding Org:Postal Code'].unique()"
      ]
    },
    {
      "cell_type": "markdown",
      "source": [
        " - We do not have postal codes for all the funding organisations\n",
        " - more information about a funding organisation can be accessed here:\n",
        "  https://grantnav.threesixtygiving.org/funder/GB-COH-10579996"
      ],
      "metadata": {
        "id": "24L8cOe1AaVb"
      }
    },
    {
      "cell_type": "code",
      "execution_count": 11,
      "metadata": {
        "colab": {
          "base_uri": "https://localhost:8080/"
        },
        "id": "I69Bklrkjt7-",
        "outputId": "6ce92d8d-3a12-438a-c0d5-3c4e4cc5869a"
      },
      "outputs": [
        {
          "output_type": "stream",
          "name": "stdout",
          "text": [
            "0\n",
            "217\n",
            "['GB-COH-04530979' 'GB-COH-04831118' 'GB-COH-03037449' 'GB-COH-RC000766'\n",
            " 'GB-GOR-D9' 'GB-GOR-D18' 'GB-CHC-226446' '360G-Gulbenkian'\n",
            " 'GB-SC-SC003558' 'GB-CHC-1066739']\n"
          ]
        }
      ],
      "source": [
        "print(data['Funding Org:Identifier'].isna().sum())\n",
        "print(len(data['Funding Org:Identifier'].unique()))\n",
        "print(data['Funding Org:Identifier'].unique()[:10])"
      ]
    },
    {
      "cell_type": "markdown",
      "source": [
        "We found above that total unique names is 228 while checking with identifiers, total unique funcding organisations is only 217. It means that there might be different names for the same organisations in the dataset."
      ],
      "metadata": {
        "id": "z5gKul0fA1zb"
      }
    },
    {
      "cell_type": "code",
      "execution_count": 12,
      "metadata": {
        "id": "Q1CyQIfpCE6a"
      },
      "outputs": [],
      "source": [
        "# create a dictionary to access all names of a funding organisation\n",
        "# this way we will be able to see if names are totally different or they have some similarities\n",
        "forgs = {}\n",
        "for i,row in data.iterrows():\n",
        "  orgName = str(row['Funding Org:Name'])\n",
        "  orgId = str(row['Funding Org:Identifier'])\n",
        "  if orgId not in forgs:\n",
        "    forgs[orgId] = [orgName]\n",
        "    # print(forgs)\n",
        "  else:\n",
        "    nameList = list(forgs[orgId])\n",
        "\n",
        "    if orgName not in nameList:\n",
        "      nameList.append(orgName)\n",
        "      forgs[orgId] = nameList\n"
      ]
    },
    {
      "cell_type": "code",
      "execution_count": 13,
      "metadata": {
        "colab": {
          "base_uri": "https://localhost:8080/"
        },
        "id": "4zwjcL6D7L61",
        "outputId": "c10f5a13-ffb9-41ec-8ce3-1311bb13fea5"
      },
      "outputs": [
        {
          "output_type": "stream",
          "name": "stdout",
          "text": [
            "GB-CHC-226446 [\"The Seafarers' Charity\", \"The Seafarers' Charity \"]\n",
            "GB-CHC-1009195 ['Pears Foundation', 'Pears Foundation ']\n",
            "360G-ArcadiaFund ['ARCADIA', 'Lund']\n",
            "GB-GOR-D1198 ['Department for Business, Energy and Industrial Strategy', 'Department for Business Energy and Industrial Strategy']\n",
            "GB-GOR-D5 ['Department for Culture, Media and Sport', 'Department for Digital, Culture, Media & Sport', 'Department for Digital, Culture, Media and Sport']\n",
            "GB-GOR-D7 ['Department for Environment, Food and Rural Affairs', 'Department for Environment Food & Rural Affairs']\n",
            "GB-GOR-D12 ['Department of Health', 'Department of Health and Social Care', 'Department of Health & Social Care']\n",
            "GB-GOR-D4 ['Ministry for Housing, Communities and Local Government', 'Ministry of Housing, Communities & Local Government']\n",
            "GB-CHC-1091658 [\"Mercers' School Memorial Trust (Incorporating the Merrett Bequest)\", \"Mercers' Charitable Foundation\"]\n",
            "GB-CHC-1003123 [\"Bolton CVS Bolton's Fund\", 'Bolton CVS']\n"
          ]
        }
      ],
      "source": [
        "# display all the orgs with multiple names in the dataset\n",
        "for key,val in forgs.items():\n",
        "  if(len(val)!=1):\n",
        "    print(key,val)"
      ]
    },
    {
      "cell_type": "markdown",
      "source": [
        "- It can be observed that most of these names are almost similar with some minor changes\n",
        "- acces these orgs on the url - https://grantnav.threesixtygiving.org/funder/GB-CHC-1091658 and confirm their names to avoid discrepancy\n",
        "- it can be seen from the website that Mercers' School Memorial Trust (Incorporating the Merrett Bequest) and Mercers' Charitable Foundation are 2 different organisations and therefore we can not simply replace the name of one with the other"
      ],
      "metadata": {
        "id": "zpz8-O6yCTHx"
      }
    },
    {
      "cell_type": "code",
      "execution_count": 14,
      "metadata": {
        "colab": {
          "base_uri": "https://localhost:8080/"
        },
        "id": "42lxmvHn81JH",
        "outputId": "f39ce489-8caa-4f3b-efbe-b6c5642301f3"
      },
      "outputs": [
        {
          "output_type": "stream",
          "name": "stdout",
          "text": [
            "217\n",
            "217\n"
          ]
        }
      ],
      "source": [
        "#making the Funding Organisation Names consistent across the dataset\n",
        "data['Funding Org:Name'] = data['Funding Org:Name'].replace([\"The Seafarers' Charity \", #1\n",
        "                                                             'Pears Foundation ', #2\n",
        "                                                             'Lund', #3\n",
        "                                                             'Department for Business Energy and Industrial Strategy', #4\n",
        "                                                             'Department for Culture, Media and Sport', #5\n",
        "                                                             'Department for Digital, Culture, Media & Sport', #6\n",
        "                                                             'Department for Environment Food & Rural Affairs', #7\n",
        "                                                             'Department of Health & Social Care', #8\n",
        "                                                             'Department of Health', #9\n",
        "                                                             'Ministry of Housing, Communities & Local Government', #10\n",
        "                                                            #  \"Mercers' School Memorial Trust (Incorporating the Merrett Bequest)\", #11\n",
        "                                                             \"Bolton CVS Bolton's Fund\"], #12\n",
        "                                                            [\"The Seafarers' Charity\",\n",
        "                                                             'Pears Foundation',\n",
        "                                                             'ARCADIA',\n",
        "                                                             'Department for Business, Energy and Industrial Strategy',\n",
        "                                                             'Department for Digital, Culture, Media and Sport',\n",
        "                                                             'Department for Digital, Culture, Media and Sport',\n",
        "                                                             'Department for Environment, Food and Rural Affairs',\n",
        "                                                             'Department of Health and Social Care',\n",
        "                                                             'Department of Health and Social Care',\n",
        "                                                             'Ministry for Housing, Communities and Local Government',\n",
        "                                                            #  \"Mercers' Charitable Foundation\",\n",
        "                                                             'Bolton CVS'])\n",
        "\n",
        "\n",
        "print(len(data['Funding Org:Identifier'].unique()))\n",
        "print(len(data['Funding Org:Name'].unique()))"
      ]
    },
    {
      "cell_type": "markdown",
      "source": [
        "We still have GB-CHC-1091658 identifier corresponding to 2 different names, lets fix that"
      ],
      "metadata": {
        "id": "EoDY6wwXECpe"
      }
    },
    {
      "cell_type": "code",
      "execution_count": 15,
      "metadata": {
        "colab": {
          "base_uri": "https://localhost:8080/"
        },
        "id": "Zcfd8TfYZSX3",
        "outputId": "9842a78f-07f5-454f-913d-3100ae63a8df"
      },
      "outputs": [
        {
          "output_type": "stream",
          "name": "stdout",
          "text": [
            "217\n",
            "217\n"
          ]
        }
      ],
      "source": [
        "data.loc[data['Funding Org:Identifier'] == \"GB-CHC-326340\", 'Funding Org:Name'] = \"Mercers' Charitable Foundation\"\n",
        "data.loc[data['Funding Org:Identifier'] == \"GB-CHC-1091658\", 'Funding Org:Name'] = \"Mercers' School Memorial Trust (Incorporating the Merrett Bequest)\"\n",
        "print(len(data['Funding Org:Identifier'].unique()))\n",
        "print(len(data['Funding Org:Name'].unique()))"
      ]
    },
    {
      "cell_type": "markdown",
      "source": [
        "- We need postal codes for all the funding organisations in order to see the flow of funds\n",
        "\n",
        "- 'Find that Charity' website provides such info for the charities\n",
        "  - main page - https://ftc.ftc.dkane.net/orgid/GB-CHC-1182567\n",
        "  - josn response - https://ftc.ftc.dkane.net/orgid/GB-CHC-1182567.json\n",
        "\n",
        "- Example Response Formatted - https://drive.google.com/file/d/16AMMoSPmTbUWzOFPN0jvzJf9-T4GKHOA/view?usp=sharing\n",
        "\n",
        "\n"
      ],
      "metadata": {
        "id": "8KnNGI64Evio"
      }
    },
    {
      "cell_type": "markdown",
      "metadata": {
        "id": "JmU3SGWL6nst"
      },
      "source": [
        "UK Postcodes\n",
        "\n",
        "*   can be 6-8 characters in length\n",
        "*   divided into 2 parts by a space\n",
        "*   first part is the outward code - includes area and district\n",
        "*   second part is the inward code - includes sector and unit\n",
        "*   the alphabetical part in outward code is the area such as L - Liverpool, EH - Edinburgh\n",
        "*   the alphanumeric characters after the area in the outward code represent the district, it can be 1 digit, 2 digit or a digit followed by a letter\n",
        "*   the inward code is 3 characters long and the first character represents the sector\n",
        "*   remaining characters of the inward code represent the unit which is generally a street, part of a street , single address, group of properties or a single property, individual organisation etc.\n",
        "\n",
        "\n",
        "\n",
        "\n",
        "\n",
        "\n",
        "\n"
      ]
    },
    {
      "cell_type": "code",
      "execution_count": 16,
      "metadata": {
        "id": "W_vJzqVVmwxu"
      },
      "outputs": [],
      "source": [
        "# for fetching json data\n",
        "import urllib.request\n",
        "import json"
      ]
    },
    {
      "cell_type": "code",
      "execution_count": 17,
      "metadata": {
        "id": "gC4iKiGWmynm"
      },
      "outputs": [],
      "source": [
        "# function for fetching the json data of the charity\n",
        "# it takes the url as input and returns the json data\n",
        "def getResponse(url):\n",
        "  try:\n",
        "    operUrl = urllib.request.urlopen(url)\n",
        "    if(operUrl.getcode()==404):\n",
        "      return None\n",
        "    if(operUrl.getcode()==200):\n",
        "        data = operUrl.read()\n",
        "        jsonData = json.loads(data)\n",
        "    else:\n",
        "        print(\"Error receiving data\", operUrl.getcode())\n",
        "    return jsonData\n",
        "  except:\n",
        "    return None"
      ]
    },
    {
      "cell_type": "code",
      "execution_count": 18,
      "metadata": {
        "colab": {
          "base_uri": "https://localhost:8080/"
        },
        "id": "DfT4YpypnAd5",
        "outputId": "63326b3d-fd7b-4c69-d531-3f0816c584d2"
      },
      "outputs": [
        {
          "output_type": "stream",
          "name": "stdout",
          "text": [
            "GB-COH-04530979 GB-COH-04831118 GB-COH-03037449 GB-COH-RC000766 GB-GOR-D9 GB-GOR-D18 GB-CHC-226446 360G-Gulbenkian GB-SC-SC003558 GB-CHC-1066739 GB-CHC-1093844 GB-CHC-1156300 GB-CHC-299963 GB-CHC-210183 GB-CHC-210169 GB-CHC-1143711 GB-CHC-1151621 GB-CHC-1009195 GB-CHC-1107583 GB-CHC-1080418 GB-LAS-DND GB-CHC-1045304 GB-CHC-312800 GB-CHC-1103731 GB-SC-SC012710 GB-CHC-1111360 GB-CHC-1000147 GB-CHC-1166471 GB-CHC-1111600 GB-LAS-GLG GB-CHC-230260 GB-CHC-253481 GB-CHC-309671 GB-CHC-1113226 GB-LAE-GLA GB-CHC-1105580 GB-CHC-1057923 GB-CHC-1119845 GB-CHC-247941 GB-CHC-1126007 GB-CHC-265647 GB-CHC-205629 GB-LAE-SKP GB-CHC-1147511 GB-CHC-1093028 GB-CHC-1160316 GB-CHC-205959 GB-COH-02273708 GB-CHC-1155110 GB-CHC-206601 GB-CHC-223554 GB-CHC-1156077 GB-CHC-1174463 GB-CHC-1047625 GB-CHC-1109453 GB-CHC-1088315 GB-CHC-1180520 GB-CHC-1165225 GB-CHC-1110522 GB-LAE-BNE GB-LAE-SWK GB-COH-00357963 GB-CHC-247498 GB-CHC-295157 GB-CHC-222860 GB-CHC-1087053 GB-GOR-PC390 GB-LAE-MAN GB-CHC-1075032 GB-CHC-263294 GB-CHC-1156082 GB-CHC-1123081 GB-GOR-PB188 GB-CHC-1164021 GB-CHC-1115476 US-EIN-39-1916960 GB-CHC-1145921 GB-CHC-1146484 GB-CHC-251988 GB-CHC-1075920 GB-CHC-200051 GB-COH-03416658 GB-CHC-1010656 GB-CHC-328524 GB-CHC-1059652 GB-LAE-TRF GB-CHC-1089893 GB-CHC-1133342 GB-CHC-1145988 GB-CHC-210037 GB-CHC-1158914 GB-CHC-1065552 GB-CHC-1159982 GB-SC-SC009481 GB-CHC-327114 360G-ArcadiaFund GB-CHC-1140372 GB-COH-IP00525R GB-COH-RS007018 GB-CHC-1123126 GB-CHC-230102 GB-LAE-BIR GB-CHC-1081124 GB-SC-SC002970 GB-CHC-802052 GB-CHC-1161290 GB-CHC-1144091 GB-CHC-326568 GB-CHC-1078217 GB-CHC-1035628 GB-CHC-1105502 360G-WilliamGrantFdn GB-CHC-258583 GB-CHC-1079151 GB-CHC-206602 GB-SC-SC049217 GB-CHC-1107412 GB-GOR-D1198 GB-GOR-D2 GB-GOR-D5 GB-GOR-D6 GB-GOR-D7 GB-GOR-D1196 GB-GOR-D10 GB-GOR-D12 GB-GOR-D13 GB-GOR-D25 GB-GOR-D16 GB-GOR-D4 GB-GOR-D17 GB-GOR-D8 GB-CHC-1166084 GB-CHC-1074958 GB-CHC-1096892 GB-NIC-101763 GB-CHC-1183004 GB-NIC-105105 360G-ThriveLDN GB-CHC-267618 GB-CHC-268369 GB-CHC-1103314 GB-CHC-1152596 GB-CHC-276976 GB-CHC-1094935 GB-CHC-1015648 GB-CHC-1086516 GB-CHC-299955 GB-CHC-1138145 GB-CHC-205856 GB-CHC-801875 GB-CHC-1099977 GB-CHC-263207 GB-CHC-1036733 GB-LAE-ESS GB-CHC-1179912 GB-CHC-1154032 GB-CHC-1074655 GB-CHC-1091658 GB-CHC-326340 GB-CHC-312749 GB-CHC-1087167 GB-CHC-210291 GB-CHC-1155954 GB-COH-RS008209 GB-CHC-1113562 GB-CHC-237725 GB-CHC-1050900 GB-LAE-HAV GB-CHC-1094646 GB-CHC-1126147 GB-LAE-HNS GB-CHC-1182809 GB-CHC-1102927 GB-CHC-1145221 GB-CHC-1177514 GB-CHC-1091263 GB-CHC-255230 GB-CHC-1092328 GB-CHC-1175877 US-EIN-83-0411606 GB-CHC-283813 GB-CHC-1066861 GB-CHC-207499 GB-CHC-294629 GB-CHC-218093 GB-GOR-DA1020 GB-CHC-1074857 GB-CHC-1121739 GB-CHC-1161209 GB-CHC-1142413 GB-CHC-1052061 GB-CHC-1015792 GB-CHC-1040323 GB-CHC-1179847 GB-CHC-1063945 GB-CHC-1076925 GB-CHC-1121320 GB-CHC-292930 GB-CHC-1177627 GB-CHC-1017504 GB-CHC-274100 GB-CHC-278072 GB-LAE-HCK GB-CHC-1180418 GB-CHC-1156996 GB-CHC-1113218 GB-CHC-311585 GB-CHC-1185959 GB-CHC-1164703 GB-COH-10579996 GB-CHC-259963 360G-OPDC GB-CHC-1075120 XI-PB-gb/bord-na-gaidhlig GB-CHC-1003123 GB-SC-SC022910 GB-CHC-1182567 "
          ]
        }
      ],
      "source": [
        "# global URL for accessing data\n",
        "urlData = \"https://ftc.ftc.dkane.net/orgid/\"\n",
        "\n",
        "# create a new dataframe for storing info of the funding org\n",
        "# we want the schema to be something like below:\n",
        "# [id, name, charity numnber, street address, address locality, address region, postal code]\n",
        "fundingOrg = pd.DataFrame() \n",
        "\n",
        "# array for storing response for all the columns\n",
        "res = [[],[],[],[],[],[],[]]\n",
        "\n",
        "# iterate over all the funding organisation identifiers\n",
        "for i in data['Funding Org:Identifier'].unique():\n",
        "  print(i,end=\" \")\n",
        "  jsonData = getResponse(urlData+i+'.json')\n",
        "  res[0].append(i)\n",
        "  # if None response then all cells will be empty\n",
        "  if(jsonData==None):\n",
        "    res[1].append(\"\")\n",
        "    res[2].append(\"\")\n",
        "    res[3].append(\"\")\n",
        "    res[4].append(\"\")\n",
        "    res[5].append(\"\")\n",
        "    res[6].append(\"\")\n",
        "    continue\n",
        "  \n",
        "  res[1].append(jsonData['name'])\n",
        "  res[2].append(jsonData['charityNumber'])\n",
        "\n",
        "  # below fields are often unavailable in the json response that's why its better to put them inside a try-except block\n",
        "  try:\n",
        "    res[3].append(jsonData['address']['streetAddress'])\n",
        "  except:\n",
        "    res[3].append(\"\")\n",
        "  try:\n",
        "    res[4].append(jsonData['address']['addressLocality'])\n",
        "  except:\n",
        "    res[4].append(\"\")\n",
        "  try:\n",
        "    res[5].append(jsonData['address']['addressRegion'])\n",
        "  except:\n",
        "    res[5].append(\"\")\n",
        "  try:\n",
        "    res[6].append(jsonData['address']['postalCode'])\n",
        "  except:\n",
        "    res[6].append(\"\")\n",
        "\n",
        "# add columns to the dataframe\n",
        "fundingOrg['id'] = res[0]\n",
        "fundingOrg['name'] = res[1]\n",
        "fundingOrg['charityNumber'] = res[2]\n",
        "fundingOrg['streetAddress'] = res[3]\n",
        "fundingOrg['addressLocality'] = res[4]\n",
        "fundingOrg['addressRegion'] = res[5]\n",
        "fundingOrg['postalCode'] = res[6]"
      ]
    },
    {
      "cell_type": "code",
      "execution_count": 20,
      "metadata": {
        "colab": {
          "base_uri": "https://localhost:8080/",
          "height": 206
        },
        "id": "qGOb92Nj8AS2",
        "outputId": "f22f21a3-f05e-4430-c8ee-b8c73922f35b"
      },
      "outputs": [
        {
          "output_type": "execute_result",
          "data": {
            "text/plain": [
              "                id                            name charityNumber  \\\n",
              "0  GB-COH-04530979   SOMERSET COMMUNITY FOUNDATION          None   \n",
              "1  GB-COH-04831118  TRAFFORD HOUSING TRUST LIMITED          None   \n",
              "2  GB-COH-03037449         LONDON COUNCILS LIMITED          None   \n",
              "3  GB-COH-RC000766      THE ENGLISH SPORTS COUNCIL          None   \n",
              "4        GB-GOR-D9        Department for Transport          None   \n",
              "\n",
              "                            streetAddress addressLocality addressRegion  \\\n",
              "0  YEOMAN HOUSE, BATH AND WEST SHOWGROUND  SHEPTON MALLET      SOMERSET   \n",
              "1      SALE POINT, 126 - 150 WASHWAY ROAD            SALE    MANCHESTER   \n",
              "2         59 1/2 SOUTHWARK STREET, LONDON                                 \n",
              "3                                                                         \n",
              "4                                                                         \n",
              "\n",
              "  postalCode  \n",
              "0    BA4 6QN  \n",
              "1    M33 6AG  \n",
              "2    SE1 0AL  \n",
              "3             \n",
              "4             "
            ],
            "text/html": [
              "\n",
              "  <div id=\"df-ac0f8821-9bcc-42ec-a2b1-e6f7c07fec65\">\n",
              "    <div class=\"colab-df-container\">\n",
              "      <div>\n",
              "<style scoped>\n",
              "    .dataframe tbody tr th:only-of-type {\n",
              "        vertical-align: middle;\n",
              "    }\n",
              "\n",
              "    .dataframe tbody tr th {\n",
              "        vertical-align: top;\n",
              "    }\n",
              "\n",
              "    .dataframe thead th {\n",
              "        text-align: right;\n",
              "    }\n",
              "</style>\n",
              "<table border=\"1\" class=\"dataframe\">\n",
              "  <thead>\n",
              "    <tr style=\"text-align: right;\">\n",
              "      <th></th>\n",
              "      <th>id</th>\n",
              "      <th>name</th>\n",
              "      <th>charityNumber</th>\n",
              "      <th>streetAddress</th>\n",
              "      <th>addressLocality</th>\n",
              "      <th>addressRegion</th>\n",
              "      <th>postalCode</th>\n",
              "    </tr>\n",
              "  </thead>\n",
              "  <tbody>\n",
              "    <tr>\n",
              "      <th>0</th>\n",
              "      <td>GB-COH-04530979</td>\n",
              "      <td>SOMERSET COMMUNITY FOUNDATION</td>\n",
              "      <td>None</td>\n",
              "      <td>YEOMAN HOUSE, BATH AND WEST SHOWGROUND</td>\n",
              "      <td>SHEPTON MALLET</td>\n",
              "      <td>SOMERSET</td>\n",
              "      <td>BA4 6QN</td>\n",
              "    </tr>\n",
              "    <tr>\n",
              "      <th>1</th>\n",
              "      <td>GB-COH-04831118</td>\n",
              "      <td>TRAFFORD HOUSING TRUST LIMITED</td>\n",
              "      <td>None</td>\n",
              "      <td>SALE POINT, 126 - 150 WASHWAY ROAD</td>\n",
              "      <td>SALE</td>\n",
              "      <td>MANCHESTER</td>\n",
              "      <td>M33 6AG</td>\n",
              "    </tr>\n",
              "    <tr>\n",
              "      <th>2</th>\n",
              "      <td>GB-COH-03037449</td>\n",
              "      <td>LONDON COUNCILS LIMITED</td>\n",
              "      <td>None</td>\n",
              "      <td>59 1/2 SOUTHWARK STREET, LONDON</td>\n",
              "      <td></td>\n",
              "      <td></td>\n",
              "      <td>SE1 0AL</td>\n",
              "    </tr>\n",
              "    <tr>\n",
              "      <th>3</th>\n",
              "      <td>GB-COH-RC000766</td>\n",
              "      <td>THE ENGLISH SPORTS COUNCIL</td>\n",
              "      <td>None</td>\n",
              "      <td></td>\n",
              "      <td></td>\n",
              "      <td></td>\n",
              "      <td></td>\n",
              "    </tr>\n",
              "    <tr>\n",
              "      <th>4</th>\n",
              "      <td>GB-GOR-D9</td>\n",
              "      <td>Department for Transport</td>\n",
              "      <td>None</td>\n",
              "      <td></td>\n",
              "      <td></td>\n",
              "      <td></td>\n",
              "      <td></td>\n",
              "    </tr>\n",
              "  </tbody>\n",
              "</table>\n",
              "</div>\n",
              "      <button class=\"colab-df-convert\" onclick=\"convertToInteractive('df-ac0f8821-9bcc-42ec-a2b1-e6f7c07fec65')\"\n",
              "              title=\"Convert this dataframe to an interactive table.\"\n",
              "              style=\"display:none;\">\n",
              "        \n",
              "  <svg xmlns=\"http://www.w3.org/2000/svg\" height=\"24px\"viewBox=\"0 0 24 24\"\n",
              "       width=\"24px\">\n",
              "    <path d=\"M0 0h24v24H0V0z\" fill=\"none\"/>\n",
              "    <path d=\"M18.56 5.44l.94 2.06.94-2.06 2.06-.94-2.06-.94-.94-2.06-.94 2.06-2.06.94zm-11 1L8.5 8.5l.94-2.06 2.06-.94-2.06-.94L8.5 2.5l-.94 2.06-2.06.94zm10 10l.94 2.06.94-2.06 2.06-.94-2.06-.94-.94-2.06-.94 2.06-2.06.94z\"/><path d=\"M17.41 7.96l-1.37-1.37c-.4-.4-.92-.59-1.43-.59-.52 0-1.04.2-1.43.59L10.3 9.45l-7.72 7.72c-.78.78-.78 2.05 0 2.83L4 21.41c.39.39.9.59 1.41.59.51 0 1.02-.2 1.41-.59l7.78-7.78 2.81-2.81c.8-.78.8-2.07 0-2.86zM5.41 20L4 18.59l7.72-7.72 1.47 1.35L5.41 20z\"/>\n",
              "  </svg>\n",
              "      </button>\n",
              "      \n",
              "  <style>\n",
              "    .colab-df-container {\n",
              "      display:flex;\n",
              "      flex-wrap:wrap;\n",
              "      gap: 12px;\n",
              "    }\n",
              "\n",
              "    .colab-df-convert {\n",
              "      background-color: #E8F0FE;\n",
              "      border: none;\n",
              "      border-radius: 50%;\n",
              "      cursor: pointer;\n",
              "      display: none;\n",
              "      fill: #1967D2;\n",
              "      height: 32px;\n",
              "      padding: 0 0 0 0;\n",
              "      width: 32px;\n",
              "    }\n",
              "\n",
              "    .colab-df-convert:hover {\n",
              "      background-color: #E2EBFA;\n",
              "      box-shadow: 0px 1px 2px rgba(60, 64, 67, 0.3), 0px 1px 3px 1px rgba(60, 64, 67, 0.15);\n",
              "      fill: #174EA6;\n",
              "    }\n",
              "\n",
              "    [theme=dark] .colab-df-convert {\n",
              "      background-color: #3B4455;\n",
              "      fill: #D2E3FC;\n",
              "    }\n",
              "\n",
              "    [theme=dark] .colab-df-convert:hover {\n",
              "      background-color: #434B5C;\n",
              "      box-shadow: 0px 1px 3px 1px rgba(0, 0, 0, 0.15);\n",
              "      filter: drop-shadow(0px 1px 2px rgba(0, 0, 0, 0.3));\n",
              "      fill: #FFFFFF;\n",
              "    }\n",
              "  </style>\n",
              "\n",
              "      <script>\n",
              "        const buttonEl =\n",
              "          document.querySelector('#df-ac0f8821-9bcc-42ec-a2b1-e6f7c07fec65 button.colab-df-convert');\n",
              "        buttonEl.style.display =\n",
              "          google.colab.kernel.accessAllowed ? 'block' : 'none';\n",
              "\n",
              "        async function convertToInteractive(key) {\n",
              "          const element = document.querySelector('#df-ac0f8821-9bcc-42ec-a2b1-e6f7c07fec65');\n",
              "          const dataTable =\n",
              "            await google.colab.kernel.invokeFunction('convertToInteractive',\n",
              "                                                     [key], {});\n",
              "          if (!dataTable) return;\n",
              "\n",
              "          const docLinkHtml = 'Like what you see? Visit the ' +\n",
              "            '<a target=\"_blank\" href=https://colab.research.google.com/notebooks/data_table.ipynb>data table notebook</a>'\n",
              "            + ' to learn more about interactive tables.';\n",
              "          element.innerHTML = '';\n",
              "          dataTable['output_type'] = 'display_data';\n",
              "          await google.colab.output.renderOutput(dataTable, element);\n",
              "          const docLink = document.createElement('div');\n",
              "          docLink.innerHTML = docLinkHtml;\n",
              "          element.appendChild(docLink);\n",
              "        }\n",
              "      </script>\n",
              "    </div>\n",
              "  </div>\n",
              "  "
            ]
          },
          "metadata": {},
          "execution_count": 20
        }
      ],
      "source": [
        "# save the dataframe as csv\n",
        "fundingOrg.to_csv('fundingOrg.csv',index=False)\n",
        "fundingOrg.head()"
      ]
    },
    {
      "cell_type": "markdown",
      "source": [
        "- There are still a lot of organisations for which we do not have the postalcodes\n",
        "- since the number of orgs without info was not extremely high, their postal codes have been found from organisations' official website/ social media pages and filled out in the csv file which can be found here - https://drive.google.com/file/d/1gKbCtjwyfCBA8wkmnZG8URxOcEGWanZs/view?usp=sharing\n",
        "- it is important to find postal codes for these organisations since a single org corresponds to a lot of grants in the dataset, we want to retain as much data as possible from the original dataset"
      ],
      "metadata": {
        "id": "noSQp0B7HVrt"
      }
    },
    {
      "cell_type": "code",
      "execution_count": 22,
      "metadata": {
        "colab": {
          "base_uri": "https://localhost:8080/",
          "height": 206
        },
        "id": "D84mariRfDqN",
        "outputId": "736ee0a7-999f-41de-e8de-da97ccd13be4"
      },
      "outputs": [
        {
          "output_type": "execute_result",
          "data": {
            "text/plain": [
              "                id                            name charityNumber  \\\n",
              "0  GB-COH-04530979   SOMERSET COMMUNITY FOUNDATION           NaN   \n",
              "1  GB-COH-04831118  TRAFFORD HOUSING TRUST LIMITED           NaN   \n",
              "2  GB-COH-03037449         LONDON COUNCILS LIMITED           NaN   \n",
              "3  GB-COH-RC000766      THE ENGLISH SPORTS COUNCIL           NaN   \n",
              "4        GB-GOR-D9        Department for Transport           NaN   \n",
              "\n",
              "                            streetAddress addressLocality addressRegion  \\\n",
              "0  YEOMAN HOUSE, BATH AND WEST SHOWGROUND  SHEPTON MALLET      SOMERSET   \n",
              "1      SALE POINT, 126 - 150 WASHWAY ROAD            SALE    MANCHESTER   \n",
              "2         59 1/2 SOUTHWARK STREET, LONDON             NaN           NaN   \n",
              "3                   21 Bloomsburry Street          LONDON           NaN   \n",
              "4                                     NaN             NaN           NaN   \n",
              "\n",
              "  postalCode    UKRegion  \n",
              "0    BA4 6QN  South West  \n",
              "1    M33 6AG  North West  \n",
              "2    SE1 0AL      London  \n",
              "3   WC1B 3HF      London  \n",
              "4        NaN         NaN  "
            ],
            "text/html": [
              "\n",
              "  <div id=\"df-1d57dc8f-fbc9-4838-a320-77001721426f\">\n",
              "    <div class=\"colab-df-container\">\n",
              "      <div>\n",
              "<style scoped>\n",
              "    .dataframe tbody tr th:only-of-type {\n",
              "        vertical-align: middle;\n",
              "    }\n",
              "\n",
              "    .dataframe tbody tr th {\n",
              "        vertical-align: top;\n",
              "    }\n",
              "\n",
              "    .dataframe thead th {\n",
              "        text-align: right;\n",
              "    }\n",
              "</style>\n",
              "<table border=\"1\" class=\"dataframe\">\n",
              "  <thead>\n",
              "    <tr style=\"text-align: right;\">\n",
              "      <th></th>\n",
              "      <th>id</th>\n",
              "      <th>name</th>\n",
              "      <th>charityNumber</th>\n",
              "      <th>streetAddress</th>\n",
              "      <th>addressLocality</th>\n",
              "      <th>addressRegion</th>\n",
              "      <th>postalCode</th>\n",
              "      <th>UKRegion</th>\n",
              "    </tr>\n",
              "  </thead>\n",
              "  <tbody>\n",
              "    <tr>\n",
              "      <th>0</th>\n",
              "      <td>GB-COH-04530979</td>\n",
              "      <td>SOMERSET COMMUNITY FOUNDATION</td>\n",
              "      <td>NaN</td>\n",
              "      <td>YEOMAN HOUSE, BATH AND WEST SHOWGROUND</td>\n",
              "      <td>SHEPTON MALLET</td>\n",
              "      <td>SOMERSET</td>\n",
              "      <td>BA4 6QN</td>\n",
              "      <td>South West</td>\n",
              "    </tr>\n",
              "    <tr>\n",
              "      <th>1</th>\n",
              "      <td>GB-COH-04831118</td>\n",
              "      <td>TRAFFORD HOUSING TRUST LIMITED</td>\n",
              "      <td>NaN</td>\n",
              "      <td>SALE POINT, 126 - 150 WASHWAY ROAD</td>\n",
              "      <td>SALE</td>\n",
              "      <td>MANCHESTER</td>\n",
              "      <td>M33 6AG</td>\n",
              "      <td>North West</td>\n",
              "    </tr>\n",
              "    <tr>\n",
              "      <th>2</th>\n",
              "      <td>GB-COH-03037449</td>\n",
              "      <td>LONDON COUNCILS LIMITED</td>\n",
              "      <td>NaN</td>\n",
              "      <td>59 1/2 SOUTHWARK STREET, LONDON</td>\n",
              "      <td>NaN</td>\n",
              "      <td>NaN</td>\n",
              "      <td>SE1 0AL</td>\n",
              "      <td>London</td>\n",
              "    </tr>\n",
              "    <tr>\n",
              "      <th>3</th>\n",
              "      <td>GB-COH-RC000766</td>\n",
              "      <td>THE ENGLISH SPORTS COUNCIL</td>\n",
              "      <td>NaN</td>\n",
              "      <td>21 Bloomsburry Street</td>\n",
              "      <td>LONDON</td>\n",
              "      <td>NaN</td>\n",
              "      <td>WC1B 3HF</td>\n",
              "      <td>London</td>\n",
              "    </tr>\n",
              "    <tr>\n",
              "      <th>4</th>\n",
              "      <td>GB-GOR-D9</td>\n",
              "      <td>Department for Transport</td>\n",
              "      <td>NaN</td>\n",
              "      <td>NaN</td>\n",
              "      <td>NaN</td>\n",
              "      <td>NaN</td>\n",
              "      <td>NaN</td>\n",
              "      <td>NaN</td>\n",
              "    </tr>\n",
              "  </tbody>\n",
              "</table>\n",
              "</div>\n",
              "      <button class=\"colab-df-convert\" onclick=\"convertToInteractive('df-1d57dc8f-fbc9-4838-a320-77001721426f')\"\n",
              "              title=\"Convert this dataframe to an interactive table.\"\n",
              "              style=\"display:none;\">\n",
              "        \n",
              "  <svg xmlns=\"http://www.w3.org/2000/svg\" height=\"24px\"viewBox=\"0 0 24 24\"\n",
              "       width=\"24px\">\n",
              "    <path d=\"M0 0h24v24H0V0z\" fill=\"none\"/>\n",
              "    <path d=\"M18.56 5.44l.94 2.06.94-2.06 2.06-.94-2.06-.94-.94-2.06-.94 2.06-2.06.94zm-11 1L8.5 8.5l.94-2.06 2.06-.94-2.06-.94L8.5 2.5l-.94 2.06-2.06.94zm10 10l.94 2.06.94-2.06 2.06-.94-2.06-.94-.94-2.06-.94 2.06-2.06.94z\"/><path d=\"M17.41 7.96l-1.37-1.37c-.4-.4-.92-.59-1.43-.59-.52 0-1.04.2-1.43.59L10.3 9.45l-7.72 7.72c-.78.78-.78 2.05 0 2.83L4 21.41c.39.39.9.59 1.41.59.51 0 1.02-.2 1.41-.59l7.78-7.78 2.81-2.81c.8-.78.8-2.07 0-2.86zM5.41 20L4 18.59l7.72-7.72 1.47 1.35L5.41 20z\"/>\n",
              "  </svg>\n",
              "      </button>\n",
              "      \n",
              "  <style>\n",
              "    .colab-df-container {\n",
              "      display:flex;\n",
              "      flex-wrap:wrap;\n",
              "      gap: 12px;\n",
              "    }\n",
              "\n",
              "    .colab-df-convert {\n",
              "      background-color: #E8F0FE;\n",
              "      border: none;\n",
              "      border-radius: 50%;\n",
              "      cursor: pointer;\n",
              "      display: none;\n",
              "      fill: #1967D2;\n",
              "      height: 32px;\n",
              "      padding: 0 0 0 0;\n",
              "      width: 32px;\n",
              "    }\n",
              "\n",
              "    .colab-df-convert:hover {\n",
              "      background-color: #E2EBFA;\n",
              "      box-shadow: 0px 1px 2px rgba(60, 64, 67, 0.3), 0px 1px 3px 1px rgba(60, 64, 67, 0.15);\n",
              "      fill: #174EA6;\n",
              "    }\n",
              "\n",
              "    [theme=dark] .colab-df-convert {\n",
              "      background-color: #3B4455;\n",
              "      fill: #D2E3FC;\n",
              "    }\n",
              "\n",
              "    [theme=dark] .colab-df-convert:hover {\n",
              "      background-color: #434B5C;\n",
              "      box-shadow: 0px 1px 3px 1px rgba(0, 0, 0, 0.15);\n",
              "      filter: drop-shadow(0px 1px 2px rgba(0, 0, 0, 0.3));\n",
              "      fill: #FFFFFF;\n",
              "    }\n",
              "  </style>\n",
              "\n",
              "      <script>\n",
              "        const buttonEl =\n",
              "          document.querySelector('#df-1d57dc8f-fbc9-4838-a320-77001721426f button.colab-df-convert');\n",
              "        buttonEl.style.display =\n",
              "          google.colab.kernel.accessAllowed ? 'block' : 'none';\n",
              "\n",
              "        async function convertToInteractive(key) {\n",
              "          const element = document.querySelector('#df-1d57dc8f-fbc9-4838-a320-77001721426f');\n",
              "          const dataTable =\n",
              "            await google.colab.kernel.invokeFunction('convertToInteractive',\n",
              "                                                     [key], {});\n",
              "          if (!dataTable) return;\n",
              "\n",
              "          const docLinkHtml = 'Like what you see? Visit the ' +\n",
              "            '<a target=\"_blank\" href=https://colab.research.google.com/notebooks/data_table.ipynb>data table notebook</a>'\n",
              "            + ' to learn more about interactive tables.';\n",
              "          element.innerHTML = '';\n",
              "          dataTable['output_type'] = 'display_data';\n",
              "          await google.colab.output.renderOutput(dataTable, element);\n",
              "          const docLink = document.createElement('div');\n",
              "          docLink.innerHTML = docLinkHtml;\n",
              "          element.appendChild(docLink);\n",
              "        }\n",
              "      </script>\n",
              "    </div>\n",
              "  </div>\n",
              "  "
            ]
          },
          "metadata": {},
          "execution_count": 22
        }
      ],
      "source": [
        "# read the modified csv file\n",
        "fundingOrg = pd.read_csv(\"drive/My Drive/UK_Data/Grants/fundingOrg.csv\")\n",
        "fundingOrg.head()"
      ]
    },
    {
      "cell_type": "markdown",
      "metadata": {
        "id": "5g6tv1csaMJG"
      },
      "source": [
        "- England is divided into 9 regions:\n",
        "\n",
        "  - East of England\n",
        "  - East Midlands\n",
        "  - London\n",
        "  - North East\n",
        "  - North West\n",
        "  - South East\n",
        "  - South West\n",
        "  - West Midlands\n",
        "  - Yorkshire and the Humber\n",
        "\n",
        "  - src-(https://en.wikipedia.org/wiki/Subdivisions_of_England#:~:text=Overall%2C%20England%20is%20divided%20into%20nine%20regions%20and,country%20is%20divided%20into%20counties%2C%20districts%20and%20parishes.)\n",
        "\n",
        "\n",
        "- United Kingdom is formed by Great Britain + Northern Ireland.\n",
        "\n",
        "- Great Britain = England + Scotland + Wales\n",
        "\n",
        "  - src = https://en.wikipedia.org/wiki/Great_Britain\n",
        "\n",
        "- for the purpose of this study we will focus on flow of funds among different regions as that seems like a reasonable choice. A single postalcode might not cover big enough area to be able to accumulate enough grant data in the dataset. \n"
      ]
    },
    {
      "cell_type": "markdown",
      "source": [
        "- Now that we have the postalcodes for most of the funding orgs, we can classify these orgs into different regions\n",
        "- UK region table can be accessed here - https://drive.google.com/file/d/1nVopn7nVWXHDFPqvm44NFBhjvqO3GKeP/view?usp=sharing"
      ],
      "metadata": {
        "id": "GtXDzsWfIFLc"
      }
    },
    {
      "cell_type": "code",
      "execution_count": 23,
      "metadata": {
        "colab": {
          "base_uri": "https://localhost:8080/",
          "height": 206
        },
        "id": "nXee3PpQBsN8",
        "outputId": "c2f6c254-3b3c-4db5-9838-39673c694694"
      },
      "outputs": [
        {
          "output_type": "execute_result",
          "data": {
            "text/plain": [
              "  PostcodePrefix PostcodeDistrict         UKRegion\n",
              "0             AB         Aberdeen         Scotland\n",
              "1             AL       St. Albans  East of England\n",
              "2              B       Birmingham    West Midlands\n",
              "3             BA             Bath       South West\n",
              "4             BB        Blackburn       North West"
            ],
            "text/html": [
              "\n",
              "  <div id=\"df-e59de10b-052d-4aa8-ac4a-4340c78ddd75\">\n",
              "    <div class=\"colab-df-container\">\n",
              "      <div>\n",
              "<style scoped>\n",
              "    .dataframe tbody tr th:only-of-type {\n",
              "        vertical-align: middle;\n",
              "    }\n",
              "\n",
              "    .dataframe tbody tr th {\n",
              "        vertical-align: top;\n",
              "    }\n",
              "\n",
              "    .dataframe thead th {\n",
              "        text-align: right;\n",
              "    }\n",
              "</style>\n",
              "<table border=\"1\" class=\"dataframe\">\n",
              "  <thead>\n",
              "    <tr style=\"text-align: right;\">\n",
              "      <th></th>\n",
              "      <th>PostcodePrefix</th>\n",
              "      <th>PostcodeDistrict</th>\n",
              "      <th>UKRegion</th>\n",
              "    </tr>\n",
              "  </thead>\n",
              "  <tbody>\n",
              "    <tr>\n",
              "      <th>0</th>\n",
              "      <td>AB</td>\n",
              "      <td>Aberdeen</td>\n",
              "      <td>Scotland</td>\n",
              "    </tr>\n",
              "    <tr>\n",
              "      <th>1</th>\n",
              "      <td>AL</td>\n",
              "      <td>St. Albans</td>\n",
              "      <td>East of England</td>\n",
              "    </tr>\n",
              "    <tr>\n",
              "      <th>2</th>\n",
              "      <td>B</td>\n",
              "      <td>Birmingham</td>\n",
              "      <td>West Midlands</td>\n",
              "    </tr>\n",
              "    <tr>\n",
              "      <th>3</th>\n",
              "      <td>BA</td>\n",
              "      <td>Bath</td>\n",
              "      <td>South West</td>\n",
              "    </tr>\n",
              "    <tr>\n",
              "      <th>4</th>\n",
              "      <td>BB</td>\n",
              "      <td>Blackburn</td>\n",
              "      <td>North West</td>\n",
              "    </tr>\n",
              "  </tbody>\n",
              "</table>\n",
              "</div>\n",
              "      <button class=\"colab-df-convert\" onclick=\"convertToInteractive('df-e59de10b-052d-4aa8-ac4a-4340c78ddd75')\"\n",
              "              title=\"Convert this dataframe to an interactive table.\"\n",
              "              style=\"display:none;\">\n",
              "        \n",
              "  <svg xmlns=\"http://www.w3.org/2000/svg\" height=\"24px\"viewBox=\"0 0 24 24\"\n",
              "       width=\"24px\">\n",
              "    <path d=\"M0 0h24v24H0V0z\" fill=\"none\"/>\n",
              "    <path d=\"M18.56 5.44l.94 2.06.94-2.06 2.06-.94-2.06-.94-.94-2.06-.94 2.06-2.06.94zm-11 1L8.5 8.5l.94-2.06 2.06-.94-2.06-.94L8.5 2.5l-.94 2.06-2.06.94zm10 10l.94 2.06.94-2.06 2.06-.94-2.06-.94-.94-2.06-.94 2.06-2.06.94z\"/><path d=\"M17.41 7.96l-1.37-1.37c-.4-.4-.92-.59-1.43-.59-.52 0-1.04.2-1.43.59L10.3 9.45l-7.72 7.72c-.78.78-.78 2.05 0 2.83L4 21.41c.39.39.9.59 1.41.59.51 0 1.02-.2 1.41-.59l7.78-7.78 2.81-2.81c.8-.78.8-2.07 0-2.86zM5.41 20L4 18.59l7.72-7.72 1.47 1.35L5.41 20z\"/>\n",
              "  </svg>\n",
              "      </button>\n",
              "      \n",
              "  <style>\n",
              "    .colab-df-container {\n",
              "      display:flex;\n",
              "      flex-wrap:wrap;\n",
              "      gap: 12px;\n",
              "    }\n",
              "\n",
              "    .colab-df-convert {\n",
              "      background-color: #E8F0FE;\n",
              "      border: none;\n",
              "      border-radius: 50%;\n",
              "      cursor: pointer;\n",
              "      display: none;\n",
              "      fill: #1967D2;\n",
              "      height: 32px;\n",
              "      padding: 0 0 0 0;\n",
              "      width: 32px;\n",
              "    }\n",
              "\n",
              "    .colab-df-convert:hover {\n",
              "      background-color: #E2EBFA;\n",
              "      box-shadow: 0px 1px 2px rgba(60, 64, 67, 0.3), 0px 1px 3px 1px rgba(60, 64, 67, 0.15);\n",
              "      fill: #174EA6;\n",
              "    }\n",
              "\n",
              "    [theme=dark] .colab-df-convert {\n",
              "      background-color: #3B4455;\n",
              "      fill: #D2E3FC;\n",
              "    }\n",
              "\n",
              "    [theme=dark] .colab-df-convert:hover {\n",
              "      background-color: #434B5C;\n",
              "      box-shadow: 0px 1px 3px 1px rgba(0, 0, 0, 0.15);\n",
              "      filter: drop-shadow(0px 1px 2px rgba(0, 0, 0, 0.3));\n",
              "      fill: #FFFFFF;\n",
              "    }\n",
              "  </style>\n",
              "\n",
              "      <script>\n",
              "        const buttonEl =\n",
              "          document.querySelector('#df-e59de10b-052d-4aa8-ac4a-4340c78ddd75 button.colab-df-convert');\n",
              "        buttonEl.style.display =\n",
              "          google.colab.kernel.accessAllowed ? 'block' : 'none';\n",
              "\n",
              "        async function convertToInteractive(key) {\n",
              "          const element = document.querySelector('#df-e59de10b-052d-4aa8-ac4a-4340c78ddd75');\n",
              "          const dataTable =\n",
              "            await google.colab.kernel.invokeFunction('convertToInteractive',\n",
              "                                                     [key], {});\n",
              "          if (!dataTable) return;\n",
              "\n",
              "          const docLinkHtml = 'Like what you see? Visit the ' +\n",
              "            '<a target=\"_blank\" href=https://colab.research.google.com/notebooks/data_table.ipynb>data table notebook</a>'\n",
              "            + ' to learn more about interactive tables.';\n",
              "          element.innerHTML = '';\n",
              "          dataTable['output_type'] = 'display_data';\n",
              "          await google.colab.output.renderOutput(dataTable, element);\n",
              "          const docLink = document.createElement('div');\n",
              "          docLink.innerHTML = docLinkHtml;\n",
              "          element.appendChild(docLink);\n",
              "        }\n",
              "      </script>\n",
              "    </div>\n",
              "  </div>\n",
              "  "
            ]
          },
          "metadata": {},
          "execution_count": 23
        }
      ],
      "source": [
        "codeToregion = pd.read_csv(\"drive/My Drive/UK_Data/Grants/UK Regions.csv\")\n",
        "codeToregion.head()"
      ]
    },
    {
      "cell_type": "code",
      "execution_count": 24,
      "metadata": {
        "colab": {
          "base_uri": "https://localhost:8080/"
        },
        "id": "yZ6hMzMPXtZX",
        "outputId": "3f434551-23e9-485d-b473-90bc8a766c6f"
      },
      "outputs": [
        {
          "output_type": "execute_result",
          "data": {
            "text/plain": [
              "18"
            ]
          },
          "metadata": {},
          "execution_count": 24
        }
      ],
      "source": [
        "fundingOrg['postalCode'].isna().sum()"
      ]
    },
    {
      "cell_type": "markdown",
      "source": [
        "Out of 217 funding orgs we do not have postal codes for 18"
      ],
      "metadata": {
        "id": "SkOqTpvHIZTk"
      }
    },
    {
      "cell_type": "code",
      "execution_count": 25,
      "metadata": {
        "colab": {
          "base_uri": "https://localhost:8080/"
        },
        "id": "fT_a8t3y_3m3",
        "outputId": "8fccc728-5cbd-4008-ca1d-56dc914d05bb"
      },
      "outputs": [
        {
          "output_type": "stream",
          "name": "stdout",
          "text": [
            "['South West', 'North West', 'Greater London', 'Greater London', '', '', 'Greater London', 'Greater London', 'Scotland', 'Greater London', 'South East', 'North West', 'Greater London', 'Greater London', 'North East', 'North West', 'South East', 'Greater London', 'Greater London', 'South West', 'Scotland', 'West Midlands', 'Greater London', 'Greater London', 'Scotland', 'South East', 'Greater London', 'North East', 'South East', 'Scotland', 'Greater London', 'North West', 'South East', 'South East', 'Greater London', 'Greater London', 'South West', 'Greater London', 'Greater London', 'Greater London', 'East Midlands', 'Greater London', 'North West', 'Greater London', 'North West', 'Greater London', 'Greater London', 'North East', 'Greater London', 'Greater London', 'North East', 'Greater London', 'Greater London', 'North East', 'East of England', 'Greater London', 'Greater London', 'Greater London', 'South West', 'Greater London', 'Greater London', 'North East', 'North East', 'Greater London', 'South East', 'North East', 'Greater London', 'North West', 'Greater London', 'South West', 'East of England', 'Greater London', 'Greater London', 'Greater London', 'Greater London', '', 'North West', 'Greater London', 'Greater London', 'Greater London', 'Greater London', 'North East', 'Greater London', 'Greater London', 'Greater London', 'North West', 'Greater London', 'Greater London', 'Greater London', 'North East', 'North East', 'South West', 'Greater London', 'Scotland', 'Greater London', 'Greater London', 'Greater London', 'North West', 'North West', 'South West', 'Greater London', 'West Midlands', 'Greater London', 'Scotland', 'North West', 'North East', 'Greater London', 'Greater London', 'Greater London', 'Greater London', 'South West', 'Greater London', 'Greater London', 'Greater London', 'Greater London', 'Scotland', 'South East', '', '', '', '', '', '', '', '', '', '', '', '', '', '', 'Greater London', 'Greater London', 'North East', 'Northern Ireland', 'Greater London', 'Northern Ireland', 'Greater London', 'Greater London', 'South East', 'East of England', 'Greater London', 'Greater London', 'West Midlands', 'South East', 'South East', 'Greater London', 'East of England', 'Greater London', 'Greater London', 'South West', 'Greater London', 'Greater London', 'East of England', 'Greater London', 'Greater London', 'Wales', 'Greater London', 'Greater London', 'Greater London', 'Greater London', 'Greater London', 'South West', 'North East', 'Greater London', 'Greater London', 'East of England', 'Greater London', 'West Midlands', 'Greater London', 'Greater London', 'Greater London', 'Greater London', 'South East', 'Greater London', 'Greater London', 'Greater London', 'East Midlands', 'Greater London', '', 'Greater London', 'South East', 'Greater London', 'Greater London', 'Wales', 'Scotland', 'Greater London', 'North East', 'Greater London', 'Greater London', 'East of England', 'Greater London', 'Greater London', 'Greater London', 'Greater London', 'North West', 'North West', 'Greater London', 'Greater London', 'North West', 'Greater London', 'Greater London', 'Greater London', 'North West', 'Greater London', 'Greater London', 'East of England', 'Greater London', 'Greater London', 'Greater London', 'Greater London', 'Greater London', 'North West', 'Scotland', 'North West', 'Scotland', 'Greater London']\n",
            "217\n"
          ]
        }
      ],
      "source": [
        "# find the corresponding UK region for a postal code of the funding org\n",
        "ukregions = []\n",
        "for i,row in fundingOrg.iterrows():\n",
        "  if(row['postalCode']==\"\" or pd.isna(row['postalCode'])):\n",
        "    ukregions.append(\"\")\n",
        "    continue\n",
        "  code = row['postalCode']\n",
        "  # the first part of a postal code helps in classifying them into regions\n",
        "  # however the first part is of varying length - sometimes just 1 character and other time 2\n",
        "  if(code[1].isdigit()):\n",
        "    prefix = code[0]\n",
        "  else:\n",
        "    prefix = code[:2]\n",
        "  # find the region\n",
        "  region = codeToregion.loc[codeToregion.PostcodePrefix==prefix].iat[0,2]\n",
        "  ukregions.append(region)\n",
        "\n",
        "print(ukregions)\n",
        "print(len(ukregions))"
      ]
    },
    {
      "cell_type": "code",
      "execution_count": 26,
      "metadata": {
        "colab": {
          "base_uri": "https://localhost:8080/",
          "height": 250
        },
        "id": "9K8z2w83M3C4",
        "outputId": "edf61ac0-b068-446a-e106-cd546d0ce6f1"
      },
      "outputs": [
        {
          "output_type": "execute_result",
          "data": {
            "text/plain": [
              "                id                            name charityNumber  \\\n",
              "0  GB-COH-04530979   SOMERSET COMMUNITY FOUNDATION           NaN   \n",
              "1  GB-COH-04831118  TRAFFORD HOUSING TRUST LIMITED           NaN   \n",
              "2  GB-COH-03037449         LONDON COUNCILS LIMITED           NaN   \n",
              "3  GB-COH-RC000766      THE ENGLISH SPORTS COUNCIL           NaN   \n",
              "4        GB-GOR-D9        Department for Transport           NaN   \n",
              "\n",
              "                            streetAddress addressLocality addressRegion  \\\n",
              "0  YEOMAN HOUSE, BATH AND WEST SHOWGROUND  SHEPTON MALLET      SOMERSET   \n",
              "1      SALE POINT, 126 - 150 WASHWAY ROAD            SALE    MANCHESTER   \n",
              "2         59 1/2 SOUTHWARK STREET, LONDON             NaN           NaN   \n",
              "3                   21 Bloomsburry Street          LONDON           NaN   \n",
              "4                                     NaN             NaN           NaN   \n",
              "\n",
              "  postalCode        UKRegion  \n",
              "0    BA4 6QN      South West  \n",
              "1    M33 6AG      North West  \n",
              "2    SE1 0AL  Greater London  \n",
              "3   WC1B 3HF  Greater London  \n",
              "4        NaN                  "
            ],
            "text/html": [
              "\n",
              "  <div id=\"df-db9e9d8f-567e-456d-b4e6-813b7643d208\">\n",
              "    <div class=\"colab-df-container\">\n",
              "      <div>\n",
              "<style scoped>\n",
              "    .dataframe tbody tr th:only-of-type {\n",
              "        vertical-align: middle;\n",
              "    }\n",
              "\n",
              "    .dataframe tbody tr th {\n",
              "        vertical-align: top;\n",
              "    }\n",
              "\n",
              "    .dataframe thead th {\n",
              "        text-align: right;\n",
              "    }\n",
              "</style>\n",
              "<table border=\"1\" class=\"dataframe\">\n",
              "  <thead>\n",
              "    <tr style=\"text-align: right;\">\n",
              "      <th></th>\n",
              "      <th>id</th>\n",
              "      <th>name</th>\n",
              "      <th>charityNumber</th>\n",
              "      <th>streetAddress</th>\n",
              "      <th>addressLocality</th>\n",
              "      <th>addressRegion</th>\n",
              "      <th>postalCode</th>\n",
              "      <th>UKRegion</th>\n",
              "    </tr>\n",
              "  </thead>\n",
              "  <tbody>\n",
              "    <tr>\n",
              "      <th>0</th>\n",
              "      <td>GB-COH-04530979</td>\n",
              "      <td>SOMERSET COMMUNITY FOUNDATION</td>\n",
              "      <td>NaN</td>\n",
              "      <td>YEOMAN HOUSE, BATH AND WEST SHOWGROUND</td>\n",
              "      <td>SHEPTON MALLET</td>\n",
              "      <td>SOMERSET</td>\n",
              "      <td>BA4 6QN</td>\n",
              "      <td>South West</td>\n",
              "    </tr>\n",
              "    <tr>\n",
              "      <th>1</th>\n",
              "      <td>GB-COH-04831118</td>\n",
              "      <td>TRAFFORD HOUSING TRUST LIMITED</td>\n",
              "      <td>NaN</td>\n",
              "      <td>SALE POINT, 126 - 150 WASHWAY ROAD</td>\n",
              "      <td>SALE</td>\n",
              "      <td>MANCHESTER</td>\n",
              "      <td>M33 6AG</td>\n",
              "      <td>North West</td>\n",
              "    </tr>\n",
              "    <tr>\n",
              "      <th>2</th>\n",
              "      <td>GB-COH-03037449</td>\n",
              "      <td>LONDON COUNCILS LIMITED</td>\n",
              "      <td>NaN</td>\n",
              "      <td>59 1/2 SOUTHWARK STREET, LONDON</td>\n",
              "      <td>NaN</td>\n",
              "      <td>NaN</td>\n",
              "      <td>SE1 0AL</td>\n",
              "      <td>Greater London</td>\n",
              "    </tr>\n",
              "    <tr>\n",
              "      <th>3</th>\n",
              "      <td>GB-COH-RC000766</td>\n",
              "      <td>THE ENGLISH SPORTS COUNCIL</td>\n",
              "      <td>NaN</td>\n",
              "      <td>21 Bloomsburry Street</td>\n",
              "      <td>LONDON</td>\n",
              "      <td>NaN</td>\n",
              "      <td>WC1B 3HF</td>\n",
              "      <td>Greater London</td>\n",
              "    </tr>\n",
              "    <tr>\n",
              "      <th>4</th>\n",
              "      <td>GB-GOR-D9</td>\n",
              "      <td>Department for Transport</td>\n",
              "      <td>NaN</td>\n",
              "      <td>NaN</td>\n",
              "      <td>NaN</td>\n",
              "      <td>NaN</td>\n",
              "      <td>NaN</td>\n",
              "      <td></td>\n",
              "    </tr>\n",
              "  </tbody>\n",
              "</table>\n",
              "</div>\n",
              "      <button class=\"colab-df-convert\" onclick=\"convertToInteractive('df-db9e9d8f-567e-456d-b4e6-813b7643d208')\"\n",
              "              title=\"Convert this dataframe to an interactive table.\"\n",
              "              style=\"display:none;\">\n",
              "        \n",
              "  <svg xmlns=\"http://www.w3.org/2000/svg\" height=\"24px\"viewBox=\"0 0 24 24\"\n",
              "       width=\"24px\">\n",
              "    <path d=\"M0 0h24v24H0V0z\" fill=\"none\"/>\n",
              "    <path d=\"M18.56 5.44l.94 2.06.94-2.06 2.06-.94-2.06-.94-.94-2.06-.94 2.06-2.06.94zm-11 1L8.5 8.5l.94-2.06 2.06-.94-2.06-.94L8.5 2.5l-.94 2.06-2.06.94zm10 10l.94 2.06.94-2.06 2.06-.94-2.06-.94-.94-2.06-.94 2.06-2.06.94z\"/><path d=\"M17.41 7.96l-1.37-1.37c-.4-.4-.92-.59-1.43-.59-.52 0-1.04.2-1.43.59L10.3 9.45l-7.72 7.72c-.78.78-.78 2.05 0 2.83L4 21.41c.39.39.9.59 1.41.59.51 0 1.02-.2 1.41-.59l7.78-7.78 2.81-2.81c.8-.78.8-2.07 0-2.86zM5.41 20L4 18.59l7.72-7.72 1.47 1.35L5.41 20z\"/>\n",
              "  </svg>\n",
              "      </button>\n",
              "      \n",
              "  <style>\n",
              "    .colab-df-container {\n",
              "      display:flex;\n",
              "      flex-wrap:wrap;\n",
              "      gap: 12px;\n",
              "    }\n",
              "\n",
              "    .colab-df-convert {\n",
              "      background-color: #E8F0FE;\n",
              "      border: none;\n",
              "      border-radius: 50%;\n",
              "      cursor: pointer;\n",
              "      display: none;\n",
              "      fill: #1967D2;\n",
              "      height: 32px;\n",
              "      padding: 0 0 0 0;\n",
              "      width: 32px;\n",
              "    }\n",
              "\n",
              "    .colab-df-convert:hover {\n",
              "      background-color: #E2EBFA;\n",
              "      box-shadow: 0px 1px 2px rgba(60, 64, 67, 0.3), 0px 1px 3px 1px rgba(60, 64, 67, 0.15);\n",
              "      fill: #174EA6;\n",
              "    }\n",
              "\n",
              "    [theme=dark] .colab-df-convert {\n",
              "      background-color: #3B4455;\n",
              "      fill: #D2E3FC;\n",
              "    }\n",
              "\n",
              "    [theme=dark] .colab-df-convert:hover {\n",
              "      background-color: #434B5C;\n",
              "      box-shadow: 0px 1px 3px 1px rgba(0, 0, 0, 0.15);\n",
              "      filter: drop-shadow(0px 1px 2px rgba(0, 0, 0, 0.3));\n",
              "      fill: #FFFFFF;\n",
              "    }\n",
              "  </style>\n",
              "\n",
              "      <script>\n",
              "        const buttonEl =\n",
              "          document.querySelector('#df-db9e9d8f-567e-456d-b4e6-813b7643d208 button.colab-df-convert');\n",
              "        buttonEl.style.display =\n",
              "          google.colab.kernel.accessAllowed ? 'block' : 'none';\n",
              "\n",
              "        async function convertToInteractive(key) {\n",
              "          const element = document.querySelector('#df-db9e9d8f-567e-456d-b4e6-813b7643d208');\n",
              "          const dataTable =\n",
              "            await google.colab.kernel.invokeFunction('convertToInteractive',\n",
              "                                                     [key], {});\n",
              "          if (!dataTable) return;\n",
              "\n",
              "          const docLinkHtml = 'Like what you see? Visit the ' +\n",
              "            '<a target=\"_blank\" href=https://colab.research.google.com/notebooks/data_table.ipynb>data table notebook</a>'\n",
              "            + ' to learn more about interactive tables.';\n",
              "          element.innerHTML = '';\n",
              "          dataTable['output_type'] = 'display_data';\n",
              "          await google.colab.output.renderOutput(dataTable, element);\n",
              "          const docLink = document.createElement('div');\n",
              "          docLink.innerHTML = docLinkHtml;\n",
              "          element.appendChild(docLink);\n",
              "        }\n",
              "      </script>\n",
              "    </div>\n",
              "  </div>\n",
              "  "
            ]
          },
          "metadata": {},
          "execution_count": 26
        }
      ],
      "source": [
        "# update the dataframe\n",
        "fundingOrg['UKRegion'] = ukregions\n",
        "fundingOrg.head()"
      ]
    },
    {
      "cell_type": "code",
      "execution_count": 27,
      "metadata": {
        "colab": {
          "base_uri": "https://localhost:8080/"
        },
        "id": "LurtbD4bYQBl",
        "outputId": "e41d8631-c499-401c-ca78-8831beeebb95"
      },
      "outputs": [
        {
          "output_type": "execute_result",
          "data": {
            "text/plain": [
              "array(['South West', 'North West', 'Greater London', '', 'Scotland',\n",
              "       'South East', 'North East', 'West Midlands', 'East Midlands',\n",
              "       'East of England', 'Northern Ireland', 'Wales'], dtype=object)"
            ]
          },
          "metadata": {},
          "execution_count": 27
        }
      ],
      "source": [
        "fundingOrg['UKRegion'].unique()"
      ]
    },
    {
      "cell_type": "code",
      "execution_count": 28,
      "metadata": {
        "colab": {
          "base_uri": "https://localhost:8080/",
          "height": 206
        },
        "id": "aPVAxT_1Y1Nb",
        "outputId": "63b05892-22e5-4714-f110-8a7deb7b220e"
      },
      "outputs": [
        {
          "output_type": "execute_result",
          "data": {
            "text/plain": [
              "                id                            name charityNumber  \\\n",
              "0  GB-COH-04530979   SOMERSET COMMUNITY FOUNDATION           NaN   \n",
              "1  GB-COH-04831118  TRAFFORD HOUSING TRUST LIMITED           NaN   \n",
              "2  GB-COH-03037449         LONDON COUNCILS LIMITED           NaN   \n",
              "3  GB-COH-RC000766      THE ENGLISH SPORTS COUNCIL           NaN   \n",
              "4        GB-GOR-D9        Department for Transport           NaN   \n",
              "\n",
              "                            streetAddress addressLocality addressRegion  \\\n",
              "0  YEOMAN HOUSE, BATH AND WEST SHOWGROUND  SHEPTON MALLET      SOMERSET   \n",
              "1      SALE POINT, 126 - 150 WASHWAY ROAD            SALE    MANCHESTER   \n",
              "2         59 1/2 SOUTHWARK STREET, LONDON             NaN           NaN   \n",
              "3                   21 Bloomsburry Street          LONDON           NaN   \n",
              "4                                     NaN             NaN           NaN   \n",
              "\n",
              "  postalCode    UKRegion  \n",
              "0    BA4 6QN  South West  \n",
              "1    M33 6AG  North West  \n",
              "2    SE1 0AL      London  \n",
              "3   WC1B 3HF      London  \n",
              "4        NaN              "
            ],
            "text/html": [
              "\n",
              "  <div id=\"df-aa99e2c3-9bbb-46e1-bbc6-cb8bdb025d61\">\n",
              "    <div class=\"colab-df-container\">\n",
              "      <div>\n",
              "<style scoped>\n",
              "    .dataframe tbody tr th:only-of-type {\n",
              "        vertical-align: middle;\n",
              "    }\n",
              "\n",
              "    .dataframe tbody tr th {\n",
              "        vertical-align: top;\n",
              "    }\n",
              "\n",
              "    .dataframe thead th {\n",
              "        text-align: right;\n",
              "    }\n",
              "</style>\n",
              "<table border=\"1\" class=\"dataframe\">\n",
              "  <thead>\n",
              "    <tr style=\"text-align: right;\">\n",
              "      <th></th>\n",
              "      <th>id</th>\n",
              "      <th>name</th>\n",
              "      <th>charityNumber</th>\n",
              "      <th>streetAddress</th>\n",
              "      <th>addressLocality</th>\n",
              "      <th>addressRegion</th>\n",
              "      <th>postalCode</th>\n",
              "      <th>UKRegion</th>\n",
              "    </tr>\n",
              "  </thead>\n",
              "  <tbody>\n",
              "    <tr>\n",
              "      <th>0</th>\n",
              "      <td>GB-COH-04530979</td>\n",
              "      <td>SOMERSET COMMUNITY FOUNDATION</td>\n",
              "      <td>NaN</td>\n",
              "      <td>YEOMAN HOUSE, BATH AND WEST SHOWGROUND</td>\n",
              "      <td>SHEPTON MALLET</td>\n",
              "      <td>SOMERSET</td>\n",
              "      <td>BA4 6QN</td>\n",
              "      <td>South West</td>\n",
              "    </tr>\n",
              "    <tr>\n",
              "      <th>1</th>\n",
              "      <td>GB-COH-04831118</td>\n",
              "      <td>TRAFFORD HOUSING TRUST LIMITED</td>\n",
              "      <td>NaN</td>\n",
              "      <td>SALE POINT, 126 - 150 WASHWAY ROAD</td>\n",
              "      <td>SALE</td>\n",
              "      <td>MANCHESTER</td>\n",
              "      <td>M33 6AG</td>\n",
              "      <td>North West</td>\n",
              "    </tr>\n",
              "    <tr>\n",
              "      <th>2</th>\n",
              "      <td>GB-COH-03037449</td>\n",
              "      <td>LONDON COUNCILS LIMITED</td>\n",
              "      <td>NaN</td>\n",
              "      <td>59 1/2 SOUTHWARK STREET, LONDON</td>\n",
              "      <td>NaN</td>\n",
              "      <td>NaN</td>\n",
              "      <td>SE1 0AL</td>\n",
              "      <td>London</td>\n",
              "    </tr>\n",
              "    <tr>\n",
              "      <th>3</th>\n",
              "      <td>GB-COH-RC000766</td>\n",
              "      <td>THE ENGLISH SPORTS COUNCIL</td>\n",
              "      <td>NaN</td>\n",
              "      <td>21 Bloomsburry Street</td>\n",
              "      <td>LONDON</td>\n",
              "      <td>NaN</td>\n",
              "      <td>WC1B 3HF</td>\n",
              "      <td>London</td>\n",
              "    </tr>\n",
              "    <tr>\n",
              "      <th>4</th>\n",
              "      <td>GB-GOR-D9</td>\n",
              "      <td>Department for Transport</td>\n",
              "      <td>NaN</td>\n",
              "      <td>NaN</td>\n",
              "      <td>NaN</td>\n",
              "      <td>NaN</td>\n",
              "      <td>NaN</td>\n",
              "      <td></td>\n",
              "    </tr>\n",
              "  </tbody>\n",
              "</table>\n",
              "</div>\n",
              "      <button class=\"colab-df-convert\" onclick=\"convertToInteractive('df-aa99e2c3-9bbb-46e1-bbc6-cb8bdb025d61')\"\n",
              "              title=\"Convert this dataframe to an interactive table.\"\n",
              "              style=\"display:none;\">\n",
              "        \n",
              "  <svg xmlns=\"http://www.w3.org/2000/svg\" height=\"24px\"viewBox=\"0 0 24 24\"\n",
              "       width=\"24px\">\n",
              "    <path d=\"M0 0h24v24H0V0z\" fill=\"none\"/>\n",
              "    <path d=\"M18.56 5.44l.94 2.06.94-2.06 2.06-.94-2.06-.94-.94-2.06-.94 2.06-2.06.94zm-11 1L8.5 8.5l.94-2.06 2.06-.94-2.06-.94L8.5 2.5l-.94 2.06-2.06.94zm10 10l.94 2.06.94-2.06 2.06-.94-2.06-.94-.94-2.06-.94 2.06-2.06.94z\"/><path d=\"M17.41 7.96l-1.37-1.37c-.4-.4-.92-.59-1.43-.59-.52 0-1.04.2-1.43.59L10.3 9.45l-7.72 7.72c-.78.78-.78 2.05 0 2.83L4 21.41c.39.39.9.59 1.41.59.51 0 1.02-.2 1.41-.59l7.78-7.78 2.81-2.81c.8-.78.8-2.07 0-2.86zM5.41 20L4 18.59l7.72-7.72 1.47 1.35L5.41 20z\"/>\n",
              "  </svg>\n",
              "      </button>\n",
              "      \n",
              "  <style>\n",
              "    .colab-df-container {\n",
              "      display:flex;\n",
              "      flex-wrap:wrap;\n",
              "      gap: 12px;\n",
              "    }\n",
              "\n",
              "    .colab-df-convert {\n",
              "      background-color: #E8F0FE;\n",
              "      border: none;\n",
              "      border-radius: 50%;\n",
              "      cursor: pointer;\n",
              "      display: none;\n",
              "      fill: #1967D2;\n",
              "      height: 32px;\n",
              "      padding: 0 0 0 0;\n",
              "      width: 32px;\n",
              "    }\n",
              "\n",
              "    .colab-df-convert:hover {\n",
              "      background-color: #E2EBFA;\n",
              "      box-shadow: 0px 1px 2px rgba(60, 64, 67, 0.3), 0px 1px 3px 1px rgba(60, 64, 67, 0.15);\n",
              "      fill: #174EA6;\n",
              "    }\n",
              "\n",
              "    [theme=dark] .colab-df-convert {\n",
              "      background-color: #3B4455;\n",
              "      fill: #D2E3FC;\n",
              "    }\n",
              "\n",
              "    [theme=dark] .colab-df-convert:hover {\n",
              "      background-color: #434B5C;\n",
              "      box-shadow: 0px 1px 3px 1px rgba(0, 0, 0, 0.15);\n",
              "      filter: drop-shadow(0px 1px 2px rgba(0, 0, 0, 0.3));\n",
              "      fill: #FFFFFF;\n",
              "    }\n",
              "  </style>\n",
              "\n",
              "      <script>\n",
              "        const buttonEl =\n",
              "          document.querySelector('#df-aa99e2c3-9bbb-46e1-bbc6-cb8bdb025d61 button.colab-df-convert');\n",
              "        buttonEl.style.display =\n",
              "          google.colab.kernel.accessAllowed ? 'block' : 'none';\n",
              "\n",
              "        async function convertToInteractive(key) {\n",
              "          const element = document.querySelector('#df-aa99e2c3-9bbb-46e1-bbc6-cb8bdb025d61');\n",
              "          const dataTable =\n",
              "            await google.colab.kernel.invokeFunction('convertToInteractive',\n",
              "                                                     [key], {});\n",
              "          if (!dataTable) return;\n",
              "\n",
              "          const docLinkHtml = 'Like what you see? Visit the ' +\n",
              "            '<a target=\"_blank\" href=https://colab.research.google.com/notebooks/data_table.ipynb>data table notebook</a>'\n",
              "            + ' to learn more about interactive tables.';\n",
              "          element.innerHTML = '';\n",
              "          dataTable['output_type'] = 'display_data';\n",
              "          await google.colab.output.renderOutput(dataTable, element);\n",
              "          const docLink = document.createElement('div');\n",
              "          docLink.innerHTML = docLinkHtml;\n",
              "          element.appendChild(docLink);\n",
              "        }\n",
              "      </script>\n",
              "    </div>\n",
              "  </div>\n",
              "  "
            ]
          },
          "metadata": {},
          "execution_count": 28
        }
      ],
      "source": [
        "#making the region names consistent with the original dataset to avoid confusion\n",
        "fundingOrg['UKRegion'] = fundingOrg['UKRegion'].replace(['South East','Greater London'],['South East Coast','London'])\n",
        "fundingOrg.head()"
      ]
    },
    {
      "cell_type": "code",
      "execution_count": null,
      "metadata": {
        "id": "Z4WgN5H3NeY9"
      },
      "outputs": [],
      "source": [
        "# resave the modified dataframe to be used again\n",
        "fundingOrg.to_csv('fundingOrg.csv',index=False)"
      ]
    },
    {
      "cell_type": "code",
      "execution_count": 29,
      "metadata": {
        "colab": {
          "base_uri": "https://localhost:8080/",
          "height": 206
        },
        "id": "vJBzh1_1Z13j",
        "outputId": "8fe242b4-dd2e-4dfa-c0e5-de0c33ddec0f"
      },
      "outputs": [
        {
          "output_type": "execute_result",
          "data": {
            "text/plain": [
              "                id                            name charityNumber  \\\n",
              "0  GB-COH-04530979   SOMERSET COMMUNITY FOUNDATION           NaN   \n",
              "1  GB-COH-04831118  TRAFFORD HOUSING TRUST LIMITED           NaN   \n",
              "2  GB-COH-03037449         LONDON COUNCILS LIMITED           NaN   \n",
              "3  GB-COH-RC000766      THE ENGLISH SPORTS COUNCIL           NaN   \n",
              "4        GB-GOR-D9        Department for Transport           NaN   \n",
              "\n",
              "                            streetAddress addressLocality addressRegion  \\\n",
              "0  YEOMAN HOUSE, BATH AND WEST SHOWGROUND  SHEPTON MALLET      SOMERSET   \n",
              "1      SALE POINT, 126 - 150 WASHWAY ROAD            SALE    MANCHESTER   \n",
              "2         59 1/2 SOUTHWARK STREET, LONDON             NaN           NaN   \n",
              "3                   21 Bloomsburry Street          LONDON           NaN   \n",
              "4                                     NaN             NaN           NaN   \n",
              "\n",
              "  postalCode    UKRegion  \n",
              "0    BA4 6QN  South West  \n",
              "1    M33 6AG  North West  \n",
              "2    SE1 0AL      London  \n",
              "3   WC1B 3HF      London  \n",
              "4        NaN         NaN  "
            ],
            "text/html": [
              "\n",
              "  <div id=\"df-fc869eb5-9a12-4dbb-9db4-08ab15f86029\">\n",
              "    <div class=\"colab-df-container\">\n",
              "      <div>\n",
              "<style scoped>\n",
              "    .dataframe tbody tr th:only-of-type {\n",
              "        vertical-align: middle;\n",
              "    }\n",
              "\n",
              "    .dataframe tbody tr th {\n",
              "        vertical-align: top;\n",
              "    }\n",
              "\n",
              "    .dataframe thead th {\n",
              "        text-align: right;\n",
              "    }\n",
              "</style>\n",
              "<table border=\"1\" class=\"dataframe\">\n",
              "  <thead>\n",
              "    <tr style=\"text-align: right;\">\n",
              "      <th></th>\n",
              "      <th>id</th>\n",
              "      <th>name</th>\n",
              "      <th>charityNumber</th>\n",
              "      <th>streetAddress</th>\n",
              "      <th>addressLocality</th>\n",
              "      <th>addressRegion</th>\n",
              "      <th>postalCode</th>\n",
              "      <th>UKRegion</th>\n",
              "    </tr>\n",
              "  </thead>\n",
              "  <tbody>\n",
              "    <tr>\n",
              "      <th>0</th>\n",
              "      <td>GB-COH-04530979</td>\n",
              "      <td>SOMERSET COMMUNITY FOUNDATION</td>\n",
              "      <td>NaN</td>\n",
              "      <td>YEOMAN HOUSE, BATH AND WEST SHOWGROUND</td>\n",
              "      <td>SHEPTON MALLET</td>\n",
              "      <td>SOMERSET</td>\n",
              "      <td>BA4 6QN</td>\n",
              "      <td>South West</td>\n",
              "    </tr>\n",
              "    <tr>\n",
              "      <th>1</th>\n",
              "      <td>GB-COH-04831118</td>\n",
              "      <td>TRAFFORD HOUSING TRUST LIMITED</td>\n",
              "      <td>NaN</td>\n",
              "      <td>SALE POINT, 126 - 150 WASHWAY ROAD</td>\n",
              "      <td>SALE</td>\n",
              "      <td>MANCHESTER</td>\n",
              "      <td>M33 6AG</td>\n",
              "      <td>North West</td>\n",
              "    </tr>\n",
              "    <tr>\n",
              "      <th>2</th>\n",
              "      <td>GB-COH-03037449</td>\n",
              "      <td>LONDON COUNCILS LIMITED</td>\n",
              "      <td>NaN</td>\n",
              "      <td>59 1/2 SOUTHWARK STREET, LONDON</td>\n",
              "      <td>NaN</td>\n",
              "      <td>NaN</td>\n",
              "      <td>SE1 0AL</td>\n",
              "      <td>London</td>\n",
              "    </tr>\n",
              "    <tr>\n",
              "      <th>3</th>\n",
              "      <td>GB-COH-RC000766</td>\n",
              "      <td>THE ENGLISH SPORTS COUNCIL</td>\n",
              "      <td>NaN</td>\n",
              "      <td>21 Bloomsburry Street</td>\n",
              "      <td>LONDON</td>\n",
              "      <td>NaN</td>\n",
              "      <td>WC1B 3HF</td>\n",
              "      <td>London</td>\n",
              "    </tr>\n",
              "    <tr>\n",
              "      <th>4</th>\n",
              "      <td>GB-GOR-D9</td>\n",
              "      <td>Department for Transport</td>\n",
              "      <td>NaN</td>\n",
              "      <td>NaN</td>\n",
              "      <td>NaN</td>\n",
              "      <td>NaN</td>\n",
              "      <td>NaN</td>\n",
              "      <td>NaN</td>\n",
              "    </tr>\n",
              "  </tbody>\n",
              "</table>\n",
              "</div>\n",
              "      <button class=\"colab-df-convert\" onclick=\"convertToInteractive('df-fc869eb5-9a12-4dbb-9db4-08ab15f86029')\"\n",
              "              title=\"Convert this dataframe to an interactive table.\"\n",
              "              style=\"display:none;\">\n",
              "        \n",
              "  <svg xmlns=\"http://www.w3.org/2000/svg\" height=\"24px\"viewBox=\"0 0 24 24\"\n",
              "       width=\"24px\">\n",
              "    <path d=\"M0 0h24v24H0V0z\" fill=\"none\"/>\n",
              "    <path d=\"M18.56 5.44l.94 2.06.94-2.06 2.06-.94-2.06-.94-.94-2.06-.94 2.06-2.06.94zm-11 1L8.5 8.5l.94-2.06 2.06-.94-2.06-.94L8.5 2.5l-.94 2.06-2.06.94zm10 10l.94 2.06.94-2.06 2.06-.94-2.06-.94-.94-2.06-.94 2.06-2.06.94z\"/><path d=\"M17.41 7.96l-1.37-1.37c-.4-.4-.92-.59-1.43-.59-.52 0-1.04.2-1.43.59L10.3 9.45l-7.72 7.72c-.78.78-.78 2.05 0 2.83L4 21.41c.39.39.9.59 1.41.59.51 0 1.02-.2 1.41-.59l7.78-7.78 2.81-2.81c.8-.78.8-2.07 0-2.86zM5.41 20L4 18.59l7.72-7.72 1.47 1.35L5.41 20z\"/>\n",
              "  </svg>\n",
              "      </button>\n",
              "      \n",
              "  <style>\n",
              "    .colab-df-container {\n",
              "      display:flex;\n",
              "      flex-wrap:wrap;\n",
              "      gap: 12px;\n",
              "    }\n",
              "\n",
              "    .colab-df-convert {\n",
              "      background-color: #E8F0FE;\n",
              "      border: none;\n",
              "      border-radius: 50%;\n",
              "      cursor: pointer;\n",
              "      display: none;\n",
              "      fill: #1967D2;\n",
              "      height: 32px;\n",
              "      padding: 0 0 0 0;\n",
              "      width: 32px;\n",
              "    }\n",
              "\n",
              "    .colab-df-convert:hover {\n",
              "      background-color: #E2EBFA;\n",
              "      box-shadow: 0px 1px 2px rgba(60, 64, 67, 0.3), 0px 1px 3px 1px rgba(60, 64, 67, 0.15);\n",
              "      fill: #174EA6;\n",
              "    }\n",
              "\n",
              "    [theme=dark] .colab-df-convert {\n",
              "      background-color: #3B4455;\n",
              "      fill: #D2E3FC;\n",
              "    }\n",
              "\n",
              "    [theme=dark] .colab-df-convert:hover {\n",
              "      background-color: #434B5C;\n",
              "      box-shadow: 0px 1px 3px 1px rgba(0, 0, 0, 0.15);\n",
              "      filter: drop-shadow(0px 1px 2px rgba(0, 0, 0, 0.3));\n",
              "      fill: #FFFFFF;\n",
              "    }\n",
              "  </style>\n",
              "\n",
              "      <script>\n",
              "        const buttonEl =\n",
              "          document.querySelector('#df-fc869eb5-9a12-4dbb-9db4-08ab15f86029 button.colab-df-convert');\n",
              "        buttonEl.style.display =\n",
              "          google.colab.kernel.accessAllowed ? 'block' : 'none';\n",
              "\n",
              "        async function convertToInteractive(key) {\n",
              "          const element = document.querySelector('#df-fc869eb5-9a12-4dbb-9db4-08ab15f86029');\n",
              "          const dataTable =\n",
              "            await google.colab.kernel.invokeFunction('convertToInteractive',\n",
              "                                                     [key], {});\n",
              "          if (!dataTable) return;\n",
              "\n",
              "          const docLinkHtml = 'Like what you see? Visit the ' +\n",
              "            '<a target=\"_blank\" href=https://colab.research.google.com/notebooks/data_table.ipynb>data table notebook</a>'\n",
              "            + ' to learn more about interactive tables.';\n",
              "          element.innerHTML = '';\n",
              "          dataTable['output_type'] = 'display_data';\n",
              "          await google.colab.output.renderOutput(dataTable, element);\n",
              "          const docLink = document.createElement('div');\n",
              "          docLink.innerHTML = docLinkHtml;\n",
              "          element.appendChild(docLink);\n",
              "        }\n",
              "      </script>\n",
              "    </div>\n",
              "  </div>\n",
              "  "
            ]
          },
          "metadata": {},
          "execution_count": 29
        }
      ],
      "source": [
        "fundingOrg = pd.read_csv(\"drive/My Drive/UK_Data/Grants/fundingOrg.csv\")\n",
        "fundingOrg.head()"
      ]
    },
    {
      "cell_type": "markdown",
      "source": [
        "# Recipient Org Location\n",
        "-  region data is already available"
      ],
      "metadata": {
        "id": "hQrqJ8RlKzhS"
      }
    },
    {
      "cell_type": "code",
      "execution_count": 33,
      "metadata": {
        "colab": {
          "base_uri": "https://localhost:8080/"
        },
        "id": "snX-L6D2H_Wg",
        "outputId": "a337d86f-b010-4939-f7aa-8f018cdf5420"
      },
      "outputs": [
        {
          "output_type": "stream",
          "name": "stdout",
          "text": [
            "136667\n",
            "[nan 'North West' 'East Midlands' 'London' 'Yorkshire and the Humber'\n",
            " 'South East Coast' 'North East' 'South West' 'East of England'\n",
            " 'West Midlands' 'South Central' 'Wales' 'Northern Ireland' 'Scotland']\n"
          ]
        }
      ],
      "source": [
        "print(data['Recipient Region'].isna().sum())\n",
        "print(data['Recipient Region'].unique())"
      ]
    },
    {
      "cell_type": "markdown",
      "source": [
        "- The region \"South Central\" is not there on the wikipedia page but its there in the dataset"
      ],
      "metadata": {
        "id": "EVEHzqm2s8VZ"
      }
    },
    {
      "cell_type": "code",
      "source": [
        "temp = data[data['Recipient Region']=='South Central']\n",
        "print(len(temp))"
      ],
      "metadata": {
        "colab": {
          "base_uri": "https://localhost:8080/"
        },
        "id": "h8K_OvvfrwJP",
        "outputId": "d757051e-7284-4247-b8b3-f48867d9d81d"
      },
      "execution_count": 54,
      "outputs": [
        {
          "output_type": "stream",
          "name": "stdout",
          "text": [
            "24836\n"
          ]
        }
      ]
    },
    {
      "cell_type": "markdown",
      "source": [
        "- 24836 grants/rows correspond to South Central Region"
      ],
      "metadata": {
        "id": "tIprwV-8tEow"
      }
    },
    {
      "cell_type": "code",
      "execution_count": 47,
      "metadata": {
        "colab": {
          "base_uri": "https://localhost:8080/"
        },
        "id": "7laf_eBwn8ma",
        "outputId": "e8b8d2d0-c1d8-42ae-fc65-ade0d7372eca"
      },
      "outputs": [
        {
          "output_type": "stream",
          "name": "stdout",
          "text": [
            "NA:  6145\n",
            "5492\n",
            "{'OX49 5LH', 'MK17 0BH', 'HP22 5EP', 'SO14 5GZ', 'DN14 8AJ', 'RG30 4HP', 'RG20 4SW', 'PO9 1PX', 'PO2 8HB', 'OX7 7AE', 'SL6 7EG', 'SO31 9ZL', 'RG8 8BY', 'RG29 1NB', 'RG19 8BE', 'GU14 6SL', 'OX1 3DP', 'OX10 6RL', 'PO10 7UJ', 'SL6 3LW', 'SW8 1RL', 'OX14 1DF', 'RG40 1UX', 'BS8 3NG', 'SO16 3HF', 'OX1 2ER', 'SL6 1DX', 'OX7 3NZ', 'MK12 5TN', 'HP13 6QT', 'RG7 5TA', 'OX11 0ES', 'GU46 7UD', 'OX4 9JZ', 'NN13 6EG', 'OX10 7LZ', 'RG26 5HW', 'SO43 7PA', 'HP6 5TT', 'SL0 0BQ', 'HP14 3SL', 'PO5 2PE', 'OX11 9NW', 'RG30 6AY', 'PO6 4JB', 'MK18 7DU', 'PO7 6LU', 'SO18 1AX', 'SL4 1EU', 'SO45 2HP', 'RG25 3DU', 'HP17 8DL', 'RG31 7PJ', 'RG12 8UZ', 'PO30 1NR', 'OX4 1NL', 'RG25 2EE', 'PO9 1QU', 'SO41 9GH', 'MK12 5HX', 'OX44 7XL', 'LU7 0EE', 'SL7 2DU', 'OX3 9UU', 'RG1 8DS', 'OX2 6PZ', 'OX7 6AF', 'HP5 1PS', 'OX42RR', 'PO14 2JW', 'OX26 4JT', 'SO45 4ZF', 'SP11 6PL', 'SL6 3RA', 'OX14 4QT', 'SL1 2GG', 'SL3 0LH', 'SP6 3QQ', 'RG170AX', 'RG24 9NN', 'OX33 1JR', 'HP27 9HY', 'SL3 9JQ', 'MK5 7FT', 'OX1 1RR', 'SO16 6BR', 'HP11 1HX', 'SW1W 0DH', 'SO40 3LE', 'HP217TL', 'SO31 5FR', 'HP21 7QY', 'UB3 4NY', 'RG21 4JX', 'RG20 9DB', 'SL6 7NQ', 'SO18 6NX', 'GU12 4NZ', 'OX7 5BS', 'HP10 8DS', 'SO23 7RX', 'OX5 2UQ', 'OX15 5LX', 'HP21 8TJ', 'SO18 2JJ', 'GU47 0QF', 'RG21 3DG', 'SN7 7NN', 'HP17 8EE', 'GU30 7AZ', 'PO30 5XW', 'RG4 9AU', 'SP6 1EF', 'HP17 8UP', 'RG2 7UE', 'PO13 8HD', 'SO19 9FU', 'SL2 3BP', 'SO23 8RB', 'RG2 7HH', 'WC1N 1AZ', 'OX7 4DG', 'SO23 9LH', 'PO36 9BA', 'SO50 4FZ', 'RG20 8TP', 'SO319GE', 'SO31 1BJ', 'PO16 9RL', 'SL6 7YR', 'OX26 2NS', 'OX4 4EX', 'MK9 3PX', 'PO36 9JW', 'MK5 6LB', 'SE1 3LJ', 'OX4 1LH', 'OX16 4tL', 'MK15 0AA', 'MK12 5TH', 'RG8 9JA', 'RG6 1NR', 'PO33 4ES', 'GU31 5SJ', 'RG27 0RQ', 'OX10 7BQ', 'OX4 1RW', 'OX25 1TL', 'RG14 5JN', 'RG8 0SR', 'RG19 4RE', 'RG23 8EE', 'PO30 1JF', 'GU14 8LS', 'SO19 9QE', 'RG6 7BS', 'SO21 1PL', 'PO7 7RX', 'RG27 8PE', 'SL4 3HY', 'RG8 0SD', 'OX14 2JW', 'MK3 7BE', 'PO16 0EL', 'OX7 3LZ', 'OX4 4XN', 'SO16 0AS', 'HP27 0AN', 'RG24 8BQ', 'PO13 8DJ', 'GU11 3HU', 'SO14 1AT', 'RG31 5LN', 'BH23 4TA', 'RG40 4EW', 'HP160PD', 'RG24 8XQ', 'PO5 2AA', 'SO19 1BN', 'MK3 7JS', 'OX15 4FF', 'PO2 7AX', 'HP18 0LQ', 'BS16 2LQ', 'GU11 9FQ', 'RG41 2YG', 'SO52 9DZ', 'HP8 4NX', 'SO31 9JL', 'HP22 5HL', 'OX16 3WX', 'SO45 6BP', 'MK17 0RT', 'SO52 9AQ', 'CV34 6LW', 'OX28 1JS', 'BH24 3BU', 'OX15 5NX', 'OX16 5QE', 'RG21 8SR', 'RG20 0HL', 'PO14 1BJ', 'SP11 8EJ', 'GU12 4UJ', 'SO51 8AG', 'SO50 6DF', 'BH20 4QS', 'SN6 8BL', 'OX27 8TT', 'OX2 9QE', 'SO14 3AY', 'SO15 1BA', 'OX4 3BY', 'OX29 8NY', 'OX10 6SD', 'RG42 1FL', 'MK17 8LH', 'SO31 7ZN', 'OX4 6LB', 'UB9 4DW', 'OX10 6RU', 'RG7 3HG', 'SO30 2SY', 'PO4 9SU', 'OX2 0HU', 'RG2 8PE', 'SO40 3GN', 'PO16 8ER', 'OX13 6RD', 'UB9 5PG', 'RG30 4EW', 'OX27 0EY', 'RG1 5SQ', 'SO17 3TA', 'OX26 4PP', 'OX7 5DY', 'RG14 2PS', 'HP9 2UZ', 'HP13 6HN', 'RG2 9DF', 'SL6 6HQ', 'OX13 5HB', 'SO30 3FE', 'RG25 3AX', 'MK18 2PZ', 'PO12 2BH', 'BH24 1TS', 'SL1 4TJ', 'RG4 9JT', 'OX2 7BY', 'MK9 2ES', 'RG31 5BD', 'MK3 7BB', 'LU7 9EA', 'OX28 5BU', 'RG21 4EB', 'RG20 4HD', 'OX11 9PY', 'OX4 4YN', 'SO30 2LE', 'GU14 7LP', 'RG31 5AX', 'RG10 9GT', 'RG4 8UL', 'OX3 9HY', 'OX1 4SU', 'GU14 6UU', 'RG18 9NA', 'OX14 5BS', 'RG14 2EZ', 'OX16 9DQ', 'HP7 0QG', 'OX17 3EE', 'OX49 5QH', 'OX5 2DN', 'OX2 6TG', 'OX15 6NY', 'SL7 3SG', 'HP12 4PR', 'SO40 7AA', 'LU7 9DA', 'SO21 3AL', 'PO8 0HN', 'OX28 4BE', 'HP23 6NP', 'OX4 1UR', 'OX11 0QG', 'RG9 5DF', 'OX28 1PB', 'RG19 8BZ', 'OX3 0AW', 'N1 8JJ', 'SO31 1BY', 'PO14 2JH', 'OX18 3LX', 'PR8 2NL', 'RG4 8US', 'RG45 7AT', 'RG14 1AN', 'HP7 9AN', 'SO41 0TH', 'RG21 5NW', 'RG4 5JP', 'OX12 7LF', 'SL1 4DX', 'SO22 5AB', 'SO19 6AA', 'MK76AA', 'OX11 8BA', 'RG30 2NN', 'HP21 9DN', 'OX1 1RL', 'OX4 4PP', 'OX39 4ST', 'RG30 2DX', 'SN2 2NA', 'HP20 2PB', 'SO20 6HA', 'OX4 4XT', 'GU46 6JU', 'OX2 7BD', 'SO41 0JD', 'HP17 8PD', 'SL1 2BP', 'RG8 7AP', 'GU46 7TH', 'OX1 4SY', 'PO37 6QE', 'SL0 0RD', 'OX5 2NX', 'OX18 4ER', 'PO7 6HQ', 'OX2 7TJ', 'RG17 0NF', 'BH25 6RS', 'PO40 9TZ', 'OX1 3TB', 'RG14 1JQ', 'PO16 7BJ', 'SO23 8UJ', 'SO40 3ND', 'OX4 2HN', 'SL2 5HY', 'HR2 9PY', 'MK46 4JG', 'SO15 5JR', 'OX49 5RF', 'RG28 7AS', 'HP20 1EH', 'LA9 6ES', 'MK11 3ES', 'PO4 0QP', 'RG12 9AP', 'MK15 8AN', 'OX5 2DL', 'SO30 0GR', 'RG7 5JR', 'PO30 5TD', 'PO31 7NP', 'SO19 8ES', 'RG12 1EH', 'PO38 1QS', 'PO32 6AH', 'SO32 2DF', 'OX28 4AD', 'OX1 1NJ', 'OX11 7JP', 'OX39 4QE', 'MK10 7FL', 'SL0 9ET', 'OX2 9NS', 'OX29 4HU', 'WA5 7WQ', 'SN7 8SA', 'OX1 2XN', 'RG9 5LA', 'GU10 5PX', 'GU51 2UJ', 'GU34 4HY', 'RG45 6LP', 'OX2 9PQ', 'PO1 2JL', 'HP13 6RF', 'SL3 7DZ', 'SP6 2DF', 'RG12 8HT', 'SL0 9NW', 'SN7 7RE', 'OX2 8HU', 'B21 9DP', 'OX26PN', 'OX16 0AH', 'PO30 3AN', 'SP11 7HH', 'N16 5RP', 'SO30 4XJ', 'OX11 8RU', 'GU34 3JB', 'SO45 5UF', 'HP12 3SY', 'OX14 1HH', 'GU34 2DR', 'OX39 4LR', 'SO16 3BZ', 'OX4 3NH', 'OX11 8EW', 'PO1 3HN', 'OX14 1JE', 'SL4 6DW', 'HP11 2EE', 'SP11 6LZ', 'HP18 0RS', 'SL8 5RF', 'HP14 4NL', 'SL61BN', 'PO15 6PF', 'RG22 6PG', 'RG12 7RX', 'PO30 1JW', 'OX17 1FB', 'OX44BB', 'OX28 6ZJ', 'PO30 3JT', 'RG40 2EB', 'MK18 4JX', 'HP22 5HX', 'RG10 8LA', 'SO24 9JG', 'OX18 4SQ', 'BH24  4AP', 'OX4 1BN', 'RG20 6QG', 'SL8 5BS', 'SL6 4PU', 'SO42 7ZE', 'SO43 7NH', 'PO1 3HL', 'PO8 8EH', 'OX29 4LF', 'GU17 9LQ', 'RG4 7XD', 'OX15 0TJ', 'RG1 8JP', 'PO33 3LJ', 'RG22 4BJ', 'OX20 1ER', 'SP10 2JP', 'RG21 3HF', 'PO38 1PJ', 'OX14 4QU', 'RG29 1RH', 'SL1 2SR', 'GU14 7LE', 'RG21 5UA', 'HP16 0DF', 'OX27 8TG', 'GU34 5LG', 'OX2 6SJ', 'SO16 7NS', 'RG30 1EG', 'HP10 9NS', 'GU478QW', 'SO15 2HW', 'OX11 7HJ', 'WD19 4AT', 'OX12 9AQ', 'GU34 4AG', 'PO40 9RA', 'RG2 9DP', 'Sl1 4XP', 'SL9 9QL', 'SO31 9HP', 'ML3 8RF', 'MK11ST', 'MK16 8DZ', 'MK15 8BA', 'OX18 4PL', 'PO6 3NL', 'SO16 8LR', 'SO51 0LF', 'SP10 5LG', 'HP23 6NE', 'HP16 9LS', 'OX15 6EZ', 'OX11 1FJ', 'OX11 8AZ', 'SO14 1NX', 'HP18 9LD', 'SO15 3ET', 'RG14 5UX', 'RG14 7NE', 'PO1 2QF', 'SL1 2BJ', 'OX11 7PH', 'PO39 0AQ', 'PO14 1HT', 'SO31 9TB', 'OX4 4AS', 'SP10 1HP', 'PO9 3JG', 'OX7 3EB', 'PO5 2SH', 'MK7 7PG', 'OX18 3AA', 'OX4 3RD', 'OX4 2TZ', 'OX4 2LH', 'MK3 6HF', 'PO36 8JA', 'OX29 5SY', 'OX9 3DP', 'RG7 2AG', 'SL1 1PJ', 'OX4 6SB', 'MK16 0FH', 'BH24 3JW', 'RG9 1NZ', 'PO9 3HN', 'PO30 1UD', 'RG40 4JD', 'SL4 2RW', 'OX11 0EY', 'OX12 9LJ', 'PO1 2LN', 'OX2 0QL', 'SO31 7AP', 'OX1 2HU', 'RG14 5SH', 'PO32 6JX', 'SO167DP', 'HP19 8FL', 'GU31 4YY', 'HP22 6EG', 'RG23 7EA', 'SO50 9DR', 'OX20 1AL', 'PO36 0DQ', 'RG14 2GZ', 'RG8 7HW', 'MK45 2QP', 'SL1 1DB', 'PO30 2DJ', 'PO1 1JD', 'HP20 1UA', 'OX29 8AQ', 'SO42 7ZN', 'LU7 0UG', 'BH24 4EF', 'PO7 5QD', 'OX18 4UH', 'PO16 9DR', 'W14 8RR', 'OX29 0NB', 'OX1 3HZ', 'PO36 0PH', 'SO50 8LQ', 'SO41 0RF', 'HP11 1TB', 'OX16 9RG', 'SO43 7FZ', 'RG17 9TW', 'SO24 0NL', 'PO38 2EB', 'SL7 1UQ', 'OX2 8QJ', 'PO1 3QX', 'OX25 2PP', 'SL0 9LZ', 'SO20 8ET', 'OX9 2BZ', 'SO21 2AB', 'SL6 3SW', 'SL6 1SL', 'RG30 1AF', 'SL6 6QR', 'OX16 0DH', 'OX15 5PL', 'SL1 5SU', 'HP14 4RS', 'RG14 1BZ', 'SO19 2JB', 'SO23 8QY', 'PO8 9NB', 'SO15 2EW', 'MK13 7JH', 'OX9 2AQ', 'SO31 8BY', 'HP27 0RU', 'PO7 6LH', 'HP5 1DE', 'RG28 7NF', 'RG9 3AP', 'RG2 7UD', 'MK18 1XT', 'OX15 4JZ', 'RG14 2AY', 'HP21 8AD', 'OX1 1BY', 'SO15 4LE', 'SP102EG', 'PO30 4NT', 'RG127WW', 'OX7 7DD', 'OX15 4FT', 'MK9 2AH', 'RG1 8BD', 'HP16 0JG', 'OX2 9NJ', 'OX12 8HE', 'SL6 9SJ', 'SP11 8LZ', 'OX17 2NB', 'OX29 8NA', 'PO9 6BE', 'SO41 1EN', 'RG12 9DA', 'MK16 0FL', 'PO31 7DA', 'RG14 5LD', 'RG41 5AW', 'OX4 2JJ', 'OX2 9AS', 'PO12 2QP', 'OX7 6BS', 'SO14 6HY', 'GU47 0TA', 'OX9 3AJ', 'PO16 9PP', 'OX25 3QX', 'SO23 7AA', 'SP11 8LH', 'PO6 3TH', 'OX16 1DN', 'SO17 2FZ', 'SL9 0RJ', 'RG9 1BF', 'RG1 4PN', 'RG8 7LR', 'OX11 7WB', 'PO36 8HJ', 'RG2 9RJ', 'OX10 6SF', 'MK1 1DB', 'RG9 1HX', 'OX1 2DH', 'OX43LN', 'UB8 2TU', 'MK5 6EX', 'OX29 4QY', 'SO22 5DG', 'PO33 2ER', 'MK12 5JS', 'RG12 9LP', 'SO41 9BH', 'MK12 6HT', 'RG30 2DD', 'HP7 0JD', 'SW1V 1EJ', 'OX33 1HX', 'SO14 0SQ', 'PO32 6DG', 'OX4 6XW', 'HP18 0AP', 'RG25 2AF', 'OX2 6HT', 'OX9 3LT', 'SO166QF', 'HP14 3TE', 'PO31 7QZ', 'PO10 7SU', 'OX2 6LU', 'OX2 7LJ', 'MK17 8LN', 'SL1 3AH', 'LU7 0QD', 'OX1 5QU', 'HP10 8HH', 'OX2 7JQ', 'RG2 8NX', 'SO53 1EG', 'PO14 2BD', 'PO30 1YN', 'RG8 7DA', 'SO22 5DF', 'HP23 6NW', 'RG26 4HN', 'PO32 6DD', 'SO50 7LR', 'SN6 8EX', 'HP8 4ET', 'OX4 3SD', 'OX155QN', 'SO314YA', 'SO42 7WD', 'PO33 2LG', 'OX1 2PH', 'RG20 8AE', 'PO2 7LR', 'RG27 0NB', 'OX15 4LJ', 'PO12 4JH', 'SO43 7FG', 'PO38 2AA', 'RG21 7LS', 'PO37 6BG', 'HP20 1UZ', 'HP9 2TS', 'SO14 0JG', 'GU33 6BS', 'W1U 7RT', 'OX1 4RQ', 'PO9 5BN', 'RG18 3PD', 'GU35 0YS', 'OX15 5JT', 'RG1 6FJ', 'SW9 0JJ', 'PO5 3NZ', 'SO22 4NR', 'SL5 7DD', 'RG40 2YF', 'MK6 2JQ', 'NG31 7XT', 'GU32 3QA', 'OX2 6QS', 'MK16 8SJ', 'SO50 0EL', 'PO6 1PA', 'SO23 7DZ', 'OX9 3DF', 'HP17 8AL', 'OX2 0JB', 'MK17 0AT', 'PO15 7JF', 'SO20 6RN', 'RG2 7TX', 'PO7 6FY', 'RG2 0JT', 'TR7 1LN', 'SO21 3RH', 'MK6 5DR', 'PO33 1JA', 'SO50 8NZ', 'RG8 9AY', 'OX28 4BH', 'PO14 9HL', 'MK17 0JS', 'SN6 8AY', 'PO12 1BP', 'PO14 1QN', 'EC1M 6HR', 'PO1 2GF', 'SO19 9HG', 'BH24 3LY', 'RG14 2LR', 'PO6 1QY', 'CB1 7UR', 'HP11 1UA', 'SO52 9DL', 'HP22 5LX', 'CW5 6JN', 'RG12 1DJ', 'W1J 0BE', 'SO32 2HP', 'RG9 2JJ', 'EC2A 4JB', 'SL6 7DX', 'OX15 0UN', 'DL5 7AJ', 'OX4 6EN', 'OX10 8EN', 'SL1 3UF', 'OX29 5SX', 'MK14 6BB', 'PO37 6PT', 'RG14 5DD', 'HP22 4PA', 'OX26 5HA', 'OX10 6AX', 'OX3 7LD', 'PO3 6LA', 'SO53 2EB', 'OX165BH', 'SL7 2DX', 'PO1 3LJ', 'PO13 8AA', 'OX14 4RY', 'RG41 2QZ', 'OX18 4ND', 'SO30 0JU', 'SO30 4FQ', 'GU32 3EL', 'B97 6HR', 'OX16 9JW', 'OX12 8JW', 'SO22 5LF', 'SP6 3EG', 'OX2 6GG', 'PO33 2TS', 'PO12 1QA', 'RG10 9AY', 'SO32 2HY', 'RG7 3SH', 'PO8 0WJ', 'OX1 3DH', 'MK3 6BJ', 'PO30 5TA', 'RG12 7EH', 'LU7 0BU', 'GU34 2BZ', 'PO15 5HQ', 'OX3 0ES', 'SO23 0LD', 'OX29 8JL', 'SO21 3AR', 'SL7 3PB', 'RG6 1EY', 'OX10 0QH', 'SO21 2LU', 'OX1 1BT', 'OX42nh', 'OX1 3PP', 'OX29 7SQ', 'OX169JR', 'BH14 0JW', 'SO50 7EA', 'BH24 1PZ', 'SL1 7HG', 'GU11 3XP', 'MK18 2DH', 'RG30 4UB', 'OX14 4HJ', 'SO19 6RD', 'SP10 1JN', 'RG19 4LL', 'GU30 7RQ', 'SO30 4RA', 'BH24 3HN', 'RG17 7HU', 'PO2 0SN', 'SL5 9QY', 'RG18 4ES', 'OX10 0SW', 'GU51 5JA', 'OX15 5LG', 'OX16 3WR', 'SP6 1DL', 'SL6 1PL', 'PO7 7BW', 'RG27 8QX', 'Rg4 9NR', 'SL6 4DB', 'OX25 6JL', 'OX14 5JX', 'SO14 0QE', 'SO53 4DP', 'SL1 0ZL', 'SL5 0NA', 'SP10 2BN', 'RG27 8RL', 'GU14 6FD', 'SL5 9ED', 'GU26 6JD', 'RG1 4PS', 'OX12 9BX', 'OX1 3EY', 'PO12 4XP', 'PO2 9QA', 'OX3 8JR', 'OX26 6DJ', 'OX9 3RN', 'PO168TH', 'PO16 7EN', 'RG214AF', 'PO8 9UU', 'TN14 7HH', 'OX10 9RB', 'PO38 1PE', 'PO12 2QU', 'OX26 4LD', 'SO24 0NA', 'EC3N 1RE', 'rg20 9ht', 'SO41 0NS', 'SO15 5NX', 'SL9 7JZ', 'OX5 1AA', 'OX1 1HP', 'RG24 9ES', 'GU14 0FB', 'SO31 4JD', 'OX7 6BY', 'RG184NP', 'SO51 0HP', 'SP101QP', 'PO6 2SA', 'PO32 6UB', 'RG30 2DU', 'RG2 9AF', 'RG12 0XQ', 'SO30 4AF', 'PO1 2RG', 'BS3 1QG', 'SL8 5TN', 'OX29 4LB', 'UB9 5AX', 'SL6 6PQ', 'RG9 5QS', 'SL9 7BN', 'OX20 1LH', 'N1 7GR', 'MK16 9JE', 'SP6 3QP', 'PO2 8RP', 'OX26 6YH', 'SO42 7XE', 'RG26 3AP', 'SL6 0JT', 'SP11 7JP', 'SO16 9FQ', 'SO52 9NA', 'OX10 6BD', 'CV2 2QJ', 'OX5 3AR', 'MK46 4HS', 'HP20 2TE', 'OX11 0QR', 'OX14 1QF', 'GU14 0LX', 'PO10 7EH', 'RG14 5AS', 'GU34 4AL', 'SL7 1RT', 'RG42 2QN', 'OX10 8ED', 'HP22 5EZ', 'SO19 2EU', 'SL3 6DS', 'RG7 3BL', 'RG9 2AR', 'SO31 7GW', 'CT1 2TU', 'SO24 9RD', 'SO45 4RJ', 'HP19 8DN', 'GU51 3DA', 'RG7 1WY', 'BH24 1SE', 'GU29 0ED', 'GU10 4LB', 'OX15 4RF', 'SO455GT', 'PO16 8JJ', 'MK18 3AF', 'SO208DY', 'GU34 5PX', 'PO10 7ES', 'OX2 6BQ', 'PO33 1XQ', 'SO19 2QB', 'PO7 7FA', 'RG4 9AY', 'RG45 7DG', 'OX13 5NW', 'SL6 4DG', 'SL4 5PE', 'OX16 1QF', 'RG26 5HS', 'HP21 8DE', 'RG12 7WW', 'OX10 0SQ', 'SO22 4QB', 'OX4 3JZ', 'PO15 5LP', 'OX29 9UH', 'RG2 7HW', 'OX12 9HX', 'RG22 4XF', 'EC1Y 8ST', 'HP15 6SP', 'PO33 3TL', 'PO16 9SD', 'OX1 9RU', 'GU35 0PD', 'SO22 6AB', 'DE22 3WZ', 'PO368AF', 'SL5 7JX', 'HP12 3TZ', 'RG28 7LP', 'SO32 3NF', 'PO16 8AL', 'OX7 6RH', 'SO40 4ZG', 'OX14 5HR', 'RG2 7QA', 'OX12 8DW', 'LU7 0HR', 'RG1 4HJ', 'RG12 8TN', 'SO315GN', 'HP15 7QW', 'PO32 6HN', 'SO14 0DY', 'SO19 2HL', 'RG28 7JL', 'RG42 6NS', 'PO1 1NP', 'RG4 8EB', 'OX2 8AT', 'RG40 2EH', 'PO4 8HR', 'GU14 0FE', 'SO23 7DU', 'SO50 9SX', 'PO9 1SA', 'OX13 6SN', 'HA5 5BN', 'HP17 9TN', 'RG4 9PA', 'PO35 5UL', 'GU34 5LN', 'OX29 8LA', 'HP6 6AJ', 'PO32 6GU', 'SP11 0DS', 'OX12 0NR', 'RG28 7AL', 'OX33 1XP', 'SL4 1SE', 'OX15 6QH', 'RG17 7EN', 'SL3 9QE', 'RG14SJ', 'SL9 1DB', 'RG26 5NH', 'OX1 3UJ', 'PO5 1EE', 'SL0 0RQ', 'PO1 3TZ', 'PO37 7AT', 'RG6 1LF', 'SO22 6RX', 'PO13 8HW', 'GU30 7TN', 'GU46 6HQ', 'SL0 9BN', 'MK18 2LS', 'PO12 2ET', 'PO31 8QE', 'SO17 1XQ', 'SL6 6LA', 'GU35 9NG', 'PO39 0HQ', 'HP12 3RF', 'GL7 3QL', 'OX10 6AA', 'RG1 7PJ', 'PO33 4NW', 'PO6 2EL', 'OX1 5LY', 'GU31 4JA', 'RG30 1AD', 'SO31 6PT', 'SO41 0QT', 'HP17 8AF', 'PO9 3EJ', 'RG30 4RU', 'MK12 5GR', 'LU7 0RS', 'RG9 1QD', 'OX5 2RE', 'SL2 2DS', 'SO51 8HF', 'MK17 0JR', 'OX12 8BS', 'RG18 0TD', 'PO12 4QA', 'MK3 6EW', 'RG21 4AN', 'PO30 4BT', 'RG17 0HY', 'PO1 2EF', 'MK9 4AD', 'RG17 7HD', 'SO19 7TB', 'PO3 5AL', 'RG45 6QZ', 'TW9 2GW', 'SO199DP', 'RG40 3GB', 'OX2 7EZ', 'PO38 3BX', 'PO30 4AX', 'OX17 3NL', 'OX33 1RY', 'SL5 9AL', 'SO51 0GQ', 'SO16 5AN', 'CF23 8RP', 'MK9 1BB', 'RG20 0JL', 'HP15 6SF', 'OX2 9PJ', 'OX10 9LT', 'RG45 6HJ', 'RG10 0TP', 'SO53 1SD', 'OX2 9QN', 'OX12 9BG', 'RG40 5PN', 'PO1 3BS', 'OX9 2DY', 'PL25 4NA', 'NG12 4DA', 'PO6 3EN', 'PO14 9RH', 'GU35 8DQ', 'RG14 5SJ', 'RG264HN', 'HP19 8UN', 'MK14 7AD', 'HP11 1BB', 'OX14 4SU', 'HP27 0DR', 'OX4 1XH', 'SO50 7PS', 'OX4 4JQ', 'OX3 0DL', 'SN7 8NA', 'SO20 8EW', 'SO14 1NW', 'SO51 7TS', 'OX26 5DX', 'OX16 2SP', 'HP6 5RJ', 'SO24 9LN', 'OX2 7LA', 'MK8 0AJ', 'PO124QA', 'RG21 4AH', 'PO38 1RG', 'SO50 5ZA', 'OX2 6LY', 'MK11 1JQ', 'MK18 5LQ', 'PO12 1JD', 'SO50 5RZ', 'RG22 5EP', 'PO30 3ER', 'SO18 1LY', 'MK46 4AB', 'OX15 4HD', 'SP10 4DS', 'SL4 2HT', 'SW1W 0PP', 'PO8 0JU', 'HP9 1SJ', 'SO43 7DJ', 'SO23 8UH', 'OX18 4RZ', 'SO14 2LF', 'OX14 5GZ', 'GU14 8JG', 'OX13 6BH', 'OX4 1EJ', 'SO14 5AG', 'PO7 7YH', 'BH25 5RY', 'OX11 6FF', 'PO30 4JE', 'SL7 2AE', 'MK17 9AA', 'RG9 1ST', 'OX13 6LU', 'MK18 7HX', 'SL7 1RE', 'GU35 0AD', 'OX4 4DU', 'MK12 5NW', 'HP22 6EB', 'RG20 8RD', 'MK9 3HP', 'RG22 5HU', 'RG40 2EF', 'RG1 5LW', 'SO15 2AT', 'OX5 2DA', 'SP6 3LN', 'OX7 5BZ', 'SO23 9EH', 'OX1 3BH', 'PO9 2TU', 'OX10 9DG', 'PO8 8BE', 'RG27 8RQ', 'RG9 5LH', 'RG9 4HA', 'OX7 6AG', 'HP5 1EP', 'RG24 8RH', 'PO6 3TE', 'OX18 2AH', 'OX14 4AR', 'SL5 8LJ', 'SO45 4RQ', 'SO23 7DN', 'AL9 5HZ', 'SP10 2HA', 'RG18 9HR', 'OX12 8PD', 'SL1 6AE', 'RG31 4UX', 'RG8 8EJ', 'SO24 0NY', 'OX26 6AU', 'GU26 6DH', 'PO6 2TL', 'PO33 1EP', 'OX16 5BH', 'SL4 4TF', 'SO41 6AG', 'OX26 6HR', 'SO14 0YN', 'SO14 5FB', 'OX26 1UW', 'TW19 5EQ', 'OX1 1QT', 'PO1 4HA', 'PO37 6RG', 'MK18 3PX', 'RG1 2LQ', 'MK3 7JP', 'SO50 0LG', 'HP27 0SP', 'RG1 7JS', 'OX16 0AE', 'MK4 1LS', 'MK2 3DA', 'OX12 8JS', 'OX18 2SN', 'PO13 0QE', 'RG20 4AD', 'SO21 2RG', 'GU35 9ND', 'RG1 6AF', 'PO3 5EY', 'OX12 7LQ', 'OX4 1EP', 'RG19 9NQ', 'SL2 1AX', 'RG24 7DA', 'OX2 7BP', 'SO14 6GZ', 'OX29 4HQ', 'MK4 3GB', 'RG4 9RF', 'MK7 8BH', 'RG2 8DP', 'NN12 8FU', 'PO41 0NL', 'PO11 0BT', 'RG1 7EB', 'SE10 9UW', 'GU32 1HW', 'PO16 8TE', 'HP5 1UL', 'OX1 1HH', 'MK18 3DW', 'OX2 7EF', 'RG10 8BG', 'OX10 9LG', 'RG40 4JU', 'GU47 0XA', 'RG27 9PU', 'PO1 2AR', 'SP10 1LZ', 'SP6 3HA', 'OX11 7HP', 'OX2 9AZ', 'SO43 7DA', 'OX11 0NG', 'HP22 6HR', 'GU30 7AN', 'HP8 4QN', 'HP20 1DB', 'OX5 2QU', 'SO16 8GP', 'RG7 4PR', 'PO37 7EJ', 'DA10 0AE', 'PO15 7LT', 'OX16 9AE', 'HR1 9EP', 'PO7 4SB', 'SO51 9AH', 'RG4 6SB', 'SO50 9HS', 'SO41 6EG', 'BH16 6HX', 'RG22 4XQ', 'LA9 9AE', 'OX4 2RD', 'PO4 8TB', 'PO1 2UP', 'OX2 6EE', 'HP23 4EF', 'MK43 0RQ', 'HP6 5QU', 'SO31 5GN', 'HP21 7SX', 'RG41 3TX', 'OX13 5DJ', 'HP19 9HH', 'SL1 2XA', 'OX10 6SL', 'RG31 5HL', 'OX28 6BY', 'HP16 9PT', 'AL7 4AW', 'SO20 8DY', 'RG6 7BE', 'PO10 7DD', 'SO14 0ED', 'SL5 9PY', 'RG9 1TF', 'RG14 5DB', 'PO4 9HR', 'GU12 4AG', 'OX4 6DT', 'RG10 8EU', 'RG22 4TX', 'PO32 6RL', 'OX15 4HN', 'PO6 2JE', 'HP9 2HZ', 'HP27 0BP', 'HP7 9HN', 'SL2 1QE', 'RG24 9PU', 'SO21 2LE', 'MK46 4EF', 'SO45 2PA', 'RG41 4EH', 'PO16 9QN', 'GU52 7SA', 'OX4 6RQ', 'PO11 0PE', 'OX4 3AF', 'RG12 0TU', 'SO32 2PA', 'GU22 9AT', 'SO41 0WD', 'PO7 5UD', 'MK5 7BT', 'OX3 7HU', 'RG1 9AT', 'RG2 8EP', 'PO7 8BJ', 'SO50 5PE', 'SO31 4HP', 'OX10 8BB', 'HP13 6PQ', 'SO51 8GJ', 'RG10 8LU', 'RG4 7EX', 'SO14 7DU', 'MK6 2XN', 'RG19 4GF', 'SL1 2PU', 'SN7 7LR', 'OX16 0TT', 'HP18 0SW', 'HP18 9NA', 'SO43 7BU', 'PO33 1AE', 'PO33 4DJ', 'OX29 8EW', 'SO19 8FB', 'RG30 3XN', 'OX2 0NA', 'PO1 2HA', 'UB3 3DX', 'RG6 1HD', 'OX11 7LB', 'SO41 3SS', 'PO11 9JE', 'MK12 5DW', 'PO4 8LS', 'SO42 7YQ', 'SL4 6AS', 'SO41 3AX', 'HP8 4PR', 'OX7 6JZ', 'MK18 5LJ', 'PO14 4AB', 'RG20 5PY', 'OX26 6LP', 'SO21 1TE', 'HP5 1NL', 'MK2 2HQ', 'OX44 7ST', 'OX7 6DG', 'HP15 6XQ', 'RG7 5TB', 'SO24 0QQ', 'PO36 8JS', 'SO30 4EJ', 'GU51 3HL', 'UB9 4LH', 'PO8 9LJ', 'OX14 1PU', 'SL2 2QE', 'HP27 0PW', 'SO31 6DX', 'SO15 5DB', 'PO38 3NA', 'PO13 0TA', 'SL6 7RJ', 'OX14 4HP', 'OX44 7RE', 'RG41 4SZ', 'GU11 1SG', 'OX1 4PT', 'PO31 8DE', 'RG30 1DG', 'SL1 7HQ', 'OX28 1BH', 'HP13 7LE', 'PO33 3AS', 'OX14 1TE', 'PO31 8AZ', 'RG12 7RD', 'RG30 6NE', 'SO50 9DQ', 'RG14 6TW', 'RG1 5NG', 'PO14 1RD', 'RG20 5ER', 'MK4 3BN', 'HP5 1NZ', 'PO12 3SX', 'OX5 3ES', 'PO9 2AY', 'HP21 9DH', 'SO51 8AF', 'RG9 4HB', 'PO121EP', 'SO16 9DT', 'SL7 3DP', 'OX5 1AG', 'SL3 8BY', 'SP6 2LA', 'RG6 6DE', 'RG27 0RP', 'GU35 0FJ', 'RG2 7AG', 'HP22 4BW', 'RG6 1PP', 'OX1 3PH', 'UB9 5EA', 'OX18 3XT', 'RG17 9UW', 'PO8 0AA', 'GU31 4DX', 'PO8 8JX', 'PO7 7NT', 'RG1 8DU', 'OX29 8FD', 'OX11 7AJ', 'SO14 1AR', 'PO37 6EA', 'RG9 6HU', 'SP11 7AU', 'RG6 1HH', 'OX10 7DX', 'MK18 1AJ', 'GU35 9JH', 'OX4 1TJ', 'RG7 1JQ', 'SL5 0PY', 'PO9 1QH', 'SO24 0DJ', 'RG17 0EA', 'OX4 1BA', 'HP7 9LP', 'HP18 9PL', 'RG9 3LJ', 'PO12 2QF', 'RG12 7WS', 'OX10 8DE', 'OX1 4EW', 'MK11 1NR', 'OX11 9BL', 'OX2 9SG', 'RG12 8EB', 'SO19 8GG', 'SO15 0LJ', 'PO13 9JQ', 'PO15 7FT', 'SO17 3AA', 'OX25 4RP', 'SO31 8DH', 'SO14 3QF', 'SO53 3GY', 'RG20 8TD', 'OX29 4AP', 'HP22 6BG', 'HA5 3UP', 'OX4 1YF', 'SO31 8DE', 'SO509ZF', 'SO15 7RX', 'SO21 3JE', 'PO41 0RB', 'PO12 1HL', 'HP5 1BA', 'GU14 6AB', 'OX4 6LT', 'SL6 4HZ', 'OX4 4LS', 'PO3 5EP', 'RG1 1LG', 'GU35 0EP', 'SG19 2DL', 'MK16 9BG', 'RG2 0FL', 'PO38 2HF', 'OX14 4BY', 'SO45 1DZ', 'SL0 9JU', 'OX20 1AH', 'MK7 7DE', 'SP11 8JS', 'RG14 6RH', 'HP7 9HH', 'RG121AQ', 'OX29 8JE', 'SO518JJ', 'OX11 0SZ', 'SO16 0AJ', 'MK46 4DW', 'SO19 8BR', 'OX3 9BY', 'SO31 5GA', 'MK46 4AD', 'PO30 4JB', 'RG45 6AX', 'RG12 1AQ', 'OX12 0EE', 'SO23 8UB', 'SO50 5GE', 'RG1 4JJ', 'SL1 5JE', 'RG8 0HB', 'OX4 2NH', 'OX14 2RG', 'SO51 7RH', 'OX7 5XB', 'OX1 1HS', 'PO12 2RP', 'OX4 4AZ', 'OX29 4HL', 'RG30 2JP', 'RG29 1JH', 'OX4 1NX', 'MK14 6GD', 'OX3 9HZ', 'SO45 4PT', 'OX11 8TP', 'SN6 8TY', 'SO50 6HT', 'SO45 6ER', 'OX5 1PN', 'SL4 3DN', 'OX29 6SS', 'SO16 8AP', 'OX5 2EE', 'OX2 7DR', 'PO17 5BN', 'OX26 6PS', 'OX4 2DH', 'RG6 1PQ', 'PO35 5TS', 'BH23 8EE', 'SL1 7JZ', 'PO9 1UA', 'SO53 1HS', 'PO3 6DE', 'GU32 1HR', 'SP8 4RX', 'HP22 5QF', 'SO51 8DB', 'OX28 3UE', 'TW18 4TA', 'RG30 3TX', 'MK18 2LW', 'SO24 9PQ', 'SO14 3ZH', 'RG30 3RS', 'PO7 4TH', 'OX11 9EJ', 'SO41 0JH', 'MK1 1ST', 'PO33 1ND', 'PO7 5RU', 'SP11 7LF', 'GU32 1LH', 'SP11 0BA', 'RG2 6GP', 'SO20 6NP', 'SL7 1HR', 'PO1 2JJ', 'PO30 3BB', 'SO16 9QX', 'RG40 2DX', 'OX12 8ES', 'SO31 5FB', 'SP6 2EF', 'GU33 6AH', 'HP10 9NG', 'SO224EJ', 'RG1 3JX', 'SL4 1EH', 'RG41 3UF', 'OX15 0SL', 'RG4 8QE', 'RG20 5NH', 'SL4 5GD', 'EC2A 4XW', 'PO8 0AU', 'OX2 7NY', 'SO51 6BR', 'GU11 1AY', 'OX14 3FE', 'SP6 2NP', 'HP16 0AN', 'SO45 1AB', 'MK46 5AD', 'OX2 0BY', 'PO2 7LP', 'RG20 6NJ', 'SL4 4LP', 'SO14 7NR', 'BH23 8DD', 'HP9 1BD', 'PO14 4RE', 'RG2 9LN', 'MK2 3HU', 'PO33 4RB', 'RG26 4ET', 'SO14 3BL', 'SO16 5FB', 'PO31 7NN', 'SL4 4HU', 'OX14 3YJ', 'SO41 0HA', 'HP5 2XS', 'PO91SA', 'HP6 6DE', 'OX7 3QH', 'OX4 7LH', 'OX17 1QL', 'RG29 1JD', 'OX4 2BH', 'GU34 1RQ', 'HP21 7RR', 'PO2 8HR', 'OX33 1TG', 'OX15 6BZ', 'MK46 4BW', 'OX16 9JR', 'HP9 1AE', 'OX1 1TY', 'GU14 9DX', 'PO5 2QJ', 'PO4 0HD', 'GL1 5JW', 'HP20 2JR', 'OX16 9DH', 'OX14 3UL', 'W13 9PU', 'MK11 1BT', 'PO1 3EY', 'OX4 3LN', 'OX10 7SA', 'OX1 3LZ', 'SO15 1GG', 'GU14 0DQ', 'OX11 9HX', 'OX13 5HW', 'RG45 6LS', 'OX9 3QL', 'SO31 4PD', 'GU14 0QP', 'OX11 6DR', 'SO42 7YG', 'SO14 6BA', 'PO10 7XS', 'OX109PT', 'HP5 1AG', 'OX25 1TE', 'SL4 3RW', 'SN7 7NB', 'GU14 9LB', 'OX1 3QD', 'SO317ZN', 'SO24 0AA', 'SO17 1QS', 'RG45 7JX', 'PO12 1HB', 'PO6 2PH', 'PO1 2DD', 'RG4 9BU', 'RG4 7EH', 'SL3 6EY', 'SP11 6WJ', 'SO40 3JA', 'SO31 1BH', 'GU34 3NX', 'PO40 9PS', 'PO30 5XJ', 'SL3 7EF', 'E1 7SA', 'PO6 1DX', 'OX15 0QH', 'OX33 1EF', 'SO45 2LL', 'HP9 1RG', 'OX3 8EX', 'RG8 7AN', 'SL6 1QZ', 'SO41 0TL', 'PO6 3AU', 'SO21 2AZ', 'RG9 2AH', 'GU14 9AJ', 'SN7 7NX', 'PO5 4EE', 'RG25 2EN', 'GU30 7DW', 'MK18 3PU', 'RG17 8PS', 'OX1 3UD', 'OX15 6QA', 'RG28 7HP', 'OX4 1JE', 'OX16 2DJ', 'SO41 9ZG', 'PO6 3LL', 'RG31 6SW', 'PO30 1DD', 'PO30 5UB', 'OX15 5NL', 'PO124TR', 'SL6 4UB', 'PO1 3LT', 'SO31 5DU', 'OX1 1ND', 'OX4 1TA', 'PO33 2JF', 'OX44LS', 'PO36 0AR', 'SL4 1NJ', 'HP21 8WA', 'GU14 8JX', 'NG31 6LL', 'BA3 5XU', 'OX25 5TU', 'MK15 8JA', 'SE1 8EG', 'HP20 1RB', 'SO51 7WF', 'OX28 1EG', 'RG45 6BQ', 'SL7 1JE', 'PO1 5LY', 'SO30 2GH', 'SP10 4DT', 'BH1 1HL', 'GU34 4EU', 'OX9 2DP', 'SO40 3BU', 'SO45 2JW', 'RG1 7HH', 'RG4 8LR', 'PO15 5BY', 'PE2 6YT', 'SL3 9PA', 'OX3 0PG', 'SO51 9BN', 'SL4 3SY', 'Gu124BP', 'PO1 1RX', 'GU11 2DD', 'RG1 8JF', 'SO21 3EW', 'MK6 4YP', 'SL4 5NW', 'OX7 6PW', 'OX29 4LJ', 'RG17 8RG', 'HP15 6EZ', 'OX1 2JD', 'OX3 7LX', 'OX10 9JJ', 'MK9 3BN', 'RG22 5SN', 'EC3N 2AE', 'GU31 4LR', 'HP6 5QQ', 'PO34 5AX', 'SO15 2LN', 'RG42 4JF', 'HP21 8ES', 'PO32 6QS', 'OX26 6AA', 'OX16 5NG', 'OX29 7RB', 'GU32 3PB', 'GU35 9JQ', 'RG1 3JH', 'PO2 8ER', 'MK13 0PT', 'MK6 2HH', 'PO21 2PE', 'RG21 7NU', 'PO9 4LR', 'RG40 5QY', 'OX12 9AB', 'OX7 5UY', 'PO14 2DE', 'OX29 9QJ', 'OX2 7JN', 'RG1 5LR', 'SO22 6FG', 'OX1 1BN', 'SO17 1RL', 'OX13 5BY', 'HP22 4DZ', 'OX16 9RL', 'SO23 8AJ', 'GU52 8LE', 'PO33 4EW', 'OX27 7PU', 'GU34 3EG', 'HP12 4QP', 'SL6 1RF', 'OX7 4BT', 'OX27 0HJ', 'SO18 4ER', 'SL9 8QA', 'OX28 4AX', 'RG7 6HH', 'GU35 8LN', 'PO30 4DN', 'OX16 0HS', 'PO37 7AU', 'MK18 3DS', 'OX11 0DE', 'PO2 0QP', 'PO16 9BS', 'MK17 0NP', 'MK3 6EB', 'OX29 9UA', 'SL4 6HN', 'OX5 1PB', 'HP22 5RN', 'OX18 2BY', 'GU14 0NZ', 'OX5 1TE', 'SO17 1BJ', 'RG12 2UG', 'HP21 9PP', 'SO51 8GY', 'PO16 0EF', 'RG20 4UA', 'RG12 7BW', 'PO4 0DL', 'SO52 9EN', 'PO3 5BL', 'BR1 1HA', 'RG41 4TH', 'SL4 5TY', 'MK17 0QN', 'SO23 9EG', 'GU11 3NP', 'PO1 5JJ', 'PO41 0TX', 'MK15 0AJ', 'PO3 6RB', 'OX1 1EN', 'RG8 0QY', 'GU10 5NB', 'HP18 9RY', 'SL7 2QH', 'OX25 3RD', 'RG7 4PA', 'SO50 9LP', 'OX13 6DX', 'BH23 8JY', 'SL2 2DH', 'RG27 0NS', 'SO15 5JY', 'OX29 4TL', 'RG6 6AL', 'PO37 7NS', 'PO5 1JT', 'GU34 4AQ', 'GU16 7UJ', 'RG12 1AX', 'OX1 1HU', 'RG6 6BZ', 'SO190EL', 'SN15 4HD', 'GU34 1HX', 'HP18 9AF', 'SO15 9DA', 'PO7 7DB', 'OX5 1NL', 'SO18 5HU', 'OX4 1EA', 'RG1 8EG', 'GU10 5RQ', 'OX3 8SY', 'PO5 4HL', 'SO456BZ', 'PO36 9BN', 'OX1 3TF', 'PO37 7LY', 'OX2 6JE', 'PO30 4QH', 'GU17 9LP', 'PO33 2QH', 'OX3 0RN', 'GU46 6NW', 'SL1 1YG', 'PO30 1JQ', 'MK2 2HB', 'HP22 5TE', 'BN7 2PE', 'OX7 5HW', 'PO30 1LH', 'MK18 1TF', 'GU32 3BX', 'PO1 2DJ', 'GU26 6LL', 'RG25 2JL', 'OX18 2NL', 'HP13 6SG', 'BH24 4HN', 'PO16 8AP', 'RG31 7SD', 'RG25 2AR', 'PO38 3EX', 'OX14 5LD', 'OX3 8RA', 'HP18 0PB', 'N1 9AG', 'PO38 1TE', 'PO30 4DP', 'HP20 2QP', 'SN7 8RB', 'GU14 8AG', 'RG28 7RB', 'OX18 2NY', 'SP11 6JP', 'RG14 3BQ', 'HP6 6PF', 'OX5 3HJ', 'BH23 6BP', 'OX39 4HA', 'GU34 3JH', 'GU11 2LQ', 'SO53 2GG', 'RG2 7EE', 'RG12 0XH', 'SP10 3PE', 'OX4 4EJ', 'MK7 8DH', 'RG2 9HA', 'RG12 7SQ', 'BH20 5QP', 'OX14 1SH', 'BS1 5HH', 'RG8 8HR', 'PO37 6PJ', 'MK3 5DQ', 'SO22 5PW', 'SO43 7GL', 'MK9 3NB', 'RG7 1FH', 'SL6 2AA', 'SO41 8HX', 'MK18 1JX', 'DT5 2LA', 'SO51 0PQ', 'PO2 9NS', 'BN3 7BD', 'OX13 6BL', 'HP27 9NE', 'RG14 5DS', 'OX2 6HZ ', 'po305bz', 'BH25 6AD', 'OX7 5JP', 'SO23 8TS', 'PO14 2AY', 'SL9 8TP', 'RG30 3RD', 'PO1 2AX', 'PO4 9EY', 'RG21 4RG', 'MK2 2UA', 'SP6 1QX', 'OX4 1YH', 'RG27 9BH', 'OX25 3QR', 'OX12 9HL', 'SO23 0JF', 'RG146NX', 'RG7 3LP', 'OX49 5ST', 'KT1 2JF', 'MK10 9LA', 'SL6 8SP', 'PO30 1PZ', 'SP10 1BE', 'OX28 4XZ', 'N1 0QH', 'OX39LS', 'SO24 0PB', 'OX3 0HF', 'SO23 0NY', 'PO33 4NS', 'SO50 6LA', 'OX16 5TH', 'RG19 3JD', 'OX2 0DP', 'GU1 1TU', 'SL3 8BW', 'OX28 4YA', 'OX15 5UA', 'GU14 0EL', 'SO14 0PF', 'PO30 1SS', 'SO16 3GF', 'OX10 9JT', 'BH25 6RH', 'SO21 1TJ', 'MK18 4AT', 'SO14 7EB', 'OX28 6DY', 'SL6 1PE', 'OX14 1DJ', 'OX29 0NA', 'SL6 8AW', 'HP27 0DP', 'OX4 4XL', 'PO39 0AX', 'RG42 2BL', 'SL7 1RW', 'SL6 5BQ', 'OX2 0HW', 'OX4 4AR', 'MK16 8NR', 'RG12 7BA', 'MK14 6DB', 'PO37 6AJ', 'OX1 1QL', 'MK8 9AP', 'PO10 7DS', 'MK14 6ET', 'OX13 5PR', 'RG1 7HL', 'PO6 4QP', 'SP11 8NL', 'PO1 2PR', 'HP14 4UL', 'OX44 7RW', 'GU14 8EH', 'OX1 3AE', 'RG12 7BY', 'SL4 4YU', 'MK16 8NH', 'RG14 1PJ', 'OX27 7LT', 'PO17 6EW', 'CR0 2XX', 'HP16 9LQ', 'RG1 6NL', 'HP4 1RG', 'MK18 1NY', 'GU46 6DE', 'LU7 9EL', 'SO51 7YD', 'HP19 8EA', 'RG31 6XY', 'OX18 4QY', 'SO50 7AN', 'SL4 3SF', 'SP10 1HR', 'OX7 6JW', 'BH24 3BE', 'SO17 2LJ', 'RG45 6NH', 'SP10 3AD', 'RG41 3PG', 'GU35 8BL', 'RG12 7AP', 'LU6 2DQ', 'OX18 3JL', 'OX7 6NN', 'RG30 2RB', 'SP11 8HJ', 'OX12 7PF', 'PO1 3BF', 'OX26 2BE', 'HP20 2QH', 'HP20 1PZ', 'SP11 0LU', 'OX4 2RH', 'PO31 8PD', 'GU17 9AB', 'RG26 5QF', 'SO23 8TA', 'OX41DA', 'SL6 5JB', 'RG24 9FY', 'SO50 9YN', 'RG2 0RP', 'PO2 9JE', 'OX14 4RP', 'MK6 2QB', 'SO16 0YL', 'PO1 2DX', 'HP13 7UG', 'OX29 0RQ', 'UB9 5JL', 'SO15 1HH', 'OX27 8DX', 'HP5 1SS', 'GU31 5QP', 'HP17 8PT', 'RG1 2LU', 'MK1 1DN', 'CV3 6JJ', 'SO53 1EH', 'OX14 4SA', 'SO14 3ZP', 'OX2 8QA', 'SL2 1NP', 'OX12 8PP', 'OX11 8ru', 'SO40 3FT', 'PO8 9TB', 'PO30 5BZ', 'PO5 1LU', 'OX33 1QP', 'SO40 8RW', 'SN7 7LW', 'TW10 6HS', 'PO6 3PY', 'SO21 2QA', 'PO9 5JD', 'OX14 3RY', 'SO22 6AJ', 'HP13 6GR', 'SN6 8LZ', 'SO18 3QW', 'SE1 7TP', 'OX3 9DU', 'SL2 5PG', 'SL1 1SZ', 'RG20 8DP', 'OX4 3QS', 'RG4 9RH', 'RG40 1SS', 'OX29 6WT', 'OX7 3LB', 'OX3 0HS', 'SO31 7AD', 'SN7 7PN', 'OX7 3RW', 'EC2Y 9AL', 'GU14 6EW', 'SL6 2QB', 'RG19 6HS', 'OX15 4BN', 'MK18 7RR', 'OX14 1DE', 'SO40 9LA', 'RG19 3PN', 'SL1 8DS', 'PO7 8AA', 'OX29 7QW', 'SL3 0BQ', 'MK6 5LD', 'SO16 3LQ', 'HP21 9SL', 'OX17 1AE', 'MK14 6LY', 'PO14 1NH', 'GU35 9BW', 'SO23 9LJ', 'PO6 2HE', 'RG6 5HZ', 'PO14 2JR', 'PO12 4UZ', 'MK10 7AG', 'SL6 0EP', 'SN7 8QW', 'GU10 5HE', 'PO38 2RA', 'HP7 0HR', 'SO21 2RT', 'PO33 3PX', 'RG8 9RB', 'RG26 5NL', 'PO1 4EJ', 'SL9 8EL', 'SO45 1DD', 'SO50 8EG', 'PO2 7JB', 'OX33 1YP', 'OX14 1XX', 'SO14 0ST', 'RG1 3BE', 'RG19 6HX', 'W1B 3HH', 'OX2 6PS', 'MK12 5LT', 'MK12 6LL', 'RG40 2ER', 'GU34 2BU', 'E1 6LT', 'PO1  3PT', 'PO31 7PU', 'OX7 4ER', 'OX27 8HD', 'RG40 3BY', 'OX14 4LF', 'RG45 7HZ', 'PO30 1RD', 'SO40 4SX', 'PO9 2ET', 'HP10 9QY', 'SO15 3HE', 'PO16 9RD', 'RG23 8PX', 'OX16 0UG', 'RG21 7QT', 'MK2 3HW', 'OX2 0LP', 'PO12 4TQ', 'RG21 5SU', 'SL7 1FD', 'GU34 3JR', 'RG19 3SR', 'SO21 1HA', 'PO9 3LH', 'OX28 4AR', 'SO23 8ZB', 'OX3 8QQ', 'SO43 7NY', 'RG9 1QR', 'PO33 1LU', 'HP19 8SU', 'OX11 0EL', 'HP9 2SQ', 'OX13 6RE', 'OX39 4DH', 'PO3 6PZ', 'RG45 6RQ', 'MK9 3QA', 'SO19 2DW', 'RG7 1TR', 'RG5 3QW', 'RG7 6HR', 'GU14 8UD', 'MK14 6JB', 'RG12 7PA', 'MK15 9AB', 'OX15 6JP', 'OX11 9PU', 'GU52 8AQ', 'PO8 0WZ', 'SO15 5EJ', 'OX4 4BG', 'RG7 3TW', 'SL6 9SD', 'OX7 6YA', 'RG30 2TD', 'SP5 1NR', 'OX33 1NW', 'PO34 5AS', 'SL1 2JT', 'MK17 9AQ', 'OX18 1DY', 'OX15 6PG', 'RG12 1AF', 'OX29 7DX', 'BH23 8JH', 'PO15 6EW', 'SO15 5LG', 'SO21 1EJ', 'MK43 0UN', 'RG9 1PS', 'SP10 4LX', 'BH25 6AS', 'PO12 1FG', 'HP16 0QG', 'OX4 4GP', 'HP11 1JB', 'OX12 9NE', 'PO2 8ND', 'SO32 3NQ', 'SL6 3RU', 'PO4 9SJ', 'MK46 5DZ', 'PO16 7BB', 'RG8 0EB', 'BH24 1XT', 'SN7 8LQ', 'LN9 6HU', 'SO15 2NP', 'HP18 0SY', 'RG4 5AF', 'SO32 3QR', 'RG30 4FS', 'PO36 9FG', 'Ox4 7Fx', 'SO30 4AQ', 'GU32 2HG', 'HP14 3YG', 'GU24 0BY', 'SP10 5NA', 'SO51 5SY', 'Ox4 6sn', 'HP22 6NL', 'RG14 7BH', 'PO3 6QA', 'SO51 6AP', 'MK18 2BD', 'OX5 3FD', 'HP27 9EH', 'GU17 9DU', 'RG20 8QQ', 'MK13 7BE', 'OX30QH', 'RG42 5NR', 'RG21 7LJ', 'HP27 9JE', 'HP17 0XS', 'RG18 0XD', 'OX4 1LR', 'OX3 9LS', 'OX7 5NL', 'BH23 8AQ', 'RG8 9TJ', 'SP6 1AS', 'PO30 2DX', 'OX27 7PB', 'OX12 9NB', 'HP5 3QN', 'RG10 0RA', 'RG19 6HN', 'PO30 3LN', 'OX5 1QB', 'BH25 6QF', 'OX5 2HP', 'OX18 4BT', 'MK18 2EP', 'OX16 4RX', 'SP10 3FG', 'PO33 1LG', 'GU31 4PD', 'OX14 4QZ', 'SL4 6QP', 'OX1 5DJ', 'HP15 6JP', 'OX44 9EL', 'OX5 1EA', 'OX7 6LL', 'OX14 1PQ', 'RG12 7FF', 'SL1 3DR', 'HP22 9NL', 'OX18 2SU', 'RG24 9PF', 'PO30 2AX', 'OX3 0EA', 'RG31 7QH', 'GU14 7PA', 'PO5 2PQ', 'GU33 7AD', 'RG30 3XA', 'RG25 2DS', 'GU47 9DN', 'PO37 7LR', 'SL0 9QA', 'SO23 8UL', 'PO16 9XB', 'OX26 4RZ', 'PO38 1AH', 'SL1 1SN', 'HP20 2NQ', 'GU14 7JU', 'OX9 3QP', 'PO4 9LY', 'MK18 1UL', 'OX29 8NQ', 'PO16 7SJ', 'SL3 7QS', 'PO8 8BG', 'MK12 5GY', 'GU29 0PZ', 'HP18 0JY', 'HP11 1QX', 'GU33 7AQ', 'MK17 8LU', 'HP17 8SQ', 'SO23 8RD', 'OX1 4PL', 'PE7 0ND', 'RG4 7EZ', 'RG10 0DR', 'PO305YL', 'RG17 7JL', 'OX15 5FG', 'SO42 7WE', 'HP10 8EZ', 'GU14 7PD', 'MK13 0DB', 'GU52 7NB', 'OX11 8XD', 'RG21 3DH', 'SO19 0QB', 'OX44 7SR', 'SL9 9UE', 'SL3 9NT', 'PO3 6BA', 'HP13 6DE', 'SO53 4ST', 'RG8 0RA', 'GU31 5RS', 'MK15 9AW', 'OX1 5QZ', 'OX127ap', 'SO41 9ND', 'RG9 6DZ', 'OX2 7JT', 'RG30 3DT', 'OX7 3NA', 'MK46 5HT', 'EC1M 4DA', 'SN7 8QF', 'PO7 8JN', 'RG41 2GY', 'HP27 9JS', 'SL7 1NT', 'SL7 1RR', 'SO50 9YA', 'GU34 4EQ', 'OX1 2NA', 'SL0 9DB', 'SO14 0LH', 'RG9 6AP', 'SO14 7LP', 'MK7 6BT', 'SO32 3LG', 'OX5 2RA', 'HP6 5HU', 'RG40 5RU', 'MK2 3AS', 'SL4 5BU', 'RG17 0ER', 'SO19 7JN', 'HP14 3SX', 'OX2 0ET', 'OX12 0JL', 'RG1 5BN', 'OX3 8DD', 'BN7 1RS', 'OX3 0GB', 'OX16 9TY', 'OX29 0RN', 'RG21 3EU', 'OX33 1RT', 'SO51 0NJ', 'OX20 1RQ', 'OX15 0SX', 'OX7 5UE', 'RG24 9NA', 'RG41 2RE', 'RG4 6XE', 'SO40 2RZ', 'MK18 3RS', 'OX7 6BD', 'OX4 7ZB', 'SL1 1PL ', 'OX2 7QQ', 'RG12 2NB', 'SO16 3BE', 'SO17 1XP', 'PO2 7DX', 'RG7 4NT', 'RG2 7PE', 'SO19 8AF', 'RG21 4HG', 'OX10 8AJ', 'HP7 0UT', 'MK6 5LP', 'RG12 1JD', 'RG41 2FD', 'PO5 3AE', 'SL5 7PQ', 'OX11 9DS', 'RG41 5NE', 'GU34 4DU', 'MK16 9DS', ' HP7 9PU', 'SO50 9LH', 'HP11 1RF', 'RG6 6BB', 'MK17 9AE', 'RG9 3BP', 'E16 2HR', 'SL6 1BA', 'PO1 2LJ', 'SO32 2BN', 'RG14 6NX', 'SO23 7AE', 'SO41 9RS', 'OX1 2BX', 'OX14 4FB', 'MK19 7LF', 'HP15 7FP', 'SO19 6FH', 'PO11 0DT', 'RG147BH', 'NN10 9TY', 'OX28PW', 'SO45 1YP', 'PO7 7AY', 'SO31 7EZ', 'PO17 6AD', 'PO12 1GE', 'PO304AN', 'SO15 2WZ', 'PO11 9JT', 'OX26 2DB', 'W1W 7LT', 'PO18 8RN', 'RG7 4TW', 'SL7 1PB', 'OX9 3GG', 'OX17 1SA', 'SL2 4LP', 'SO15 1EG', 'PO38 2QP', 'SL3 8SG', 'SL3 7QZ', 'MK18 2AL', 'OX4 4BJ', 'PO9 5JZ', 'OX49 5SG', 'RG5 4NH', 'OX7 3DT', 'SO14 3EX', 'PO1 2QR', 'MK18 1JD', 'HP16 0DG', 'HP15 7UB', 'OX20 1RS', 'PO11 0PT', 'RG21 4AL', 'RG7 5BZ', 'SL6 7AX', 'SL3 8BS', 'OX7 6QL', 'HP21 9ET', 'MK10 9JQ', 'PO17 6EJ', 'OX2 9GW', 'MK197LF', 'MK46 5QG', 'SL1 3UQ', 'SL2 3XJ', 'OX5 3AP', 'MK12 5NJ', 'MK9 2AD', 'OX2 0BP', 'SO14 2NS', 'MK12 6AH', 'SL6 3LU', 'MK11 3JB', 'SL6 0AA', 'HP20 1SD', 'SO19 7AX', 'OX29 6RE', 'SO51 7NX', 'OX2 8ES', 'NR32 1XG', 'MK2 3HQ', 'SL1 3JS', 'OX2 7DY', 'SO31 9UH', 'PO9 5RD', 'HP20 2NJ', 'GU34 1HN', 'OX9 3EZ', 'BH24 3DS', 'MK18 1QU', 'OX2 0ES', 'RG25 2HE', 'SO19 9JQ', 'SN10 1EB', 'MK13 7NP', 'SL1 3BW', 'OX7 6ET', 'OX25 6JA', 'OX28 1AR', 'MK9 1NA', 'PO4 9SA', 'OX10 0RY', 'GU14 8HL', 'PO1 3PU', 'RG12 7ZT', 'HP16 0BD', 'GU35 0HJ', 'RG14 2RA', 'PO13 0FQ', 'OX13 6NZ', 'RG29 1LA', 'HP20 1UY', 'MK11 1AR', 'MK18 5EH', 'PO12 3BY', 'SO16 3FH', 'SO23 9HE', 'RG24 7DH', 'RG9 6SG', 'SL6 7PG', 'PO9 9SB', 'MK464EF', 'PO13 0BE', 'OX10 0HN', 'PO13 9AZ', 'SL9 9SS', 'MK13 0BQ', 'RG21 4AF', 'OX28 4BN', 'RG7 6EY', 'PO9 1RD', 'HP5 2XT', 'RG40 2BN', 'SO22 5AX', 'MK12 5DG', 'PO6 3LS', 'GU46 6LB', 'SO22 5BP', 'MK16 8PS', 'RG21 7NW', 'OX14 4EG', 'SO30 2FS', 'SO17 1TR', 'SO17 2JZ', 'OX1 4AW', 'PO2 8RN', 'RG21 4EA', 'OX10 0HD', 'E4 7DT', 'RG27 8DL', 'HP13 5DR', 'SO41 5ST', 'RG7 3XJ', 'SO16 6AZ', 'SO14 7DW', 'HP5 1NE', 'PO30 1PD', 'PO33 1PD', 'MK40 1EG', 'WD24 4AS', 'OX4 1AW', 'MK5 6DX', 'PO4 9UY', 'RG30 1EA', 'SO53 5AD', 'PO5 4BU', 'SO50 9HT', 'SO41 0QD', 'GU14 7LY', 'OX28 1YF', 'SO40 9HF', 'HP11 9HP', 'OX15 5SL', 'OX10 8BA', 'SE1 7QP', 'OX29 8PY', 'SO51 8AQ', 'RG20 9QZ', 'GU51 4AE', 'so147fp', 'PO3 6HB', 'OX14 4BQ', 'SO22 5PD', 'PO4 8PH', 'SO45 4HU', 'SL3 9BP', 'SO40 9DS', 'OX5 1JD', 'PO5 1PS', 'OX17 3SH', 'GU34 1HD', 'OX28 5JG', 'MK8 0NW', 'HP16 0SB', 'PO13 0RW', 'OX2 0JA', 'SO23 8RY', 'RG14 7TD', 'RG27 9PH', 'SO30 3HQ', 'PO30 5TY', 'SL6 0ET', 'OX18 4YR', 'SL1 2PX', 'MK5 7ZT', 'SO14 1NF', 'PO33 2RY', 'SO455UA', 'OX4 3RZ', 'OX1 5DL', 'SO16 3GE', 'PO30 5BF', 'PO16 0UD', 'OX16 0AA', 'HP22 5PD', 'PO16 8HJ', 'PO11 0DN', 'SL9 8TN', 'MK18 1AX', 'OX5 1QU', 'SO51 9BQ', 'GU11 3PL', 'PO15 7LA', 'OX1 1DE', 'HP12 3ZB', 'SP11 6PB', 'PO1 2AL', 'PO1 5PA', 'OX27 8ES', 'PO9 3SU', 'PO5 4QA', 'OX165QE', 'N1 8HX', 'SO42 7SJ', 'SL1 4SS', 'SO23 7RQ', 'OX1 3PS', 'SP6 1QJ', 'SL7 2LS', 'PO4 9JP', 'RG41 1JB', 'HP13 7GF', 'SO40 3LA', 'PO30 1JU', 'RG4 8TR', 'SL6 6JE', 'OX52SF', 'OX7 3NR', 'RG20 6AD', 'PO4 0JW', 'PO4 9RF', 'RG21 8TN', 'OX2 7PH', 'SE1 6DF', 'HP12 3BW', 'HP19 8TE', 'PO16 0QL', 'HP21 7LH', 'OX26 1UN', 'SO23 8SB', 'PO2 8QL', 'HP14 4NW', 'RG27 8DQ', 'PO1 2HB', 'MK18 2DF', 'PO31 7ES', 'RG8 7RA', 'PO1 3AZ', 'SP10 3LR', 'RG18 9QJ', 'SO15 3FH', 'GU124BP', 'OX2 9DG', 'SP10 1QG', 'OX12 0LP', 'SL5 7QN', 'RG7 3YG', 'SO19 8AZ', 'SO24 9DH', 'OX16 0RT', 'RG30 2ND', 'PO13 0JN', 'PO16 9QH', 'HP14 3QF', 'GU12 4PW', 'RG22 4DH', 'NN14 3ET', 'OX14 3DX', 'SO53 4HA', 'SP10 3HA', 'PO14 4NX', 'MK7 6HD', 'OX2 0GE', 'MK46 5PA', 'MK14 7AJ', 'GU34 1PW', 'HP27 9TA', 'PO8 9UX', 'NE30 4PJ', 'OX18 2JJ', 'OX26 5DZ', 'OX20 1LL', 'SN7 7LB', 'SL1 3SR', 'MK16 9LH', 'HP22 6HF', 'PO10 7LG', 'WR3 8SG', 'PO36 8QA', 'HP5 1WA', 'RG9 6HF', 'PO15 5LF', 'OX9 2HU', 'SL6 6AT', 'PO2 9RP', 'PO41 0PJ', 'OX4 3SH', 'OX4 2ES', 'SO23 9HX', 'MK6 4HA', 'OX7 3AP', 'GU14 8FH', 'BH25 7TB', 'MK8 9LA', 'SL6 8HZ', 'PO12 2AT', 'SO41 0TR', 'SL4 1BN', 'PO9 1HS', 'OX26 2NR', 'OX16 5TD', 'MK3 5EN', 'OX11 0QX', 'RG8 7LB', 'PO368JA', 'PO13AZ', 'OX28 1NB', 'LU7 0EW', 'OX3 7JX', 'PO9 3JZ', 'PO38 1EJ', 'SL3 7RL', 'OX14 4SE', 'RG14 5SS', 'OX1 1TH', 'OX1 4RP', 'OX13 6PL', 'SL9 9PB', 'NR20 5RB', 'OX2 8BG', 'OX14 4EH', 'MK43 8AL', 'OX20 1SS', 'RG12 7QW', 'MK17 0QR', 'OX4 1DA', 'OX28 6ER', 'mk9 3HP', 'MK12 5RL', 'HP11 2LQ', 'HP21 8HW ', 'HP5 2PA', 'MK14 5BL', 'OX14 4RR', 'RG8 9DD', 'SO16 8LH', 'SO41 3QP', 'HP15 6JE', 'RG21 7LE', 'OX5 1SZ', 'SO42 7RL', 'MK9 3BP', 'OX14 3ZB', 'HP18 0EA', 'PO16 9AD', 'OX52DN', 'SO15 5GJ', 'PO36 0HF', 'SL3 7FH', 'DT11 0BL', 'OX11 7NJ', 'SO21 1RR', 'OX37JX', 'NW2 4BH', 'N1 9RL', 'RG1 4QS', 'OX11 9AG', 'RG40 1UE', 'SO51 0NE', 'SO15 5RL', 'MK19 7BH', 'SP10 4BX', 'PO10 7EQ', 'MK18 1TL', 'OX3 8JA', 'GU34 3NS', 'RG1 2TD', 'RG8 0BG', 'RG30 4UN', 'SO21 1TL', 'OX1 1QE', 'SO18 4EG', 'PO8 9LS', 'HP5 3JH', 'PO16 9UY', 'SO42 7YD', 'SO142NY', 'RG17 0AL', 'SO52 9DT', 'PO31 7ET', 'SO23 8DX', 'BH255QG', 'RG28 7NU', 'SO41 0FB', 'SL3 7BD', 'HP13 7NT', 'OX277NX', 'PO35 5XN', 'OX4 6SY', 'HP6 6AA', 'SO41 3SE', 'RG7 3FL', 'HP5 2PX', 'SP10 1JZ', 'SO53 1JG', 'MK6 5EG', 'OX2 6SS', 'OX27 7SP', 'SL7 3RD', 'SP5 2RB', 'OX9 2BH', 'SP11 9AQ', 'RG30 1HA', 'RG14 7TP', 'PO11 9PG', 'PO8 0RN', 'SO19 6DH', 'RG22 5RE', 'HP11 1NJ', 'SL1 3RP', 'RG10 9EU', 'OX14 3DB', 'HP9 1LG', 'PO3 5DN', 'PO11 0DG', 'RG8 8PD', 'HP16 0BN', 'RG12 9AN', 'OX1 3DR', 'SO22 4EJ', 'PO1 3HS', 'OX4 1RB', 'PO36 9PR', 'SE24 9BA', 'OX16 6NQ', 'RG7 2HY', 'MK10 9QY', 'RG10 9PW', 'OX1 1DF', 'HP22 6BD', 'RG31 6SA', 'PO6 3LY', 'SL4 4NA', 'PO34 5JF', 'MK7 8QS', 'SO16 7JQ', 'SL7 3DL', 'PO3 6EY', 'OX14 4SB', 'RG7 3UW', 'OX12 8DA', 'RG9 1RA', 'HP18 0SL', 'GU14 7QU', 'OX266BU', 'PO6 1BJ', 'RG45 7BN', 'HP27 9NS', 'SO45 1XA', 'SO50 5PB', 'SO42 7XL', 'RG20 9TA', 'PO14 2BA', 'SL1 1SG', 'BH25 5SF', 'OX2 6QY', 'OX2 0BT', 'SO20 6PR', 'HP11 1PW', 'RG7 3LR', 'OX4 3UJ', 'HP10 0NE', 'OX12 8NE', 'GU35 0EU', 'PO38 1NS', 'OX1 2EP', 'OX39RG', 'PO14 3JT', 'MK4 4TD', 'OX1 1BP', 'RG14 1SL', 'MK18 3LU', 'PO40 9QJ', 'PO35 5QN', 'OX4 1JP', 'OX14 5AG', 'RG1 5RE', 'RG24 9SP', 'GU34 1SD', 'GU35 8AS', 'RG1 4LS', 'SO51 9BU', 'RG21 7DY', 'HP21 7RP', 'OX14 3GD', 'SO18 4HT', 'PO12 2BB', 'SO17 1QR', 'WS13 6BS', 'SO51 8ZB', 'OX17 3JQ', 'MK18 2HP', 'OX10 8HT', 'GL56 0SZ', 'SO23 9HH', 'RG42 1NE', 'RG14 1TW', 'SO53 2LN', 'PO13 0AT', 'RG8 8NU', 'OX7 4EB', 'OX266AA', 'OX17 3LD', 'OX16 4XD', 'OX16 9DG', 'OX16 9BE', 'SL4 6HX', 'OX29 4BD', 'SO18 1PH', 'RG1 8XL', 'RG10 0DS', 'HP10 0BD', 'SP6 3HU', 'MK1 1QY', 'OX2 0JJ', 'GU17 0NY', 'SL6 5AB', 'OX27 7QF', 'SL1 1PL', 'OX4 2AU', 'SP6 2QH', 'PO6 4BQ', 'PO34 5HB', 'GU34 2BW', 'RG19 3XW', 'MK10 0BA', 'SO23 9BN', 'HP92XJ', 'OX4 1SX', 'OX26 1TD', 'RG1 3GD', 'SO45 1YQ', 'OX1 1RQ', 'SO52 9AF', 'GU17  9LQ', 'MK3 7EG', 'HP7 0EJ', 'OX14 4RS', 'GU46 6EB', 'OX10 0AS', 'MK2 2HX', 'SO20 6DU', 'MK11 1PA', 'OX28 5HX', 'RG1 4QU', 'KT10 9AD', 'OX5 2BP', 'OX28 1EP', 'OX10 9HF', 'OX12 7HG', 'HP9 1NB', 'RG27 0LX', 'B12 9RJ', 'RG7 3BE', 'OX1 4QH', 'SO15 8LN', 'OX14 2HL', 'SO43 7FX', 'RG14 1EH', 'RG30 3TA', 'SO22 6EG', 'RG12 1RB', 'HA6 2HJ', 'RG27 9HH', 'PO14 3EZ', 'OX10 8EY', 'OX2 6RQ', 'SL4 5EH', 'SO50 9FD', 'OX10 9GF', 'RG24 8XN', 'HP5 1TU', 'OX15 6EL', 'HP14 4XB', 'RG28 7LQ', 'OX7 5EE', 'HP8 4DA', 'MK12 5BT', 'OX2 7QJ', 'GU11 3DB', 'RG8 0LL', 'PO31 8PU', 'LS2 9JT', 'OX2 0LX', 'OX2 0QH', 'OX4 1RQ', 'SO51 8DS', 'SO45 6BJ', 'SO16 7QF', 'MK12 6LQ', 'RG2 0TB', 'SO45 2QG', 'SO50 9NL', 'RG22 4AJ', 'RG28 7JF', 'RG19 3RR', 'PO1 1PJ', 'SP11 6LT', 'LU7 0SG', 'SP10 3RH', 'SO41 8ZZ', 'PO6 2AP', 'SO16 9LP', 'OX29 7QH', 'OX119QG', 'CO2 7UT', 'RG25 3HD', 'GU26 6FF', 'SP11 0LD', 'OX14 3JD', 'PO301LH', 'GU32 3JL', 'SO45 4BY', 'RG9 3AU', 'OX26 2NG', 'OX28 1JE', 'RG40 1BJ', 'So516jr', 'PO16 8DG', 'MK18 4JG', 'HP14 4UU', 'RG1 1DT', 'OX4 3UT', 'OX18 2JH', 'PO14 4LU', 'OX3 9FF', 'E1 1BB', 'OX3 0JN', 'SO45 6BR', 'SO19 7GA', 'SO22 4HZ', 'BH21 7PQ', 'GU17 0LF', 'RG21 7DQ', 'PO30 1XY', 'SO50 5FS', 'RG25 2HT', 'HP18 0HB', 'MK17 8QW', 'OX3 8BQ', 'HP6 5HA', 'GU14 6SB', 'OX18 2RY', 'MK8 0NY', 'MK19 7AH', 'OX25 5HD', 'BH24 1DW', 'OX18 4DX', 'SO14 5FP', 'MK15 8AX', 'GU34 4PS', 'OX4 1EQ', 'SO16 0BT', 'GU47 9BP', 'SL6 6PS', 'SO50 6RR', 'RG25 3HF', 'MK18 3QR', 'PO14 4RT', 'OX15 6BJ', 'SO23 9SD', 'OX3 7PF', 'PO8 8ET', 'HP11 2JU', 'SL8 5JE', 'OX11 7QH', 'OX4 3SW', 'SL4 4HT', 'PO37 6DP', 'OX12 9PB', 'SO14 0QB', 'OX10 9PP', 'SO21 2AJ', 'SO23 7BT', 'OX11 7NN', 'Sl1 4PY', 'RG2 8RH', 'MK17 9DB', 'SO18 1AB', 'RG23 8BF', 'GU10 4LH', 'OX108BB', 'OX7 3PQ', 'SL00QS', 'RG14 2JG', 'SP6 2HD', 'MK11 2BH', 'RG42 5NS', 'PO30 1TY', 'PO9 1PY', 'SL3 8WW', 'OX14 3JE', 'OX10 7BE', 'RG9 1UH', 'SO40 3ZX', 'OX2 9DQ', 'SL1 8DF', 'SO21 1LA', 'OX2 8JR', 'KT19 0RW', 'RG1 8EQ', 'RG40 1XS', 'UB2 5EG', 'MK16 9QS', 'GU34 1EF', 'PO12DX', 'SO45 6BZ', 'SO31 6LX', 'PO4 8DT', 'SO23 8RZ', 'SO14 3BQ', 'HP17 8DS', 'OX10 6QS', 'SE17 2DJ', 'SO21 3PN', 'OX17 1PG', 'SO23 9RS', 'PO2 8FA', 'SO31 4RA', 'RG8 0TP', 'PO31 7PL', 'GU52 8DT', 'SO16 9RJ', 'SO14 0SP', 'PO1 1BQ', 'SO24 9QP', 'RG45 7PU', 'SO16 8LS', 'OX11 9HS', 'OX9 3EW', 'PO31 8QA', 'SL5 0ND', 'PO6 3UQ', 'SL1 4XP', 'SL6 2AR', 'HP11 2JZ', 'HP27 0SG', 'PO77DB', 'OX15 0UA', 'PE15 8LE', 'OX16 0EB', 'MK16 0BJ', 'SL0 0RN', 'OX26 4UR', 'OX2 6HZ', 'SO22 5PN', 'OX27 7SG', 'PO12 4BZ', 'OX7 5NA', 'OX1 1PD', 'HP22 6BF', 'SO16 6AY', 'PO2 7PS', 'PO30 5BA', 'PO1 2PB', 'OX15 5RW', 'RG22 5QX', 'SO50 8NA', 'OX29 4ET', 'RG4 6TT', 'SL1 1JL', 'SL9 9QX', 'OX39 4RF', 'SP11 0QR', 'OX3 0NQ', 'MK78ET', 'MK11 1DE', 'OX7 3DA', 'PO2 9NE', 'SO45 2ND', 'OX11 0FA', 'OX4 2AE', 'OX44 9ET', 'TW13 6DH', 'HP5 2LP', 'HP14 4US', 'SL6 6BA', 'OX29 9NY', 'OX25 2DJ', 'SE8 4AG', 'GU11 9BS', 'HP13 5ES', 'PO5 2BG', 'HP21 7SE', 'OX2 6JU', 'RG5 4TU', 'OX2 0EW', 'SL6 8YA', 'OX4 4DQ', 'SO20 6JY', 'PO8 8AP', 'GU31 4LN', 'HP9 2JW', 'PO32 6AS', 'RG12 8FZ', 'OX29 8PT', 'OX5 2DH', 'OX33 1EH', 'HP13 6ER', 'OX4 4DJ', 'OX26 6BU', 'OX4 7EX', 'BH24 3LA', 'PO1 2BE', 'SL6 1BN', 'SL6 1AY', 'LN1 1XW', 'HP6 5AH', 'EC1V 3AG', 'MK6 3Bh', 'SO19 9PH', 'GU14 6BH', 'MK3 6DP', 'GU51 2UZ', 'OX5 1HZ', 'MK17 8UP', 'RG2 7RB', 'OX12 8AQ', 'MK19 7HJ', 'MK6 4JA', 'SO21 1UU', 'LU6 2HR', 'PO1 4BT', 'RG27 8PG', 'SO166AZ', 'RG6 1WG', 'RG12 1AP', 'SL4 5DF', 'GU14 6YU', 'RG8 7PT', 'RG30 4EZ', 'RG27 9JD', 'RG22 6QB', 'TN3 9EA', 'SO17 3AT', 'PO2 9PB', 'OX3 7QR', 'PO30 3JG', 'SO16 5NA', 'SO31 8FE', 'SO31 7EY', 'PO31 8DF', 'RG1 4QA', 'SO41 6FX', 'SO50 9SJ', 'RG7 4AP', 'RG12 9AD', 'SP11 6TY', 'RG1 4BW', 'RG24 9HP', 'OX1 3HJ', 'OX4 2JY', 'SO31 4NN', 'GU34 1ST', 'PO6 3AG', 'SO17 1XN', 'HP19 8FF', 'OX10 9TD', 'RG7 1LD', 'DE72 3HE', 'HP21 8PE', 'OX11 0FD', 'RG19 4GG', 'HP198RS', 'SL6 1RL', 'PO33 4HX', 'SO14 7LY', 'SO16 7LT', 'HP27 0LY', 'PO2 8BY', 'OX4 1TQ', 'MK16 9AD', 'PO8 9DY', 'GU14 7AP', 'RG17 8XT', 'GU51 2UH', 'SO19 9NA ', 'GU33 7ES', 'PO7 5ER', 'SL5 8JW', 'PO13 9DP', 'MK16 0DE', 'OX15 4PD', 'SO18 5FW', 'PO1 2NR', 'OX1 3QY', 'PO13 0AA', 'SO16 3DQ', 'HP5 1UH', 'OX2 9GG', 'RG8 7LH', 'SL3 7LJ', 'HP10 9LT', 'SO212RU', 'HP8 4JH', 'RG12 7AQ', 'HP10 8DU', 'GU31 4DB', 'SL6 7HN', 'RG1 4SQ', 'GL5 3LZ', 'OX4 2QT', 'PO16 7PA', 'RG1 7TD', 'SO40 8TE', 'OX14 2AW', 'PO15 5PU', 'PO30 1NH', 'RG4 9LN', 'SO14 7NN', 'SO31 5FF', 'SP101BN', 'MK6 5LU', 'MK16 0BB', 'OX2 7HF', 'OX5 1JY', 'SO23 8UG', 'MK14 5AP', 'OX14 4QQ', 'SL1 2PH', 'OX4 4SF', 'MK18 1PL', 'HP10 9LS', 'SL0 0HX', 'OX16 5DN', 'HP13 5FY', 'PO34 5EF', 'GU47 9BB', 'PO7 7QG', 'PO14 2ER', 'OX7 7HA', 'PO13 0YJ', 'OX9 3WT', 'SO22 6AN', 'PO33 4BH', 'RG14 2DR', 'OX12 9BY', 'OX10 0PA', 'SP11 7JW', 'SO41 5QB', 'SO31 9GD', 'SO24 9RT', 'PO13 9BW', 'GU12 4JU', 'MK13 9AR', 'OX15 4QE', 'PO2 9HE', 'OX14 2DT', 'HP18 9RE', 'GU14 8SZ', 'SO31 4RF', 'OX18 2JL', 'PO5 4LP', 'SP10 4BS', 'OX4 6ZN', 'SO19 9GH', 'OX4 3HL', 'RG8 7RS', 'MK18 7BF', 'SL0 9NT', 'SL2 1LT', 'OX49 5RB', 'SL3 7FY', 'SO14 3HA', 'SL5 8DQ', 'RG12 8YR', 'OX41RW', 'HP10 9JZ', 'SL6 5BJ', 'OX12 0DQ', 'OX26 4XL', 'WD3 6ET', 'OX25 2LW', 'SO19 6PJ', 'HP11 2RZ', 'OX13 5EJ', 'OX4 7BU', 'SO30 3JB', 'RG22 4JZ', 'PO36 0JW', 'RG21 6XR', 'SL5 8EL', 'RG21 4QE', 'MK46 5JN', 'SO18 1LQ', 'OX15 4NJ', 'LA14 2UA', 'PO14 4BG', 'PO9 1BS', 'SO23 6TP', 'GU10 5PJ', 'HP14 4NJ', 'RG1 2ST', 'PO31 8EQ', 'OX27BN', 'OX14 3EA', 'SO19 8FP', 'PO6 2PP', 'TW19 6HW', 'MK3 5EY', 'PO8 9GX', 'PO15 5TU', 'SP6 2AS', 'SL4 1PD', 'PO5 3PG', 'SO14 5SP', 'RG1 1SN', 'SO30 2DY', 'PO14 4AQ', 'OX1 3UQ', 'MK2 2HH', 'SO31 1BB', 'BH24 1HY', 'MK11 3HB', 'SO31 6UG', 'MK16 8AB', 'E1 1FH', 'SO14 5FE', 'SO31 9GF', 'RG30 2HT', 'SL9 8BD', 'PO17 6HR', 'PO38 1UZ', 'PO31 7QG', 'GU14 0EX', 'SO19 9HR', 'RG8 0PL', 'RG214HG', 'GU11 3DD', 'OX4 2PG', 'HP22 5NS', 'SO15 2AQ', 'OX11 0BS', 'MK46 4EB', 'PO16 0NU', 'GU51 5AF', 'SP11 0TA', 'MK6 3EA', 'SL2 5QP', 'SL6 4JT', 'PO1 5PF', 'HP10 0DF', 'MK9 1EA', 'GU31 4NR', 'EC1V 2NX', 'RG14 2DU', 'PO36 0LF', 'SO23 9HJ', 'GU32 3NG', 'SP6 1AB', 'RG7 3TS', 'OX1 5NY', 'OX7 5DN', 'PO30 5UL', 'PO31 7HL', 'SO21 1QE', 'RG23 8PE', 'OX150QH', 'RG6 5SY', 'PO2 8RA', 'GU34 4GL', 'N1 9PD', 'SL5 7ET', 'RG24 7DD', 'HP18 9JZ', 'CV8 2RN', 'SL1 8HA', 'OX7 5YW', 'PO30 2DP', 'PO30 4BB', 'SO31 6XY', 'SO41 9BQ', 'RG26 5UA', 'RG24 9AE', 'SL5 7PW', 'SL5 0QS', 'MK4 2DN', 'OX7 6AT', 'RG9 5TP', 'RG6 6UR', 'BH24 1DH', 'PO4 8BY', 'PO38 2JS', 'OX4 2HX', 'OX28 6EY', 'SL3 7UX', 'MK18 2PA', 'PO8 0BZ', 'SL8 5SX', 'SL3 8PF', 'OX14 4BS', 'SO30 2EZ', 'OX29 8QB', 'DN4 5RA', 'BH24 2AN', 'MK12 5HR', 'OX7 3NF', 'SO40 4UR', 'RG12 1HL', 'PO40 9LF', 'SO41 8AZ', 'PO33 1TZ', 'OX26 1TZ', 'SO31 4YA', 'HP13 5QJ', 'OX28 6HD', 'OX14 4RT', 'GU10 5LD', 'PO5 2HX', 'RG20 4TZ', 'SN7 7UT', 'PO9 1PR', 'MK17 0RA', 'PO2 0UF', 'HP17 8TT', 'SO15 5SD', 'PO5 1NJ', 'SO14 3AN', 'SL6 9BS', 'RG17 8RD', 'RG7 4HD', 'GU46 7TN', 'SO40 2RN', 'HP14 3JA', 'MK16 8HX', 'RG9 5LD', 'HP19 7HF', 'SP11 0RD', 'RG26 4EY', 'RG9 2AA', 'MK2 2HZ', 'RG24 8ET', 'OX4 2SU', 'HP19 9DZ', 'OX11 7GA', 'SO23 8DZ', 'OX17 3JL', 'GU10 5AL', 'RG14 6DT', 'OX2 6HS', 'OX2 0AD', 'OX3 9QS', 'RG6 7JX', 'PO13 0BN', 'RG45 7PT', 'SO23 9NN', 'MK18 3DJ', 'PO30 5XH', 'GU33 7HT', 'GU26 6LU', 'OX2 8NX', 'OX7 5AD', 'RG14 5EE', 'OX1 1DA', 'OX33 1AG', 'OX10 9PQ', 'HP20 1PH', 'OX1 1RU', 'SO21 1UH', 'RG40 1BW', 'OX10 7JN', 'HP21 9QB', 'OX1 1SS', 'RG26 5LL', 'PO15 5NN', 'SO21 3BW', 'RG20 6NU', 'PO3 5EG', 'OX16 2LY', 'SO529NE', 'TW19 5NS', 'GU34 2BJ', 'HP14 3UX', 'RG1 3JN', 'PO11 9JS', 'RG18 4QH', 'PO30 5HE', 'OX14 3EE', 'SL2 5AY', 'HP19 8DY', 'RG40 1WH', 'OX16 9AB', 'OX16 9NJ', 'SO22 6HG', 'MK7 6AA', 'SO50 7EJ', 'HP14 3BW', 'RG8 0JT', 'OX3 7LE', 'RG4 8PN', 'OX1 5HD', 'SL6 2EB', 'SY4 1HW', 'PO30 3AR', 'OX2 6HA', 'GL2 8DN', 'SL1 5DA', 'PO8 0YF', 'SO32 3QU', 'PO41 0TD', 'GU11 2BT', 'PO12 1RJ', 'OX29 8NH', 'SP6 1HU', 'OX12 0HX', 'SL2 2HX', 'OX49 5TN', 'OX28 1DX', 'MK62LA', 'SP10 3NX', 'PO14 2AN', 'PO5 1AG', 'PO14 3HD', 'OX16 1TG', 'RG20 7DH', 'RG21 5LL', 'SO50 9AL', 'B63 2HE', 'OX2 6DP', 'SO23 9LS', 'PO7 5FH', 'RG1 7RD', 'PO30 3JE', 'OX5 1AB', 'HP11 9GW', 'SP11 7EW', 'SO45 6AU', 'HP14 3AH', 'OX12 9AG', 'SM4 6RJ', 'PO4 9UE', 'RG9 6RT', 'OX13 6PY', 'SO53 2FP', 'OX14 5EG', 'OX11 0SG', 'OX25 6LN', 'SO51 8GE', 'OX11 9QD', 'RG28 7NY', 'RG7 1AP', 'RG6 6BU', 'PO1 9JG', 'HP22 5SJ', 'PO40 9UU', 'GU14 8DS', 'PO3 6DN', 'SL6 9SQ', 'SL6 6SQ', 'RG6 1PT', 'SO15 2BH', 'MK12 5LY', 'OX5 1PF', 'OX26 1UU', 'OX1 2LW', 'SO30 2EA', 'HP22 5NQ', 'HP4 2QZ', 'OX12 9FW', 'PO332BN', 'RG4 9BT', 'HP22 5XQ', 'SL6 4PF', 'EC1V 8BR', 'PO9 9BS', 'OX14 1DB', 'OX1 3BG', 'RG25 2JB', 'HP13 7FY', 'SL1 2SQ', 'OX28 4BB', 'SO53 2GJ', 'RG24 9NB', 'PO6 2AJ', 'PO34 5HU', 'OX3 8JN', 'OX4 2AN', 'OX106AA', 'TW19 6HD', 'PO34 5AA', 'RG26 5RB', 'SO19 7RD', 'LU7 0PD', 'HP14 4QJ', 'SL4 6AF', 'RG1 8BY', 'PO8 9YU', 'OX18 2LF', 'ox11 7hj', 'SO20 8DR', 'PO6 2AR', 'PO8 9ST', 'RG14 1RS', 'OX4 6JL', 'SO51 5RN', 'OX18 2SW', 'GU52 8BW', 'PO37 7BG', 'GU14 8TX', 'PO30 2LR', 'OX12 8RJ', 'RG28 7RJ', 'OX14 3AU', 'PO9 4BU', 'GU31 4EP', 'PO33 4BS', 'RG7 5HP', 'GU51 4BP', 'CV6 9LL', 'SL4 3RT', 'OX29 4BN', 'OX18 4PF', 'SL7 1QU', 'GU51 5TT', 'SP10 3LB', 'HP27 9LP', 'OX4 4GB', 'RG41 1EE', 'RG30 4BE', 'PO33 3HU', 'OX7 4HH', 'SO40 3BX', 'PO13 0AH', 'HP22 4LY', 'SP10 1PA', 'MK15 9JR', 'OX13 6AS', 'OX4 1DD', 'PO4 9PT', 'PO13 9BS', 'RG27 8LT', 'OX29 8PU', 'OX29 8DJ', 'GU11 1TW', 'SO14 0LG', 'SO238DX', 'SO14 3JZ', 'HP8 4DH', 'OX10 7JG', 'OX4 6HW', 'GU11 1BA', 'SO19 6EX', 'OX16 5AY', 'RG17 0AN', 'SL2 3HS', 'SL6 5NG', 'PO38 3JP', 'RG18 4BY', 'MK11 3HQ', 'RG29 1NA', 'SP11 8DT', 'HP7 0LB', 'BH23 8DR', 'MK16 9PY', 'SO24 0LF', 'PO33 4EU', 'OX27 7 QF', 'OX254AD', 'OX2 6JF', 'HP5 2HA', 'HP13 6EE', 'SP11 0JA', 'SO18 5BU', 'OX4 3AH', 'BH23 8AY', 'RG30 2BB', 'SO18 1NP', 'SO22 5JS', 'HP13 5DG', 'SO21 2PP', 'GU46 7RP', 'SN7 7RN', 'GU11 3SN', 'OX16 9UX', 'RG24 8UN', 'OX14 3XT', 'MK2 3YZ', 'RG22 6AX', 'SP10 5DE', 'BH23 8HG', 'RG9 3JD', 'SN6 7PU', 'RG14 2PZ', 'MK18 1BG', 'PO12 1LY', 'OX20 1BH', 'OX3 9RG', 'SO17 3WF', 'MK18 2ET', 'OX4 4XP', 'RG9 1SQ', 'GU46 7RR', 'PO12 4AB', 'RG19 4QD', 'PO11 0BX', 'RG12 7GR', 'PO33 2DH', 'OX2 8EL', 'RG20 0HY', 'SO18 1AY', 'GU35 8NA', 'PO9 1HA', 'GU34 4AD', 'OX4 4PY', 'OX25 5TE', 'RG24 9BP', 'SO16 9HZ', 'MK11 1JL', 'MK18 3EN', 'RG21 3JJ', 'PO1 3GF', 'RG30 3XB', 'GU34 1LG', 'RG4 5NA', 'RG6 1NJ', 'OX13 6TE', 'SO32 3LB', 'HP202JR', 'OX1 1NF', 'SO51 8JB', 'RG14 1BU', 'RG26 5LP', 'RG20 0AP', 'RG7 2AT', 'SL6 5LT', 'SP10 1BG', 'PO2 8RX', 'GU52 7LB', 'OX29 4DS', 'OX9 3EX', 'HP9 2NB', 'HP12 3AE', 'PO9 1HH', 'SL1 3BX', 'MK12 5AR', 'OX28 6LS', 'SO30 3XH', 'RG1 6LQ', 'SP11 9LP', 'SO22 4QQ', 'MK13 0EX', 'SL4 3BB', 'RG2 0BS', 'OX265DX', 'OX4 2RR', 'SO32 1BB', 'SP11 0LE', 'SL5 7LQ', 'HP17 8JB', 'OX11 0EX', 'OX15 0TY', 'SO41 5SP', 'SP10 3AJ', 'SL2 3AW', 'SO15 2AE', 'OX5 1AT', 'GU14 8BG', 'OX14 1PL', 'GU26 6TR', 'OX1 1NE', 'BH24 3LJ', 'SO16 0YU', 'MK18 1TD', 'PO1 3PB', 'PO40 9PE', 'LU7 0LR', 'OX3 0RZ', 'RG8 0JS', 'RG4 8AX', 'MK5 8DN', 'SO51 9DL', 'SL4 5NL', 'OX10 6BN', 'PO11 0PG', 'OX5 1QE', 'SO31 5DG', 'OX10 7LN', 'OX12 9SH', ' PO1 3PT', 'RG45 7LJ', 'MK9 1EN', 'OX33 1DG', 'PO2 0RH', 'SO52 9FB', 'MK17 8RH', 'PO62PP', 'RG27 8DX', 'GU11 1DX', 'PO30 5TU', 'SO32 2LX', 'OX14 3YS', 'LE67 8GE', 'OX3 9LL', 'OX2 8AU', 'SL3 7TS', 'SO51 6FP', 'SO31 4NF', 'OX29 4EX', 'OX10 9DS', 'PO11 0NH', 'SL5 7HP', 'OX44 7JE', 'BH19 2RB', 'BH23 7AU', 'RG27 9UP', 'SO24 0NG', 'HP18 9UP', 'SO14 0DJ', 'MK5 8NG', 'PO15 5RD', 'RG23 8AB', 'SL7 3DJ', 'MK6 2DY', 'OX4 4BZ', 'OX1 1SA', 'PO9 1LS', 'SN6 8HZ', 'SL9 0QA', 'LA6 2DY', 'OX4 4RE', 'RG1 9BN', 'PO14 1DN', 'PO12 1SE', 'PO6 1SU', 'PO30 4LT', 'RG6 5QA', 'RG29 1NE', 'PO14 3PA', 'PO7 6DP', 'OX10 8AF', 'SL0 0DA', 'SP11 8AX', 'RG1 2JB', 'RG30 3EP', 'OX11 7JN', 'SO14 6TE', 'OX11 0QJ', 'MK7 8NA', 'OX7 3PS', 'OX15 6PE', 'HP22 4NB', 'PO40 9XH', 'HP20 2JJ', 'MK13 8ND', 'DN4 8DB', 'OX7 5DZ', 'SL6 0HX', 'GU11 3JD', 'MK16 9AS', 'MK1 1LJ', 'GU14 0NR', 'HP6 5DR', 'SO14 2NY', 'OX18 1DB', 'OX4 3JR', 'SO50 6BL', 'SL2 1QS', 'PO33 3AF', 'OX4 3LB', 'SL2 4LN', 'BH25 5NY', 'GU467LR', 'GU34 1RF', 'OX29 7RW', 'RG12 1AE', 'SO32 2JE', 'OX9 2FG', 'SO51 0HE', 'GU14 7SR', 'RG17 7SH', 'PO5 3PS', 'SL7 2FF', 'MK3 6DR', 'SL6 1UA', 'SO14 2AR', 'RG24 8NU', 'GU30 7NY', 'RG29 1AQ', 'RG26 5PF', 'HP19 9DJ', 'Ox4 3LN', 'RG40 1WN', 'HP13 5AL', 'SO53 2PL', 'SP11 6AH', 'MK15 0ZR', 'RG1 7UD', 'PO5 1HG', 'PO9 3NS', 'PO33 4RJ', 'OX26 4RS', 'PO4 8GT', 'KT22 7NA', 'OX28 6HT', 'BH24 1PW', 'SP10 2EG', 'PO32 6HT', 'SO32 2TE', 'OX9 3LQ', 'SP11 6JS', 'HP14 4BF', 'S71 1AN', 'HP5 3RL', 'SO31 4JE', 'SP11 7AZ', 'SO40 3AD', 'OX7 5NP', 'RG6 7LR', 'RG20 8TG', 'PO9 1QL', 'PO33 4JE', 'SP10 1EP', 'SO31 6EP', 'MK9 3HQ', 'OX4 1SW', 'WR14 2HS', 'SL1 7DD', 'PO33 3LN', 'RG42 2EX', 'HP12 4HJ', 'SO53 3LG', 'RG14 6NU', 'GU35 9JA', 'SL1 5BD', 'B16 8SZ', 'SO16 6AF', 'MK16 0NH', 'SO21 1HZ', 'MK18 7ET', 'HP21 7ST', 'SL9 0BD', 'OX10 6LZ', 'OX10 7LP', 'GU11 1TJ', 'NN9 6SB', 'RG30 2SN', 'HP15 6AA', 'SL5 0NJ', 'MK11 2BE', 'S10 4GE', 'GU14 6BN', 'RG31 5EB', 'SO23 9NA', 'HP11 2PU', 'OX3 0AJ', 'HP17 8LJ', 'OX2 7NB ', 'HP18 0JF', 'HP14 3NR', 'RG40 1BN', 'PO11 0JX', 'PO33 3NB', 'PO31 8JY', 'SO40 8WB', 'GU52 6BW', 'RG5 4JB', 'OX7 5UR', 'SO51 8JA', 'SO31 6LS', 'PO333SD', 'BH23 8EG', 'SO15 3AT', 'HP17 8NG', 'OX2 0HR', 'MK9 2NR', 'PO10 7NT', 'PE29 3GH', 'MK18 3NE', 'OX16 5NT', 'RG14 5PP', 'PO32 6LP', 'SL2 1BF', 'SL5 0QE', 'RG41 2PF', 'OX4 3DG', 'MK12 5TS', 'OX11 0RD', 'OX10 6HE', 'W3 8RA', 'GU12 4TB', 'PO143LL', 'OX14 3YT', 'SL6 2UA', 'SO50 6FN', 'OX15 0RT', 'MK15 9JY', 'MK5 8EJ', 'GU12 4AS', 'SO171QR', 'OX11 0AS', 'HP21 8AL', 'PO15EZ', 'SO19 9HL', 'OX2 8PJ', 'MK17 0RG', 'PO21 1AG', 'OX7 7EE', 'OX5 1GB', 'PO9 1RL', 'GU11 2PW', 'W1A 6US', 'HP6 6BJ', 'SN7 7EY', 'SL8 5RN', 'SO51 6BH', 'SP6 2LU', 'GU32 3LU', 'SO31 9GR', 'OX16 0EN', 'SL6 3JH', 'OX1 4XD', 'OX29 8JG', 'SO31 6XF', 'SL1 5RE', 'GU46 6AG', 'SL9 7AD', 'SO16 3EP', 'OX11 8AB', 'OX3 7SH', 'SL3 6HJ', 'PO30 1SL', 'OX29 8EB', 'OX7 4DB', 'SO43 7FT', 'MK19 7HQ', 'MK14 5DZ', 'GU31 4EX', 'RG24 8AG', 'PO30 4EH', 'ME18 5PH', 'OX7 3TB', 'PO1 3AT', 'HP7 0DP ', 'RG30 3UE', 'OX16 0TW', 'HP7 0QT', 'OX5 1GF', 'HP18 0JH', 'SO41 0UL', 'HP11 1EP', 'SO15 5HE', 'RG24 9HL', 'RG9 4DE', 'SO18 2JR', 'HP20 1JA', 'SO20 8BD', 'OX7 3AU', 'RG17 7EW', 'SO14 3XB', 'RG19 4JT', 'OX29 6SG', 'MK64HG', 'MK1 1TJ', 'PO4 8NU', 'RG8 7QY', 'OX28 4GE', 'PO3 5LY', 'OX26 3EE', 'HP9 1QL', 'SO21 3NT', 'GU14 0EB', 'PO1 3LX', 'OX1 1DS', 'HP5 2AA', 'SO53 2HA', 'RG12 8BQ', 'OX1 4AU', 'BH24 4AP', 'PO4 0HA', 'OX7 5SA', 'ox4 1nx', 'E4 7QW', 'RG8 0SJ', 'SO41 1EL', 'OX9 3XS', 'EC1V 1NG', 'SO40 7DX', 'RG29 1JX', 'OX12 0AA', 'RG21 3QN', 'MK14 5AN', 'RG10 0SQ', 'OX29 6TR', 'SL6 9NY', 'PO6 4EA', 'MK8 0PT', 'GU2 4HP', 'MK18 3NW', 'HP27 0PL', 'OX14 4RA', 'OX18 4BJ', 'OX4 3TU', 'SO19 9NA', 'PO11 9SL', 'SO32 1JH', 'so147ly', 'HP9 2LX', 'MK10 7BH', 'BH23 7DU', 'OX3 7LF', 'SL6 4JJ', 'SP10 3JB', 'OX2 7DE', 'PO1 3TN', 'HP15 6EB', 'ox25 5te', 'SO14 0AW', 'SL1 2QG', 'HP22 4PF', 'GU11 1UD', 'OX3 9RU', 'OX4 3DR', 'GU21 5AW', 'RG1 4RJ', 'OX29 4QF', 'OX14 4QH', 'PO13 0QL', 'RG9 3HB', 'OX26 3ED', 'GU9 7DR', 'SL7 1AJ', 'OX15 0RQ', 'PO33 4NQ', 'RG17 0YU', 'RG1 8LG', 'MK12 5TW', 'OX28 5YX', 'SN7 7EN', 'OX3 7DQ', 'SO53 4AR', 'OX29 9PX', 'SL3 7PR', 'SO53 5AL', 'MK17 0SA', 'SW6 7SR', 'HP18 9JH', 'N1 6AH', 'OX2 7TN', 'MK16 8AQ', 'OX26 6AG', 'PO1 2NE', 'SO53 2FG', 'SO15 1GE', 'RG8 7QG', 'SO17 3EA', 'SP11 7DS', 'RG27 0HH', 'OX1 3PW', 'GU12 4AL', 'LU7 0NW', 'MK1 9GA', 'OX4 7FX', 'SL2 4HT', 'PO40 9TL', 'NW2 6ND', 'GU52 7TS', 'CM1 7ET', 'OX3 7QH', 'OX17 2ER', 'SO18 1BU', 'MK9 1BL', 'HP16 9QY', 'PO7 7HU', 'OX2 7DL', 'HP13 5XJ', 'BH24 3BN', 'SN6 8AX', 'SN6 8AA', 'SO16 6YD', 'SP10 2NU', 'SE8 3EY', 'MK5 8HJ', 'OX1 5PL', 'RG40 1TF', 'RG2 0NH', 'PO36 8EX', 'SL1 6LA', 'ox3 8qq', 'HP27 9AS', 'MK17 0LR', 'GU1 2XP', 'RG14 6AT', 'MK5 6AA', 'SL3 0HG', 'SO19 2DU', 'SP11 0BN', 'PO16 7BQ', 'MK18 1HD', 'BH24 1NH', 'PO37 6HG', 'OX14 3LZ', 'SL4 2PX', 'BH25 6BX', 'RG1 1LX', 'SO31 6XX', 'SO20 6QD', 'SP5 1NL', 'SO51 9DG', 'LS2 9NG', 'OX10 7BG', 'SL4 3RU', 'SL3 8AS', 'RG5 4SN', 'SO53 5NP', 'OX5 3JQ', 'RG7 1NH', 'OX1 1UL', 'RG27 0AE', 'RG4 7LU', 'RG1 1SB', 'PO1 2GJ', 'HP23 6LU', 'SP6 3NL', 'OX28 6JH', 'MK5 8NL', 'OX4 4AN', 'OX4 1RU', 'PO7 7NB', 'SO50 9PD', 'GU34 2PP', 'OX2 0NB', 'OX18 2HG', 'SO31 5EL', 'OX14 3TE', 'RG17 0JU', 'PO15 7FJ', 'SL6 1LY', 'SO53 2PH', 'SO21 3NZ', 'PO15 6PH', 'SO53 2EU', 'SO45 1BR', 'BH24 1HD', 'SO16 2PA', 'RG1 4BS', 'SL3 7LT', 'OX29 8FN', 'SW1W 9TR', 'PO38 1TT', 'OX7 5XJ', 'SO23 7GA', 'HP21 7AH', 'SO53 3GN', 'GU47 0SD', 'RG20 7BP', 'HP7 0RN', 'SL6 1JN', 'PO12 4JB', 'BH24 3PJ', 'OX4 1PY', 'B69 2DG', 'PO11 9EY', 'WC1 5JF', 'RG6 7HS', 'RG20 0HR', 'BH23 5QL', 'SO16 3PQ', 'PO17 6AR', 'MK17 0PZ', 'SL6 4DL', 'SL4 2HP', 'OX3 7LJ', 'RG45 7BF', 'RG7 3ND', 'PO41 0QW', 'RG30 2TA', 'OX3 9TU', 'MK4 2EU', 'GU31 4JJ', 'SL1 5AH', 'MK7 6HF', 'SO16 7JU', 'PO30 1BH', 'SO32 2NN', 'RG40 1DL', 'MK5 8HD', 'OX14 1NB', 'SO50 9ZF', 'PO32 6RA', 'OX3 8SE', 'MK1 1SW', 'OX3 0DW', 'HP6 5AW', 'OX16 4TL', 'RG23 8AA', 'PO15 6QS', 'SO30 3DU', 'OX33 1HF', 'LU7 0PS', 'SO16 8LQ', 'PO1 3LU', 'SO51 9AD', 'PO3 5XT', 'SO31 6LG', 'SO14 3FD', 'OX28 1BY', 'OX16 9JB', 'RG4 9RJ', 'SO20 6LT', 'MK14 5HA', 'RG1 7AE', 'MK3 7GB', 'MK18 4AW', 'RG4 6LU', 'HP19 8RS', 'RG18 3AG', 'OX29 8AL', 'SO43 7AF', 'SL66HQ', 'SP6 2JH', 'MK13 9AP', 'RG10 8DS', 'MK10 9AD', 'BH24 3EB', 'PO1 2AB', 'PO7 7NW', 'SO23 8SR', 'GU14 6BU', 'PO8 8PT', 'GL7 3QU', 'RG14 1AJ', 'PO7 5HD', 'OX49 5DL', 'SO16 4GX', 'SO19 9QP', 'PO16 7AZ', 'SO50 4JS', 'HP18 9AU', 'HP16 0PD', 'MK4 4DB', 'SN6 8LA', 'HP5 2BY', 'MK18 2RJ', 'OX9 3JT', 'SL8 5DH', 'OX14 3HP', 'MK8 9HP', 'PO12 2HH', 'MK18 4EY', 'SO17 1NQ', 'SO19 9JT', 'SO53 3TL', 'HP4 3TE', 'HP13 6PN', 'PO30 1HR', 'GU12 4BP', 'PO33 2HT', 'HP19 0WG', 'RG1 3QF', 'RG25 2BP', 'SP9 7TW', 'SO45 1GA', 'HP144SX', 'OX4 1XW', 'HP19 9WZ', 'OX1 4PA', 'SO31 8DN', 'SO24 9BS', 'RG6 6AH', 'SL9 7JY', 'PO30 2DH', 'SO14 0BL', 'PO2 7BA', 'OX29 7XZ', 'HP7 9BG', 'RG2 0EP', 'MK16 0AW', 'OX4 2ER', 'RG24 8LN', 'OX11 0SH', 'SL6 6QH', 'SL6 0DY', 'SO51 8DE', 'PO30 4BD', 'SO40 4BL', 'OX14 3HN', 'PO30 4AQ', 'RG40 3GA', 'OX1 3LE', 'PO12 2HE', 'PO12 3HB', 'OX25 4SE', 'PO36 0DH', 'BH24 1XJ', 'SO23 7LQ', 'OX4 4BB', 'SO14 3FR', 'OX9 2AB', 'OX2 7SX', 'SO40 3ZW', 'GU34 2DA', 'SO21 3DB', 'LE1 1RE', 'SO32 2DP', 'MK12 5NF', 'OX13 6PE', 'SO50 5NS', 'RG1 1AX', 'RG7 1SD', 'RG18 3FQ', 'SP6 1BB', 'PO33 1LP', 'PO7 4TF', 'OX4 1SD', 'N16 5RJ', 'OX29 8PP', 'MK3 6BH', 'RG14 1BA', 'SL1 2DQ', 'MK2 2ES', 'SL9 0JQ', 'SO31 4JB', 'RG26 5AN', 'HG5 8HF', 'SL3 6JN', 'RG108AS', 'HP21 8PD', 'SO43 7BH', 'MK6 3NP', 'GU32 3JY', 'po30 5bz', 'OX2 9NR', 'OX1 1HD', 'HP11 2PN', 'PO15 7AH', 'MK16 8BG', 'ox18 3lw', 'PO2 0LB', 'SL6 4PX', 'GU11 1SS', 'SL6 4JR', 'OX1 4QQ', 'SL1 1QW', 'RG9 5SB', 'HP5 2AF', 'MK18 5AY', 'SO50 8DH', 'SO23 7EF', 'OX5 1ES', 'CB2 7EG', 'RG14 7SZ', 'SO19 9PW', 'PO7 6JP', 'LS19 7XY', 'SP11 8NT', 'SO50 5SG', 'PO6 1AP', 'RG4 8LN', 'PO12 3TZ', 'OX7 3DP', 'PO41 0TH', 'RG18 3NJ', 'SL67NG', 'HP11 1SZ', 'OX5 1PY', 'PO12 2EG', 'BH23 3QN', 'SL4 3BL', 'GU342DR', 'RG1 3BQ', 'TQ9 5BP', 'GU14 0DX', 'RG22 4EH', 'OX27 8AL', 'SL4 4NS', 'LU7 3UU', 'RG19 3SF', 'OX27 9AJ', 'SO32 3NJ', 'HP21 8LZ', 'OX4 1LF', 'OX7 3HL', 'HP7 0DP', 'OX39 4DJ', 'SL1 4PY', 'SO23 7JX', 'SO41 6EL', 'MK18 1RZ', 'NN13 5GW', 'OX14 4BP', 'HP13 7NQ', 'OX29 6XE', 'SO31 1BS', 'RG8 9SJ', 'OX29 6UN', 'HP19 8FQ', 'SL5 9HG', 'KT3 6LG', 'OX12 9LW', 'RG45 7HD', 'HP14 3TY', 'RG40 1AP', 'SO19 9EF', 'OX29 9UD', 'PO12 4NG', 'SL1 8JG', 'SN7 7NL', 'SP11 8LF', 'GU33 7DB', 'NW3 2YT', 'GU14 6SF', 'RG6 7HP', 'PO1 3NH', 'PO1 1HT', 'HP13 7XJ', 'SO20 6EJ', 'DE5 9SQ', 'OX4 1RE', 'HP22 5NE', 'OX26 5DP', 'SL5 9PF', 'PO4 8JU', 'SO20 6JG', 'PO38 1UF', 'BH23 8NU', 'PO33 4NA', 'MK18 1EG', 'OX9 7AU', 'OX5 1FP', 'HP6 6JY', 'MK9 3GN', 'RG4 5EP', 'SO24 9EP', 'SL2 4PB', 'PO36 0JT', 'OX33 1TL', 'RG30 4RN', 'SO31 8DT', 'GU35 9JU', 'GU51 5FA', 'SO50 9DE', 'OX10 7DR', 'TW18 4TT', 'OX11 8AD', 'OX3 8EF', 'SO51 0JH', 'SO53 2FJ', 'RG19 4NR', 'MK42 7JR', 'PO110NX', 'SO15 0AJ', 'SO15 3FQ', 'OX7 3QG', 'RG30 2BA', 'RG4 9LS', 'PO14 4QA', 'OX14 1DY', 'SL6 0DA', 'OX39 4QH', 'GU35 0JB', 'OX5 1AQ', 'RG12 9SE', 'SL6 2NA', 'RG18 4ED', 'HP5 1SD', 'PO33 1UQ', 'SP10 2HZ', 'OX16 0PJ', 'OX28 2JY', 'SP11 0LF', 'SO41 5RN', 'OX15 4AA', 'SO40 8ET', 'SO50 4RJ', 'OX39 4AA', 'PO14 3TX', 'RG17 0QZ', 'MK5 6BX', 'PO33 2NB', 'SL7 2AU', 'OX14 3LH', 'PO1 5EZ', 'RG20 8JY', 'SO45 1EH', 'SO52 9EU', 'RG14 5BD', 'RG21 3EZ', 'SO41 3QD', 'GU11 1DP', 'RG1 7YL', 'MK2 3AH', 'OX12 8FL', 'OX4 3NU', 'RG25 2PL', 'OX1 4AL', 'HP13 6EB', 'OX7 5PS', 'HP5 3DD', 'SO40 3HX', 'MK13 0AP', 'SO20 8HA', 'MK9 1BP', 'PO31 7LZ', 'PO16 0HJ', 'RG21 3LT', 'BH25 5QF', 'RG21 4DZ', 'OX18 3QD', 'PO32 6DZ', 'E5 9LF', 'SO45 1BN', 'SL6 3BG', 'PO30 5AE', 'MK9 3EJ', 'PO11 9AJ', 'OX26 4XJ', 'RG21 6XG', 'HP9 1RR', 'OX7 4AF', 'RG9 2ES', 'SL09PW', 'PO4 8RG', 'MK18 3JA', 'RG10 0EZ', 'PO12 3BZ', 'OX7 6ND', 'PO9 1QN', 'OX4 6JZ', 'MK18 1FW', 'SO40 7GY', 'GU14 0LE', 'SO40 2RW', 'RG41 3XE', 'OX11 7NE', 'SO18 2EB', 'SP11 7NH', 'PO2 8HL', 'GU47 8HN', 'RG9 2LN', 'RG17 9TU', 'OX9 3LP', 'GU26 6TZ', 'RG4 6ST', 'SL1 7NP', 'OX13 6DA', 'WC1X 0LR', 'SO24 0JS', 'NN8 3LT', 'SO31 7BJ', 'OX154DW', 'OX10 6PX', 'RG1 7SB', 'HP13 6XT', 'OX3 8ES', 'RG1 5DW', 'SO14 7FP', 'PO305BA', 'SO40 9FT', 'OX14 1QE', 'PO30 5DX', 'RG26 4EU', 'PO7 4RT', 'EX12 9BA', 'OX1 5AD', 'HP20 1UD', 'RG9 2DZ', 'MK179DG', 'TW19 5NA', 'PO14 4RP', 'HP16 0DZ', 'SO31 6AF', 'PO38 1LZ', 'OX1 1JD', 'LU7 0UN', 'SL1 2PE', 'OX3 0BP', 'NR17 1EJ', 'PO13 0HS', 'SP10 4AJ', 'OX1 1LD', 'RG31 4QX', 'SO507AN', 'SL7 2BR', 'OX5 1TA', 'RG6 6AZ', 'RG1 1EH', 'OX4 4GA', 'HP13 6JH', 'RG40 1XU', 'PO4 8JP', 'SO171BJ', 'RG40 3DF', 'HP16 0AZ', 'GU12 4RZ', 'RG2 9BY', 'PO3 5HD', 'OX14 3DZ', 'PO16 8JH', 'SL2 2QP', 'PO13 0AX', 'RG14QS', 'RG31 6JJ', 'PO33 3HP', 'RG11 4DX', 'GU52 8AD', 'GU14 8UJ', 'SL7 2JX', 'MK9 2DL', 'OX1 4BH', 'WC1B 3HH', 'PO12 4LF', 'RG40 4ES', 'MK8 8LH', 'RG20 4TX', 'RG1 1NU', 'OX5 3HS', 'OX14 4AA', 'SL2 3QY', 'RG7 2HH', 'SL9 0JP', 'SL3 9EW', 'OX10 7HR', 'MK14 6BN', 'SL6 3LE', 'SE10 8HP', 'BN42 4AX', 'HP20 1NX', 'OX10 0EU', 'PO33 3NQ', 'SL1 7LW', 'OX29 5AD', 'PO16 0DH', 'SL2 5HW', 'HP20 2JH', 'SO40 2QH', 'SL6 7JR', 'SO51 7JW', 'HP20 1BD', 'PO14 1PB', 'BH24 1QU', 'OX2 8QQ', 'SO32 2RF', 'PO9 1AS', 'PO9 5BG', 'SL1 4LG', 'MK17 0RH', 'SO41 9BB', 'MK9 3WJ', 'PO17 5AL', 'SO51 6DD', 'PO38 1NL', 'OX33 1QH', 'HP20 2RS', 'GU47 9BJ', 'HP10 8LN', 'PO9 4DP', 'SO24 9TH', 'RG20 7LU', 'PO4 9LD', 'OX1 2HB', 'MK14 5HJ', 'OX39 4PD', 'SL8 5BW', 'OX4 1RL', 'OX7 6NW', 'OX1 3BW', 'SE1 1AA', 'PO8 9PQ', 'MK11 1DP', 'SO41 0TP', 'MK46 5JA', 'PO9 5QJ', 'HP22 5XS', 'OX29 8HH', 'OX1 2AQ', 'RG24 8GU', 'SL2 3DS', 'TW19 5NB', 'PO6 2QS', 'PO6 3SP', 'KT16 0RS', 'GU47 0QE', 'HP16 9DG', 'MK9 2JA', 'PO30 2ER', 'PO3 5DH', 'MK17 9BA', 'HP7 0PX', 'PO31 7BH', 'MK9 3HS', 'SO21 2JN', 'TW2 6PX', 'RG4 7AX', 'RG40 2HR', 'HP5 2QA', 'HP17 8TX', 'OX7 6LX', 'RG28 7AN', 'HP9 2QB', 'PO1 5RZ', 'SP10 1LP', 'RG8 7HF', 'SO40 8EB', 'HP19 9JL', 'SL0 9AQ', 'PO37 6JJ', 'SL6 2DN', 'RG129HD', 'SO211LA', 'PO4 9JU', 'RG30 2DG', 'OX2 8JN', 'MK16 8HJ', 'PO2 8RU', 'RG27 8RE', 'SO52 9HU', 'SO15 5FD', 'OX18 4JW', 'RG18 9NU', 'OX4 7UF', 'PO2 8LW', 'OX4 1 RE', 'SN7 7AF', 'PO14 3PH', 'OX4 6DP', 'RG2 8AF', 'RG23 8HF', 'RG10 8PU', 'SP11 7LW', 'OX4 2ND', 'SO21 3DF', 'SO16 7DP', 'HP21 9NJ', 'OX3 8GA', 'PO1 3PT', 'RG41 1NB', 'HP11 2QW', 'MK16 9LN', 'OX5 2NT', 'SL6 9PA', 'BH25 6DE', 'SO50 9XB', 'GU52 0TW', 'HP17 0UE', 'PO31 7PQ', 'OX33 1TD', 'OX10 7NE', 'SL1 4JW', 'HP12 4RU', 'SP10 3NH', 'SL6 1DN', 'RG26 4JU', 'RG1 4LY', 'RG2 9HR', 'RG2 0FP', 'PO7 7SY', 'OX15 6QE', 'RG14 6NQ', 'MK7 6BZ', 'GU11 1YF', 'SO40 3LZ', 'RG10 8LJ', 'OX3 9NU', 'RG27 9RH', 'PO1 3QA', 'OX28 3LA', 'OX29 6SA', 'SO24 0ER', 'RG28 7LS', 'RG18 0RS', 'PO8 0HF', 'PO6 3NR', 'SP6 1EZ', 'HP21 7RT', 'RG41 5TP', 'SO51 0HR', 'OX1 4XL', 'HP7 9QB', 'HP15 6XG', 'RG20 9XN', 'PO1 9NF', 'SO23 8UD', 'OX33 1YW', 'SO15 5AF', 'HP22 4LN', 'RG25 3HS', 'OX16 9ST', 'OX44 7QF', 'HP22 5YA', 'RG17 0JB', 'PO30 5TG', 'OX9 3NH', 'GU34 1SN', 'MK9 2DG', 'OX3 9ES', 'SO20 6QW', 'OX3 7HS', 'RG31 5AN', 'SO18 1HZ', 'PO12 2ES', 'OX26 6BB', 'TW13 7NL', 'SP10 1BL', 'SO16 7NP', 'PO30 1XA', 'SL1 6EX', 'SO21 1JH', 'PO16 7FH', 'SL4 5EU', 'PO11 0HB', 'OX7 3LR', 'HP13 5LN', 'SO52 9DR', 'OX28 6AX', 'SP6 2BY', 'SO23 7EQ', 'MK14 7BH', 'HP18 0TL ', 'HP13 6NZ', 'SO20 6PG', 'SL1 1XY', 'SO41 6AN', 'RG20 0HE', 'SL6 2NR', 'RG8 7EJ', 'SO30 4AG', 'SP6 3DQ', 'RG14 7AL', 'OX18 3NZ', 'HP19 8RY', 'PO8 8RA', 'RG10 0SJ', 'RG31 6NB', 'SP11 0HG', 'SO15 0LP', 'OX3 0QB', 'OX14 1JB', 'PO30 2QR', 'RG24 7AN', 'OX28 6JF', 'SN7 7QL', 'MK13 9AZ', 'OX5 3AG', 'MK18 3HL', 'OX18 3JY', 'RG41 5DE', 'OX14 1RL', 'RG22 5HH', 'OX16 0QG', 'SP11 0JY', 'OX155SR', 'PO38 1SW', 'N16 5JF', 'RG1 4RU', 'RG7 4ER', 'OX14 4RU', 'PO9 2AX', 'SO145FP', 'OX14 3EL', 'MK7 6DT', 'SO41 6BA', 'OX14 4AF', 'OX5 2NP', 'GU51 5QG', 'HP178DL', 'SO23 7DX', 'SO21 1LU', 'OX18 4SE', 'PO2 0NT', 'HP7 9JW', 'RG27 9DJ', 'MK7 7WH', 'RG1 5EX', 'OX12 8EZ', 'SO31 9GH', 'GU35 0BS', 'OX12 9TF', 'OX26QS', 'RG22 5BB', 'OX25 1PY', 'PO4 8PR', 'SP9 7TL', 'RG12 1JG', 'PO14 3PN', 'SL9 9QA', 'SO15 5JF', 'PO1 3HH', 'SO14 3FZ', 'HP18 9RT', 'RG6 5PT', 'SO16 7DX', 'HP18 0HH', 'OX7 6BQ', 'GU51 4JN', 'PO30 5HY', 'OX7 3JR', 'HP18 9DT', 'OX11 7GB', 'PO4 9AH', 'SO314JB', 'LU6 1LS', 'PO30 2NB', 'GU46 7TF', 'PO30 1EZ', 'SO15 2HP', 'OX14 5BT', 'OX29 4SU', 'SO53 2DW', 'SW19 2RR', 'RG17 9QD', 'OX2 6GB', 'RG20 5SQ', 'MK2 3QL', 'MK12 5EL', 'RG41 1EG', 'SL6 0AT', 'PO33 2BN', 'SO22 6PX', 'HP12 4UE', 'RG30 4EQ', 'OX15 6LF', 'PO12 1BE', 'SL1 7NA', 'PO16 7QP', 'SL2 4NZ', 'HP14 4AJ', 'RG6 1QE', 'HP20 2RX', 'PO16 7HW', 'SL6 7NG', 'RG4 8AA', 'PO30 1SE', 'IG6 1QG', 'HP10 0PN', 'PO36 8QB', 'SL71RR', 'HP21 8HD', 'HP8 4DD', 'PO4 0DP', 'HP22 5HT', 'PO360BJ', 'GU26 6LS', 'RG22 4EP', 'HP12 3LL', 'PO5 1NA', 'PO7 8RX', 'RG42 7NY', 'PO4 8LN', 'MK6 3EB', 'PO30 1LB', 'OX2 6PY', 'RG7 4HH', 'GU14 8BX', 'OX12 8LA', 'HP13 5JZ', 'HP18 0SP', 'HP8 4AB', 'HP15 6UF', 'SO18 1QN', 'RG42 5QD', 'SO50 8AA', 'PO17 5LJ', 'MK3 6RT', 'OX4 6NF', 'PO4 0RX', 'GU33 7LH', 'SO21 1BE', 'PO2 9EL', 'SL6 4FL', 'RG7 5JT', 'OX11 9AQ', 'PO1 2EA', 'SO21 2NF', 'SO41 0PB', 'SM6 6BG', 'SO16 6RL', 'HP19 8HT', 'SL6 8DE', 'OX2 7AG', 'HP11 2RX', 'PO2 9RJ', 'GU35 8HA', 'SL0 0QD', 'PO30 1DP', 'RG1 4QE', 'SP6 1AQ', 'MK9 1DL', 'HP15 7NA', 'OX15 4AF', 'PO33 4EL', 'SL7 1RH', 'MK16 0DW', 'PO12 1JB', 'RG5 3EU', 'OX10 6JD', 'HP18 9HY', 'OX7 5PP', 'GU35 9QF', 'MK12 6AY', 'RG238AX', 'OX33 1NN', 'SO31 5AE', 'SL1 2EL', 'OX44 7UL', 'SL1 4XE', 'HP7 0BE', 'OX29 4JY', 'MK9 1LR', 'RG12 7QS', 'OX13 6DS', 'BH23 8JS', 'OX4 4SU', 'SL6 5AE', 'RG1 6DW', 'GU14 8PD', 'OX14 4AN', 'BH24 1SF', 'RG24 9SA', 'OX29 7US', 'RG25 2NX', 'SO17 1XF', 'SO14 3LA', 'GU14 9SX', 'OX9 2PE', 'OX5 2AJ', 'SO51 5HZ', 'RG29 1RJ', 'OX2 7EE', 'SO16 5PJ', 'SO41 5RQ', 'SL1 3NY', 'MK6 3EJ', 'GU27 1LD', 'RG22 6NS', 'SO20 6EG', 'OX4 6SN', 'OX15 6NE', 'HP18 0DW', 'OX3 7AN', 'OX4 1UE', 'RG20 9SJ', 'CV35 0QE', 'OX29 4NP', 'OX14 5GW', 'GU34 5JF', 'HP10 9LD', 'RG12 9TY', 'PO12 1EB', 'PO13 0DA', 'OX11 9LF', 'RG41 1EH', 'SO31 8BZ', 'HP11 1SL', 'SO42 7WU', 'RG28 7NT', 'RG30 1HW', 'RG20 4AB', 'OX15 4JY', 'PO30 4NJ', 'PO13 0ZX', 'OX39 4LY', 'RG27 0EL', 'SO32 1DW', 'SO51 8JJ', 'RG2 0RB', 'BH24 1NP', 'SO31 4TS', 'SL6 6RY', 'OX1 3 DH', 'RG1 2TH', 'OX14 3YP', 'PO30 3BE', 'OX4 6GA', 'SO226NQ', 'SP10 3PF', 'MK18 1GZ', 'MK17 8QN', 'GU31 4JN', 'SO14 2DH', 'SP11 0HX', 'OX14 1GG', 'OX16 5QB', 'RG6 1PN', 'PO35 5NF', 'SO17 2NF', 'SO19 9FF', 'PO33 1FX', 'PO16 8AH', 'OX1 1NP', 'PO38 1ES', 'SO45 6AW', 'HP6 6AP', 'SN6 8TH', 'OX16 9QA', 'HP16 0QF', 'OX4 3BT', 'SP6 1JF', 'SL3 8JU', 'MK16 0DT', 'SL1 3WE', 'RG1 4SJ', 'OX7 3EW', 'SN7 7AQ', 'MK7 8PP', 'GU14 8HW', 'SO50 5SU', 'OX14 5NR', 'SP10 1QP', 'OX4 3JU', 'OX9 3JL', 'HP5 2SS', 'OX11 7UF', 'RG20 8NJ', 'PO16 9QD', 'OX12 9SG', 'SP10 3NQ', 'OX28 9FY', 'RG17 0UL', 'OX11BP', 'PO16 0QS', 'RG21 7QR', 'HP20 1DX', 'GU14 0RS', 'OX7 4HL', 'RG22 5HJ', 'HP16 9HG', 'PO21 1LD', 'HP5 2TF', 'SO24 9AG', 'SP11 9BE', 'OX2 6TP', 'OX1 1BX', 'OX29 6TS', 'MK16 0JN', 'SL4 2HR', 'OX4 6HS', 'HP16 9LL', 'OX15 4NB', 'SL09BN', 'MK14 6FF', 'PO32 6BY', 'RG1 5PE', 'RG32 6AG', 'OX4 3NR', 'GU46 6EY', 'RG22 6HA', 'SO31 4HT', 'SP6 2JA'}\n"
          ]
        }
      ],
      "source": [
        "# check what postal codes come under South Central\n",
        "no_code = 0\n",
        "pc_set = set()\n",
        "for i,row in data.iterrows():\n",
        "  if(row['Recipient Region']==\"South Central\"):\n",
        "    # if no postcode is available for an org in either fields\n",
        "    if(pd.isna(row['Recipient Org:Postal Code']) and pd.isna(row['Recipient Org: Registered Postcode'])):\n",
        "      no_code+=1\n",
        "    elif pd.isna(row['Recipient Org:Postal Code']):\n",
        "      pc_set.add(row['Recipient Org: Registered Postcode'])\n",
        "    else:\n",
        "      pc_set.add(row['Recipient Org:Postal Code'])\n",
        "\n",
        "print(\"NA: \",no_code)\n",
        "print(len(pc_set))\n",
        "print(pc_set)"
      ]
    },
    {
      "cell_type": "markdown",
      "source": [
        "- Only 6145 rows are there for which we do not have any information about the postal code for a recipient region - South Central, we can simply ignore these grants if required as they contribute to a small portion of the whole dataset\n",
        "- Let's first try to figure out what regions do the South Central region postcodes correspond to according to the postcode to region list that we have\n"
      ],
      "metadata": {
        "id": "MtiN00EUTeNR"
      }
    },
    {
      "cell_type": "code",
      "execution_count": 49,
      "metadata": {
        "colab": {
          "base_uri": "https://localhost:8080/"
        },
        "id": "tUDQOFd9ptDJ",
        "outputId": "f510fd34-5f31-43fa-8ed4-8daf60786875"
      },
      "outputs": [
        {
          "output_type": "stream",
          "name": "stdout",
          "text": [
            "72\n",
            "{'WD', 'RG', 'GU', 'PE', 'N', 'HP', 'PO', 'UB', 'NN', 'BS', 'GL', 'BR', 'BN', 'LS', 'SN', 'WA', 'CB', 'CF', 'SY', 'SG', 'ML', 'SW', 'WC', 'DA', 'CM', 'BH', 'TQ', 'WR', 'DE', 'SE', 'OX', 'MK', 'AL', 'SP', 'CT', 'DT', 'CR', 'NW', 'CW', 'SL', 'SM', 'SO', 'IG', 'HG', 'HR', 'BA', 'CV', 'ME', 'HA', 'EX', 'B', 'PL', 'LE', 'PR', 'LA', 'DN', 'NG', 'EC', 'TN', 'LU', 'W', 'E', 'LN', 'NE', 'S', 'CO', 'KT', 'TW', 'TR', 'DL', 'NR', 'WS'}\n"
          ]
        }
      ],
      "source": [
        "# create a set of unique post code areas in the South Central Region\n",
        "pset = []\n",
        "for i in pc_set:\n",
        "  i = i.strip()\n",
        "  area = i.strip()[0]\n",
        "\n",
        "  if(i[1].isdigit()==False):\n",
        "    area+=i[1]\n",
        "\n",
        "  pset.append(area.upper())\n",
        "\n",
        "print(len(set(pset)))\n",
        "print(set(pset))"
      ]
    },
    {
      "cell_type": "code",
      "execution_count": 55,
      "metadata": {
        "colab": {
          "base_uri": "https://localhost:8080/"
        },
        "id": "Fln_Ky5lrLSc",
        "outputId": "303b3010-dd6a-4d05-fd06-665e3dd33ed9"
      },
      "outputs": [
        {
          "output_type": "stream",
          "name": "stdout",
          "text": [
            "{'South West', 'Wales', 'East England', 'North West', 'East of England', 'Scotland', 'North East', 'West Midlands', 'East Midlands', 'South East', 'Greater London'}\n"
          ]
        }
      ],
      "source": [
        "# build a set of regions for the post codes in pset\n",
        "rlist = set()\n",
        "for i in set(pset):\n",
        "  try:\n",
        "    region = codeToregion.loc[codeToregion.PostcodePrefix==i].iat[0,2]\n",
        "    rlist.add(region)\n",
        "  except:\n",
        "    print(i)\n",
        "    continue\n",
        "  \n",
        "\n",
        "print(rlist)"
      ]
    },
    {
      "cell_type": "markdown",
      "source": [
        "- postcodes in South Central region seem to be spread all over the place\n",
        "- to make the region data consistent, we will impute the region values for South Central region grants by inferring the region from postcodes\n",
        "- for the rest of the rows as well, if we have a postalcode available (either in the postcode field or the registered postcode field), then we will impute the region value by the corresponding region"
      ],
      "metadata": {
        "id": "AR9E8WCnuIpE"
      }
    },
    {
      "cell_type": "code",
      "execution_count": 34,
      "metadata": {
        "colab": {
          "base_uri": "https://localhost:8080/"
        },
        "id": "E5iebRBR5nEP",
        "outputId": "1cebd78d-5d25-4cac-efd4-f5eba15633ee"
      },
      "outputs": [
        {
          "output_type": "execute_result",
          "data": {
            "text/plain": [
              "372439"
            ]
          },
          "metadata": {},
          "execution_count": 34
        }
      ],
      "source": [
        "data['Recipient Org:Postal Code'].isna().sum()\n",
        "#almost half of the rows are missing postal codes"
      ]
    },
    {
      "cell_type": "code",
      "execution_count": 35,
      "metadata": {
        "colab": {
          "base_uri": "https://localhost:8080/"
        },
        "id": "np90nXEBDyIb",
        "outputId": "c4704da2-c6ba-4783-e844-3b6dfe0422f8"
      },
      "outputs": [
        {
          "output_type": "execute_result",
          "data": {
            "text/plain": [
              "349224"
            ]
          },
          "metadata": {},
          "execution_count": 35
        }
      ],
      "source": [
        "data['Recipient Org: Registered Postcode'].isna().sum()"
      ]
    },
    {
      "cell_type": "code",
      "execution_count": 36,
      "metadata": {
        "colab": {
          "base_uri": "https://localhost:8080/"
        },
        "id": "wvL1SYKaM3-q",
        "outputId": "47ddfe2e-8526-421b-c9bf-6ff15ad4df2f"
      },
      "outputs": [
        {
          "output_type": "stream",
          "name": "stdout",
          "text": [
            "74478\n",
            "[nan 'WA15 7AR' 'WA15 6PX' ... 'WC2B 5LX ' 'RG14SJ' 'DY13 8PX']\n"
          ]
        }
      ],
      "source": [
        "# Org ids have a unique starting code like GB-CHC, GB-GOV, here GB is great britain and the \n",
        "# latter part can be any of the codes from the list in the below link\n",
        "# UK Organisations id guide - http://org-id.guide/results?structure=all&coverage=GB&sector=all\n",
        "print(len(data['Recipient Org:Postal Code'].unique()))\n",
        "print(data['Recipient Org:Postal Code'].unique())"
      ]
    },
    {
      "cell_type": "code",
      "execution_count": 37,
      "metadata": {
        "colab": {
          "base_uri": "https://localhost:8080/"
        },
        "id": "gdCEOBdwl7hO",
        "outputId": "ee0e937c-6348-40b0-ef39-9e93f0df4940"
      },
      "outputs": [
        {
          "output_type": "stream",
          "name": "stdout",
          "text": [
            "0\n"
          ]
        },
        {
          "output_type": "execute_result",
          "data": {
            "text/plain": [
              "281145"
            ]
          },
          "metadata": {},
          "execution_count": 37
        }
      ],
      "source": [
        "print(data['Recipient Org:Identifier'].isna().sum())\n",
        "len(data['Recipient Org:Identifier'].unique())"
      ]
    },
    {
      "cell_type": "markdown",
      "source": [
        "- Total recipient organisations in the dataset - 281145\n"
      ],
      "metadata": {
        "id": "6bvhCNLGPu3R"
      }
    },
    {
      "cell_type": "code",
      "execution_count": 57,
      "metadata": {
        "colab": {
          "base_uri": "https://localhost:8080/"
        },
        "id": "J4GS-I1ND_aB",
        "outputId": "b22e798b-e18a-47ba-c623-d1f3bd53ab8f"
      },
      "outputs": [
        {
          "output_type": "stream",
          "name": "stdout",
          "text": [
            "65208\n",
            "39132\n"
          ]
        }
      ],
      "source": [
        "# find the number of missing region values that can not be imputed\n",
        "c=0\n",
        "c1=0\n",
        "dif=[]\n",
        "for i,row in data.iterrows():\n",
        "  if(pd.isna(row['Recipient Org:Postal Code']) and pd.isna(row['Recipient Org: Registered Postcode']) and pd.isna(row['Recipient Region'])):\n",
        "    c+=1\n",
        "  if(not pd.isna(row['Recipient Org:Postal Code']) and \n",
        "     not pd.isna(row['Recipient Org: Registered Postcode']) and \n",
        "     row['Recipient Org:Postal Code']!=row['Recipient Org: Registered Postcode']):\n",
        "    dif.append([row['Recipient Org:Postal Code'],row['Recipient Org: Registered Postcode']])\n",
        "    c1+=1\n",
        "print(c)\n",
        "print(c1)\n",
        "#instances where no postcode and a region value is available - 65208\n",
        "#instances where registered postcode is different - 39132"
      ]
    },
    {
      "cell_type": "markdown",
      "source": [
        "- 65208 rows are there that have no postcode and a region value available\n",
        "- its better to drop these rows for now since our study is mainly concerned with the region values\n",
        "- there are 39132 instances when postalcode value is different that registered postcodes, this needs to be handled accordingly"
      ],
      "metadata": {
        "id": "QHs8vj1b1C67"
      }
    },
    {
      "cell_type": "markdown",
      "source": [
        "#### Region value imputation/Drop"
      ],
      "metadata": {
        "id": "b93yE5XK1dOs"
      }
    },
    {
      "cell_type": "code",
      "source": [
        "# Drop all the rows where both the postal code fields and region values are NA\n",
        "data = data.dropna(subset=['Recipient Org:Postal Code', 'Recipient Org: Registered Postcode','Recipient Region'],how=\"all\")\n",
        "data.shape"
      ],
      "metadata": {
        "colab": {
          "base_uri": "https://localhost:8080/"
        },
        "id": "HU5sw2bs2Zov",
        "outputId": "a5844717-a64d-4bff-8e96-99e90b01cf9b"
      },
      "execution_count": 66,
      "outputs": [
        {
          "output_type": "execute_result",
          "data": {
            "text/plain": [
              "(567449, 92)"
            ]
          },
          "metadata": {},
          "execution_count": 66
        }
      ]
    },
    {
      "cell_type": "code",
      "source": [
        "# add data of code to region to a dictionary to make the accessibility faster\n",
        "codeDict = {}\n",
        "for i,row in codeToregion.iterrows():\n",
        "  code = row['PostcodePrefix']\n",
        "  codeDict[code] = row['UKRegion']"
      ],
      "metadata": {
        "id": "RhKW_vYDCDXg"
      },
      "execution_count": 86,
      "outputs": []
    },
    {
      "cell_type": "code",
      "source": [
        "# create a new datatframe to store the rows with modified values\n",
        "dataDict = {} # dictionary to store the values for each column, dataframe can be created from this dictionary which is much faster than appending rows one by one\n",
        "\n",
        "di = 0 # dicitonary index, will be used as dataframe index when dataframe will be created from the dictionary\n",
        "\n",
        "'''\n",
        "We only find below columns useful for our purpose:\n",
        "\n",
        "['Identifier', 'Title', 'Description', 'Currency', 'Amount Applied For',\n",
        "'Amount Awarded', 'Amount Disbursed','Recipient Org:Identifier', 'Recipient Org:Name',\n",
        "'Recipient Org:Charity Number', 'Recipient Org:Company Number', 'Recipient Org:Postal Code','Recipient Region',\n",
        "'Funding Org:Identifier','Funding Org:Name', 'Funding Org:Postal Code']\n",
        "'''\n",
        "\n",
        "# below chunk of code tries to impute region values based on post codes\n",
        "# because of a lot of edge cases it did not seem to make a lot of difference\n",
        "# in retaining good amount of data, it can be explored more in future\n",
        "'''\n",
        "for i,row in data.iterrows():\n",
        "\n",
        "  # if region is available then add the row to the new dataframe without modification\n",
        "  if ((not pd.isna(row['Recipient Region'])) and (row['Recipient Region']!=\"South Central\")):\n",
        "    region = row['Recipient Region']\n",
        "    # data2 = data2.append(row)\n",
        "   \n",
        "  # if region is NA or 'South Central' then modify the region value first and then add the row to the new dataframe\n",
        "  else:\n",
        "    if not pd.isna(row['Recipient Org:Postal Code']):\n",
        "      code = row['Recipient Org:Postal Code'].strip()\n",
        "    elif not pd.isna(row['Recipient Org: Registered Postcode']):\n",
        "      code = row['Recipient Org: Registered Postcode'].strip()\n",
        "\n",
        "    # there are some cases where address is inputted instead of the postal code in the postcode field\n",
        "    # and the postcode is the last part of the address\n",
        "    if len(code)>10: \n",
        "      code = code.split()[-1].strip()\n",
        "      \n",
        "\n",
        "    # we need the postcode area to find the region\n",
        "    area = code.strip()[0]\n",
        "    if(code[1].isdigit()==False):\n",
        "      area+=code[1]\n",
        "    \n",
        "    area = area.strip()\n",
        "    try:\n",
        "      # find the region for the postalcode\n",
        "      # region = codeToregion.loc[codeToregion.PostcodePrefix==area].iat[0,2]\n",
        "      region = codeDict[area]\n",
        "      \n",
        "    except:\n",
        "      print(area, code)\n",
        "      break\n",
        "    # newRow['Recipient Region'] = region\n",
        "    # data2 = data2.append(newRow)\n",
        "  \n",
        "  # add data to the dictionary\n",
        "  dataDict[di] = {'Identifier': row['Identifier'], \n",
        "                  'Title': row['Title'], \n",
        "                  'Description': row['Description'], \n",
        "                  'Currency': row['Currency'], \n",
        "                  'Amount Applied For': row['Amount Applied For'],\n",
        "                  'Amount Awarded': row['Amount Awarded'],\n",
        "                  'Amount Disbursed': row['Amount Disbursed'],\n",
        "                  'Recipient Org:Identifier': row['Recipient Org:Identifier'],\n",
        "                  'Recipient Org:Name': row['Recipient Org:Name'],\n",
        "                  'Recipient Org:Charity Number': row['Recipient Org:Charity Number'],\n",
        "                  'Recipient Org:Company Number': row['Recipient Org:Company Number'],\n",
        "                  'Recipient Org:Postal Code': code,\n",
        "                  'Recipient Region': region,\n",
        "                  'Funding Org:Identifier': row['Funding Org:Identifier'],\n",
        "                  'Funding Org:Name': row['Funding Org:Name'],\n",
        "                  'Funding Org:Postal Code': row['Funding Org:Postal Code']}\n",
        "  di+=1\n",
        "  if di%25000==0:\n",
        "    print(di, end=\" \")\n",
        "\n",
        "data2 = pd.DataFrame.from_dict(dataDict, \"index\")\n",
        "\n",
        "print()\n",
        "print(data2.shape)\n",
        "print(data['Recipient Region'].isna().sum())\n",
        "print(data2['Recipient Region'].isna().sum())\n",
        "'''"
      ],
      "metadata": {
        "id": "Cs_aX8LQ3KlQ"
      },
      "execution_count": null,
      "outputs": []
    },
    {
      "cell_type": "code",
      "source": [
        "# drop NA region values\n",
        "data = data.dropna(subset=['Recipient Region'])\n",
        "# drop rows for south central region\n",
        "data = data[data['Recipient Region']!=\"South Central\"]\n",
        "data.shape"
      ],
      "metadata": {
        "colab": {
          "base_uri": "https://localhost:8080/"
        },
        "id": "ldToePeYdUyi",
        "outputId": "d0311e18-bac5-40d4-e6d8-1ae0d5cffe79"
      },
      "execution_count": 126,
      "outputs": [
        {
          "output_type": "execute_result",
          "data": {
            "text/plain": [
              "(471154, 92)"
            ]
          },
          "metadata": {},
          "execution_count": 126
        }
      ]
    },
    {
      "cell_type": "markdown",
      "metadata": {
        "id": "iPeBk4DXQBM4"
      },
      "source": [
        "Flow of funds among different Regions"
      ]
    },
    {
      "cell_type": "code",
      "execution_count": 127,
      "metadata": {
        "colab": {
          "base_uri": "https://localhost:8080/",
          "height": 669
        },
        "id": "YGQBi67uPyx7",
        "outputId": "2068d19f-f109-4964-aeea-9680d6af6966"
      },
      "outputs": [
        {
          "output_type": "stream",
          "name": "stdout",
          "text": [
            "(471154, 16)\n"
          ]
        },
        {
          "output_type": "execute_result",
          "data": {
            "text/plain": [
              "               Identifier                                              Title  \\\n",
              "220  360G-trafford-SB1704  Essentia and Enliven Courses -  Programme for ...   \n",
              "221  360G-trafford-SB1702                                      Woodland Walk   \n",
              "222  360G-trafford-SB1710                                Rehearsal Room Hire   \n",
              "223  360G-trafford-SB1701                                     Memorial Bench   \n",
              "224  360G-trafford-SB1716                          Fitness for Body and Mind   \n",
              "\n",
              "                                           Description Currency  \\\n",
              "220  help more people suffering with depression and...      GBP   \n",
              "221  Our project will create a woodland walk which ...      GBP   \n",
              "222  Pay rehearsal room costs and ink for words for...      GBP   \n",
              "223  A number of Bowdon Vale residents who wish to ...      GBP   \n",
              "224  Exercises done to music to improve physical an...      GBP   \n",
              "\n",
              "     Amount Applied For  Amount Awarded  Amount Disbursed  \\\n",
              "220             6555.00         6555.00               NaN   \n",
              "221              490.46          490.46               NaN   \n",
              "222              798.00          798.00               NaN   \n",
              "223              452.50          452.50               NaN   \n",
              "224             1680.00         1680.00               NaN   \n",
              "\n",
              "                          Recipient Org:Identifier  \\\n",
              "220                                GB-COH-08819711   \n",
              "221  360G-trafford-friends_of_pickering_lodge_park   \n",
              "222         360G-trafford-longford_community_choir   \n",
              "223            360G-trafford-bowden_vale_residents   \n",
              "224              360G-trafford-hi_tension_workouts   \n",
              "\n",
              "                  Recipient Org:Name Recipient Org:Charity Number  \\\n",
              "220                 Dance System CIC                          NaN   \n",
              "221  Friends of Pickering Lodge Park                          NaN   \n",
              "222         Longford Community Choir                          NaN   \n",
              "223            Bowden Vale Residents                          NaN   \n",
              "224              Hi Tension Workouts                          NaN   \n",
              "\n",
              "    Recipient Org:Company Number Recipient Org:Postal Code Recipient Region  \\\n",
              "220                     08819711                  WA15 7AR       North West   \n",
              "221                          NaN                  WA15 6PX       North West   \n",
              "222                          NaN                   M32 8QS       North West   \n",
              "223                          NaN                  WA14 3BQ       North West   \n",
              "224                          NaN                  M41 6HJ        North West   \n",
              "\n",
              "    Funding Org:Identifier        Funding Org:Name Funding Org:Postal Code  \n",
              "220        GB-COH-04831118  Trafford Housing Trust                     NaN  \n",
              "221        GB-COH-04831118  Trafford Housing Trust                     NaN  \n",
              "222        GB-COH-04831118  Trafford Housing Trust                     NaN  \n",
              "223        GB-COH-04831118  Trafford Housing Trust                     NaN  \n",
              "224        GB-COH-04831118  Trafford Housing Trust                     NaN  "
            ],
            "text/html": [
              "\n",
              "  <div id=\"df-bd9cc4b6-096b-4ce9-8e83-581fd70dfe3d\">\n",
              "    <div class=\"colab-df-container\">\n",
              "      <div>\n",
              "<style scoped>\n",
              "    .dataframe tbody tr th:only-of-type {\n",
              "        vertical-align: middle;\n",
              "    }\n",
              "\n",
              "    .dataframe tbody tr th {\n",
              "        vertical-align: top;\n",
              "    }\n",
              "\n",
              "    .dataframe thead th {\n",
              "        text-align: right;\n",
              "    }\n",
              "</style>\n",
              "<table border=\"1\" class=\"dataframe\">\n",
              "  <thead>\n",
              "    <tr style=\"text-align: right;\">\n",
              "      <th></th>\n",
              "      <th>Identifier</th>\n",
              "      <th>Title</th>\n",
              "      <th>Description</th>\n",
              "      <th>Currency</th>\n",
              "      <th>Amount Applied For</th>\n",
              "      <th>Amount Awarded</th>\n",
              "      <th>Amount Disbursed</th>\n",
              "      <th>Recipient Org:Identifier</th>\n",
              "      <th>Recipient Org:Name</th>\n",
              "      <th>Recipient Org:Charity Number</th>\n",
              "      <th>Recipient Org:Company Number</th>\n",
              "      <th>Recipient Org:Postal Code</th>\n",
              "      <th>Recipient Region</th>\n",
              "      <th>Funding Org:Identifier</th>\n",
              "      <th>Funding Org:Name</th>\n",
              "      <th>Funding Org:Postal Code</th>\n",
              "    </tr>\n",
              "  </thead>\n",
              "  <tbody>\n",
              "    <tr>\n",
              "      <th>220</th>\n",
              "      <td>360G-trafford-SB1704</td>\n",
              "      <td>Essentia and Enliven Courses -  Programme for ...</td>\n",
              "      <td>help more people suffering with depression and...</td>\n",
              "      <td>GBP</td>\n",
              "      <td>6555.00</td>\n",
              "      <td>6555.00</td>\n",
              "      <td>NaN</td>\n",
              "      <td>GB-COH-08819711</td>\n",
              "      <td>Dance System CIC</td>\n",
              "      <td>NaN</td>\n",
              "      <td>08819711</td>\n",
              "      <td>WA15 7AR</td>\n",
              "      <td>North West</td>\n",
              "      <td>GB-COH-04831118</td>\n",
              "      <td>Trafford Housing Trust</td>\n",
              "      <td>NaN</td>\n",
              "    </tr>\n",
              "    <tr>\n",
              "      <th>221</th>\n",
              "      <td>360G-trafford-SB1702</td>\n",
              "      <td>Woodland Walk</td>\n",
              "      <td>Our project will create a woodland walk which ...</td>\n",
              "      <td>GBP</td>\n",
              "      <td>490.46</td>\n",
              "      <td>490.46</td>\n",
              "      <td>NaN</td>\n",
              "      <td>360G-trafford-friends_of_pickering_lodge_park</td>\n",
              "      <td>Friends of Pickering Lodge Park</td>\n",
              "      <td>NaN</td>\n",
              "      <td>NaN</td>\n",
              "      <td>WA15 6PX</td>\n",
              "      <td>North West</td>\n",
              "      <td>GB-COH-04831118</td>\n",
              "      <td>Trafford Housing Trust</td>\n",
              "      <td>NaN</td>\n",
              "    </tr>\n",
              "    <tr>\n",
              "      <th>222</th>\n",
              "      <td>360G-trafford-SB1710</td>\n",
              "      <td>Rehearsal Room Hire</td>\n",
              "      <td>Pay rehearsal room costs and ink for words for...</td>\n",
              "      <td>GBP</td>\n",
              "      <td>798.00</td>\n",
              "      <td>798.00</td>\n",
              "      <td>NaN</td>\n",
              "      <td>360G-trafford-longford_community_choir</td>\n",
              "      <td>Longford Community Choir</td>\n",
              "      <td>NaN</td>\n",
              "      <td>NaN</td>\n",
              "      <td>M32 8QS</td>\n",
              "      <td>North West</td>\n",
              "      <td>GB-COH-04831118</td>\n",
              "      <td>Trafford Housing Trust</td>\n",
              "      <td>NaN</td>\n",
              "    </tr>\n",
              "    <tr>\n",
              "      <th>223</th>\n",
              "      <td>360G-trafford-SB1701</td>\n",
              "      <td>Memorial Bench</td>\n",
              "      <td>A number of Bowdon Vale residents who wish to ...</td>\n",
              "      <td>GBP</td>\n",
              "      <td>452.50</td>\n",
              "      <td>452.50</td>\n",
              "      <td>NaN</td>\n",
              "      <td>360G-trafford-bowden_vale_residents</td>\n",
              "      <td>Bowden Vale Residents</td>\n",
              "      <td>NaN</td>\n",
              "      <td>NaN</td>\n",
              "      <td>WA14 3BQ</td>\n",
              "      <td>North West</td>\n",
              "      <td>GB-COH-04831118</td>\n",
              "      <td>Trafford Housing Trust</td>\n",
              "      <td>NaN</td>\n",
              "    </tr>\n",
              "    <tr>\n",
              "      <th>224</th>\n",
              "      <td>360G-trafford-SB1716</td>\n",
              "      <td>Fitness for Body and Mind</td>\n",
              "      <td>Exercises done to music to improve physical an...</td>\n",
              "      <td>GBP</td>\n",
              "      <td>1680.00</td>\n",
              "      <td>1680.00</td>\n",
              "      <td>NaN</td>\n",
              "      <td>360G-trafford-hi_tension_workouts</td>\n",
              "      <td>Hi Tension Workouts</td>\n",
              "      <td>NaN</td>\n",
              "      <td>NaN</td>\n",
              "      <td>M41 6HJ</td>\n",
              "      <td>North West</td>\n",
              "      <td>GB-COH-04831118</td>\n",
              "      <td>Trafford Housing Trust</td>\n",
              "      <td>NaN</td>\n",
              "    </tr>\n",
              "  </tbody>\n",
              "</table>\n",
              "</div>\n",
              "      <button class=\"colab-df-convert\" onclick=\"convertToInteractive('df-bd9cc4b6-096b-4ce9-8e83-581fd70dfe3d')\"\n",
              "              title=\"Convert this dataframe to an interactive table.\"\n",
              "              style=\"display:none;\">\n",
              "        \n",
              "  <svg xmlns=\"http://www.w3.org/2000/svg\" height=\"24px\"viewBox=\"0 0 24 24\"\n",
              "       width=\"24px\">\n",
              "    <path d=\"M0 0h24v24H0V0z\" fill=\"none\"/>\n",
              "    <path d=\"M18.56 5.44l.94 2.06.94-2.06 2.06-.94-2.06-.94-.94-2.06-.94 2.06-2.06.94zm-11 1L8.5 8.5l.94-2.06 2.06-.94-2.06-.94L8.5 2.5l-.94 2.06-2.06.94zm10 10l.94 2.06.94-2.06 2.06-.94-2.06-.94-.94-2.06-.94 2.06-2.06.94z\"/><path d=\"M17.41 7.96l-1.37-1.37c-.4-.4-.92-.59-1.43-.59-.52 0-1.04.2-1.43.59L10.3 9.45l-7.72 7.72c-.78.78-.78 2.05 0 2.83L4 21.41c.39.39.9.59 1.41.59.51 0 1.02-.2 1.41-.59l7.78-7.78 2.81-2.81c.8-.78.8-2.07 0-2.86zM5.41 20L4 18.59l7.72-7.72 1.47 1.35L5.41 20z\"/>\n",
              "  </svg>\n",
              "      </button>\n",
              "      \n",
              "  <style>\n",
              "    .colab-df-container {\n",
              "      display:flex;\n",
              "      flex-wrap:wrap;\n",
              "      gap: 12px;\n",
              "    }\n",
              "\n",
              "    .colab-df-convert {\n",
              "      background-color: #E8F0FE;\n",
              "      border: none;\n",
              "      border-radius: 50%;\n",
              "      cursor: pointer;\n",
              "      display: none;\n",
              "      fill: #1967D2;\n",
              "      height: 32px;\n",
              "      padding: 0 0 0 0;\n",
              "      width: 32px;\n",
              "    }\n",
              "\n",
              "    .colab-df-convert:hover {\n",
              "      background-color: #E2EBFA;\n",
              "      box-shadow: 0px 1px 2px rgba(60, 64, 67, 0.3), 0px 1px 3px 1px rgba(60, 64, 67, 0.15);\n",
              "      fill: #174EA6;\n",
              "    }\n",
              "\n",
              "    [theme=dark] .colab-df-convert {\n",
              "      background-color: #3B4455;\n",
              "      fill: #D2E3FC;\n",
              "    }\n",
              "\n",
              "    [theme=dark] .colab-df-convert:hover {\n",
              "      background-color: #434B5C;\n",
              "      box-shadow: 0px 1px 3px 1px rgba(0, 0, 0, 0.15);\n",
              "      filter: drop-shadow(0px 1px 2px rgba(0, 0, 0, 0.3));\n",
              "      fill: #FFFFFF;\n",
              "    }\n",
              "  </style>\n",
              "\n",
              "      <script>\n",
              "        const buttonEl =\n",
              "          document.querySelector('#df-bd9cc4b6-096b-4ce9-8e83-581fd70dfe3d button.colab-df-convert');\n",
              "        buttonEl.style.display =\n",
              "          google.colab.kernel.accessAllowed ? 'block' : 'none';\n",
              "\n",
              "        async function convertToInteractive(key) {\n",
              "          const element = document.querySelector('#df-bd9cc4b6-096b-4ce9-8e83-581fd70dfe3d');\n",
              "          const dataTable =\n",
              "            await google.colab.kernel.invokeFunction('convertToInteractive',\n",
              "                                                     [key], {});\n",
              "          if (!dataTable) return;\n",
              "\n",
              "          const docLinkHtml = 'Like what you see? Visit the ' +\n",
              "            '<a target=\"_blank\" href=https://colab.research.google.com/notebooks/data_table.ipynb>data table notebook</a>'\n",
              "            + ' to learn more about interactive tables.';\n",
              "          element.innerHTML = '';\n",
              "          dataTable['output_type'] = 'display_data';\n",
              "          await google.colab.output.renderOutput(dataTable, element);\n",
              "          const docLink = document.createElement('div');\n",
              "          docLink.innerHTML = docLinkHtml;\n",
              "          element.appendChild(docLink);\n",
              "        }\n",
              "      </script>\n",
              "    </div>\n",
              "  </div>\n",
              "  "
            ]
          },
          "metadata": {},
          "execution_count": 127
        }
      ],
      "source": [
        "#Using 'Recipient Region' column for the beneficiary organization and UKRegion column for the funcding organisation\n",
        "df = data[['Identifier', 'Title', 'Description', 'Currency', 'Amount Applied For',\n",
        "       'Amount Awarded', 'Amount Disbursed','Recipient Org:Identifier', 'Recipient Org:Name',\n",
        "       'Recipient Org:Charity Number', 'Recipient Org:Company Number', 'Recipient Org:Postal Code','Recipient Region',\n",
        "       'Funding Org:Identifier','Funding Org:Name', 'Funding Org:Postal Code']]\n",
        "\n",
        "\n",
        "print(df.shape)\n",
        "df.head()"
      ]
    },
    {
      "cell_type": "code",
      "execution_count": 128,
      "metadata": {
        "colab": {
          "base_uri": "https://localhost:8080/"
        },
        "id": "E4r10Bw5Wb6R",
        "outputId": "d254b413-74af-4c68-dc42-cc4ff8b7a9fe"
      },
      "outputs": [
        {
          "output_type": "execute_result",
          "data": {
            "text/plain": [
              "['East Midlands',\n",
              " 'East of England',\n",
              " 'London',\n",
              " 'North East',\n",
              " 'North West',\n",
              " 'Northern Ireland',\n",
              " 'Scotland',\n",
              " 'South East Coast',\n",
              " 'South West',\n",
              " 'Wales',\n",
              " 'West Midlands',\n",
              " 'Yorkshire and the Humber']"
            ]
          },
          "metadata": {},
          "execution_count": 128
        }
      ],
      "source": [
        "sorted(df['Recipient Region'].unique())"
      ]
    },
    {
      "cell_type": "code",
      "execution_count": 129,
      "metadata": {
        "colab": {
          "base_uri": "https://localhost:8080/"
        },
        "id": "qtOYfDE3Z3y8",
        "outputId": "1e7aead4-4928-4042-c8f8-291b53dcbd0a"
      },
      "outputs": [
        {
          "output_type": "execute_result",
          "data": {
            "text/plain": [
              "array(['GBP', 'USD', 'EUR'], dtype=object)"
            ]
          },
          "metadata": {},
          "execution_count": 129
        }
      ],
      "source": [
        "df['Currency'].unique()"
      ]
    },
    {
      "cell_type": "code",
      "execution_count": 130,
      "metadata": {
        "colab": {
          "base_uri": "https://localhost:8080/"
        },
        "id": "ECNzZ_avbIky",
        "outputId": "bf5eded5-b0d2-4792-cf85-3bf1ea4e251c"
      },
      "outputs": [
        {
          "output_type": "execute_result",
          "data": {
            "text/plain": [
              "Counter({'EUR': 1, 'GBP': 471137, 'USD': 16})"
            ]
          },
          "metadata": {},
          "execution_count": 130
        }
      ],
      "source": [
        "Counter(df['Currency'])"
      ]
    },
    {
      "cell_type": "code",
      "execution_count": 131,
      "metadata": {
        "colab": {
          "base_uri": "https://localhost:8080/"
        },
        "id": "ik25LD4mbVvo",
        "outputId": "39bb0e18-19f3-457d-9c8d-c1c457504325"
      },
      "outputs": [
        {
          "output_type": "execute_result",
          "data": {
            "text/plain": [
              "(471137, 16)"
            ]
          },
          "metadata": {},
          "execution_count": 131
        }
      ],
      "source": [
        "#Dropping the rows with USD and EUR\n",
        "df = df[df['Currency']=='GBP']\n",
        "df.shape"
      ]
    },
    {
      "cell_type": "code",
      "execution_count": 132,
      "metadata": {
        "colab": {
          "base_uri": "https://localhost:8080/"
        },
        "id": "PScWZEkNXXaD",
        "outputId": "22b5fdde-3264-4613-d34b-dca0c749296b"
      },
      "outputs": [
        {
          "output_type": "execute_result",
          "data": {
            "text/plain": [
              "Counter({'East Midlands': 31601,\n",
              "         'East of England': 36302,\n",
              "         'London': 72499,\n",
              "         'North East': 34408,\n",
              "         'North West': 54266,\n",
              "         'Northern Ireland': 14878,\n",
              "         'Scotland': 52706,\n",
              "         'South East Coast': 26626,\n",
              "         'South West': 42134,\n",
              "         'Wales': 22618,\n",
              "         'West Midlands': 41045,\n",
              "         'Yorkshire and the Humber': 42054})"
            ]
          },
          "metadata": {},
          "execution_count": 132
        }
      ],
      "source": [
        "Counter(df['Recipient Region'])"
      ]
    },
    {
      "cell_type": "code",
      "execution_count": 133,
      "metadata": {
        "id": "qKZyLjPnWw4a"
      },
      "outputs": [],
      "source": [
        "# Let's give codes to these regions:\n",
        "\n",
        "regionCodes = {'East Midlands':1,\n",
        "              'East of England':2,\n",
        "              'London':3,\n",
        "              'North East':4,\n",
        "              'North West':5,\n",
        "              'Northern Ireland':6,\n",
        "              'Scotland':7,\n",
        "              'South East Coast':8,\n",
        "              'South West':9,\n",
        "              'Wales':10,\n",
        "              'West Midlands':11,\n",
        "              'Yorkshire and the Humber':12}"
      ]
    },
    {
      "cell_type": "code",
      "execution_count": 134,
      "metadata": {
        "colab": {
          "base_uri": "https://localhost:8080/",
          "height": 669
        },
        "id": "zMHM_GdrcxtR",
        "outputId": "b3231491-51ba-4378-99fb-c06fc769c659"
      },
      "outputs": [
        {
          "output_type": "stream",
          "name": "stdout",
          "text": [
            "(471137, 16)\n"
          ]
        },
        {
          "output_type": "execute_result",
          "data": {
            "text/plain": [
              "             Identifier                                              Title  \\\n",
              "0  360G-trafford-SB1704  Essentia and Enliven Courses -  Programme for ...   \n",
              "1  360G-trafford-SB1702                                      Woodland Walk   \n",
              "2  360G-trafford-SB1710                                Rehearsal Room Hire   \n",
              "3  360G-trafford-SB1701                                     Memorial Bench   \n",
              "4  360G-trafford-SB1716                          Fitness for Body and Mind   \n",
              "\n",
              "                                         Description Currency  \\\n",
              "0  help more people suffering with depression and...      GBP   \n",
              "1  Our project will create a woodland walk which ...      GBP   \n",
              "2  Pay rehearsal room costs and ink for words for...      GBP   \n",
              "3  A number of Bowdon Vale residents who wish to ...      GBP   \n",
              "4  Exercises done to music to improve physical an...      GBP   \n",
              "\n",
              "   Amount Applied For  Amount Awarded  Amount Disbursed  \\\n",
              "0             6555.00         6555.00               NaN   \n",
              "1              490.46          490.46               NaN   \n",
              "2              798.00          798.00               NaN   \n",
              "3              452.50          452.50               NaN   \n",
              "4             1680.00         1680.00               NaN   \n",
              "\n",
              "                        Recipient Org:Identifier  \\\n",
              "0                                GB-COH-08819711   \n",
              "1  360G-trafford-friends_of_pickering_lodge_park   \n",
              "2         360G-trafford-longford_community_choir   \n",
              "3            360G-trafford-bowden_vale_residents   \n",
              "4              360G-trafford-hi_tension_workouts   \n",
              "\n",
              "                Recipient Org:Name Recipient Org:Charity Number  \\\n",
              "0                 Dance System CIC                          NaN   \n",
              "1  Friends of Pickering Lodge Park                          NaN   \n",
              "2         Longford Community Choir                          NaN   \n",
              "3            Bowden Vale Residents                          NaN   \n",
              "4              Hi Tension Workouts                          NaN   \n",
              "\n",
              "  Recipient Org:Company Number Recipient Org:Postal Code  Recipient Region  \\\n",
              "0                     08819711                  WA15 7AR                 5   \n",
              "1                          NaN                  WA15 6PX                 5   \n",
              "2                          NaN                   M32 8QS                 5   \n",
              "3                          NaN                  WA14 3BQ                 5   \n",
              "4                          NaN                  M41 6HJ                  5   \n",
              "\n",
              "  Funding Org:Identifier        Funding Org:Name Funding Org:Postal Code  \n",
              "0        GB-COH-04831118  Trafford Housing Trust                     NaN  \n",
              "1        GB-COH-04831118  Trafford Housing Trust                     NaN  \n",
              "2        GB-COH-04831118  Trafford Housing Trust                     NaN  \n",
              "3        GB-COH-04831118  Trafford Housing Trust                     NaN  \n",
              "4        GB-COH-04831118  Trafford Housing Trust                     NaN  "
            ],
            "text/html": [
              "\n",
              "  <div id=\"df-cf3df06a-f9ac-4afa-8ee2-44a15bf326de\">\n",
              "    <div class=\"colab-df-container\">\n",
              "      <div>\n",
              "<style scoped>\n",
              "    .dataframe tbody tr th:only-of-type {\n",
              "        vertical-align: middle;\n",
              "    }\n",
              "\n",
              "    .dataframe tbody tr th {\n",
              "        vertical-align: top;\n",
              "    }\n",
              "\n",
              "    .dataframe thead th {\n",
              "        text-align: right;\n",
              "    }\n",
              "</style>\n",
              "<table border=\"1\" class=\"dataframe\">\n",
              "  <thead>\n",
              "    <tr style=\"text-align: right;\">\n",
              "      <th></th>\n",
              "      <th>Identifier</th>\n",
              "      <th>Title</th>\n",
              "      <th>Description</th>\n",
              "      <th>Currency</th>\n",
              "      <th>Amount Applied For</th>\n",
              "      <th>Amount Awarded</th>\n",
              "      <th>Amount Disbursed</th>\n",
              "      <th>Recipient Org:Identifier</th>\n",
              "      <th>Recipient Org:Name</th>\n",
              "      <th>Recipient Org:Charity Number</th>\n",
              "      <th>Recipient Org:Company Number</th>\n",
              "      <th>Recipient Org:Postal Code</th>\n",
              "      <th>Recipient Region</th>\n",
              "      <th>Funding Org:Identifier</th>\n",
              "      <th>Funding Org:Name</th>\n",
              "      <th>Funding Org:Postal Code</th>\n",
              "    </tr>\n",
              "  </thead>\n",
              "  <tbody>\n",
              "    <tr>\n",
              "      <th>0</th>\n",
              "      <td>360G-trafford-SB1704</td>\n",
              "      <td>Essentia and Enliven Courses -  Programme for ...</td>\n",
              "      <td>help more people suffering with depression and...</td>\n",
              "      <td>GBP</td>\n",
              "      <td>6555.00</td>\n",
              "      <td>6555.00</td>\n",
              "      <td>NaN</td>\n",
              "      <td>GB-COH-08819711</td>\n",
              "      <td>Dance System CIC</td>\n",
              "      <td>NaN</td>\n",
              "      <td>08819711</td>\n",
              "      <td>WA15 7AR</td>\n",
              "      <td>5</td>\n",
              "      <td>GB-COH-04831118</td>\n",
              "      <td>Trafford Housing Trust</td>\n",
              "      <td>NaN</td>\n",
              "    </tr>\n",
              "    <tr>\n",
              "      <th>1</th>\n",
              "      <td>360G-trafford-SB1702</td>\n",
              "      <td>Woodland Walk</td>\n",
              "      <td>Our project will create a woodland walk which ...</td>\n",
              "      <td>GBP</td>\n",
              "      <td>490.46</td>\n",
              "      <td>490.46</td>\n",
              "      <td>NaN</td>\n",
              "      <td>360G-trafford-friends_of_pickering_lodge_park</td>\n",
              "      <td>Friends of Pickering Lodge Park</td>\n",
              "      <td>NaN</td>\n",
              "      <td>NaN</td>\n",
              "      <td>WA15 6PX</td>\n",
              "      <td>5</td>\n",
              "      <td>GB-COH-04831118</td>\n",
              "      <td>Trafford Housing Trust</td>\n",
              "      <td>NaN</td>\n",
              "    </tr>\n",
              "    <tr>\n",
              "      <th>2</th>\n",
              "      <td>360G-trafford-SB1710</td>\n",
              "      <td>Rehearsal Room Hire</td>\n",
              "      <td>Pay rehearsal room costs and ink for words for...</td>\n",
              "      <td>GBP</td>\n",
              "      <td>798.00</td>\n",
              "      <td>798.00</td>\n",
              "      <td>NaN</td>\n",
              "      <td>360G-trafford-longford_community_choir</td>\n",
              "      <td>Longford Community Choir</td>\n",
              "      <td>NaN</td>\n",
              "      <td>NaN</td>\n",
              "      <td>M32 8QS</td>\n",
              "      <td>5</td>\n",
              "      <td>GB-COH-04831118</td>\n",
              "      <td>Trafford Housing Trust</td>\n",
              "      <td>NaN</td>\n",
              "    </tr>\n",
              "    <tr>\n",
              "      <th>3</th>\n",
              "      <td>360G-trafford-SB1701</td>\n",
              "      <td>Memorial Bench</td>\n",
              "      <td>A number of Bowdon Vale residents who wish to ...</td>\n",
              "      <td>GBP</td>\n",
              "      <td>452.50</td>\n",
              "      <td>452.50</td>\n",
              "      <td>NaN</td>\n",
              "      <td>360G-trafford-bowden_vale_residents</td>\n",
              "      <td>Bowden Vale Residents</td>\n",
              "      <td>NaN</td>\n",
              "      <td>NaN</td>\n",
              "      <td>WA14 3BQ</td>\n",
              "      <td>5</td>\n",
              "      <td>GB-COH-04831118</td>\n",
              "      <td>Trafford Housing Trust</td>\n",
              "      <td>NaN</td>\n",
              "    </tr>\n",
              "    <tr>\n",
              "      <th>4</th>\n",
              "      <td>360G-trafford-SB1716</td>\n",
              "      <td>Fitness for Body and Mind</td>\n",
              "      <td>Exercises done to music to improve physical an...</td>\n",
              "      <td>GBP</td>\n",
              "      <td>1680.00</td>\n",
              "      <td>1680.00</td>\n",
              "      <td>NaN</td>\n",
              "      <td>360G-trafford-hi_tension_workouts</td>\n",
              "      <td>Hi Tension Workouts</td>\n",
              "      <td>NaN</td>\n",
              "      <td>NaN</td>\n",
              "      <td>M41 6HJ</td>\n",
              "      <td>5</td>\n",
              "      <td>GB-COH-04831118</td>\n",
              "      <td>Trafford Housing Trust</td>\n",
              "      <td>NaN</td>\n",
              "    </tr>\n",
              "  </tbody>\n",
              "</table>\n",
              "</div>\n",
              "      <button class=\"colab-df-convert\" onclick=\"convertToInteractive('df-cf3df06a-f9ac-4afa-8ee2-44a15bf326de')\"\n",
              "              title=\"Convert this dataframe to an interactive table.\"\n",
              "              style=\"display:none;\">\n",
              "        \n",
              "  <svg xmlns=\"http://www.w3.org/2000/svg\" height=\"24px\"viewBox=\"0 0 24 24\"\n",
              "       width=\"24px\">\n",
              "    <path d=\"M0 0h24v24H0V0z\" fill=\"none\"/>\n",
              "    <path d=\"M18.56 5.44l.94 2.06.94-2.06 2.06-.94-2.06-.94-.94-2.06-.94 2.06-2.06.94zm-11 1L8.5 8.5l.94-2.06 2.06-.94-2.06-.94L8.5 2.5l-.94 2.06-2.06.94zm10 10l.94 2.06.94-2.06 2.06-.94-2.06-.94-.94-2.06-.94 2.06-2.06.94z\"/><path d=\"M17.41 7.96l-1.37-1.37c-.4-.4-.92-.59-1.43-.59-.52 0-1.04.2-1.43.59L10.3 9.45l-7.72 7.72c-.78.78-.78 2.05 0 2.83L4 21.41c.39.39.9.59 1.41.59.51 0 1.02-.2 1.41-.59l7.78-7.78 2.81-2.81c.8-.78.8-2.07 0-2.86zM5.41 20L4 18.59l7.72-7.72 1.47 1.35L5.41 20z\"/>\n",
              "  </svg>\n",
              "      </button>\n",
              "      \n",
              "  <style>\n",
              "    .colab-df-container {\n",
              "      display:flex;\n",
              "      flex-wrap:wrap;\n",
              "      gap: 12px;\n",
              "    }\n",
              "\n",
              "    .colab-df-convert {\n",
              "      background-color: #E8F0FE;\n",
              "      border: none;\n",
              "      border-radius: 50%;\n",
              "      cursor: pointer;\n",
              "      display: none;\n",
              "      fill: #1967D2;\n",
              "      height: 32px;\n",
              "      padding: 0 0 0 0;\n",
              "      width: 32px;\n",
              "    }\n",
              "\n",
              "    .colab-df-convert:hover {\n",
              "      background-color: #E2EBFA;\n",
              "      box-shadow: 0px 1px 2px rgba(60, 64, 67, 0.3), 0px 1px 3px 1px rgba(60, 64, 67, 0.15);\n",
              "      fill: #174EA6;\n",
              "    }\n",
              "\n",
              "    [theme=dark] .colab-df-convert {\n",
              "      background-color: #3B4455;\n",
              "      fill: #D2E3FC;\n",
              "    }\n",
              "\n",
              "    [theme=dark] .colab-df-convert:hover {\n",
              "      background-color: #434B5C;\n",
              "      box-shadow: 0px 1px 3px 1px rgba(0, 0, 0, 0.15);\n",
              "      filter: drop-shadow(0px 1px 2px rgba(0, 0, 0, 0.3));\n",
              "      fill: #FFFFFF;\n",
              "    }\n",
              "  </style>\n",
              "\n",
              "      <script>\n",
              "        const buttonEl =\n",
              "          document.querySelector('#df-cf3df06a-f9ac-4afa-8ee2-44a15bf326de button.colab-df-convert');\n",
              "        buttonEl.style.display =\n",
              "          google.colab.kernel.accessAllowed ? 'block' : 'none';\n",
              "\n",
              "        async function convertToInteractive(key) {\n",
              "          const element = document.querySelector('#df-cf3df06a-f9ac-4afa-8ee2-44a15bf326de');\n",
              "          const dataTable =\n",
              "            await google.colab.kernel.invokeFunction('convertToInteractive',\n",
              "                                                     [key], {});\n",
              "          if (!dataTable) return;\n",
              "\n",
              "          const docLinkHtml = 'Like what you see? Visit the ' +\n",
              "            '<a target=\"_blank\" href=https://colab.research.google.com/notebooks/data_table.ipynb>data table notebook</a>'\n",
              "            + ' to learn more about interactive tables.';\n",
              "          element.innerHTML = '';\n",
              "          dataTable['output_type'] = 'display_data';\n",
              "          await google.colab.output.renderOutput(dataTable, element);\n",
              "          const docLink = document.createElement('div');\n",
              "          docLink.innerHTML = docLinkHtml;\n",
              "          element.appendChild(docLink);\n",
              "        }\n",
              "      </script>\n",
              "    </div>\n",
              "  </div>\n",
              "  "
            ]
          },
          "metadata": {},
          "execution_count": 134
        }
      ],
      "source": [
        "#Replacing region names with codes in the dataframe\n",
        "df['Recipient Region'] = df['Recipient Region'].replace(list(regionCodes.keys()),list(regionCodes.values()))\n",
        "df = df.reset_index(drop=True)\n",
        "print(df.shape)\n",
        "df.head()"
      ]
    },
    {
      "cell_type": "code",
      "execution_count": 135,
      "metadata": {
        "colab": {
          "base_uri": "https://localhost:8080/",
          "height": 237
        },
        "id": "4c-xge-Idyjx",
        "outputId": "dc60721b-d9a7-4d0a-81d7-e129282f7582"
      },
      "outputs": [
        {
          "output_type": "execute_result",
          "data": {
            "text/plain": [
              "                                           name charityNumber  \\\n",
              "id                                                              \n",
              "GB-COH-04530979   SOMERSET COMMUNITY FOUNDATION           NaN   \n",
              "GB-COH-04831118  TRAFFORD HOUSING TRUST LIMITED           NaN   \n",
              "GB-COH-03037449         LONDON COUNCILS LIMITED           NaN   \n",
              "GB-COH-RC000766      THE ENGLISH SPORTS COUNCIL           NaN   \n",
              "GB-GOR-D9              Department for Transport           NaN   \n",
              "\n",
              "                                          streetAddress addressLocality  \\\n",
              "id                                                                        \n",
              "GB-COH-04530979  YEOMAN HOUSE, BATH AND WEST SHOWGROUND  SHEPTON MALLET   \n",
              "GB-COH-04831118      SALE POINT, 126 - 150 WASHWAY ROAD            SALE   \n",
              "GB-COH-03037449         59 1/2 SOUTHWARK STREET, LONDON             NaN   \n",
              "GB-COH-RC000766                   21 Bloomsburry Street          LONDON   \n",
              "GB-GOR-D9                                           NaN             NaN   \n",
              "\n",
              "                addressRegion postalCode  UKRegion  \n",
              "id                                                  \n",
              "GB-COH-04530979      SOMERSET    BA4 6QN         9  \n",
              "GB-COH-04831118    MANCHESTER    M33 6AG         5  \n",
              "GB-COH-03037449           NaN    SE1 0AL         3  \n",
              "GB-COH-RC000766           NaN   WC1B 3HF         3  \n",
              "GB-GOR-D9                 NaN        NaN         0  "
            ],
            "text/html": [
              "\n",
              "  <div id=\"df-0a1c2f99-f675-4544-ab15-384cee543218\">\n",
              "    <div class=\"colab-df-container\">\n",
              "      <div>\n",
              "<style scoped>\n",
              "    .dataframe tbody tr th:only-of-type {\n",
              "        vertical-align: middle;\n",
              "    }\n",
              "\n",
              "    .dataframe tbody tr th {\n",
              "        vertical-align: top;\n",
              "    }\n",
              "\n",
              "    .dataframe thead th {\n",
              "        text-align: right;\n",
              "    }\n",
              "</style>\n",
              "<table border=\"1\" class=\"dataframe\">\n",
              "  <thead>\n",
              "    <tr style=\"text-align: right;\">\n",
              "      <th></th>\n",
              "      <th>name</th>\n",
              "      <th>charityNumber</th>\n",
              "      <th>streetAddress</th>\n",
              "      <th>addressLocality</th>\n",
              "      <th>addressRegion</th>\n",
              "      <th>postalCode</th>\n",
              "      <th>UKRegion</th>\n",
              "    </tr>\n",
              "    <tr>\n",
              "      <th>id</th>\n",
              "      <th></th>\n",
              "      <th></th>\n",
              "      <th></th>\n",
              "      <th></th>\n",
              "      <th></th>\n",
              "      <th></th>\n",
              "      <th></th>\n",
              "    </tr>\n",
              "  </thead>\n",
              "  <tbody>\n",
              "    <tr>\n",
              "      <th>GB-COH-04530979</th>\n",
              "      <td>SOMERSET COMMUNITY FOUNDATION</td>\n",
              "      <td>NaN</td>\n",
              "      <td>YEOMAN HOUSE, BATH AND WEST SHOWGROUND</td>\n",
              "      <td>SHEPTON MALLET</td>\n",
              "      <td>SOMERSET</td>\n",
              "      <td>BA4 6QN</td>\n",
              "      <td>9</td>\n",
              "    </tr>\n",
              "    <tr>\n",
              "      <th>GB-COH-04831118</th>\n",
              "      <td>TRAFFORD HOUSING TRUST LIMITED</td>\n",
              "      <td>NaN</td>\n",
              "      <td>SALE POINT, 126 - 150 WASHWAY ROAD</td>\n",
              "      <td>SALE</td>\n",
              "      <td>MANCHESTER</td>\n",
              "      <td>M33 6AG</td>\n",
              "      <td>5</td>\n",
              "    </tr>\n",
              "    <tr>\n",
              "      <th>GB-COH-03037449</th>\n",
              "      <td>LONDON COUNCILS LIMITED</td>\n",
              "      <td>NaN</td>\n",
              "      <td>59 1/2 SOUTHWARK STREET, LONDON</td>\n",
              "      <td>NaN</td>\n",
              "      <td>NaN</td>\n",
              "      <td>SE1 0AL</td>\n",
              "      <td>3</td>\n",
              "    </tr>\n",
              "    <tr>\n",
              "      <th>GB-COH-RC000766</th>\n",
              "      <td>THE ENGLISH SPORTS COUNCIL</td>\n",
              "      <td>NaN</td>\n",
              "      <td>21 Bloomsburry Street</td>\n",
              "      <td>LONDON</td>\n",
              "      <td>NaN</td>\n",
              "      <td>WC1B 3HF</td>\n",
              "      <td>3</td>\n",
              "    </tr>\n",
              "    <tr>\n",
              "      <th>GB-GOR-D9</th>\n",
              "      <td>Department for Transport</td>\n",
              "      <td>NaN</td>\n",
              "      <td>NaN</td>\n",
              "      <td>NaN</td>\n",
              "      <td>NaN</td>\n",
              "      <td>NaN</td>\n",
              "      <td>0</td>\n",
              "    </tr>\n",
              "  </tbody>\n",
              "</table>\n",
              "</div>\n",
              "      <button class=\"colab-df-convert\" onclick=\"convertToInteractive('df-0a1c2f99-f675-4544-ab15-384cee543218')\"\n",
              "              title=\"Convert this dataframe to an interactive table.\"\n",
              "              style=\"display:none;\">\n",
              "        \n",
              "  <svg xmlns=\"http://www.w3.org/2000/svg\" height=\"24px\"viewBox=\"0 0 24 24\"\n",
              "       width=\"24px\">\n",
              "    <path d=\"M0 0h24v24H0V0z\" fill=\"none\"/>\n",
              "    <path d=\"M18.56 5.44l.94 2.06.94-2.06 2.06-.94-2.06-.94-.94-2.06-.94 2.06-2.06.94zm-11 1L8.5 8.5l.94-2.06 2.06-.94-2.06-.94L8.5 2.5l-.94 2.06-2.06.94zm10 10l.94 2.06.94-2.06 2.06-.94-2.06-.94-.94-2.06-.94 2.06-2.06.94z\"/><path d=\"M17.41 7.96l-1.37-1.37c-.4-.4-.92-.59-1.43-.59-.52 0-1.04.2-1.43.59L10.3 9.45l-7.72 7.72c-.78.78-.78 2.05 0 2.83L4 21.41c.39.39.9.59 1.41.59.51 0 1.02-.2 1.41-.59l7.78-7.78 2.81-2.81c.8-.78.8-2.07 0-2.86zM5.41 20L4 18.59l7.72-7.72 1.47 1.35L5.41 20z\"/>\n",
              "  </svg>\n",
              "      </button>\n",
              "      \n",
              "  <style>\n",
              "    .colab-df-container {\n",
              "      display:flex;\n",
              "      flex-wrap:wrap;\n",
              "      gap: 12px;\n",
              "    }\n",
              "\n",
              "    .colab-df-convert {\n",
              "      background-color: #E8F0FE;\n",
              "      border: none;\n",
              "      border-radius: 50%;\n",
              "      cursor: pointer;\n",
              "      display: none;\n",
              "      fill: #1967D2;\n",
              "      height: 32px;\n",
              "      padding: 0 0 0 0;\n",
              "      width: 32px;\n",
              "    }\n",
              "\n",
              "    .colab-df-convert:hover {\n",
              "      background-color: #E2EBFA;\n",
              "      box-shadow: 0px 1px 2px rgba(60, 64, 67, 0.3), 0px 1px 3px 1px rgba(60, 64, 67, 0.15);\n",
              "      fill: #174EA6;\n",
              "    }\n",
              "\n",
              "    [theme=dark] .colab-df-convert {\n",
              "      background-color: #3B4455;\n",
              "      fill: #D2E3FC;\n",
              "    }\n",
              "\n",
              "    [theme=dark] .colab-df-convert:hover {\n",
              "      background-color: #434B5C;\n",
              "      box-shadow: 0px 1px 3px 1px rgba(0, 0, 0, 0.15);\n",
              "      filter: drop-shadow(0px 1px 2px rgba(0, 0, 0, 0.3));\n",
              "      fill: #FFFFFF;\n",
              "    }\n",
              "  </style>\n",
              "\n",
              "      <script>\n",
              "        const buttonEl =\n",
              "          document.querySelector('#df-0a1c2f99-f675-4544-ab15-384cee543218 button.colab-df-convert');\n",
              "        buttonEl.style.display =\n",
              "          google.colab.kernel.accessAllowed ? 'block' : 'none';\n",
              "\n",
              "        async function convertToInteractive(key) {\n",
              "          const element = document.querySelector('#df-0a1c2f99-f675-4544-ab15-384cee543218');\n",
              "          const dataTable =\n",
              "            await google.colab.kernel.invokeFunction('convertToInteractive',\n",
              "                                                     [key], {});\n",
              "          if (!dataTable) return;\n",
              "\n",
              "          const docLinkHtml = 'Like what you see? Visit the ' +\n",
              "            '<a target=\"_blank\" href=https://colab.research.google.com/notebooks/data_table.ipynb>data table notebook</a>'\n",
              "            + ' to learn more about interactive tables.';\n",
              "          element.innerHTML = '';\n",
              "          dataTable['output_type'] = 'display_data';\n",
              "          await google.colab.output.renderOutput(dataTable, element);\n",
              "          const docLink = document.createElement('div');\n",
              "          docLink.innerHTML = docLinkHtml;\n",
              "          element.appendChild(docLink);\n",
              "        }\n",
              "      </script>\n",
              "    </div>\n",
              "  </div>\n",
              "  "
            ]
          },
          "metadata": {},
          "execution_count": 135
        }
      ],
      "source": [
        "#Replacing region names with codes in the fundingOrg dataframe\n",
        "fundingOrg['UKRegion'] = fundingOrg['UKRegion'].replace(list(regionCodes.keys()),list(regionCodes.values()))\n",
        "fundingOrg = fundingOrg.set_index('id')\n",
        "# fill na values as 0 for now\n",
        "fundingOrg['UKRegion'] = fundingOrg['UKRegion'].fillna(0).astype('int')\n",
        "fundingOrg.head()"
      ]
    },
    {
      "cell_type": "code",
      "execution_count": 136,
      "metadata": {
        "colab": {
          "base_uri": "https://localhost:8080/"
        },
        "id": "BVu2opNAeBPt",
        "outputId": "1aa59a2f-bf2f-46ed-b817-55d244535a19"
      },
      "outputs": [
        {
          "output_type": "execute_result",
          "data": {
            "text/plain": [
              "Counter({0: 18,\n",
              "         1: 2,\n",
              "         2: 8,\n",
              "         3: 115,\n",
              "         4: 15,\n",
              "         5: 18,\n",
              "         6: 2,\n",
              "         7: 10,\n",
              "         8: 13,\n",
              "         9: 10,\n",
              "         10: 2,\n",
              "         11: 4})"
            ]
          },
          "metadata": {},
          "execution_count": 136
        }
      ],
      "source": [
        "Counter(fundingOrg['UKRegion'])"
      ]
    },
    {
      "cell_type": "markdown",
      "metadata": {
        "id": "6nM6Kieb6TGW"
      },
      "source": [
        "More than half(115) funding organisations are in London. "
      ]
    },
    {
      "cell_type": "markdown",
      "source": [
        "# Build the network to analyze flow of funds"
      ],
      "metadata": {
        "id": "MiINIbzgebd-"
      }
    },
    {
      "cell_type": "markdown",
      "source": [
        "#### Graph 1\n",
        "- each edge corresponds to 1 grant in the dataset\n",
        "- internal fundings (for a region) ignored"
      ],
      "metadata": {
        "id": "8dd36RIjg1m7"
      }
    },
    {
      "cell_type": "code",
      "execution_count": 137,
      "metadata": {
        "colab": {
          "base_uri": "https://localhost:8080/"
        },
        "id": "62ApUTVLUM4c",
        "outputId": "577b55f9-d671-4740-9d42-ec9ad0788842"
      },
      "outputs": [
        {
          "output_type": "stream",
          "name": "stdout",
          "text": [
            "0 50000 100000 150000 200000 250000 300000 350000 400000 450000 \n",
            "Internal Fundings : 81416\n"
          ]
        }
      ],
      "source": [
        "# Building the Graph where nodes represent different regions\n",
        "g = nx.MultiDiGraph()\n",
        "label_map = {}\n",
        "\n",
        "# the nodes will be different regions\n",
        "for key,value in regionCodes.items():\n",
        "  g.add_node(value)\n",
        "  label_map[value] = key\n",
        "\n",
        "funds_map = {}\n",
        "grant_map = {}\n",
        "c=0\n",
        "for i,row in df.iterrows():\n",
        "  if(i%50000==0):\n",
        "    print(i,end=\" \")\n",
        "  # ignore the funding orgs with no region info\n",
        "  if(fundingOrg.at[row['Funding Org:Identifier'],'UKRegion']!=0):\n",
        "    receiver = row['Recipient Region']\n",
        "    funder = fundingOrg.at[row['Funding Org:Identifier'],'UKRegion']\n",
        "    #avoid the cases of fund flows within the same region for now\n",
        "    if(receiver==funder):\n",
        "      c+=1\n",
        "      continue\n",
        "\n",
        "    # each edge in the network corresponds to 1 grant\n",
        "    g.add_edge(funder,receiver,amount=row['Amount Awarded'],grant=row['Identifier'])\n",
        "    # funds_map[(funder,receiver)] = row['Amount Awarded']\n",
        "    # grant_map[(funder,receiver)] = row['Identifier']\n",
        "    \n",
        "nx.set_node_attributes(g, label_map, name=\"Label\")\n",
        "print(\"\\nInternal Fundings :\",c)\n",
        "# nx.set_edge_attributes(g, attrs)"
      ]
    },
    {
      "cell_type": "code",
      "execution_count": 138,
      "metadata": {
        "colab": {
          "base_uri": "https://localhost:8080/"
        },
        "id": "qQmXmjsGpyBy",
        "outputId": "2fbe8ef5-3c5b-4192-e1d6-6b60cfca52d2"
      },
      "outputs": [
        {
          "output_type": "stream",
          "name": "stdout",
          "text": [
            "12\n",
            "291257\n"
          ]
        }
      ],
      "source": [
        "print(g.number_of_nodes())\n",
        "print(g.number_of_edges())"
      ]
    },
    {
      "cell_type": "markdown",
      "source": [
        "- the edges for the 18 funding organisations + the edges from internal fundings are missing from the network"
      ],
      "metadata": {
        "id": "udFHvuwggSQ6"
      }
    },
    {
      "cell_type": "code",
      "execution_count": null,
      "metadata": {
        "id": "XJ8NErJWm7tO"
      },
      "outputs": [],
      "source": [
        "nx.write_gexf(g, \"grants.gexf\",version='1.2draft')"
      ]
    },
    {
      "cell_type": "code",
      "source": [
        "degrees = [g.degree(n) for n in g.nodes()]\n",
        "\n",
        "fig = plt.figure(figsize = (10, 5))\n",
        "\n",
        "# plt.bar(g.nodes(), degrees, color ='maroon')\n",
        "plt.hist(degrees,bins=90)\n",
        "\n",
        "plt.xlabel(\"No. of Grants\")\n",
        "plt.ylabel(\"No. of Organisations\")\n",
        "plt.title(\"No. of Organisations distributed across No. of Grants in a Region\")\n",
        "plt.show()\n",
        "\n"
      ],
      "metadata": {
        "colab": {
          "base_uri": "https://localhost:8080/",
          "height": 350
        },
        "id": "67nCbCwmuChi",
        "outputId": "3b1ffd6c-9cc8-44fc-9f3d-8ffca9292f41"
      },
      "execution_count": null,
      "outputs": [
        {
          "output_type": "display_data",
          "data": {
            "text/plain": [
              "<Figure size 720x360 with 1 Axes>"
            ],
            "image/png": "[encoded data removed]"
          },
          "metadata": {
            "needs_background": "light"
          }
        }
      ]
    },
    {
      "cell_type": "markdown",
      "source": [
        "#### Graph 2\n",
        "- merged parallel edges - all grants from A to B merged into a single edge\n",
        "- internal fundings not included"
      ],
      "metadata": {
        "id": "yb2Zj9BbhDCo"
      }
    },
    {
      "cell_type": "code",
      "execution_count": null,
      "metadata": {
        "colab": {
          "base_uri": "https://localhost:8080/"
        },
        "id": "kwAWPv0DydIU",
        "outputId": "18d806ea-10a8-46e9-f4b2-696e23b05d4d"
      },
      "outputs": [
        {
          "name": "stdout",
          "output_type": "stream",
          "text": [
            "0 50000 100000 150000 200000 250000 300000 350000 400000 450000 \n",
            "Internal Fundings : 81416\n",
            "Nodes: 12\n",
            "Edges: 102\n"
          ]
        }
      ],
      "source": [
        "# Building the Graph where nodes represent different regions\n",
        "# MERGING PARALLEL EDGES\n",
        "# TOTAL AMOUNT WILL BE THE SUM OF ALL GRANTS\n",
        "# THE NUM_GRANTS ATTRIBUTE FOR EACH EDGE CONTAINS THE NUMBER OF GRANTS\n",
        "g1 = nx.MultiDiGraph()\n",
        "label_map = {}\n",
        "for key,value in regionCodes.items():\n",
        "  g1.add_node(value)\n",
        "  label_map[value] = key\n",
        "\n",
        "funds_map = {}\n",
        "grant_map = {}\n",
        "c=0\n",
        "for i,row in df.iterrows():\n",
        "  if(i%50000==0):\n",
        "    print(i,end=\" \")\n",
        "  if(fundingOrg.at[row['Funding Org:Identifier'],'UKRegion']!=0):\n",
        "    receiver = row['Recipient Region']\n",
        "    funder = fundingOrg.at[row['Funding Org:Identifier'],'UKRegion']\n",
        "    #avoid the cases of fund flows within the same region for now\n",
        "    if(receiver==funder):\n",
        "      c+=1\n",
        "      continue\n",
        "    \n",
        "    if((funder,receiver) in funds_map):\n",
        "      funds_map[(funder,receiver)] += row['Amount Awarded']\n",
        "      grant_map[(funder,receiver)] += 1\n",
        "    else:\n",
        "      funds_map[(funder,receiver)] = row['Amount Awarded']\n",
        "      grant_map[(funder,receiver)] = 1\n",
        "\n",
        "for key in funds_map:\n",
        "  g1.add_edge(key[0],key[1],amount=funds_map[key],num_grants=grant_map[key])\n",
        "nx.set_node_attributes(g1, label_map, name=\"Label\")\n",
        "print(\"\\nInternal Fundings :\",c)\n",
        "print(\"Nodes:\",g1.number_of_nodes())\n",
        "print(\"Edges:\",g1.number_of_edges())"
      ]
    },
    {
      "cell_type": "code",
      "execution_count": null,
      "metadata": {
        "id": "FbQ8eJbQydlC"
      },
      "outputs": [],
      "source": [
        "nx.write_gexf(g1, \"grants_merged.gexf\",version='1.2draft')"
      ]
    },
    {
      "cell_type": "markdown",
      "source": [
        "#### Graph 3\n",
        "- parallel edges merged\n",
        "- internal fundings(self loops) included"
      ],
      "metadata": {
        "id": "4YwcwRanhScO"
      }
    },
    {
      "cell_type": "code",
      "execution_count": null,
      "metadata": {
        "colab": {
          "base_uri": "https://localhost:8080/"
        },
        "id": "s00OnIK3uXsg",
        "outputId": "0682c753-da17-469b-d96b-2d13d374e53d"
      },
      "outputs": [
        {
          "output_type": "stream",
          "name": "stdout",
          "text": [
            "0 50000 100000 150000 200000 250000 300000 350000 400000 450000 \n",
            "Internal Fundings : 0\n",
            "Nodes: 12\n",
            "Edges: 113\n"
          ]
        }
      ],
      "source": [
        "#In this graph internal fundings are also taken into consideration - self loops for nodes\n",
        "g11 = nx.MultiDiGraph()\n",
        "label_map = {}\n",
        "for key,value in regionCodes.items():\n",
        "  g11.add_node(value)\n",
        "  label_map[value] = key\n",
        "\n",
        "funds_map = {}\n",
        "grant_map = {}\n",
        "c=0\n",
        "for i,row in df.iterrows():\n",
        "  if(i%50000==0):\n",
        "    print(i,end=\" \")\n",
        "  if(fundingOrg.at[row['Funding Org:Identifier'],'UKRegion']!=0):\n",
        "    receiver = row['Recipient Region']\n",
        "    funder = fundingOrg.at[row['Funding Org:Identifier'],'UKRegion']\n",
        "    if((funder,receiver) in funds_map):\n",
        "      funds_map[(funder,receiver)] += row['Amount Awarded']\n",
        "      grant_map[(funder,receiver)] += 1\n",
        "    else:\n",
        "      funds_map[(funder,receiver)] = row['Amount Awarded']\n",
        "      grant_map[(funder,receiver)] = 1\n",
        "\n",
        "for key in funds_map:\n",
        "  g11.add_edge(key[0],key[1],amount=funds_map[key],num_grants=grant_map[key])\n",
        "nx.set_node_attributes(g11, label_map, name=\"Label\")\n",
        "print(\"\\nInternal Fundings :\",c)\n",
        "print(\"Nodes:\",g11.number_of_nodes())\n",
        "print(\"Edges:\",g11.number_of_edges())"
      ]
    },
    {
      "cell_type": "code",
      "execution_count": null,
      "metadata": {
        "id": "IunmcWOMu3uM"
      },
      "outputs": [],
      "source": [
        "nx.write_gexf(g11, \"grants_merged_internal.gexf\",version='1.2draft')"
      ]
    },
    {
      "cell_type": "markdown",
      "source": [
        "#### Graph 4 \n",
        "- merged parallel edges\n",
        "- internal fundings included\n",
        "- all fundings from London region not included"
      ],
      "metadata": {
        "id": "1oxi2QxUhoNE"
      }
    },
    {
      "cell_type": "code",
      "execution_count": null,
      "metadata": {
        "colab": {
          "base_uri": "https://localhost:8080/"
        },
        "id": "HKhfp2BvoBwH",
        "outputId": "189aee90-fc7a-4395-f5b8-ec79ec983ab0"
      },
      "outputs": [
        {
          "name": "stdout",
          "output_type": "stream",
          "text": [
            "0 50000 100000 150000 200000 250000 300000 350000 400000 450000 \n",
            "Internal Fundings : 29900\n",
            "Nodes: 12\n",
            "Edges: 91\n"
          ]
        }
      ],
      "source": [
        "# Building the Graph where nodes represent different regions\n",
        "# MERGING PARALLEL EDGES\n",
        "# TOTAL AMOUNT WILL BE THE SUM OF ALL GRANTS\n",
        "# THE NUM_GRANTS ATTRIBUTE FOR EACH EDGE CONTAINS THE NUMBER OF GRANTS\n",
        "# NOT INCLUDING THE GRANTS CORRESPONDING TO LONDON  \n",
        "g2 = nx.MultiDiGraph()\n",
        "label_map = {}\n",
        "for key,value in regionCodes.items():\n",
        "  g2.add_node(value)\n",
        "  label_map[value] = key\n",
        "\n",
        "funds_map = {}\n",
        "grant_map = {}\n",
        "c=0\n",
        "for i,row in df.iterrows():\n",
        "  if(i%50000==0):\n",
        "    print(i,end=\" \")\n",
        "  if(fundingOrg.at[row['Funding Org:Identifier'],'UKRegion'] not in [0,3]):\n",
        "    receiver = row['Recipient Region']\n",
        "    funder = fundingOrg.at[row['Funding Org:Identifier'],'UKRegion']\n",
        "    #avoid the cases of fund flows within the same region for now\n",
        "    if(receiver==funder):\n",
        "      c+=1\n",
        "      continue\n",
        "    \n",
        "    if((funder,receiver) in funds_map):\n",
        "      funds_map[(funder,receiver)] += row['Amount Awarded']\n",
        "      grant_map[(funder,receiver)] += 1\n",
        "    else:\n",
        "      funds_map[(funder,receiver)] = row['Amount Awarded']\n",
        "      grant_map[(funder,receiver)] = 1\n",
        "\n",
        "for key in funds_map:\n",
        "  g2.add_edge(key[0],key[1],amount=funds_map[key],num_grants=grant_map[key])\n",
        "nx.set_node_attributes(g2, label_map, name=\"Label\")\n",
        "print(\"\\nInternal Fundings :\",c)\n",
        "print(\"Nodes:\",g2.number_of_nodes())\n",
        "print(\"Edges:\",g2.number_of_edges())"
      ]
    },
    {
      "cell_type": "code",
      "execution_count": null,
      "metadata": {
        "id": "Xlb4vfjVor-A"
      },
      "outputs": [],
      "source": [
        "nx.write_gexf(g2, \"grants_merged_without_london.gexf\",version='1.2draft')"
      ]
    },
    {
      "cell_type": "markdown",
      "metadata": {
        "id": "v80_xnWrlcWT"
      },
      "source": [
        "## Focusing on Universities"
      ]
    },
    {
      "cell_type": "code",
      "execution_count": 139,
      "metadata": {
        "colab": {
          "base_uri": "https://localhost:8080/",
          "height": 687
        },
        "id": "TaT2WAlD0-eY",
        "outputId": "bf7b5634-d28b-472e-e5f5-f58c0ffb8b78"
      },
      "outputs": [
        {
          "output_type": "stream",
          "name": "stdout",
          "text": [
            "(12628, 16)\n"
          ]
        },
        {
          "output_type": "execute_result",
          "data": {
            "text/plain": [
              "                          Identifier  \\\n",
              "0  360G-SE-2010013900LOTT_2011-10-04   \n",
              "1  360G-SE-2011000317LOTT_2011-10-05   \n",
              "2  360G-SE-2011011056EXCH_2011-11-04   \n",
              "3  360G-SE-2011018552EXCH_2011-12-09   \n",
              "4  360G-SE-2011019957EXCH_2011-12-16   \n",
              "\n",
              "                                               Title  \\\n",
              "0                              Judo Excel Equipment    \n",
              "1  Cambridge University Pythons American Football...   \n",
              "2  University of Birmingham Lions American Footba...   \n",
              "3                  London FE Exchequer Pilot Project   \n",
              "4          PowerBase Wet Recovery and Athlete Lounge   \n",
              "\n",
              "                                         Description Currency  \\\n",
              "0  Funding under Sport England's Small Grants fun...      GBP   \n",
              "1  Funding under Sport England's Small Grants fun...      GBP   \n",
              "2  Funding under Sport England's Sportsmatch fund...      GBP   \n",
              "3  Funding under Sport England's Core GIA funding...      GBP   \n",
              "4  Funding under Sport England's English Institut...      GBP   \n",
              "\n",
              "   Amount Applied For  Amount Awarded  Amount Disbursed  \\\n",
              "0                 NaN          3400.0               NaN   \n",
              "1                 NaN          8044.0               NaN   \n",
              "2                 NaN          5450.0               NaN   \n",
              "3                 NaN        100248.0               NaN   \n",
              "4                 NaN        250000.0               NaN   \n",
              "\n",
              "                            Recipient Org:Identifier  \\\n",
              "0                         360G-SE-University-of-Bath   \n",
              "1  360G-SE-Cambridge-University-Pythons-American-...   \n",
              "2  360G-SE-University-of-Birmingham-Lions-America...   \n",
              "3        360G-SE-Brunel-University-(Pro-Active-West)   \n",
              "4                    360G-SE-Loughborough-University   \n",
              "\n",
              "                                  Recipient Org:Name  \\\n",
              "0                                 University of Bath   \n",
              "1  Cambridge University Pythons American Football...   \n",
              "2  University of Birmingham Lions American Footba...   \n",
              "3                Brunel University (Pro-Active West)   \n",
              "4                            Loughborough University   \n",
              "\n",
              "  Recipient Org:Charity Number Recipient Org:Company Number  \\\n",
              "0                          NaN                          NaN   \n",
              "1                          NaN                          NaN   \n",
              "2                          NaN                          NaN   \n",
              "3                          NaN                          NaN   \n",
              "4                          NaN                          NaN   \n",
              "\n",
              "  Recipient Org:Postal Code  Recipient Region Funding Org:Identifier  \\\n",
              "0                  BA14 0TN                 9        GB-COH-RC000766   \n",
              "1                  CB23 7XX                 2        GB-COH-RC000766   \n",
              "2                   B15 2TT                11        GB-COH-RC000766   \n",
              "3                   UB8 3PH                 3        GB-COH-RC000766   \n",
              "4                  LE11 3TU                 1        GB-COH-RC000766   \n",
              "\n",
              "  Funding Org:Name Funding Org:Postal Code  \n",
              "0    Sport England                     NaN  \n",
              "1    Sport England                     NaN  \n",
              "2    Sport England                     NaN  \n",
              "3    Sport England                     NaN  \n",
              "4    Sport England                     NaN  "
            ],
            "text/html": [
              "\n",
              "  <div id=\"df-222938b7-6cb5-4e87-82e7-e3a0b1b591a9\">\n",
              "    <div class=\"colab-df-container\">\n",
              "      <div>\n",
              "<style scoped>\n",
              "    .dataframe tbody tr th:only-of-type {\n",
              "        vertical-align: middle;\n",
              "    }\n",
              "\n",
              "    .dataframe tbody tr th {\n",
              "        vertical-align: top;\n",
              "    }\n",
              "\n",
              "    .dataframe thead th {\n",
              "        text-align: right;\n",
              "    }\n",
              "</style>\n",
              "<table border=\"1\" class=\"dataframe\">\n",
              "  <thead>\n",
              "    <tr style=\"text-align: right;\">\n",
              "      <th></th>\n",
              "      <th>Identifier</th>\n",
              "      <th>Title</th>\n",
              "      <th>Description</th>\n",
              "      <th>Currency</th>\n",
              "      <th>Amount Applied For</th>\n",
              "      <th>Amount Awarded</th>\n",
              "      <th>Amount Disbursed</th>\n",
              "      <th>Recipient Org:Identifier</th>\n",
              "      <th>Recipient Org:Name</th>\n",
              "      <th>Recipient Org:Charity Number</th>\n",
              "      <th>Recipient Org:Company Number</th>\n",
              "      <th>Recipient Org:Postal Code</th>\n",
              "      <th>Recipient Region</th>\n",
              "      <th>Funding Org:Identifier</th>\n",
              "      <th>Funding Org:Name</th>\n",
              "      <th>Funding Org:Postal Code</th>\n",
              "    </tr>\n",
              "  </thead>\n",
              "  <tbody>\n",
              "    <tr>\n",
              "      <th>0</th>\n",
              "      <td>360G-SE-2010013900LOTT_2011-10-04</td>\n",
              "      <td>Judo Excel Equipment</td>\n",
              "      <td>Funding under Sport England's Small Grants fun...</td>\n",
              "      <td>GBP</td>\n",
              "      <td>NaN</td>\n",
              "      <td>3400.0</td>\n",
              "      <td>NaN</td>\n",
              "      <td>360G-SE-University-of-Bath</td>\n",
              "      <td>University of Bath</td>\n",
              "      <td>NaN</td>\n",
              "      <td>NaN</td>\n",
              "      <td>BA14 0TN</td>\n",
              "      <td>9</td>\n",
              "      <td>GB-COH-RC000766</td>\n",
              "      <td>Sport England</td>\n",
              "      <td>NaN</td>\n",
              "    </tr>\n",
              "    <tr>\n",
              "      <th>1</th>\n",
              "      <td>360G-SE-2011000317LOTT_2011-10-05</td>\n",
              "      <td>Cambridge University Pythons American Football...</td>\n",
              "      <td>Funding under Sport England's Small Grants fun...</td>\n",
              "      <td>GBP</td>\n",
              "      <td>NaN</td>\n",
              "      <td>8044.0</td>\n",
              "      <td>NaN</td>\n",
              "      <td>360G-SE-Cambridge-University-Pythons-American-...</td>\n",
              "      <td>Cambridge University Pythons American Football...</td>\n",
              "      <td>NaN</td>\n",
              "      <td>NaN</td>\n",
              "      <td>CB23 7XX</td>\n",
              "      <td>2</td>\n",
              "      <td>GB-COH-RC000766</td>\n",
              "      <td>Sport England</td>\n",
              "      <td>NaN</td>\n",
              "    </tr>\n",
              "    <tr>\n",
              "      <th>2</th>\n",
              "      <td>360G-SE-2011011056EXCH_2011-11-04</td>\n",
              "      <td>University of Birmingham Lions American Footba...</td>\n",
              "      <td>Funding under Sport England's Sportsmatch fund...</td>\n",
              "      <td>GBP</td>\n",
              "      <td>NaN</td>\n",
              "      <td>5450.0</td>\n",
              "      <td>NaN</td>\n",
              "      <td>360G-SE-University-of-Birmingham-Lions-America...</td>\n",
              "      <td>University of Birmingham Lions American Footba...</td>\n",
              "      <td>NaN</td>\n",
              "      <td>NaN</td>\n",
              "      <td>B15 2TT</td>\n",
              "      <td>11</td>\n",
              "      <td>GB-COH-RC000766</td>\n",
              "      <td>Sport England</td>\n",
              "      <td>NaN</td>\n",
              "    </tr>\n",
              "    <tr>\n",
              "      <th>3</th>\n",
              "      <td>360G-SE-2011018552EXCH_2011-12-09</td>\n",
              "      <td>London FE Exchequer Pilot Project</td>\n",
              "      <td>Funding under Sport England's Core GIA funding...</td>\n",
              "      <td>GBP</td>\n",
              "      <td>NaN</td>\n",
              "      <td>100248.0</td>\n",
              "      <td>NaN</td>\n",
              "      <td>360G-SE-Brunel-University-(Pro-Active-West)</td>\n",
              "      <td>Brunel University (Pro-Active West)</td>\n",
              "      <td>NaN</td>\n",
              "      <td>NaN</td>\n",
              "      <td>UB8 3PH</td>\n",
              "      <td>3</td>\n",
              "      <td>GB-COH-RC000766</td>\n",
              "      <td>Sport England</td>\n",
              "      <td>NaN</td>\n",
              "    </tr>\n",
              "    <tr>\n",
              "      <th>4</th>\n",
              "      <td>360G-SE-2011019957EXCH_2011-12-16</td>\n",
              "      <td>PowerBase Wet Recovery and Athlete Lounge</td>\n",
              "      <td>Funding under Sport England's English Institut...</td>\n",
              "      <td>GBP</td>\n",
              "      <td>NaN</td>\n",
              "      <td>250000.0</td>\n",
              "      <td>NaN</td>\n",
              "      <td>360G-SE-Loughborough-University</td>\n",
              "      <td>Loughborough University</td>\n",
              "      <td>NaN</td>\n",
              "      <td>NaN</td>\n",
              "      <td>LE11 3TU</td>\n",
              "      <td>1</td>\n",
              "      <td>GB-COH-RC000766</td>\n",
              "      <td>Sport England</td>\n",
              "      <td>NaN</td>\n",
              "    </tr>\n",
              "  </tbody>\n",
              "</table>\n",
              "</div>\n",
              "      <button class=\"colab-df-convert\" onclick=\"convertToInteractive('df-222938b7-6cb5-4e87-82e7-e3a0b1b591a9')\"\n",
              "              title=\"Convert this dataframe to an interactive table.\"\n",
              "              style=\"display:none;\">\n",
              "        \n",
              "  <svg xmlns=\"http://www.w3.org/2000/svg\" height=\"24px\"viewBox=\"0 0 24 24\"\n",
              "       width=\"24px\">\n",
              "    <path d=\"M0 0h24v24H0V0z\" fill=\"none\"/>\n",
              "    <path d=\"M18.56 5.44l.94 2.06.94-2.06 2.06-.94-2.06-.94-.94-2.06-.94 2.06-2.06.94zm-11 1L8.5 8.5l.94-2.06 2.06-.94-2.06-.94L8.5 2.5l-.94 2.06-2.06.94zm10 10l.94 2.06.94-2.06 2.06-.94-2.06-.94-.94-2.06-.94 2.06-2.06.94z\"/><path d=\"M17.41 7.96l-1.37-1.37c-.4-.4-.92-.59-1.43-.59-.52 0-1.04.2-1.43.59L10.3 9.45l-7.72 7.72c-.78.78-.78 2.05 0 2.83L4 21.41c.39.39.9.59 1.41.59.51 0 1.02-.2 1.41-.59l7.78-7.78 2.81-2.81c.8-.78.8-2.07 0-2.86zM5.41 20L4 18.59l7.72-7.72 1.47 1.35L5.41 20z\"/>\n",
              "  </svg>\n",
              "      </button>\n",
              "      \n",
              "  <style>\n",
              "    .colab-df-container {\n",
              "      display:flex;\n",
              "      flex-wrap:wrap;\n",
              "      gap: 12px;\n",
              "    }\n",
              "\n",
              "    .colab-df-convert {\n",
              "      background-color: #E8F0FE;\n",
              "      border: none;\n",
              "      border-radius: 50%;\n",
              "      cursor: pointer;\n",
              "      display: none;\n",
              "      fill: #1967D2;\n",
              "      height: 32px;\n",
              "      padding: 0 0 0 0;\n",
              "      width: 32px;\n",
              "    }\n",
              "\n",
              "    .colab-df-convert:hover {\n",
              "      background-color: #E2EBFA;\n",
              "      box-shadow: 0px 1px 2px rgba(60, 64, 67, 0.3), 0px 1px 3px 1px rgba(60, 64, 67, 0.15);\n",
              "      fill: #174EA6;\n",
              "    }\n",
              "\n",
              "    [theme=dark] .colab-df-convert {\n",
              "      background-color: #3B4455;\n",
              "      fill: #D2E3FC;\n",
              "    }\n",
              "\n",
              "    [theme=dark] .colab-df-convert:hover {\n",
              "      background-color: #434B5C;\n",
              "      box-shadow: 0px 1px 3px 1px rgba(0, 0, 0, 0.15);\n",
              "      filter: drop-shadow(0px 1px 2px rgba(0, 0, 0, 0.3));\n",
              "      fill: #FFFFFF;\n",
              "    }\n",
              "  </style>\n",
              "\n",
              "      <script>\n",
              "        const buttonEl =\n",
              "          document.querySelector('#df-222938b7-6cb5-4e87-82e7-e3a0b1b591a9 button.colab-df-convert');\n",
              "        buttonEl.style.display =\n",
              "          google.colab.kernel.accessAllowed ? 'block' : 'none';\n",
              "\n",
              "        async function convertToInteractive(key) {\n",
              "          const element = document.querySelector('#df-222938b7-6cb5-4e87-82e7-e3a0b1b591a9');\n",
              "          const dataTable =\n",
              "            await google.colab.kernel.invokeFunction('convertToInteractive',\n",
              "                                                     [key], {});\n",
              "          if (!dataTable) return;\n",
              "\n",
              "          const docLinkHtml = 'Like what you see? Visit the ' +\n",
              "            '<a target=\"_blank\" href=https://colab.research.google.com/notebooks/data_table.ipynb>data table notebook</a>'\n",
              "            + ' to learn more about interactive tables.';\n",
              "          element.innerHTML = '';\n",
              "          dataTable['output_type'] = 'display_data';\n",
              "          await google.colab.output.renderOutput(dataTable, element);\n",
              "          const docLink = document.createElement('div');\n",
              "          docLink.innerHTML = docLinkHtml;\n",
              "          element.appendChild(docLink);\n",
              "        }\n",
              "      </script>\n",
              "    </div>\n",
              "  </div>\n",
              "  "
            ]
          },
          "metadata": {},
          "execution_count": 139
        }
      ],
      "source": [
        "df2 = df.dropna(subset=['Recipient Org:Name'])\n",
        "uni_recip= df2[df2['Recipient Org:Name'].str.upper().str.contains('UNIVERSITY')]\n",
        "print(uni_recip.shape)\n",
        "uni_recip = uni_recip.reset_index(drop=True)\n",
        "uni_recip.head()\n"
      ]
    },
    {
      "cell_type": "code",
      "execution_count": 142,
      "metadata": {
        "colab": {
          "base_uri": "https://localhost:8080/"
        },
        "id": "vcE7iIjYydnv",
        "outputId": "de7f744e-74d9-439d-d2d2-49575a6075ce"
      },
      "outputs": [
        {
          "output_type": "stream",
          "name": "stdout",
          "text": [
            "{1: 'East Midlands', 2: 'East of England', 3: 'London', 4: 'North East', 5: 'North West', 6: 'Northern Ireland', 7: 'Scotland', 8: 'South East Coast', 9: 'South West', 10: 'Wales', 11: 'West Midlands', 12: 'Yorkshire and the Humber'}\n"
          ]
        }
      ],
      "source": [
        "codeToRegions = {y:x for x,y in regionCodes.items()}\n",
        "print(codeToRegions)"
      ]
    },
    {
      "cell_type": "code",
      "execution_count": 143,
      "metadata": {
        "colab": {
          "base_uri": "https://localhost:8080/"
        },
        "id": "dhLUNYZMFSwO",
        "outputId": "3ad13127-12eb-4a84-e548-c0e30286d080"
      },
      "outputs": [
        {
          "output_type": "stream",
          "name": "stdout",
          "text": [
            "South West 1100\n",
            "East of England 1506\n",
            "West Midlands 1394\n",
            "London 1578\n",
            "East Midlands 863\n",
            "North East 893\n",
            "Yorkshire and the Humber 904\n",
            "North West 1526\n",
            "South East Coast 681\n",
            "Scotland 1474\n",
            "Wales 481\n",
            "Northern Ireland 228\n"
          ]
        }
      ],
      "source": [
        "unc = Counter(uni_recip['Recipient Region'])\n",
        "for i,j in unc.items():\n",
        "  print(codeToRegions[i],j)"
      ]
    },
    {
      "cell_type": "markdown",
      "source": [
        "#### Graph 5\n",
        "- only university recipients included\n",
        "- in region fundings ignored"
      ],
      "metadata": {
        "id": "P047eO7HiTfi"
      }
    },
    {
      "cell_type": "code",
      "execution_count": null,
      "metadata": {
        "colab": {
          "base_uri": "https://localhost:8080/"
        },
        "id": "QGF3ZUvmnJuE",
        "outputId": "70b9725f-6857-4c36-89e2-9d6e08d65588"
      },
      "outputs": [
        {
          "name": "stdout",
          "output_type": "stream",
          "text": [
            "0 1000 2000 3000 4000 5000 6000 7000 8000 9000 10000 11000 12000 \n",
            "Internal Fundings : 527\n",
            "Nodes: 12\n",
            "Edges: 31\n"
          ]
        }
      ],
      "source": [
        "# Flow of Funds towards Universities - in region funding ignored\n",
        "g3 = nx.MultiDiGraph()\n",
        "label_map = {}\n",
        "for key,value in regionCodes.items():\n",
        "  g1.add_node(value)\n",
        "  label_map[value] = key\n",
        "\n",
        "funds_map = {}\n",
        "grant_map = {}\n",
        "c=0\n",
        "for i,row in uni_recip.iterrows():\n",
        "  if(i%1000==0):\n",
        "    print(i,end=\" \")\n",
        "  if(fundingOrg.at[row['Funding Org:Identifier'],'UKRegion']!=0):\n",
        "    receiver = row['Recipient Region']\n",
        "    funder = fundingOrg.at[row['Funding Org:Identifier'],'UKRegion']\n",
        "    #avoid the cases of fund flows within the same region for now\n",
        "    if(receiver==funder):\n",
        "      c+=1\n",
        "      continue\n",
        "    \n",
        "    if((funder,receiver) in funds_map):\n",
        "      funds_map[(funder,receiver)] += row['Amount Awarded']\n",
        "      grant_map[(funder,receiver)] += 1\n",
        "    else:\n",
        "      funds_map[(funder,receiver)] = row['Amount Awarded']\n",
        "      grant_map[(funder,receiver)] = 1\n",
        "\n",
        "for key in funds_map:\n",
        "  g3.add_edge(key[0],key[1],amount=funds_map[key],num_grants=grant_map[key])\n",
        "nx.set_node_attributes(g3, label_map, name=\"Label\")\n",
        "print(\"\\nInternal Fundings :\",c)\n",
        "print(\"Nodes:\",g3.number_of_nodes())\n",
        "print(\"Edges:\",g3.number_of_edges())"
      ]
    },
    {
      "cell_type": "code",
      "execution_count": null,
      "metadata": {
        "id": "ge988vuo0-kN"
      },
      "outputs": [],
      "source": [
        "nx.write_gexf(g3, \"grants_universities_merged_wit_london.gexf\",version='1.2draft')"
      ]
    },
    {
      "cell_type": "markdown",
      "source": [
        "#### Graph 6\n",
        "- university recipients\n",
        "- in region fundings included"
      ],
      "metadata": {
        "id": "O-DZu-fMmCdi"
      }
    },
    {
      "cell_type": "code",
      "execution_count": null,
      "metadata": {
        "colab": {
          "base_uri": "https://localhost:8080/"
        },
        "id": "SMk5QWzE4Gvt",
        "outputId": "e3f0364c-aab9-4454-f090-27e04fc5c93d"
      },
      "outputs": [
        {
          "name": "stdout",
          "output_type": "stream",
          "text": [
            "0 1000 2000 3000 4000 5000 6000 7000 8000 9000 10000 11000 12000 \n",
            "Total Internal Fundings Amount: 138998186.34066728\n",
            "Nodes: 12\n",
            "Edges: 38\n"
          ]
        }
      ],
      "source": [
        "#Flow of Funds towards Universities - including in region funding - self loops\n",
        "g4 = nx.MultiDiGraph()\n",
        "label_map = {}\n",
        "for key,value in regionCodes.items():\n",
        "  g4.add_node(value)\n",
        "  label_map[value] = key\n",
        "\n",
        "funds_map = {}\n",
        "grant_map = {}\n",
        "c=0\n",
        "for i,row in uni_recip.iterrows():\n",
        "  if(i%1000==0):\n",
        "    print(i,end=\" \")\n",
        "  if(fundingOrg.at[row['Funding Org:Identifier'],'UKRegion']!=0):\n",
        "    receiver = row['Recipient Region']\n",
        "    funder = fundingOrg.at[row['Funding Org:Identifier'],'UKRegion']\n",
        "    #avoid the cases of fund flows within the same region for now\n",
        "    if(receiver==funder):\n",
        "      c+=row['Amount Awarded']\n",
        "      \n",
        "    \n",
        "    if((funder,receiver) in funds_map):\n",
        "      funds_map[(funder,receiver)] += row['Amount Awarded']\n",
        "      grant_map[(funder,receiver)] += 1\n",
        "    else:\n",
        "      funds_map[(funder,receiver)] = row['Amount Awarded']\n",
        "      grant_map[(funder,receiver)] = 1\n",
        "\n",
        "for key in funds_map:\n",
        "  g4.add_edge(key[0],key[1],amount=funds_map[key],num_grants=grant_map[key])\n",
        "nx.set_node_attributes(g4, label_map, name=\"Label\")\n",
        "print(\"\\nTotal Internal Fundings Amount:\",c)\n",
        "print(\"Nodes:\",g4.number_of_nodes())\n",
        "print(\"Edges:\",g4.number_of_edges())"
      ]
    },
    {
      "cell_type": "code",
      "execution_count": null,
      "metadata": {
        "id": "J_tN8mX13PXM"
      },
      "outputs": [],
      "source": [
        "nx.write_gexf(g4, \"grants_universities_internal_with_london.gexf\",version='1.2draft')"
      ]
    },
    {
      "cell_type": "code",
      "execution_count": null,
      "metadata": {
        "colab": {
          "base_uri": "https://localhost:8080/"
        },
        "id": "zGyTQTyBtz09",
        "outputId": "84e2921a-1a7e-4fb0-bb6a-c8e09696b6ac"
      },
      "outputs": [
        {
          "name": "stdout",
          "output_type": "stream",
          "text": [
            "{3: 133872113.62, 4: 4000270.22, 5: 31761.0, 6: 3151.0, 7: 729974.0, 8: 70000.0, 10: 290916.5}\n",
            "{2: 60000.0, 3: 288822998.3, 4: 231619.0, 5: 1447776.93, 8: 95960.0, 9: 63606.0}\n"
          ]
        }
      ],
      "source": [
        "# compare in region and out region fundings for university recipients\n",
        "inregion = {}\n",
        "outregion = {}\n",
        "for key,val in funds_map.items():\n",
        "  if(key[0]==key[1]):\n",
        "    inregion[key[0]]=val\n",
        "  elif(key[0] in outregion):\n",
        "    outregion[key[0]]+=val\n",
        "  else:\n",
        "    outregion[key[0]]=val\n",
        "\n",
        "inregion = {k:round(inregion[k],2) for k in sorted(inregion)}\n",
        "outregion = {k:round(outregion[k],2) for k in sorted(outregion)}\n",
        "print(inregion)\n",
        "print(outregion)"
      ]
    },
    {
      "cell_type": "code",
      "execution_count": null,
      "metadata": {
        "colab": {
          "base_uri": "https://localhost:8080/"
        },
        "id": "3FiDY4Eq_GWS",
        "outputId": "309381db-aa37-423f-a67d-1788871a5b38"
      },
      "outputs": [
        {
          "name": "stdout",
          "output_type": "stream",
          "text": [
            "East Midlands : {'internal': 0, 'external': 0}\n",
            "East of England : {'internal': 0, 'external': 60000.0}\n",
            "London : {'internal': 133872113.62, 'external': 288822998.3}\n",
            "North East : {'internal': 4000270.22, 'external': 231619.0}\n",
            "North West : {'internal': 31761.0, 'external': 1447776.93}\n",
            "Northern Ireland : {'internal': 3151.0, 'external': 0}\n",
            "Scotland : {'internal': 729974.0, 'external': 0}\n",
            "South East Coast : {'internal': 70000.0, 'external': 95960.0}\n",
            "South West : {'internal': 0, 'external': 63606.0}\n",
            "Wales : {'internal': 290916.5, 'external': 0}\n",
            "West Midlands : {'internal': 0, 'external': 0}\n",
            "Yorkshire and the Humber : {'internal': 0, 'external': 0}\n"
          ]
        }
      ],
      "source": [
        "# display region wise fundings - internal/external\n",
        "uni_funds = {}\n",
        "for i in range(1,13):\n",
        "  internal = 0\n",
        "  external = 0\n",
        "  if(i in inregion):\n",
        "    internal = inregion[i]\n",
        "  if(i in outregion):\n",
        "    external = outregion[i]\n",
        "  uni_funds[codeToRegions[i]] = {\"internal\":internal,\"external\":external}\n",
        "\n",
        "for r,v in uni_funds.items():\n",
        "  print(r,\":\",v)\n"
      ]
    },
    {
      "cell_type": "code",
      "execution_count": null,
      "metadata": {
        "colab": {
          "base_uri": "https://localhost:8080/",
          "height": 426
        },
        "id": "HK-Dv-kl_Ghf",
        "outputId": "63aa6eaa-5781-4405-8b24-c17b599fff47"
      },
      "outputs": [
        {
          "data": {
            "text/html": [
              "\n",
              "  <div id=\"df-f11a0551-ad19-4791-92be-290bc49e122c\">\n",
              "    <div class=\"colab-df-container\">\n",
              "      <div>\n",
              "<style scoped>\n",
              "    .dataframe tbody tr th:only-of-type {\n",
              "        vertical-align: middle;\n",
              "    }\n",
              "\n",
              "    .dataframe tbody tr th {\n",
              "        vertical-align: top;\n",
              "    }\n",
              "\n",
              "    .dataframe thead th {\n",
              "        text-align: right;\n",
              "    }\n",
              "</style>\n",
              "<table border=\"1\" class=\"dataframe\">\n",
              "  <thead>\n",
              "    <tr style=\"text-align: right;\">\n",
              "      <th></th>\n",
              "      <th>Region</th>\n",
              "      <th>Internal</th>\n",
              "      <th>External</th>\n",
              "    </tr>\n",
              "  </thead>\n",
              "  <tbody>\n",
              "    <tr>\n",
              "      <th>0</th>\n",
              "      <td>East Midlands</td>\n",
              "      <td>0</td>\n",
              "      <td>0</td>\n",
              "    </tr>\n",
              "    <tr>\n",
              "      <th>1</th>\n",
              "      <td>East of England</td>\n",
              "      <td>0</td>\n",
              "      <td>60000</td>\n",
              "    </tr>\n",
              "    <tr>\n",
              "      <th>2</th>\n",
              "      <td>London</td>\n",
              "      <td>133872113</td>\n",
              "      <td>288822998</td>\n",
              "    </tr>\n",
              "    <tr>\n",
              "      <th>3</th>\n",
              "      <td>North East</td>\n",
              "      <td>4000270</td>\n",
              "      <td>231619</td>\n",
              "    </tr>\n",
              "    <tr>\n",
              "      <th>4</th>\n",
              "      <td>North West</td>\n",
              "      <td>31761</td>\n",
              "      <td>1447776</td>\n",
              "    </tr>\n",
              "    <tr>\n",
              "      <th>5</th>\n",
              "      <td>Northern Ireland</td>\n",
              "      <td>3151</td>\n",
              "      <td>0</td>\n",
              "    </tr>\n",
              "    <tr>\n",
              "      <th>6</th>\n",
              "      <td>Scotland</td>\n",
              "      <td>729974</td>\n",
              "      <td>0</td>\n",
              "    </tr>\n",
              "    <tr>\n",
              "      <th>7</th>\n",
              "      <td>South East Coast</td>\n",
              "      <td>70000</td>\n",
              "      <td>95960</td>\n",
              "    </tr>\n",
              "    <tr>\n",
              "      <th>8</th>\n",
              "      <td>South West</td>\n",
              "      <td>0</td>\n",
              "      <td>63606</td>\n",
              "    </tr>\n",
              "    <tr>\n",
              "      <th>9</th>\n",
              "      <td>Wales</td>\n",
              "      <td>290916</td>\n",
              "      <td>0</td>\n",
              "    </tr>\n",
              "    <tr>\n",
              "      <th>10</th>\n",
              "      <td>West Midlands</td>\n",
              "      <td>0</td>\n",
              "      <td>0</td>\n",
              "    </tr>\n",
              "    <tr>\n",
              "      <th>11</th>\n",
              "      <td>Yorkshire and the Humber</td>\n",
              "      <td>0</td>\n",
              "      <td>0</td>\n",
              "    </tr>\n",
              "  </tbody>\n",
              "</table>\n",
              "</div>\n",
              "      <button class=\"colab-df-convert\" onclick=\"convertToInteractive('df-f11a0551-ad19-4791-92be-290bc49e122c')\"\n",
              "              title=\"Convert this dataframe to an interactive table.\"\n",
              "              style=\"display:none;\">\n",
              "        \n",
              "  <svg xmlns=\"http://www.w3.org/2000/svg\" height=\"24px\"viewBox=\"0 0 24 24\"\n",
              "       width=\"24px\">\n",
              "    <path d=\"M0 0h24v24H0V0z\" fill=\"none\"/>\n",
              "    <path d=\"M18.56 5.44l.94 2.06.94-2.06 2.06-.94-2.06-.94-.94-2.06-.94 2.06-2.06.94zm-11 1L8.5 8.5l.94-2.06 2.06-.94-2.06-.94L8.5 2.5l-.94 2.06-2.06.94zm10 10l.94 2.06.94-2.06 2.06-.94-2.06-.94-.94-2.06-.94 2.06-2.06.94z\"/><path d=\"M17.41 7.96l-1.37-1.37c-.4-.4-.92-.59-1.43-.59-.52 0-1.04.2-1.43.59L10.3 9.45l-7.72 7.72c-.78.78-.78 2.05 0 2.83L4 21.41c.39.39.9.59 1.41.59.51 0 1.02-.2 1.41-.59l7.78-7.78 2.81-2.81c.8-.78.8-2.07 0-2.86zM5.41 20L4 18.59l7.72-7.72 1.47 1.35L5.41 20z\"/>\n",
              "  </svg>\n",
              "      </button>\n",
              "      \n",
              "  <style>\n",
              "    .colab-df-container {\n",
              "      display:flex;\n",
              "      flex-wrap:wrap;\n",
              "      gap: 12px;\n",
              "    }\n",
              "\n",
              "    .colab-df-convert {\n",
              "      background-color: #E8F0FE;\n",
              "      border: none;\n",
              "      border-radius: 50%;\n",
              "      cursor: pointer;\n",
              "      display: none;\n",
              "      fill: #1967D2;\n",
              "      height: 32px;\n",
              "      padding: 0 0 0 0;\n",
              "      width: 32px;\n",
              "    }\n",
              "\n",
              "    .colab-df-convert:hover {\n",
              "      background-color: #E2EBFA;\n",
              "      box-shadow: 0px 1px 2px rgba(60, 64, 67, 0.3), 0px 1px 3px 1px rgba(60, 64, 67, 0.15);\n",
              "      fill: #174EA6;\n",
              "    }\n",
              "\n",
              "    [theme=dark] .colab-df-convert {\n",
              "      background-color: #3B4455;\n",
              "      fill: #D2E3FC;\n",
              "    }\n",
              "\n",
              "    [theme=dark] .colab-df-convert:hover {\n",
              "      background-color: #434B5C;\n",
              "      box-shadow: 0px 1px 3px 1px rgba(0, 0, 0, 0.15);\n",
              "      filter: drop-shadow(0px 1px 2px rgba(0, 0, 0, 0.3));\n",
              "      fill: #FFFFFF;\n",
              "    }\n",
              "  </style>\n",
              "\n",
              "      <script>\n",
              "        const buttonEl =\n",
              "          document.querySelector('#df-f11a0551-ad19-4791-92be-290bc49e122c button.colab-df-convert');\n",
              "        buttonEl.style.display =\n",
              "          google.colab.kernel.accessAllowed ? 'block' : 'none';\n",
              "\n",
              "        async function convertToInteractive(key) {\n",
              "          const element = document.querySelector('#df-f11a0551-ad19-4791-92be-290bc49e122c');\n",
              "          const dataTable =\n",
              "            await google.colab.kernel.invokeFunction('convertToInteractive',\n",
              "                                                     [key], {});\n",
              "          if (!dataTable) return;\n",
              "\n",
              "          const docLinkHtml = 'Like what you see? Visit the ' +\n",
              "            '<a target=\"_blank\" href=https://colab.research.google.com/notebooks/data_table.ipynb>data table notebook</a>'\n",
              "            + ' to learn more about interactive tables.';\n",
              "          element.innerHTML = '';\n",
              "          dataTable['output_type'] = 'display_data';\n",
              "          await google.colab.output.renderOutput(dataTable, element);\n",
              "          const docLink = document.createElement('div');\n",
              "          docLink.innerHTML = docLinkHtml;\n",
              "          element.appendChild(docLink);\n",
              "        }\n",
              "      </script>\n",
              "    </div>\n",
              "  </div>\n",
              "  "
            ],
            "text/plain": [
              "                      Region   Internal   External\n",
              "0              East Midlands          0          0\n",
              "1            East of England          0      60000\n",
              "2                     London  133872113  288822998\n",
              "3                 North East    4000270     231619\n",
              "4                 North West      31761    1447776\n",
              "5           Northern Ireland       3151          0\n",
              "6                   Scotland     729974          0\n",
              "7           South East Coast      70000      95960\n",
              "8                 South West          0      63606\n",
              "9                      Wales     290916          0\n",
              "10             West Midlands          0          0\n",
              "11  Yorkshire and the Humber          0          0"
            ]
          },
          "execution_count": 48,
          "metadata": {},
          "output_type": "execute_result"
        }
      ],
      "source": [
        "# create a dataframe for internal and external fundings for university recipients in a particular region\n",
        "fundsdf = pd.DataFrame()\n",
        "fundsdf['Region'] = uni_funds.keys()\n",
        "fundsdf['Internal'] = [int(v['internal']) for k,v in uni_funds.items()]\n",
        "fundsdf['External'] = [int(v['external']) for k,v in uni_funds.items()]\n",
        "fundsdf"
      ]
    },
    {
      "cell_type": "code",
      "execution_count": null,
      "metadata": {
        "id": "jvRCxNRDt0AB"
      },
      "outputs": [],
      "source": [
        ""
      ]
    },
    {
      "cell_type": "code",
      "execution_count": null,
      "metadata": {
        "id": "31YEvKW_CM_R"
      },
      "outputs": [],
      "source": [
        ""
      ]
    },
    {
      "cell_type": "markdown",
      "source": [
        "## Degree Distribution"
      ],
      "metadata": {
        "id": "8yjyvOydeOev"
      }
    },
    {
      "cell_type": "code",
      "source": [
        "#number of grants received by each organisation\n",
        "receivers = {}\n",
        "for i,row in data.iterrows():\n",
        "  org = row['Recipient Org:Identifier']\n",
        "  if org in receivers:\n",
        "    receivers[org]+=1\n",
        "  else:\n",
        "    receivers[org]=1"
      ],
      "metadata": {
        "id": "uJDJoC8eeR0q"
      },
      "execution_count": null,
      "outputs": []
    },
    {
      "cell_type": "code",
      "execution_count": null,
      "metadata": {
        "id": "iSAm01TmCNB-"
      },
      "outputs": [],
      "source": [
        "# {num of grants: num of orgs}\n",
        "# how many organisations received exactly k grants?\n",
        "orgCount = {}\n",
        "for k,v in receivers.items():\n",
        "  if v in orgCount:\n",
        "    orgCount[v]+=1\n",
        "  else:\n",
        "    orgCount[v]=1"
      ]
    },
    {
      "cell_type": "code",
      "execution_count": null,
      "metadata": {
        "id": "h2D31iZlCNEG",
        "colab": {
          "base_uri": "https://localhost:8080/"
        },
        "outputId": "3a921298-040a-4a64-f30e-c79268f36115"
      },
      "outputs": [
        {
          "output_type": "stream",
          "name": "stdout",
          "text": [
            "281145\n",
            "281145\n"
          ]
        }
      ],
      "source": [
        "print(sum(orgCount.values()))\n",
        "print(len(receivers))"
      ]
    },
    {
      "cell_type": "code",
      "source": [
        "# number of orgs distributed across number of grants\n",
        "%matplotlib inline\n",
        "import matplotlib.pyplot as plt\n",
        "\n",
        "fig = plt.figure(figsize = (10, 5))\n",
        "\n",
        "plt.bar(orgCount.keys(), orgCount.values(), color ='maroon')\n",
        "\n",
        "plt.loglog(basex=10,basey=10)\n",
        "plt.xlabel(\"log10(No. of Grants)\")\n",
        "plt.ylabel(\"log10(No. of Organisations)\")\n",
        "plt.title(\"No. of Recipient Organisations distributed across No. of Grants\")\n",
        "plt.show()\n"
      ],
      "metadata": {
        "colab": {
          "base_uri": "https://localhost:8080/",
          "height": 353
        },
        "id": "orTduNtthbWK",
        "outputId": "e19f4f90-abe7-4949-b16c-64ae008790f1"
      },
      "execution_count": null,
      "outputs": [
        {
          "output_type": "display_data",
          "data": {
            "text/plain": [
              "<Figure size 720x360 with 1 Axes>"
            ],
            "image/png": "[encoded data removed]"
          },
          "metadata": {
            "needs_background": "light"
          }
        }
      ]
    },
    {
      "cell_type": "code",
      "source": [
        "# find all grants with 0 or negative grant amount\n",
        "c = 0\n",
        "amount_array = set()\n",
        "for i,row in data.iterrows():\n",
        "  if(row['Currency']==\"GBP\" and row['Amount Awarded']<=0):\n",
        "    # print(row['Identifier'],row['Recipient Org:Identifier'],row['Funding Org:Identifier'],row['Amount Awarded'])\n",
        "    amount_array.add(row['Amount Awarded'])\n",
        "    c+=1\n",
        "print(c)\n",
        "print(len(amount_array))\n",
        "print(amount_array)"
      ],
      "metadata": {
        "colab": {
          "base_uri": "https://localhost:8080/"
        },
        "id": "n_mdGxVm8xFI",
        "outputId": "d38851a6-3d6e-48db-e81c-fad96f969f1a"
      },
      "execution_count": null,
      "outputs": [
        {
          "output_type": "stream",
          "name": "stdout",
          "text": [
            "5059\n",
            "1201\n",
            "{0.0, -137215.0, -20480.0, -14336.0, -4090.91, -10233.0, -8185.0, -4085.72, -10228.0, -4085.0, -6130.5, -42993.0, -2032.02, -63471.0, -1970160.86, -16365.0, -8172.73, -26602.0, -16362.5, -22500.0, -59360.0, -24544.0, -6109.0, -2011.0, -28635.92, -2005.5, -16338.0, -2000.0, -1995.0, -10187.0, -14281.9, -45000.0, -79816.3, -610242.0, -8125.55, -42936.0, -22455.0, -26550.0, -112560.19, -26544.0, -40878.0, -18350.0, -1964.0, -1963.0, -30635.0, -1960.0, -49064.85, -65445.0, -16292.0, -1955.29, -1954.54, -6050.0, -4000.0, -8100.0, -8098.0, -3997.09, -28572.0, -10137.0, -8085.0, -26515.0, -90000.0, -102287.71, -10126.95, -1933.0, -49037.0, -1936.0, -38794.0, -1932.0, -10120.0, -69507.0, -6014.0, -16250.0, -190329.83, -102265.0, -1912.65, -1914.0, -8053.82, -10100.0, -6000.0, -67438.0, -8045.16, -1900.0, -5995.0, -121020265.0, -36712.0, -14184.0, -53091.36, -14176.0, -8029.0, -8021.13, -22355.0, -44879.0, -216911.11, -22346.0, -1862.0, -8006.0, -36672.05, -8000.0, -12090.91, -5945.45, -51000.0, -44853.0, -5940.0, -42795.0, -28457.76, -10023.5, -38694.0, -12070.0, -18212.24, -36641.73, -26400.0, -5915.91, -1818.48, -57114.28, -1816.0, -73495.8, -30485.58, -7953.0, -10000.0, -46863.0, -20236.23, -50955.0, -91913.0, -1800.0, -12039.53, -354055.0, -112390.0, -53000.0, -20229.0, -9987.0, -1793.63, -14080.0, -26367.0, -1792.0, -3837.0, -55036.0, -28408.0, -9975.49, -22260.0, -175859.77, -1777.0, -12016.66, -34540.0, -184043.0, -38634.0, -28394.0, -7911.74, -34534.0, -85731.0, -14050.0, -12000.0, -20191.67, -38621.8, -3800.0, -55000.0, -63190.0, -98000.0, -18128.0, -1740.0, -38604.1, -79560.0, -18120.0, -63171.2, -1726.0, -26300.0, -3771.42, -16057.58, -11959.0, -97972.16, -18100.0, -52914.29, -11955.6, -14000.0, -46768.0, -9902.77, -50864.0, -22188.0, -11951.73, -63146.0, -30378.97, -5800.0, -50856.0, -3750.0, -46757.0, -1700.0, -36515.0, -3747.0, -83620.0, -100000.0, -36520.0, -95901.0, -5246619.0, -9882.5, -128665.45, -399000.0, -20120.0, -11926.0, -79499.0, -46730.0, -50825.37, -11912.0, -9864.93, -3717.0, -16000.0, -28287.0, -1661.88, -5756.0, -77437.0, -11896.0, -1641.43, -145000.0, -18023.92, -214630.48, -271976.24, -3684.0, -1635.14, -38500.0, -700000.0, -34397.0, -1628.0, -13915.0, -15960.0, -15957.0, -22100.0, -20051.0, -18000.0, -11853.82, -9804.0, -22090.0, -1608.0, -5702.0, -5700.0, -1601.0, -104000.0, -1600.0, -773694.73, -1597.0, -91709.11, -40508.0, -198200.0, -20024.0, -476721.37, -32300.0, -32299.0, -11818.0, -1575.0, -1572.55, -24097.0, -20000.0, -28192.0, -1566.0, -17952.0, -36380.33, -11808.0, -83481.02, -63000.0, -1551.79, -103945.44, -15880.0, -97800.0, -93698.0, -1536.0, -7678.52, -13819.0, -3327483.15, -52728.0, -3573.25, -60913.6, -21999.0, -1514.18, -50666.85, -13800.0, -65000.0, -79334.64, -71141.82, -24039.3, -13801.0, -13796.0, -194024.0, -7648.0, -5600.0, -9693.0, -134620.3, -1500.0, -5594.0, -95707.57, -11740.0, -11735.0, -1492.62, -73172.0, -21971.67, -13778.0, -38352.5, -450000.0, -28110.0, -103885.35, -17872.0, -15819.0, -9672.27, -17864.0, -13765.31, -21956.0, -1466.25, -34234.4, -3512.0, -11700.48, -71092.0, -34225.0, -46511.0, -5550.0, -54703.0, -21928.0, -15774.0, -9623.0, -38295.0, -30100.0, -26003.0, -1425.0, -3470.37, -11661.0, -9610.0, -69000.0, -73095.0, -17800.0, -374147.12, -1411.49, -310657.6, -25984.0, -9600.0, -1406.0, -3453.91, -5500.0, -28024.0, -56695.0, -34166.0, -9583.0, -28015.0, -23914.0, -34150.44, -1380.67, -60771.83, -7522.22, -19809.37, -28000.0, -27999.56, -232796.64, -3419.04, -7514.2, -15705.0, -7512.0, -71000.0, -1366.0, -42325.0, -9555.0, -1362.0, -1363.64, -111952.0, -56659.96, -23885.0, -7500.0, -140616.0, -1350.0, -13637.0, -19778.0, -5441.0, -200000.0, -13633.0, -9534.0, -21821.0, -5435.0, -19770.0, -32057.0, -48440.0, -38200.0, -36152.0, -15672.0, -5428.57, -11572.0, -3380.5, -85297.0, -30000.0, -3375.0, -15662.0, -11564.0, -42281.0, -17704.0, -249129.4, -3365.4, -32034.0, -15648.93, -9503.0, -58656.0, -7450.0, -3354.03, -15640.94, -5400.0, -3349.04, -15635.29, -11536.0, -21776.0, -19728.0, -7437.21, -1290.0, -27913.0, -17672.0, -36103.0, -1285.71, -21763.64, -32000.0, -800000.0, -3360000.0, -70906.0, -75000.0, -15600.0, -11500.0, -17642.0, -7400.0, -161000.0, -1251.0, -1250.0, -19681.37, -56544.0, -50400.0, -9435.0, -44248.47, -113878.22, -97491.06, -21710.98, -3278.0, -15565.0, -3275.0, -9416.0, -44227.84, -36028.0, -163000.0, -1206.0, -15541.0, -27827.43, -165042.0, -1200.0, -31920.0, -27822.0, -44205.5, -5292.32, -3244.0, -134314.0, -13484.0, -9389.0, -5288.0, -11429.0, -1184.62, -36000.0, -13470.6, -214173.1, -11420.25, -1180.0, -9370.45, -40091.0, -7320.0, -79000.0, -5272.0, -44181.0, -13457.51, -7312.0, -11408.85, -124044.0, -15500.0, -7306.63, -326792.0, -5254.0, -9553030.51, -5252.27, -40068.0, -5250.0, -2000000.0, -3200.0, -13439.0, -748669.57, -11388.0, -9344.0, -9343.0, -3193.0, -1146.94, -361600.0, -1140.2, -40052.4, -1137.0, -38000.0, -1135.86, -443504.0, -11373.31, -4390000.0, -76913.6, -5226.0, -3178.99, -101481.0, -11369.0, -7277.36, -10908774.0, -1969248.73, -1118.7, -5211.0, -1115227.6, -15446.15, -11350.0, -13395.0, -1106.0, -21587.62, -5200.0, -3154.36, -54350.0, -115788.0, -1099.37, -1100.3, -9291.0, -15435.32, -93260.3, -27722.0, -11336.0, -1100.0, -1091.0, -1099.0, -40000.0, -212032.0, -29754.0, -25650.0, -5168.0, -126000.0, -35887.0, -1065.0, -17448.0, -76838.0, -15395.5, -25634.44, -31777.0, -58400.0, -29731.1, -37916.0, -255000.0, -35863.0, -13334.0, -1045.5, -228373.84, -11283.0, -11398165.6, -27668.0, -42000.0, -13333.0, -85006.83, -3085.0, -31755.0, -54280.98, -9223.0, -66566.0, -13909000.0, -1.23, -11262.88, -52221.0, -15357.0, -3067.92, -5114.0, -11258.0, -125950.0, -27636.0, -13300.0, -7150.03, -17386.0, -111592.0, -999.98, -37863.22, -1000.0, -995.0, -37857.0, -300000.0, -58336.36, -115678.01, -3040.0, -46048.0, -7134.0, -37850.0, -25561.0, -0.02, -162775.0, -27608.0, -9173.0, -980.0, -58323.0, -978.0, -101324.0, -99276.0, -17355.0, -35785.88, -23500.0, -9160.0, -66500.0, -11200.0, -17341.0, -7100.0, -138171.43, -146362.0, -953.81, -3000.0, -5047.0, -56250.0, -43962.4, -31672.0, -11192.0, -50098.79, -46000.0, -31663.0, -13228.65, -89000.0, -7076.9, -2979.0, -930.35, -54180.0, -9120.54, -9119.6, -927.0, -154522.95, -17306.73, -15256.0, -175000.0, -72600.0, -39829.63, -15258.0, -9111.0, -2970.0, -2957.91, -908.6, -172940.0, -5000.0, -84872.19, -900.52, -900.0, -17280.0, -15232.0, -4990.0, -45950.0, -33660.0, -15230.0, -56186.0, -886.55, -13174.56, -25459.0, -7025.0, -31600.0, -9069.0, -4972.0, -4970.37, -13162.0, -9064.0, -871.78, -2919.96, -4966.0, -66404.77, -37732.22, -21346.8, -23399.0, -4960.0, -2911.0, -13150.0, -1500000.0, -21345.0, -2907.0, -2906.0, -7000.0, -25432.0, -4950.21, -9048.0, -50000.0, -45900.0, -2892.06, -146249.0, -840.0, -93000.0, -839.99, -15172.0, -23361.0, -25405.0, -142139.87, -19257.0, -825.44, -822.0, -19253.56, -2061107.0, -4915.78, -35632.0, -9008.0, -6958.0, -4909.09, -256810.5, -9000.0, -17192.0, -2620199.0, -805.0, -21285.0, -11045.0, -6945.27, -800.0, -25376.0, -8990.0, -95000.0, -51990.91, -37652.0, -25363.0, -8980.0, -785.0, -650000.0, -13071.11, -31500.0, -21254.5, -11014.0, -174849.01, -226041.8, -13048.0, -2807.0, -11000.0, -31476.0, -88819.0, -27378.0, -2800.59, -2800.0, -54000.0, -8939.0, -2794.0, -6886.0, -17124.0, -6884.0, -25315.0, -737.5, -37601.6, -10976.49, -733.33, -21213.0, -35547.6, -58074.68, -19163.0, -41686.0, -76500.0, -27344.0, -25295.0, -17104.0, -8909.09, -714.0, -15049.0, -21192.0, -13000.0, -1352390.0, -10951.2, -704.54, -17087.0, -2750.0, -260799.0, -4800.0, -84667.0, -35517.2, -703.02, -2742.86, -692.09, -2740.56, -12978.0, -2739.0, -2734.79, -10926.72, -686.82, -41642.0, -10920.0, -10919.0, -29350.0, -677.0, -185000.0, -8866.0, -23202.67, -125600.0, -23200.0, -8863.0, -19100.0, -668.0, -23194.0, -666.0, -15000.0, -4759.47, -68247.0, -37525.0, -10900.0, -58000.0, -6800.0, -37519.31, -4752.0, -121486.5, -47754.08, -2696.0, -101000.0, -39556.0, -641.0, -640.5, -400000.0, -53886.0, -37500.0, -17020.0, -12920.0, -43639.0, -2678.0, -21109.0, -628.0, -12915.63, -12913.0, -625.0, -4719.0, -17006.4, -6767.18, -620.0, -17000.0, -2663.73, -16998.0, -4708.11, -33377.0, -60000.0, -4704.0, -37470.31, -4698.58, -602.0, -600.0, -12888.0, -12887.55, -190214.25, -25172.5, -19026.0, -4690.0, -6735.85, -37454.0, -2437709.0, -27215.0, -23117.0, -35399.0, -80455.0, -583.0, -47684.0, -579.0, -68163.0, -8774.0, -7850.0, -37439.0, -574.0, -573.27, -580.0, -1000000.0, -16954.0, -21050.0, -19000.0, -88631.0, -566.18, -86582.6, -14900.0, -18992.87, -10800.0, -109100.0, -25131.0, -12842.89, -148009.0, -105000.0, -51748.0, -2595.0, -41506.51, -4500000.0, -422429.3, -540.0, -41498.0, -31250.0, -10766.0, -2572.0, -23052.0, -21000.0, -8711.0, -6662.52, -2562.0, -1.34, -64000.0, -25090.0, -16894.81, -12800.0, -8700.0, -4600.0, -14840.23, -27128.0, -25080.0, -18932.0, -27123.0, -500.0, -150001.31, -10737.0, -497.78, -4590.49, -150000.0, -0.01, -88555.45, -20971.0, -39400.0, -18914.0, -2529.0, -2528.1, -480.0, -477.24, -129501.34, -180700.0, -18909.0, -473.0, -12759.48, -12757.0, -18900.0, -66002.48, -104913.95, -72145.0, -66000.0, -16846.7, -27085.0, -35276.0, -12748.0, -10700.0, -4553.0, -6600.0, -461.21, -149958.27, -2500.0, -10689.0, -98752.0, -14784.0, -61888.95, -10685.7, -8637.0, -446.0, -41402.42, -3025337.49, -6585.0, -439.98, -88500.0, -63922.0, -14770.0, -425.0, -25000.0, -12712.0, -10661.0, -8613.0, -8611.0, -59810.84, -6561.0, -416.0, -323999.65, -432376.76, -2458.81, -24985.0, -184728.12, -405.0, -8597.0, -400.0, -20880.0, -398.65, -43406.0, -396.0, -57740.0, -4490.0, -2441.0, -117309.0, -209281.8, -2430.0, -16766.11, -27000.0, -373.96, -43380.0, -20850.0, -65906.72, -184688.0, -70000.0, -16750.0, -2414.0, -33138.0, -14700.0, -139623.0, -20837.0, -6500.0, -356.5, -16741.0, -4449.6, -2400.0, -6495.0, -348.85, -176472.0, -31062.0, -49492.0, -6483.94, -8531.02, -14673.46, -67920.48, -26958.0, -33100.0, -10571.43, -10242.0, -18761.28, -29000.0, -327.0, -326.42, -90438.24, -332.66, -74051.73, -102722.99, -31041.6, -72000.0, -47421.41, -6460.0, -314.0, -115000.0, -16695.0, -284981.09, -4400.0, -24883502.0, -31056173.42, -300.0, -10537.0, -78120.0, -8200.0, -2344.0, -8485.71, -4383.0, -285.71, -84250.0, -10522.0, -280.13, -10519.0, -26900.0, -8467.0, -22800.0, -8462.0, -270.0, -20748.0, -213258.0, -2313.94, -6408.0, -117000.0, -303365.88, -35075.0, -39170.0, -257.14, -160000.0, -14240000.0, -78079.0, -69885.65, -4350.0, -1440000.0, -409850.0, -49400.0, -12536.0, -24822.0, -157941.87, -14580.42, -6387.0, -104692.0, -14579.0, -10484.0, -8440.0, -8427.0, -4330.33, -33000.0, -231.8, -6371.0, -226.31, -6370.0, -220.0, -41179.46, -37082.38, -8408.92, -215.0, -90327.26, -4309.38, -28888.0, -24787.5, -8408.0, -2260.0, -8399.0, -55500.0, -203.07, -37066.0, -200.0, -4295.18, -481480.17, -98500.0, -35011.44, -12482.37, -10432.0, -41148.0, -35000.0, -18616.0, -16568.0, -12466.65, -2225.0, -4271.31, -26798.09, -172.52, -41130.0, -20650.0, -96424.0, -167.0, -2347176.92, -39076.0, -12451.0, -162.23, -8355.0, -10400.0, -26782.0, -57500.0, -26779.0, -6300.0, -154.14, -6296.0, -10392.0, -14487.0, -2200.0, -148.0, -24727.0, -20629.75, -2193.0, -250000.0, -65681.0, -142.87, -141.3, -2188.0, -142.86, -26758.61, -80000.0, -12414.0, -53373.0, -10359.0, -28790.0, -16500.0, -10351.0, -106.08, -106.32, -104.0, -49257.14, -16486.0, -53349.0, -100.0, -6250.0, -49249.0, -8288.0, -10333.0, -90.12, -22616.0, -39000.0, -28760.0, -12372.0, -83.33, -90193.0, -74.1, -125000.0, -47173.34, -18500.0, -112706.66, -8257.0, -168000.0, -62.8, -10300.0, -45114.18, -12346.0, -56.0, -57.14, -2100.0, -4147.44, -4148.0, -4145.45, -26672.0, -6191.0, -49200.0, -2095.88, -4140.17, -8236.0, -45100.0, -47.1, -41000.0, -20520.0, -18472.0, -35.46, -20513.0, -6176.0, -51232.0, -84000.0, -32.78, -114716.0, -51228.52, -28.57, -364568.0, -106516.0, -10259.0, -77836.0, -63500.0, -8202.0, -2057.14, -8.0, -2054.0, -2050.0, -69633.69}\n"
          ]
        }
      ]
    },
    {
      "cell_type": "code",
      "source": [
        "# total grant amount received by each organisation\n",
        "# ignore grants with 0 or negative amount\n",
        "receivers_amount = {}\n",
        "for i,row in data.iterrows():\n",
        "  org = row['Recipient Org:Identifier']\n",
        "  if(row['Currency']!='GBP' or row['Amount Awarded']<=0):\n",
        "    continue\n",
        "  if org in receivers_amount:\n",
        "    receivers_amount[org]+=row['Amount Awarded']\n",
        "  else:\n",
        "    receivers_amount[org]=row['Amount Awarded']"
      ],
      "metadata": {
        "id": "c8KxMSZkmJxS"
      },
      "execution_count": null,
      "outputs": []
    },
    {
      "cell_type": "code",
      "source": [
        "# {grant amount: num of orgs}\n",
        "# how many organisations received exactly k GBP in grant amount?\n",
        "orgCountAmount = {}\n",
        "for k,v in receivers_amount.items():\n",
        "  if v in orgCountAmount:\n",
        "    orgCountAmount[v]+=1\n",
        "  else:\n",
        "    orgCountAmount[v]=1"
      ],
      "metadata": {
        "id": "P6QqwBTM5gQN"
      },
      "execution_count": null,
      "outputs": []
    },
    {
      "cell_type": "code",
      "source": [
        "print(sum(orgCountAmount.values()))\n",
        "print(len(receivers_amount))"
      ],
      "metadata": {
        "colab": {
          "base_uri": "https://localhost:8080/"
        },
        "id": "zQj6FM8X5gSB",
        "outputId": "1d376475-3ba9-4ff9-9c2a-212a9e5dc443"
      },
      "execution_count": null,
      "outputs": [
        {
          "output_type": "stream",
          "name": "stdout",
          "text": [
            "279349\n",
            "279349\n"
          ]
        }
      ]
    },
    {
      "cell_type": "code",
      "source": [
        "print(min(orgCountAmount.keys()))\n",
        "print(max(orgCountAmount.keys()))"
      ],
      "metadata": {
        "colab": {
          "base_uri": "https://localhost:8080/"
        },
        "id": "wTNcsj7L8Q69",
        "outputId": "3dbe1aa6-67d4-4f90-d610-7956f0855d63"
      },
      "execution_count": null,
      "outputs": [
        {
          "output_type": "stream",
          "name": "stdout",
          "text": [
            "0.67\n",
            "4565232075.389999\n"
          ]
        }
      ]
    },
    {
      "cell_type": "code",
      "source": [
        "# number of orgs distributed across amount of grant received\n",
        "fig = plt.figure(figsize = (10, 5))\n",
        "\n",
        "plt.scatter(orgCountAmount.keys(), orgCountAmount.values(), color ='blue',s=1.8)\n",
        "plt.loglog(basex=10,basey=10)\n",
        "plt.xlabel(\"log10(Grant Amount)\")\n",
        "plt.ylabel(\"log10(No. of Organisations)\")\n",
        "plt.title(\"No. of Recipient Organisations distributed across Grant Amount\")\n",
        "plt.show()"
      ],
      "metadata": {
        "colab": {
          "base_uri": "https://localhost:8080/",
          "height": 353
        },
        "id": "CVcZVd3c7PCF",
        "outputId": "e5b51f64-90ba-4016-faa8-3e471567b835"
      },
      "execution_count": null,
      "outputs": [
        {
          "output_type": "display_data",
          "data": {
            "text/plain": [
              "<Figure size 720x360 with 1 Axes>"
            ],
            "image/png": "[encoded data removed]"
          },
          "metadata": {
            "needs_background": "light"
          }
        }
      ]
    },
    {
      "cell_type": "code",
      "source": [
        "fig = plt.figure(figsize = (10, 5))\n",
        "\n",
        "bins1 = [0, 100, 500, 1000, 2000, 3000, 10000, 50000, 100000, 1000000, 5000000, 10000000, 100000000, 1000000000, 5000000000]\n",
        "bins = [i for i in range(0,5000000000,10000)]\n",
        "\n",
        "plt.hist(receivers_amount.values(),bins=bins, \n",
        "         histtype ='step')\n",
        "plt.loglog(basex=10,basey=10)\n",
        "plt.xlabel(\"log10(Grant Amount)\")\n",
        "plt.ylabel(\"log10(No. of Organisations)\")\n",
        "plt.title(\"No. of Recipient Organisations distributed across Grant Amount Ranges\")\n",
        "plt.show()"
      ],
      "metadata": {
        "colab": {
          "base_uri": "https://localhost:8080/",
          "height": 353
        },
        "id": "JZ7U711cEAZ4",
        "outputId": "6741c47c-49b9-428b-8b09-aef31e933988"
      },
      "execution_count": null,
      "outputs": [
        {
          "output_type": "display_data",
          "data": {
            "text/plain": [
              "<Figure size 720x360 with 1 Axes>"
            ],
            "image/png": "[encoded data removed]"
          },
          "metadata": {
            "needs_background": "light"
          }
        }
      ]
    },
    {
      "cell_type": "code",
      "source": [
        "#number of grants given by each organisation\n",
        "givers = {}\n",
        "for i,row in data.iterrows():\n",
        "  org = row['Funding Org:Identifier']\n",
        "  if org in givers:\n",
        "    givers[org]+=1\n",
        "  else:\n",
        "    givers[org]=1"
      ],
      "metadata": {
        "id": "oLWwAwfwrNc6"
      },
      "execution_count": null,
      "outputs": []
    },
    {
      "cell_type": "code",
      "source": [
        "# {num of grants: num of orgs}\n",
        "# how many organisations gave exactly k grants?\n",
        "orgCount1 = {}\n",
        "for k,v in givers.items():\n",
        "  if v in orgCount1:\n",
        "    orgCount1[v]+=1\n",
        "  else:\n",
        "    orgCount1[v]=1"
      ],
      "metadata": {
        "id": "w_8-gtQ3hgHJ"
      },
      "execution_count": null,
      "outputs": []
    },
    {
      "cell_type": "code",
      "source": [
        "print(sum(orgCount1.values()))\n",
        "print(len(givers))"
      ],
      "metadata": {
        "colab": {
          "base_uri": "https://localhost:8080/"
        },
        "id": "V0dBeCgNqG0-",
        "outputId": "5e247d45-1392-427a-8ca8-f51eab5a92a9"
      },
      "execution_count": null,
      "outputs": [
        {
          "output_type": "stream",
          "name": "stdout",
          "text": [
            "217\n",
            "217\n"
          ]
        }
      ]
    },
    {
      "cell_type": "code",
      "source": [
        "#number of funding orgs distributed across number of grants\n",
        "fig = plt.figure(figsize = (10, 5))\n",
        "\n",
        "plt.scatter(orgCount1.keys(), orgCount1.values(), color ='maroon',s=1.8)\n",
        "\n",
        "plt.loglog(basex=10,basey=2)\n",
        "plt.xlabel(\"log10(No. of Grants)\")\n",
        "plt.ylabel(\"log2(No. of Organisations)\")\n",
        "plt.title(\"No. of Funding Organisations distributed across No. of Grants\")\n",
        "plt.show()\n"
      ],
      "metadata": {
        "colab": {
          "base_uri": "https://localhost:8080/",
          "height": 353
        },
        "id": "ce7pDMeMqyLj",
        "outputId": "c39bd7f1-5db3-4fe8-de3b-9c5d4177b0e1"
      },
      "execution_count": null,
      "outputs": [
        {
          "output_type": "display_data",
          "data": {
            "text/plain": [
              "<Figure size 720x360 with 1 Axes>"
            ],
            "image/png": "[encoded data removed]"
          },
          "metadata": {
            "needs_background": "light"
          }
        }
      ]
    },
    {
      "cell_type": "code",
      "source": [
        ""
      ],
      "metadata": {
        "id": "6Uw88BX5qyN8"
      },
      "execution_count": null,
      "outputs": []
    },
    {
      "cell_type": "code",
      "source": [
        ""
      ],
      "metadata": {
        "id": "AO_xRU2oqyQA"
      },
      "execution_count": null,
      "outputs": []
    }
  ],
  "metadata": {
    "colab": {
      "name": "UK Grants.ipynb",
      "provenance": []
    },
    "kernelspec": {
      "display_name": "Python 3",
      "language": "python",
      "name": "python3"
    },
    "language_info": {
      "codemirror_mode": {
        "name": "ipython",
        "version": 3
      },
      "file_extension": ".py",
      "mimetype": "text/x-python",
      "name": "python",
      "nbconvert_exporter": "python",
      "pygments_lexer": "ipython3",
      "version": "3.8.5"
    }
  },
  "nbformat": 4,
  "nbformat_minor": 0
}