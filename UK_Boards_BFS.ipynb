{
  "nbformat": 4,
  "nbformat_minor": 0,
  "metadata": {
    "colab": {
      "name": "UK_Boards_BFS.ipynb",
      "provenance": [],
      "collapsed_sections": []
    },
    "kernelspec": {
      "name": "python3",
      "display_name": "Python 3"
    },
    "language_info": {
      "name": "python"
    }
  },
  "cells": [
    {
      "cell_type": "markdown",
      "source": [
        "# Building Network using BFS\n",
        "\n",
        "In this notebook a lot of code snippets for importing and processing the data have been directly used from the previous notebook and only minimal required actions have been performed to make the data ready for building the network. This keeps things clean."
      ],
      "metadata": {
        "id": "NotCAENamRvr"
      }
    },
    {
      "cell_type": "code",
      "source": [
        "from google.colab import drive\n",
        "drive.mount('/content/drive/')"
      ],
      "metadata": {
        "colab": {
          "base_uri": "https://localhost:8080/"
        },
        "id": "FlMfpGB340fr",
        "outputId": "b98f289f-0057-4b49-ac62-56ebb8098410"
      },
      "execution_count": 9,
      "outputs": [
        {
          "output_type": "stream",
          "name": "stdout",
          "text": [
            "Drive already mounted at /content/drive/; to attempt to forcibly remount, call drive.mount(\"/content/drive/\", force_remount=True).\n"
          ]
        }
      ]
    },
    {
      "cell_type": "code",
      "source": [
        "import json\n",
        "import pandas as pd\n",
        "import networkx as nx\n",
        "from numpy.core.numeric import NaN\n",
        "with open('drive/My Drive/UK_Data/json/publicextract.charity_trustee.json', encoding=\"utf-8-sig\") as f:\n",
        "  data = json.load(f)\n",
        "print(len(data))\n",
        "print(json.dumps(data[0],indent=4))"
      ],
      "metadata": {
        "colab": {
          "base_uri": "https://localhost:8080/"
        },
        "id": "Z5Kd3n0z5ca2",
        "outputId": "d3c157c5-1f6f-4a74-bd8f-570777dbbae2"
      },
      "execution_count": 10,
      "outputs": [
        {
          "output_type": "stream",
          "name": "stdout",
          "text": [
            "942096\n",
            "{\n",
            "    \"date_of_extract\": \"2022-01-11T00:00:00\",\n",
            "    \"organisation_number\": 521013,\n",
            "    \"registered_charity_number\": 521013,\n",
            "    \"linked_charity_number\": 0,\n",
            "    \"trustee_id\": 23760,\n",
            "    \"trustee_name\": \"AUGHTON PARISH COUNCIL\",\n",
            "    \"trustee_is_chair\": false,\n",
            "    \"individual_or_organisation\": \"O\",\n",
            "    \"trustee_date_of_appointment\": null\n",
            "}\n"
          ]
        }
      ]
    },
    {
      "cell_type": "code",
      "source": [
        "members = {}\n",
        "orgs = {}\n",
        "\n",
        "for trustee in data:\n",
        "    tid = trustee['trustee_id']\n",
        "    oid = trustee['organisation_number']\n",
        "    if(tid not in members):\n",
        "        members[tid] = [trustee]\n",
        "    else:\n",
        "        members[tid].append(trustee)\n",
        "    if(oid not in orgs):\n",
        "        orgs[oid] = [trustee]\n",
        "    else:\n",
        "        orgs[oid].append(trustee)\n",
        "\n",
        "print(\"Total Trustees : \",len(members))\n",
        "print(\"Total Organizations: \",len(orgs))"
      ],
      "metadata": {
        "colab": {
          "base_uri": "https://localhost:8080/"
        },
        "id": "bdrvsQ3s5m_j",
        "outputId": "5cd62951-b10a-4856-8c5b-33b768815394"
      },
      "execution_count": 11,
      "outputs": [
        {
          "output_type": "stream",
          "name": "stdout",
          "text": [
            "Total Trustees :  851555\n",
            "Total Organizations:  170190\n"
          ]
        }
      ]
    },
    {
      "cell_type": "code",
      "source": [
        "with open('drive/My Drive/UK_Data/json/publicextract.charity.json', encoding=\"utf-8-sig\") as f:\n",
        "  charity_data = json.load(f)\n",
        "\n",
        "print(len(charity_data))\n",
        "print(json.dumps(charity_data[3],indent=4))"
      ],
      "metadata": {
        "colab": {
          "base_uri": "https://localhost:8080/"
        },
        "id": "2gGwuVfw5rkt",
        "outputId": "b384bc2b-7fdd-4520-ef50-f688783eb0db"
      },
      "execution_count": 12,
      "outputs": [
        {
          "output_type": "stream",
          "name": "stdout",
          "text": [
            "376413\n",
            "{\n",
            "    \"date_of_extract\": \"2022-01-11T00:00:00\",\n",
            "    \"organisation_number\": 4,\n",
            "    \"registered_charity_number\": 200028,\n",
            "    \"linked_charity_number\": 2,\n",
            "    \"charity_name\": \"TOWN LANDS CHARITY FOR THE CHURCH\",\n",
            "    \"charity_type\": null,\n",
            "    \"charity_registration_status\": \"Removed\",\n",
            "    \"date_of_registration\": \"1961-10-19T00:00:00\",\n",
            "    \"date_of_removal\": \"1997-09-17T00:00:00\",\n",
            "    \"charity_reporting_status\": null,\n",
            "    \"latest_acc_fin_period_start_date\": null,\n",
            "    \"latest_acc_fin_period_end_date\": null,\n",
            "    \"latest_income\": null,\n",
            "    \"latest_expenditure\": null,\n",
            "    \"charity_contact_address1\": null,\n",
            "    \"charity_contact_address2\": null,\n",
            "    \"charity_contact_address3\": null,\n",
            "    \"charity_contact_address4\": null,\n",
            "    \"charity_contact_address5\": null,\n",
            "    \"charity_contact_postcode\": null,\n",
            "    \"charity_contact_phone\": null,\n",
            "    \"charity_contact_email\": null,\n",
            "    \"charity_contact_web\": null,\n",
            "    \"charity_company_registration_number\": null,\n",
            "    \"charity_insolvent\": false,\n",
            "    \"charity_in_administration\": false,\n",
            "    \"charity_previously_excepted\": null,\n",
            "    \"charity_is_cdf_or_cif\": null,\n",
            "    \"charity_is_cio\": null,\n",
            "    \"cio_is_dissolved\": null,\n",
            "    \"date_cio_dissolution_notice\": null,\n",
            "    \"charity_activities\": null,\n",
            "    \"charity_gift_aid\": null,\n",
            "    \"charity_has_land\": null\n",
            "}\n"
          ]
        }
      ]
    },
    {
      "cell_type": "code",
      "source": [
        "# linking organisation number to names\n",
        "charity = {}\n",
        "for ch in charity_data:\n",
        "    charity[ch['organisation_number']] = ch\n",
        "# charity"
      ],
      "metadata": {
        "id": "d6yqMeTk553m"
      },
      "execution_count": 13,
      "outputs": []
    },
    {
      "cell_type": "markdown",
      "source": [
        "# Helper Functions\n",
        "Now that we have all the data, we can write some functions that will help in building the network from the data."
      ],
      "metadata": {
        "id": "EJmhKfLuoINc"
      }
    },
    {
      "cell_type": "code",
      "source": [
        "def trustees_in_charities(orgs_list,threshold):\n",
        "  \"\"\"\n",
        "  Creates a list of trustees in the given list of organisations based on the threshold value\n",
        "\n",
        "  Arguments:\n",
        "    orgs_list: list of unique org ids\n",
        "    threshold: an integer value specifying the least number of boards a trustee must sit on\n",
        "\n",
        "  Returns:\n",
        "    A list of trustees(ids) that sit on the board of given organisations\n",
        "\n",
        "  \"\"\"\n",
        "\n",
        "  trustee_list = [] # list to store the trustee ids\n",
        "\n",
        "  for org_num in orgs_list: # iterate over the given org ids\n",
        "    for trustee in orgs[org_num]: # iterate over the trustees in the org_num organisation\n",
        "      #only add trustees that sit on boards >= threshold\n",
        "      if(len(members[trustee[\"trustee_id\"]])>=threshold):\n",
        "        trustee_list.append(trustee[\"trustee_id\"])\n",
        "\n",
        "  return list(set(trustee_list)) # create a set of trustee ids first since different organisations can have common trustees\n",
        "\n",
        "\n",
        "#===========================================================================================================================\n",
        "\n",
        "\n",
        "def charities_of_trustees(trustee_list):\n",
        "  \"\"\"\n",
        "  Creates a list of all the charities of which the given trustees are board members\n",
        "\n",
        "  Arguments:\n",
        "    trustee_list: a list of unique trustee ids\n",
        "  \n",
        "  Returns:\n",
        "    A list of charities/organisation ids\n",
        "  \"\"\"\n",
        "\n",
        "  charity_list=[] # list to store the org ids\n",
        "\n",
        "  for tid in trustee_list: # iterate over all given trustee ids\n",
        "    for charity in members[tid]: # access all charities of that trustee\n",
        "      charity_list.append(charity['organisation_number']) # add the org id to the list\n",
        "  return list(set(charity_list)) # return the list of org ids\n",
        "\n",
        "\n",
        "#===========================================================================================================================\n",
        "\n",
        "\n",
        "def bfsGraph(org_num,depth=1,threshold=1):\n",
        "  \"\"\"\n",
        "  Creates a list of organisations and trustees using BFS by linking orgs and trustees to one another\n",
        "\n",
        "  Arguments:\n",
        "    org_num: id of base organisation, starting node of the network, starting point for BFS\n",
        "    depth: an integer value specifying the depth for BFS (how deep it needs to search for connected orgs and trustees)\n",
        "           - a depth of 1 means that we only want the trustees that are part of the given organisation number\n",
        "           - default value is 1\n",
        "    threshold: an integer value specifying the least number of boards a trustee must sit on\n",
        "               - default value is 1\n",
        "  \n",
        "  Returns:\n",
        "    list 1: a list of all the organisations that are found by BFS and are a part of the network\n",
        "    list 2: a list of all the trustees that are connected to the base organisation directly or indirectly\n",
        "  \"\"\"\n",
        "\n",
        "  global_org_list = [] # list to store ids of all the connected orgs\n",
        "  global_trustee_list = [] # list to store the ids of all the connected trustees\n",
        "\n",
        "  temp_org_list = [org_num] # list to store org ids at depth i\n",
        "  temp_trustee_list = trustees_in_charities(temp_org_list,threshold) # list to store the trustee ids at depth i\n",
        "\n",
        "  # if depth is 1 then temp lists will store the required data which is the base organisation and all trustees connected to the base organisation\n",
        "  if(depth==1):\n",
        "    return list(set(temp_org_list)), list(set(temp_trustee_list)) # return the temp lists\n",
        "\n",
        "  #iterate till the given depth and add all trustees and orgs to the gloabl lists\n",
        "  for i in range(depth):\n",
        "    global_org_list+=temp_org_list # add orgs from temp list to the global list\n",
        "    global_trustee_list+= temp_trustee_list # add trustees from temp list to the global list\n",
        "    temp_org_list = charities_of_trustees(temp_trustee_list) # get the orgs that are linked with trustees in the temp list\n",
        "    temp_trustee_list = trustees_in_charities(temp_org_list,threshold) # get the trustees that are part of the charities in the temp list\n",
        "  \n",
        "  # return the global org and trustee lists\n",
        "  return list(set(global_org_list)),list(set(global_trustee_list))"
      ],
      "metadata": {
        "id": "7QtffCL_yOiN"
      },
      "execution_count": 15,
      "outputs": []
    },
    {
      "cell_type": "markdown",
      "source": [
        "# Build Graph Function\n",
        "This function will take the lists generated by bfsGraph function as input and build the network using networkx"
      ],
      "metadata": {
        "id": "7a7HMsmH9JKF"
      }
    },
    {
      "cell_type": "code",
      "source": [
        "def buildGraph(org_list,trustee_list,file,num_boards=1):\n",
        "  \"\"\"\n",
        "  Builds the network using networkx and exports all data into a gexf/graphml file\n",
        "  The network contains 2 types of nodes - organisation nodes and trustee nodes\n",
        "  An edge in the network connects a trustee to all its boards and a charity to all of its trustees\n",
        "  a gexf file can be imported directly into network visualization softwares such as Gephi\n",
        "\n",
        "  Arguments:\n",
        "    org_list: list of orgs in the network, will be added as nodes\n",
        "    trustee_list: list of trustees in the network, will be added as nodes\n",
        "    file: name of the output file\n",
        "    num_boards: an integer specifying the least number of boards a trustee must sit on\n",
        "                (only in context with the present network and not the entire dataset)\n",
        "                - default value is 1\n",
        "\n",
        "  Returns:\n",
        "    None, an output file is generated with the name provided as input\n",
        "  \"\"\"\n",
        "\n",
        "  G = nx.MultiGraph() # initialize the graph object\n",
        "\n",
        "\n",
        "  # Node attributes\n",
        "\n",
        "  color_map = {} # stores the color of node, org - red, trustee - blue\n",
        "  label_map = {} # stores the label for the node, name of charity or trustee\n",
        "\n",
        "  expenditure_map = {} # stores the gross annual expenditure for the organisation\n",
        "  income_map = {} # stores the gross annual income of the organisation\n",
        "\n",
        "\n",
        "  # add org nodes to the network \n",
        "  for i in org_list:\n",
        "    G.add_node(i)\n",
        "    color_map[i]='red' # specify color attribute, red for charity\n",
        "    label_map[i]= charity[i]['charity_name'] # specify lable attribute, name of charity\n",
        "\n",
        "    # expenditure and income are missing for some organisations in the original data set, therefore its wrapped inside a try-except block\n",
        "    try:\n",
        "      if(charity[i]['latest_income'] == None or charity[i]['latest_expenditure'] == None):\n",
        "        raise Exception(\"None Type\")\n",
        "      income_map[i] = charity[i]['latest_income']\n",
        "      expenditure_map[i] = charity[i]['latest_expenditure']\n",
        "    except:\n",
        "      # if no income and expenditure is found then assign 0\n",
        "      income_map[i]=0\n",
        "      expenditure_map[i]=0\n",
        "\n",
        "  # add trustee nodes to the network\n",
        "  for i in trustee_list:\n",
        "    G.add_node(i)\n",
        "\n",
        "    color_map[i]='blue' # specify color attribute, blue for trustee\n",
        "    label_map[i]= members[i][0]['trustee_name'] # specify label attribute, name of trustee\n",
        "    \n",
        "  # add edges to the network\n",
        "  for p in trustee_list:\n",
        "    if(p in G.nodes(0)):\n",
        "      boards = []\n",
        "      for j in members[p]:\n",
        "        if(j['organisation_number'] in G.nodes()):\n",
        "          boards.append(j['organisation_number'])\n",
        "      #check if the trustee sits on boards >= num_boards\n",
        "      if(len(boards)>=num_boards):\n",
        "        res = [ (p,sub) for sub in boards ]\n",
        "        G.add_edges_from(res)\n",
        "      #if trustee sits on boards less than num_boards then remove the trustee node from the graph\n",
        "      else:\n",
        "        G.remove_node(p)\n",
        "  \n",
        "  # set all node attributes\n",
        "  nx.set_node_attributes(G, color_map, name=\"Color\")\n",
        "  nx.set_node_attributes(G, label_map, name=\"Label\")\n",
        "  nx.set_node_attributes(G, income_map, name=\"Total Gross Income\")\n",
        "  nx.set_node_attributes(G, expenditure_map, name=\"Total Gross Expenditure\")\n",
        "\n",
        "  # export the data into a gexf file\n",
        "  nx.write_gexf(G, file,version='1.2draft')\n",
        "\n",
        "  # uncomment the following line if you want to export the data as graphml file too\n",
        "  # nx.write_graphml_lxml(G, \"graph.graphml\")"
      ],
      "metadata": {
        "id": "v4P_zSED-SOg"
      },
      "execution_count": 16,
      "outputs": []
    },
    {
      "cell_type": "markdown",
      "source": [
        "\n",
        "\n",
        "*   bfsGraph takes organisation number, depth and threshold value as arguments\n",
        "*   threshold value is the least number of boards a trustee must sit on, if no value is specified then its default value is 1\n",
        "*   buildGraph function takes organisation list, trustee list, output file name and num_boards as arguments\n",
        "*   num_boards is the least number of boards(in the present network) a trustee must sit on and its default value is 1\n",
        "\n"
      ],
      "metadata": {
        "id": "5_N524xH7Vr4"
      }
    },
    {
      "cell_type": "markdown",
      "source": [
        "## Generating the network with the help of above functions\n",
        "- bfsGraph(org_num,depth,threshold)\n",
        "- buildGraph(org_list,trustee_list,fileName,num_boards)"
      ],
      "metadata": {
        "id": "4xwqboDtDvws"
      }
    },
    {
      "cell_type": "code",
      "source": [
        "#ROTHSCHILD FOUNDATION\n",
        "a,b = bfsGraph(5012258,2,2)\n",
        "buildGraph(a,b,\"roths_depth2_thres2.gexf\")"
      ],
      "metadata": {
        "id": "7qXxbbqRBk-3"
      },
      "execution_count": null,
      "outputs": []
    },
    {
      "cell_type": "code",
      "source": [
        "#ROTHSCHILD FOUNDATION -> Depth = 3, num_boards =2 \n",
        "boards_list,members_list = bfsGraph(5012258,3)\n",
        "buildGraph(boards_list,members_list,\"roths_depth3_b2.gexf\",2)"
      ],
      "metadata": {
        "id": "uPPAVOiJ_fg7"
      },
      "execution_count": null,
      "outputs": []
    },
    {
      "cell_type": "code",
      "source": [
        "# WILTSHIRE ARCHAEOLOGICAL AND NATURAL HISTORY SOCIETY\n",
        "#Two orgs with same name and same trustees but different org no. and registered charity number\n",
        "#total income and expenditure is also different\n",
        "# org1 - org no. - 309534\n",
        "#        charity no. - 309534\n",
        "#        link - https://register-of-charities.charitycommission.gov.uk/charity-search/-/charity-details/309534\n",
        "# org2 - org no. -  3970185\n",
        "#        charity no. - 1080096\n",
        "#        link - https://register-of-charities.charitycommission.gov.uk/charity-search/-/charity-details/3970185\n",
        "print(len(orgs[3970185]))\n",
        "print(len(orgs[309534]))\n",
        "print(charity[3970185])\n",
        "print(charity[309534])"
      ],
      "metadata": {
        "colab": {
          "base_uri": "https://localhost:8080/"
        },
        "id": "kEAtGX27CS1_",
        "outputId": "513aab46-6583-440d-9afc-b7a16bd2f3fd"
      },
      "execution_count": null,
      "outputs": [
        {
          "output_type": "stream",
          "name": "stdout",
          "text": [
            "13\n",
            "13\n",
            "WILTSHIRE ARCHAEOLOGICAL AND NATURAL HISTORY SOCIETY\n",
            "WILTSHIRE ARCHAEOLOGICAL AND NATURAL HISTORY SOCIETY\n"
          ]
        }
      ]
    },
    {
      "cell_type": "code",
      "source": [
        "#ROYAL ACADEMY OF ARTS\n",
        "boards_list,members_list = bfsGraph(4040548,2)\n",
        "buildGraph(boards_list,members_list,\"royal_academy_depth2_b2.gexf\",2)"
      ],
      "metadata": {
        "id": "eSOlEkQrNS9N"
      },
      "execution_count": null,
      "outputs": []
    },
    {
      "cell_type": "code",
      "source": [
        "#ROYAL ACADEMY OF ARTS - threshold 2\n",
        "a,b = bfsGraph(4040548,2,2)\n",
        "buildGraph(a,b,\"royal_academy_depth2_thres2.gexf\")"
      ],
      "metadata": {
        "id": "7TyZWdNnLpqm"
      },
      "execution_count": null,
      "outputs": []
    },
    {
      "cell_type": "code",
      "source": [
        "#ROYAL ACADEMY OF ARTS -> Depth = 3, num_boards = 2\n",
        "boards_list,members_list = bfsGraph(4040548,3)\n",
        "buildGraph(boards_list,members_list,\"royal_academy_depth3_b2.gexf\",2)"
      ],
      "metadata": {
        "id": "V7B01nE7ey5b"
      },
      "execution_count": null,
      "outputs": []
    },
    {
      "cell_type": "code",
      "source": [
        "# Some analysis\n",
        "\n",
        "print(charity[306972], len(orgs[306972]))\n",
        "print(charity[5048464], len(orgs[5048464]))\n",
        "a = []\n",
        "for i in orgs[306972]:\n",
        "  # print(i[\"trustee_id\"])\n",
        "  a.append(i[\"trustee_id\"])\n",
        "b = []\n",
        "for i in orgs[5048464]:\n",
        "  # print(i[\"trustee_id\"])\n",
        "  b.append(i[\"trustee_id\"])\n",
        "\n",
        "print(sorted(a))\n",
        "print(sorted(b))\n",
        "print(set(a)-set(b))\n",
        "print(set(b)-set(a))\n",
        "\n",
        "#Both of these charities have 9 board members in common"
      ],
      "metadata": {
        "colab": {
          "base_uri": "https://localhost:8080/"
        },
        "id": "oRuYWNM7o_0D",
        "outputId": "d50c6498-5fc8-4235-c03f-793f72c367d9"
      },
      "execution_count": null,
      "outputs": [
        {
          "output_type": "stream",
          "name": "stdout",
          "text": [
            "READ MEMORIAL GROUND 11\n",
            "THE PREBENDAL SCHOOL 10\n",
            "[11249427, 11641760, 11967954, 11967955, 11967956, 11967968, 11967969, 12182006, 12399481, 12401234, 12444568]\n",
            "[2576867, 11641760, 11967954, 11967955, 11967956, 11967968, 11967969, 12182006, 12399481, 12444568]\n",
            "{12401234, 11249427}\n",
            "{2576867}\n"
          ]
        }
      ]
    },
    {
      "cell_type": "code",
      "source": [
        "#ROYAL SCOCIETY -https://register-of-charities.charitycommission.gov.uk/charity-search/-/charity-details/207043\n",
        "a,b = bfsGraph(207043,2)\n",
        "buildGraph(a,b,\"royal_society_depth2.gexf\")"
      ],
      "metadata": {
        "id": "TTY-1ZGwcp-q"
      },
      "execution_count": null,
      "outputs": []
    },
    {
      "cell_type": "code",
      "source": [
        "#ROYAL SCOCIETY - threshold 2\n",
        "a,b = bfsGraph(207043,2,2)\n",
        "buildGraph(a,b,\"royal_society_depth2_thres2.gexf\")"
      ],
      "metadata": {
        "id": "dW4gZMl-McVO"
      },
      "execution_count": null,
      "outputs": []
    },
    {
      "cell_type": "code",
      "source": [
        "#ROYAL SCOCIETY -> Depth = 2, nunm_boards = 2\n",
        "a,b = bfsGraph(207043,2)\n",
        "buildGraph(a,b,\"royal_society_depth2_b2.gexf\",2)"
      ],
      "metadata": {
        "id": "QFcSBwZxhkBn"
      },
      "execution_count": null,
      "outputs": []
    },
    {
      "cell_type": "code",
      "source": [
        "# CANAL & RIVER TRUST - at the top of arts/science according to total gross expenditure\n",
        "a,b = bfsGraph(5027494,2)\n",
        "buildGraph(a,b,\"canal&river_trust_depth2.gexf\")"
      ],
      "metadata": {
        "id": "C79iUm6ygQzb"
      },
      "execution_count": null,
      "outputs": []
    },
    {
      "cell_type": "code",
      "source": [
        "# CANAL & RIVER TRUST - threshold 2\n",
        "a,b = bfsGraph(5027494,2,2)\n",
        "buildGraph(a,b,\"canal&river_trust_depth2_thres2.gexf\")"
      ],
      "metadata": {
        "id": "RKAs4Fm7MmAd"
      },
      "execution_count": null,
      "outputs": []
    },
    {
      "cell_type": "code",
      "source": [
        "#CANAL & RIVER TRUST - depth 3\n",
        "a,b = bfsGraph(5027494,3)\n",
        "buildGraph(a,b,\"canal&river_trust_depth3.gexf\")"
      ],
      "metadata": {
        "id": "BY1JWqtV8ngb"
      },
      "execution_count": null,
      "outputs": []
    },
    {
      "cell_type": "code",
      "source": [
        "#CANAL & RIVER TRUST -> Depth = 3, num_boards = 2 \n",
        "a,b = bfsGraph(5027494,3)\n",
        "buildGraph(a,b,\"canal&river_trust_depth3_b2.gexf\",2)"
      ],
      "metadata": {
        "id": "0-aZlh62jsdj"
      },
      "execution_count": null,
      "outputs": []
    },
    {
      "cell_type": "code",
      "source": [
        "#THE ARTS COUNCIL OF ENGLAND - 1036733 => Organisation with the highest income\n",
        "a,b = bfsGraph(1036733,3)\n",
        "buildGraph(a,b,\"arts_council_depth3_b2.gexf\",2)"
      ],
      "metadata": {
        "id": "klE4HzsYUgkQ"
      },
      "execution_count": null,
      "outputs": []
    },
    {
      "cell_type": "code",
      "source": [
        "#UNICEF\n",
        "a,b = bfsGraph(3957500,3)\n",
        "buildGraph(a,b,\"unicef_depth3_b1.gexf\",1)"
      ],
      "metadata": {
        "id": "T_WaUBrXH3bl"
      },
      "execution_count": null,
      "outputs": []
    }
  ]
}