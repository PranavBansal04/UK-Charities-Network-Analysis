{
  "nbformat": 4,
  "nbformat_minor": 0,
  "metadata": {
    "colab": {
      "name": "UK_Boards_BFS.ipynb",
      "provenance": [],
      "collapsed_sections": [],
      "mount_file_id": "1KMwxC2N6-cAypXYAnVw72lGva_c4gU08",
      "authorship_tag": "ABX9TyOV3b5GnBiTae11ca3GGQdH",
      "include_colab_link": true
    },
    "kernelspec": {
      "name": "python3",
      "display_name": "Python 3"
    },
    "language_info": {
      "name": "python"
    }
  },
  "cells": [
    {
      "cell_type": "markdown",
      "metadata": {
        "id": "view-in-github",
        "colab_type": "text"
      },
      "source": [
        "<a href=\"https://colab.research.google.com/github/PranavBansal04/UK-Charities-Network-Analysis/blob/master/UK_Boards_BFS.ipynb\" target=\"_parent\"><img src=\"https://colab.research.google.com/assets/colab-badge.svg\" alt=\"Open In Colab\"/></a>"
      ]
    },
    {
      "cell_type": "markdown",
      "source": [
        "# Building Network using BFS\n",
        "\n",
        "In this notebook a lot of code snippets for importing and processing the data have been directly used from the previous notebook and only minimal required actions have been performed to make the data ready for building the network. This keeps things clean."
      ],
      "metadata": {
        "id": "NotCAENamRvr"
      }
    },
    {
      "cell_type": "code",
      "source": [
        "from google.colab import drive\n",
        "drive.mount('/content/drive/')"
      ],
      "metadata": {
        "colab": {
          "base_uri": "https://localhost:8080/"
        },
        "id": "FlMfpGB340fr",
        "outputId": "e81890c9-09b6-43f3-bda6-7fed8b18db38"
      },
      "execution_count": 1,
      "outputs": [
        {
          "output_type": "stream",
          "name": "stdout",
          "text": [
            "Drive already mounted at /content/drive/; to attempt to forcibly remount, call drive.mount(\"/content/drive/\", force_remount=True).\n"
          ]
        }
      ]
    },
    {
      "cell_type": "code",
      "source": [
        "import json\n",
        "import pandas as pd\n",
        "import networkx as nx\n",
        "from numpy.core.numeric import NaN\n",
        "with open('drive/My Drive/UK_Data/json/publicextract.charity_trustee.json', encoding=\"utf-8-sig\") as f:\n",
        "  data = json.load(f)\n",
        "print(len(data))\n",
        "print(json.dumps(data[0],indent=4))"
      ],
      "metadata": {
        "colab": {
          "base_uri": "https://localhost:8080/"
        },
        "id": "Z5Kd3n0z5ca2",
        "outputId": "69b2778e-e8fd-4fe0-bf75-d500bada9547"
      },
      "execution_count": 2,
      "outputs": [
        {
          "output_type": "stream",
          "name": "stdout",
          "text": [
            "942096\n",
            "{\n",
            "    \"date_of_extract\": \"2022-01-11T00:00:00\",\n",
            "    \"organisation_number\": 521013,\n",
            "    \"registered_charity_number\": 521013,\n",
            "    \"linked_charity_number\": 0,\n",
            "    \"trustee_id\": 23760,\n",
            "    \"trustee_name\": \"AUGHTON PARISH COUNCIL\",\n",
            "    \"trustee_is_chair\": false,\n",
            "    \"individual_or_organisation\": \"O\",\n",
            "    \"trustee_date_of_appointment\": null\n",
            "}\n"
          ]
        }
      ]
    },
    {
      "cell_type": "code",
      "source": [
        "members = {}\n",
        "orgs = {}\n",
        "\n",
        "for trustee in data:\n",
        "    tid = trustee['trustee_id']\n",
        "    oid = trustee['organisation_number']\n",
        "    if(tid not in members):\n",
        "        members[tid] = [trustee]\n",
        "    else:\n",
        "        members[tid].append(trustee)\n",
        "    if(oid not in orgs):\n",
        "        orgs[oid] = [trustee]\n",
        "    else:\n",
        "        orgs[oid].append(trustee)\n",
        "\n",
        "print(\"Total Trustees : \",len(members))\n",
        "print(\"Total Organizations: \",len(orgs))"
      ],
      "metadata": {
        "colab": {
          "base_uri": "https://localhost:8080/"
        },
        "id": "bdrvsQ3s5m_j",
        "outputId": "16ab391c-708a-4dd7-d407-b029c1c6556a"
      },
      "execution_count": 3,
      "outputs": [
        {
          "output_type": "stream",
          "name": "stdout",
          "text": [
            "Total Trustees :  851555\n",
            "Total Organizations:  170190\n"
          ]
        }
      ]
    },
    {
      "cell_type": "code",
      "source": [
        "with open('drive/My Drive/UK_Data/json/publicextract.charity.json', encoding=\"utf-8-sig\") as f:\n",
        "  charity_data = json.load(f)\n",
        "\n",
        "print(len(charity_data))\n",
        "print(json.dumps(charity_data[3],indent=4))"
      ],
      "metadata": {
        "colab": {
          "base_uri": "https://localhost:8080/"
        },
        "id": "2gGwuVfw5rkt",
        "outputId": "0fe637df-8490-46fa-9e15-b25fc6ae108f"
      },
      "execution_count": 4,
      "outputs": [
        {
          "output_type": "stream",
          "name": "stdout",
          "text": [
            "376413\n",
            "{\n",
            "    \"date_of_extract\": \"2022-01-11T00:00:00\",\n",
            "    \"organisation_number\": 4,\n",
            "    \"registered_charity_number\": 200028,\n",
            "    \"linked_charity_number\": 2,\n",
            "    \"charity_name\": \"TOWN LANDS CHARITY FOR THE CHURCH\",\n",
            "    \"charity_type\": null,\n",
            "    \"charity_registration_status\": \"Removed\",\n",
            "    \"date_of_registration\": \"1961-10-19T00:00:00\",\n",
            "    \"date_of_removal\": \"1997-09-17T00:00:00\",\n",
            "    \"charity_reporting_status\": null,\n",
            "    \"latest_acc_fin_period_start_date\": null,\n",
            "    \"latest_acc_fin_period_end_date\": null,\n",
            "    \"latest_income\": null,\n",
            "    \"latest_expenditure\": null,\n",
            "    \"charity_contact_address1\": null,\n",
            "    \"charity_contact_address2\": null,\n",
            "    \"charity_contact_address3\": null,\n",
            "    \"charity_contact_address4\": null,\n",
            "    \"charity_contact_address5\": null,\n",
            "    \"charity_contact_postcode\": null,\n",
            "    \"charity_contact_phone\": null,\n",
            "    \"charity_contact_email\": null,\n",
            "    \"charity_contact_web\": null,\n",
            "    \"charity_company_registration_number\": null,\n",
            "    \"charity_insolvent\": false,\n",
            "    \"charity_in_administration\": false,\n",
            "    \"charity_previously_excepted\": null,\n",
            "    \"charity_is_cdf_or_cif\": null,\n",
            "    \"charity_is_cio\": null,\n",
            "    \"cio_is_dissolved\": null,\n",
            "    \"date_cio_dissolution_notice\": null,\n",
            "    \"charity_activities\": null,\n",
            "    \"charity_gift_aid\": null,\n",
            "    \"charity_has_land\": null\n",
            "}\n"
          ]
        }
      ]
    },
    {
      "cell_type": "code",
      "source": [
        "# linking organisation number to names\n",
        "charity = {}\n",
        "for ch in charity_data:\n",
        "    charity[ch['organisation_number']] = ch\n",
        "# charity"
      ],
      "metadata": {
        "id": "d6yqMeTk553m"
      },
      "execution_count": 5,
      "outputs": []
    },
    {
      "cell_type": "markdown",
      "source": [
        "# Helper Functions\n",
        "Now that we have all the data, we can write some functions that will help in building the network from the data."
      ],
      "metadata": {
        "id": "EJmhKfLuoINc"
      }
    },
    {
      "cell_type": "code",
      "source": [
        "def trustees_in_charities(orgs_list,threshold):\n",
        "  \"\"\"\n",
        "  Creates a list of trustees in the given list of organisations based on the threshold value\n",
        "\n",
        "  Arguments:\n",
        "    orgs_list: list of unique org ids\n",
        "    threshold: an integer value specifying the least number of boards a trustee must sit on\n",
        "\n",
        "  Returns:\n",
        "    A list of trustees(ids) that sit on the board of given organisations\n",
        "\n",
        "  \"\"\"\n",
        "\n",
        "  trustee_list = [] # list to store the trustee ids\n",
        "\n",
        "  for org_num in orgs_list: # iterate over the given org ids\n",
        "    for trustee in orgs[org_num]: # iterate over the trustees in the org_num organisation\n",
        "      #only add trustees that sit on boards >= threshold\n",
        "      if(len(members[trustee[\"trustee_id\"]])>=threshold):\n",
        "        trustee_list.append(trustee[\"trustee_id\"])\n",
        "\n",
        "  return list(set(trustee_list)) # create a set of trustee ids first since different organisations can have common trustees\n",
        "\n",
        "\n",
        "#===========================================================================================================================\n",
        "\n",
        "\n",
        "def charities_of_trustees(trustee_list):\n",
        "  \"\"\"\n",
        "  Creates a list of all the charities of which the given trustees are board members\n",
        "\n",
        "  Arguments:\n",
        "    trustee_list: a list of unique trustee ids\n",
        "  \n",
        "  Returns:\n",
        "    A list of charities/organisation ids\n",
        "  \"\"\"\n",
        "\n",
        "  charity_list=[] # list to store the org ids\n",
        "\n",
        "  for tid in trustee_list: # iterate over all given trustee ids\n",
        "    for charity in members[tid]: # access all charities of that trustee\n",
        "      charity_list.append(charity['organisation_number']) # add the org id to the list\n",
        "  return list(set(charity_list)) # return the list of org ids\n",
        "\n",
        "\n",
        "#===========================================================================================================================\n",
        "\n",
        "\n",
        "def bfsGraph(org_num,depth=1,threshold=1):\n",
        "  \"\"\"\n",
        "  Creates a list of organisations and trustees using BFS by linking orgs and trustees to one another\n",
        "\n",
        "  Arguments:\n",
        "    org_num: id of base organisation, starting node of the network, starting point for BFS\n",
        "    depth: an integer value specifying the depth for BFS (how deep it needs to search for connected orgs and trustees)\n",
        "           - a depth of 1 means that we only want the trustees that are part of the given organisation number\n",
        "           - default value is 1\n",
        "    threshold: an integer value specifying the least number of boards a trustee must sit on\n",
        "               - default value is 1\n",
        "  \n",
        "  Returns:\n",
        "    list 1: a list of all the organisations that are found by BFS and are a part of the network\n",
        "    list 2: a list of all the trustees that are connected to the base organisation directly or indirectly\n",
        "  \"\"\"\n",
        "\n",
        "  global_org_list = [] # list to store ids of all the connected orgs\n",
        "  global_trustee_list = [] # list to store the ids of all the connected trustees\n",
        "\n",
        "  temp_org_list = [org_num] # list to store org ids at depth i\n",
        "  temp_trustee_list = trustees_in_charities(temp_org_list,threshold) # list to store the trustee ids at depth i\n",
        "\n",
        "  # if depth is 1 then temp lists will store the required data which is the base organisation and all trustees connected to the base organisation\n",
        "  if(depth==1):\n",
        "    return list(set(temp_org_list)), list(set(temp_trustee_list)) # return the temp lists\n",
        "\n",
        "  #iterate till the given depth and add all trustees and orgs to the gloabl lists\n",
        "  for i in range(depth):\n",
        "    global_org_list+=temp_org_list # add orgs from temp list to the global list\n",
        "    global_trustee_list+= temp_trustee_list # add trustees from temp list to the global list\n",
        "    temp_org_list = charities_of_trustees(temp_trustee_list) # get the orgs that are linked with trustees in the temp list\n",
        "    temp_trustee_list = trustees_in_charities(temp_org_list,threshold) # get the trustees that are part of the charities in the temp list\n",
        "  \n",
        "  # return the global org and trustee lists\n",
        "  return list(set(global_org_list)),list(set(global_trustee_list))"
      ],
      "metadata": {
        "id": "7QtffCL_yOiN"
      },
      "execution_count": 6,
      "outputs": []
    },
    {
      "cell_type": "markdown",
      "source": [
        "# Build Graph Function\n",
        "This function will take the lists generated by bfsGraph function as input and build the network using networkx"
      ],
      "metadata": {
        "id": "7a7HMsmH9JKF"
      }
    },
    {
      "cell_type": "code",
      "source": [
        "def buildGraph(org_list,trustee_list,file,num_boards=1):\n",
        "  \"\"\"\n",
        "  Builds the network using networkx and exports all data into a gexf/graphml file\n",
        "  The network contains 2 types of nodes - organisation nodes and trustee nodes\n",
        "  An edge in the network connects a trustee to all its boards and a charity to all of its trustees\n",
        "  a gexf file can be imported directly into network visualization softwares such as Gephi\n",
        "\n",
        "  Arguments:\n",
        "    org_list: list of orgs in the network, will be added as nodes\n",
        "    trustee_list: list of trustees in the network, will be added as nodes\n",
        "    file: name of the output file\n",
        "    num_boards: an integer specifying the least number of boards a trustee must sit on\n",
        "                (only in context with the present network and not the entire dataset)\n",
        "                - default value is 1\n",
        "\n",
        "  Returns:\n",
        "    G: a networkx graph object that stores all the information of the generated graph\n",
        "    - an output file gexf/graphml is generated with the name provided as input that stores all the graph data\n",
        "  \"\"\"\n",
        "\n",
        "  G = nx.MultiGraph() # initialize the graph object\n",
        "\n",
        "\n",
        "  # Node attributes\n",
        "\n",
        "  color_map = {} # stores the color of node, org - red, trustee - blue\n",
        "  label_map = {} # stores the label for the node, name of charity or trustee\n",
        "\n",
        "  expenditure_map = {} # stores the gross annual expenditure for the organisation\n",
        "  income_map = {} # stores the gross annual income of the organisation\n",
        "\n",
        "  size_map ={} # stores the size for the node (useful for pyvis visualization)\n",
        "\n",
        "\n",
        "  # add org nodes to the network \n",
        "  for i in org_list:\n",
        "    G.add_node(i)\n",
        "    color_map[i]='#e636e1' # specify color attribute, red for charity\n",
        "    label_map[i]= charity[i]['charity_name'] # specify lable attribute, name of charity\n",
        "    size_map[i] = 15 # specify node size\n",
        "\n",
        "    # expenditure and income are missing for some organisations in the original data set, therefore its wrapped inside a try-except block\n",
        "    try:\n",
        "      if(charity[i]['latest_income'] == None or charity[i]['latest_expenditure'] == None):\n",
        "        raise Exception(\"None Type\")\n",
        "      income_map[i] = charity[i]['latest_income']\n",
        "      expenditure_map[i] = charity[i]['latest_expenditure']\n",
        "    except:\n",
        "      # if no income and expenditure is found then assign 0\n",
        "      income_map[i]=0\n",
        "      expenditure_map[i]=0\n",
        "\n",
        "  # add trustee nodes to the network\n",
        "  for i in trustee_list:\n",
        "    G.add_node(i)\n",
        "\n",
        "    color_map[i]='#efe0cb' # specify color attribute, blue for trustee\n",
        "    label_map[i]= members[i][0]['trustee_name'] # specify label attribute, name of trustee\n",
        "    size_map[i] = 7 # specify node size\n",
        "    \n",
        "  # add edges to the network\n",
        "  for p in trustee_list:\n",
        "    if(p in G.nodes(0)):\n",
        "      boards = []\n",
        "      for j in members[p]:\n",
        "        if(j['organisation_number'] in G.nodes()):\n",
        "          boards.append(j['organisation_number'])\n",
        "      #check if the trustee sits on boards >= num_boards\n",
        "      if(len(boards)>=num_boards):\n",
        "        res = [ (p,sub) for sub in boards ]\n",
        "        G.add_edges_from(res)\n",
        "      #if trustee sits on boards less than num_boards then remove the trustee node from the graph\n",
        "      else:\n",
        "        G.remove_node(p)\n",
        "  \n",
        "  # set all node attributes\n",
        "  nx.set_node_attributes(G, color_map, name=\"color\")\n",
        "  nx.set_node_attributes(G, label_map, name=\"label\")\n",
        "  nx.set_node_attributes(G, size_map, name=\"size\")\n",
        "  nx.set_node_attributes(G, income_map, name=\"Total Gross Income\")\n",
        "  nx.set_node_attributes(G, expenditure_map, name=\"Total Gross Expenditure\")\n",
        "\n",
        "  # export the data into a gexf file\n",
        "  nx.write_gexf(G, file,version='1.2draft')\n",
        "\n",
        "  # uncomment the following line if you want to export the data as graphml file too\n",
        "  # nx.write_graphml_lxml(G, \"graph.graphml\")\n",
        "\n",
        "  # return the networkx graph object\n",
        "  return G"
      ],
      "metadata": {
        "id": "v4P_zSED-SOg"
      },
      "execution_count": 48,
      "outputs": []
    },
    {
      "cell_type": "markdown",
      "source": [
        "\n",
        "\n",
        "*   bfsGraph takes organisation number, depth and threshold value as arguments\n",
        "*   threshold value is the least number of boards a trustee must sit on, if no value is specified then its default value is 1\n",
        "*   buildGraph function takes organisation list, trustee list, output file name and num_boards as arguments\n",
        "*   num_boards is the least number of boards(in the present network) a trustee must sit on and its default value is 1\n",
        "\n"
      ],
      "metadata": {
        "id": "5_N524xH7Vr4"
      }
    },
    {
      "cell_type": "markdown",
      "source": [
        "## Generating the network with the help of above functions\n",
        "- bfsGraph(org_num,depth,threshold)\n",
        "- buildGraph(org_list,trustee_list,fileName,num_boards)"
      ],
      "metadata": {
        "id": "4xwqboDtDvws"
      }
    },
    {
      "cell_type": "code",
      "source": [
        "# pyvis is an interactive network visualization library\n",
        "!pip install pyvis"
      ],
      "metadata": {
        "colab": {
          "base_uri": "https://localhost:8080/"
        },
        "id": "nI8z9_5aMf7X",
        "outputId": "a9a333e3-9388-4488-a9a2-59ff6951f6c0"
      },
      "execution_count": 8,
      "outputs": [
        {
          "output_type": "stream",
          "name": "stdout",
          "text": [
            "Collecting pyvis\n",
            "  Downloading pyvis-0.2.1.tar.gz (21 kB)\n",
            "Requirement already satisfied: jinja2>=2.9.6 in /usr/local/lib/python3.7/dist-packages (from pyvis) (2.11.3)\n",
            "Requirement already satisfied: networkx>=1.11 in /usr/local/lib/python3.7/dist-packages (from pyvis) (2.6.3)\n",
            "Requirement already satisfied: ipython>=5.3.0 in /usr/local/lib/python3.7/dist-packages (from pyvis) (5.5.0)\n",
            "Collecting jsonpickle>=1.4.1\n",
            "  Downloading jsonpickle-2.1.0-py2.py3-none-any.whl (38 kB)\n",
            "Requirement already satisfied: simplegeneric>0.8 in /usr/local/lib/python3.7/dist-packages (from ipython>=5.3.0->pyvis) (0.8.1)\n",
            "Requirement already satisfied: pexpect in /usr/local/lib/python3.7/dist-packages (from ipython>=5.3.0->pyvis) (4.8.0)\n",
            "Requirement already satisfied: pygments in /usr/local/lib/python3.7/dist-packages (from ipython>=5.3.0->pyvis) (2.6.1)\n",
            "Requirement already satisfied: traitlets>=4.2 in /usr/local/lib/python3.7/dist-packages (from ipython>=5.3.0->pyvis) (5.1.1)\n",
            "Requirement already satisfied: pickleshare in /usr/local/lib/python3.7/dist-packages (from ipython>=5.3.0->pyvis) (0.7.5)\n",
            "Requirement already satisfied: decorator in /usr/local/lib/python3.7/dist-packages (from ipython>=5.3.0->pyvis) (4.4.2)\n",
            "Requirement already satisfied: setuptools>=18.5 in /usr/local/lib/python3.7/dist-packages (from ipython>=5.3.0->pyvis) (57.4.0)\n",
            "Requirement already satisfied: prompt-toolkit<2.0.0,>=1.0.4 in /usr/local/lib/python3.7/dist-packages (from ipython>=5.3.0->pyvis) (1.0.18)\n",
            "Requirement already satisfied: MarkupSafe>=0.23 in /usr/local/lib/python3.7/dist-packages (from jinja2>=2.9.6->pyvis) (2.0.1)\n",
            "Requirement already satisfied: importlib-metadata in /usr/local/lib/python3.7/dist-packages (from jsonpickle>=1.4.1->pyvis) (4.11.3)\n",
            "Requirement already satisfied: wcwidth in /usr/local/lib/python3.7/dist-packages (from prompt-toolkit<2.0.0,>=1.0.4->ipython>=5.3.0->pyvis) (0.2.5)\n",
            "Requirement already satisfied: six>=1.9.0 in /usr/local/lib/python3.7/dist-packages (from prompt-toolkit<2.0.0,>=1.0.4->ipython>=5.3.0->pyvis) (1.15.0)\n",
            "Requirement already satisfied: zipp>=0.5 in /usr/local/lib/python3.7/dist-packages (from importlib-metadata->jsonpickle>=1.4.1->pyvis) (3.8.0)\n",
            "Requirement already satisfied: typing-extensions>=3.6.4 in /usr/local/lib/python3.7/dist-packages (from importlib-metadata->jsonpickle>=1.4.1->pyvis) (4.2.0)\n",
            "Requirement already satisfied: ptyprocess>=0.5 in /usr/local/lib/python3.7/dist-packages (from pexpect->ipython>=5.3.0->pyvis) (0.7.0)\n",
            "Building wheels for collected packages: pyvis\n",
            "  Building wheel for pyvis (setup.py) ... \u001b[?25l\u001b[?25hdone\n",
            "  Created wheel for pyvis: filename=pyvis-0.2.1-py3-none-any.whl size=23688 sha256=93331dbc1ff830885a4eb1de99d231eddf2fdcea70e7ef42871eec4ba6e39efe\n",
            "  Stored in directory: /root/.cache/pip/wheels/2a/8f/04/6340d46afc74f59cc857a594ca1a2a14a1f4cbd4fd6c2e9306\n",
            "Successfully built pyvis\n",
            "Installing collected packages: jsonpickle, pyvis\n",
            "Successfully installed jsonpickle-2.1.0 pyvis-0.2.1\n"
          ]
        }
      ]
    },
    {
      "cell_type": "code",
      "source": [
        "#ROTHSCHILD FOUNDATION\n",
        "a,b = bfsGraph(5012258,2,2)\n",
        "G = buildGraph(a,b,\"roths_depth2_thres2.gexf\")"
      ],
      "metadata": {
        "id": "7qXxbbqRBk-3"
      },
      "execution_count": 55,
      "outputs": []
    },
    {
      "cell_type": "code",
      "source": [
        "from pyvis.network import Network\n",
        "from IPython.core.display import display, HTML\n",
        "\n",
        "g = Network(height=600,width=800,notebook=True,bgcolor='#222222',font_color=\"#ffffff\")\n",
        "g.toggle_hide_edges_on_drag(False)\n",
        "# g.show_buttons(filter_=['physics'])\n",
        "# g.show_buttons()\n",
        "g.force_atlas_2based()\n",
        "g.from_nx(G)\n",
        "g.show(\"ex.html\")\n",
        "display(HTML('ex.html'))"
      ],
      "metadata": {
        "colab": {
          "base_uri": "https://localhost:8080/",
          "height": 754
        },
        "id": "pgoC_-iYMxfp",
        "outputId": "5be10f88-32e0-4ec8-c02b-e3a203cb3981"
      },
      "execution_count": 56,
      "outputs": [
        {
          "output_type": "display_data",
          "data": {
            "text/plain": [
              "<IPython.core.display.HTML object>"
            ],
            "text/html": [
              "<html>\n",
              "<head>\n",
              "<link rel=\"stylesheet\" href=\"https://cdn.jsdelivr.net/npm/vis-network@latest/styles/vis-network.css\" type=\"text/css\" />\n",
              "<script type=\"text/javascript\" src=\"https://cdn.jsdelivr.net/npm/vis-network@latest/dist/vis-network.min.js\"> </script>\n",
              "<center>\n",
              "<h1></h1>\n",
              "</center>\n",
              "\n",
              "<!-- <link rel=\"stylesheet\" href=\"../node_modules/vis/dist/vis.min.css\" type=\"text/css\" />\n",
              "<script type=\"text/javascript\" src=\"../node_modules/vis/dist/vis.js\"> </script>-->\n",
              "\n",
              "<style type=\"text/css\">\n",
              "\n",
              "        #mynetwork {\n",
              "            width: 800;\n",
              "            height: 600;\n",
              "            background-color: #222222;\n",
              "            border: 1px solid lightgray;\n",
              "            position: relative;\n",
              "            float: left;\n",
              "        }\n",
              "\n",
              "        \n",
              "\n",
              "        \n",
              "\n",
              "        \n",
              "</style>\n",
              "\n",
              "</head>\n",
              "\n",
              "<body>\n",
              "<div id = \"mynetwork\"></div>\n",
              "\n",
              "\n",
              "<script type=\"text/javascript\">\n",
              "\n",
              "    // initialize global variables.\n",
              "    var edges;\n",
              "    var nodes;\n",
              "    var network; \n",
              "    var container;\n",
              "    var options, data;\n",
              "\n",
              "    \n",
              "    // This method is responsible for drawing the graph, returns the drawn network\n",
              "    function drawGraph() {\n",
              "        var container = document.getElementById('mynetwork');\n",
              "        \n",
              "        \n",
              "\n",
              "        // parsing and collecting nodes and edges from the python\n",
              "        nodes = new vis.DataSet([{\"Total Gross Expenditure\": 11660887.0, \"Total Gross Income\": 4168827.0, \"color\": \"#e636e1\", \"font\": {\"color\": \"#ffffff\"}, \"id\": 5076288, \"label\": \"ILLUMINATED RIVER FOUNDATION\", \"shape\": \"dot\", \"size\": 15}, {\"color\": \"#efe0cb\", \"font\": {\"color\": \"#ffffff\"}, \"id\": 11173245, \"label\": \"THE HON HANNAH ROTHSCHILD\", \"shape\": \"dot\", \"size\": 7}, {\"Total Gross Expenditure\": 35182758.0, \"Total Gross Income\": 37684567.0, \"color\": \"#e636e1\", \"font\": {\"color\": \"#ffffff\"}, \"id\": 5012258, \"label\": \"THE ROTHSCHILD FOUNDATION\", \"shape\": \"dot\", \"size\": 15}, {\"color\": \"#efe0cb\", \"font\": {\"color\": \"#ffffff\"}, \"id\": 1567016, \"label\": \"LORD ROTHSCHILD OM GBE\", \"shape\": \"dot\", \"size\": 7}, {\"color\": \"#efe0cb\", \"font\": {\"color\": \"#ffffff\"}, \"id\": 2501046, \"label\": \"Peter John Charles Troughton\", \"shape\": \"dot\", \"size\": 7}, {\"Total Gross Expenditure\": 7359124.0, \"Total Gross Income\": 42441.0, \"color\": \"#e636e1\", \"font\": {\"color\": \"#ffffff\"}, \"id\": 3969890, \"label\": \"ROTHSCHILD FOUNDATION (HANADIV) EUROPE\", \"shape\": \"dot\", \"size\": 15}, {\"color\": \"#efe0cb\", \"font\": {\"color\": \"#ffffff\"}, \"id\": 505171, \"label\": \"Dr DAVID LANDAU\", \"shape\": \"dot\", \"size\": 7}, {\"color\": \"#efe0cb\", \"font\": {\"color\": \"#ffffff\"}, \"id\": 1270133, \"label\": \"SIR MAURICE VICTOR BLANK\", \"shape\": \"dot\", \"size\": 7}, {\"Total Gross Expenditure\": 133577.0, \"Total Gross Income\": 80622.0, \"color\": \"#e636e1\", \"font\": {\"color\": \"#ffffff\"}, \"id\": 5117128, \"label\": \"DEVIZES ASSIZE COURT TRUST\", \"shape\": \"dot\", \"size\": 15}, {\"color\": \"#efe0cb\", \"font\": {\"color\": \"#ffffff\"}, \"id\": 12511203, \"label\": \"David Bedingfeld Scott\", \"shape\": \"dot\", \"size\": 7}, {\"color\": \"#efe0cb\", \"font\": {\"color\": \"#ffffff\"}, \"id\": 2970535, \"label\": \"JOHN BARNARD BUSH OBE\", \"shape\": \"dot\", \"size\": 7}, {\"color\": \"#efe0cb\", \"font\": {\"color\": \"#ffffff\"}, \"id\": 11532935, \"label\": \"Nicholas Blethyn Elliott\", \"shape\": \"dot\", \"size\": 7}, {\"color\": \"#efe0cb\", \"font\": {\"color\": \"#ffffff\"}, \"id\": 12090383, \"label\": \"Martin John Nye\", \"shape\": \"dot\", \"size\": 7}, {\"Total Gross Expenditure\": 2533593.0, \"Total Gross Income\": 1754079.0, \"color\": \"#e636e1\", \"font\": {\"color\": \"#ffffff\"}, \"id\": 3970012, \"label\": \"THE ROYAL OPERA HOUSE ENDOWMENT FUND 2000\", \"shape\": \"dot\", \"size\": 15}, {\"color\": \"#efe0cb\", \"font\": {\"color\": \"#ffffff\"}, \"id\": 3023960, \"label\": \"MR TIM BUNTING\", \"shape\": \"dot\", \"size\": 7}, {\"color\": \"#efe0cb\", \"font\": {\"color\": \"#ffffff\"}, \"id\": 11945083, \"label\": \"Sir Simon Christopher Robey\", \"shape\": \"dot\", \"size\": 7}, {\"color\": \"#efe0cb\", \"font\": {\"color\": \"#ffffff\"}, \"id\": 2047389, \"label\": \"DAME Vivien Louise Duffield DBE\", \"shape\": \"dot\", \"size\": 7}]);\n",
              "        edges = new vis.DataSet([{\"from\": 5076288, \"label\": 1, \"to\": 11173245, \"weight\": 1}, {\"from\": 5012258, \"label\": 1, \"to\": 1567016, \"weight\": 1}, {\"from\": 5012258, \"label\": 1, \"to\": 2501046, \"weight\": 1}, {\"from\": 5012258, \"label\": 1, \"to\": 11173245, \"weight\": 1}, {\"from\": 3969890, \"label\": 1, \"to\": 1567016, \"weight\": 1}, {\"from\": 3969890, \"label\": 1, \"to\": 505171, \"weight\": 1}, {\"from\": 3969890, \"label\": 1, \"to\": 1270133, \"weight\": 1}, {\"from\": 5117128, \"label\": 1, \"to\": 12511203, \"weight\": 1}, {\"from\": 5117128, \"label\": 1, \"to\": 2970535, \"weight\": 1}, {\"from\": 5117128, \"label\": 1, \"to\": 11532935, \"weight\": 1}, {\"from\": 5117128, \"label\": 1, \"to\": 12090383, \"weight\": 1}, {\"from\": 5117128, \"label\": 1, \"to\": 2501046, \"weight\": 1}, {\"from\": 3970012, \"label\": 1, \"to\": 2501046, \"weight\": 1}, {\"from\": 3970012, \"label\": 1, \"to\": 3023960, \"weight\": 1}, {\"from\": 3970012, \"label\": 1, \"to\": 11945083, \"weight\": 1}, {\"from\": 3970012, \"label\": 1, \"to\": 2047389, \"weight\": 1}]);\n",
              "\n",
              "        // adding nodes and edges to the graph\n",
              "        data = {nodes: nodes, edges: edges};\n",
              "\n",
              "        var options = {\n",
              "    \"configure\": {\n",
              "        \"enabled\": false\n",
              "    },\n",
              "    \"edges\": {\n",
              "        \"color\": {\n",
              "            \"inherit\": true\n",
              "        },\n",
              "        \"smooth\": {\n",
              "            \"enabled\": true,\n",
              "            \"type\": \"dynamic\"\n",
              "        }\n",
              "    },\n",
              "    \"interaction\": {\n",
              "        \"dragNodes\": true,\n",
              "        \"hideEdgesOnDrag\": false,\n",
              "        \"hideNodesOnDrag\": false\n",
              "    },\n",
              "    \"physics\": {\n",
              "        \"enabled\": true,\n",
              "        \"forceAtlas2Based\": {\n",
              "            \"avoidOverlap\": 0,\n",
              "            \"centralGravity\": 0.01,\n",
              "            \"damping\": 0.4,\n",
              "            \"gravitationalConstant\": -50,\n",
              "            \"springConstant\": 0.08,\n",
              "            \"springLength\": 100\n",
              "        },\n",
              "        \"solver\": \"forceAtlas2Based\",\n",
              "        \"stabilization\": {\n",
              "            \"enabled\": true,\n",
              "            \"fit\": true,\n",
              "            \"iterations\": 1000,\n",
              "            \"onlyDynamicEdges\": false,\n",
              "            \"updateInterval\": 50\n",
              "        }\n",
              "    }\n",
              "};\n",
              "        \n",
              "        \n",
              "\n",
              "        \n",
              "\n",
              "        network = new vis.Network(container, data, options);\n",
              "\t \n",
              "        \n",
              "\n",
              "\n",
              "        \n",
              "\n",
              "        return network;\n",
              "\n",
              "    }\n",
              "\n",
              "    drawGraph();\n",
              "\n",
              "</script>\n",
              "</body>\n",
              "</html>"
            ]
          },
          "metadata": {}
        }
      ]
    },
    {
      "cell_type": "code",
      "source": [
        "#ROTHSCHILD FOUNDATION -> Depth = 3, num_boards =2 \n",
        "boards_list,members_list = bfsGraph(5012258,3)\n",
        "buildGraph(boards_list,members_list,\"roths_depth3_b2.gexf\",2)"
      ],
      "metadata": {
        "id": "uPPAVOiJ_fg7"
      },
      "execution_count": null,
      "outputs": []
    },
    {
      "cell_type": "code",
      "source": [
        "# WILTSHIRE ARCHAEOLOGICAL AND NATURAL HISTORY SOCIETY\n",
        "#Two orgs with same name and same trustees but different org no. and registered charity number\n",
        "#total income and expenditure is also different\n",
        "# org1 - org no. - 309534\n",
        "#        charity no. - 309534\n",
        "#        link - https://register-of-charities.charitycommission.gov.uk/charity-search/-/charity-details/309534\n",
        "# org2 - org no. -  3970185\n",
        "#        charity no. - 1080096\n",
        "#        link - https://register-of-charities.charitycommission.gov.uk/charity-search/-/charity-details/3970185\n",
        "print(len(orgs[3970185]))\n",
        "print(len(orgs[309534]))\n",
        "print(charity[3970185])\n",
        "print(charity[309534])"
      ],
      "metadata": {
        "colab": {
          "base_uri": "https://localhost:8080/"
        },
        "id": "kEAtGX27CS1_",
        "outputId": "513aab46-6583-440d-9afc-b7a16bd2f3fd"
      },
      "execution_count": null,
      "outputs": [
        {
          "output_type": "stream",
          "name": "stdout",
          "text": [
            "13\n",
            "13\n",
            "WILTSHIRE ARCHAEOLOGICAL AND NATURAL HISTORY SOCIETY\n",
            "WILTSHIRE ARCHAEOLOGICAL AND NATURAL HISTORY SOCIETY\n"
          ]
        }
      ]
    },
    {
      "cell_type": "code",
      "source": [
        "#ROYAL ACADEMY OF ARTS\n",
        "boards_list,members_list = bfsGraph(4040548,2)\n",
        "buildGraph(boards_list,members_list,\"royal_academy_depth2_b2.gexf\",2)"
      ],
      "metadata": {
        "id": "eSOlEkQrNS9N"
      },
      "execution_count": null,
      "outputs": []
    },
    {
      "cell_type": "code",
      "source": [
        "#ROYAL ACADEMY OF ARTS - threshold 2\n",
        "a,b = bfsGraph(4040548,2,2)\n",
        "buildGraph(a,b,\"royal_academy_depth2_thres2.gexf\")"
      ],
      "metadata": {
        "id": "7TyZWdNnLpqm"
      },
      "execution_count": null,
      "outputs": []
    },
    {
      "cell_type": "code",
      "source": [
        "#ROYAL ACADEMY OF ARTS -> Depth = 3, num_boards = 2\n",
        "boards_list,members_list = bfsGraph(4040548,3)\n",
        "buildGraph(boards_list,members_list,\"royal_academy_depth3_b2.gexf\",2)"
      ],
      "metadata": {
        "id": "V7B01nE7ey5b"
      },
      "execution_count": null,
      "outputs": []
    },
    {
      "cell_type": "code",
      "source": [
        "# Some analysis\n",
        "\n",
        "print(charity[306972], len(orgs[306972]))\n",
        "print(charity[5048464], len(orgs[5048464]))\n",
        "a = []\n",
        "for i in orgs[306972]:\n",
        "  # print(i[\"trustee_id\"])\n",
        "  a.append(i[\"trustee_id\"])\n",
        "b = []\n",
        "for i in orgs[5048464]:\n",
        "  # print(i[\"trustee_id\"])\n",
        "  b.append(i[\"trustee_id\"])\n",
        "\n",
        "print(sorted(a))\n",
        "print(sorted(b))\n",
        "print(set(a)-set(b))\n",
        "print(set(b)-set(a))\n",
        "\n",
        "#Both of these charities have 9 board members in common"
      ],
      "metadata": {
        "colab": {
          "base_uri": "https://localhost:8080/"
        },
        "id": "oRuYWNM7o_0D",
        "outputId": "d50c6498-5fc8-4235-c03f-793f72c367d9"
      },
      "execution_count": null,
      "outputs": [
        {
          "output_type": "stream",
          "name": "stdout",
          "text": [
            "READ MEMORIAL GROUND 11\n",
            "THE PREBENDAL SCHOOL 10\n",
            "[11249427, 11641760, 11967954, 11967955, 11967956, 11967968, 11967969, 12182006, 12399481, 12401234, 12444568]\n",
            "[2576867, 11641760, 11967954, 11967955, 11967956, 11967968, 11967969, 12182006, 12399481, 12444568]\n",
            "{12401234, 11249427}\n",
            "{2576867}\n"
          ]
        }
      ]
    },
    {
      "cell_type": "code",
      "source": [
        "#ROYAL SCOCIETY -https://register-of-charities.charitycommission.gov.uk/charity-search/-/charity-details/207043\n",
        "a,b = bfsGraph(207043,2)\n",
        "buildGraph(a,b,\"royal_society_depth2.gexf\")"
      ],
      "metadata": {
        "id": "TTY-1ZGwcp-q"
      },
      "execution_count": null,
      "outputs": []
    },
    {
      "cell_type": "code",
      "source": [
        "#ROYAL SCOCIETY - threshold 2\n",
        "a,b = bfsGraph(207043,2,2)\n",
        "buildGraph(a,b,\"royal_society_depth2_thres2.gexf\")"
      ],
      "metadata": {
        "id": "dW4gZMl-McVO"
      },
      "execution_count": null,
      "outputs": []
    },
    {
      "cell_type": "code",
      "source": [
        "#ROYAL SCOCIETY -> Depth = 2, nunm_boards = 2\n",
        "a,b = bfsGraph(207043,2)\n",
        "buildGraph(a,b,\"royal_society_depth2_b2.gexf\",2)"
      ],
      "metadata": {
        "id": "QFcSBwZxhkBn"
      },
      "execution_count": null,
      "outputs": []
    },
    {
      "cell_type": "code",
      "source": [
        "# CANAL & RIVER TRUST - at the top of arts/science according to total gross expenditure\n",
        "a,b = bfsGraph(5027494,2)\n",
        "buildGraph(a,b,\"canal&river_trust_depth2.gexf\")"
      ],
      "metadata": {
        "id": "C79iUm6ygQzb"
      },
      "execution_count": null,
      "outputs": []
    },
    {
      "cell_type": "code",
      "source": [
        "# CANAL & RIVER TRUST - threshold 2\n",
        "a,b = bfsGraph(5027494,2,2)\n",
        "buildGraph(a,b,\"canal&river_trust_depth2_thres2.gexf\")"
      ],
      "metadata": {
        "id": "RKAs4Fm7MmAd"
      },
      "execution_count": null,
      "outputs": []
    },
    {
      "cell_type": "code",
      "source": [
        "#CANAL & RIVER TRUST - depth 3\n",
        "a,b = bfsGraph(5027494,3)\n",
        "G = buildGraph(a,b,\"canal&river_trust_depth3.gexf\")"
      ],
      "metadata": {
        "id": "BY1JWqtV8ngb"
      },
      "execution_count": 51,
      "outputs": []
    },
    {
      "cell_type": "code",
      "source": [
        "#CANAL & RIVER TRUST -> Depth = 3, num_boards = 2 \n",
        "a,b = bfsGraph(5027494,3)\n",
        "buildGraph(a,b,\"canal&river_trust_depth3_b2.gexf\",2)"
      ],
      "metadata": {
        "id": "0-aZlh62jsdj"
      },
      "execution_count": null,
      "outputs": []
    },
    {
      "cell_type": "code",
      "source": [
        "#THE ARTS COUNCIL OF ENGLAND - 1036733 => Organisation with the highest income\n",
        "a,b = bfsGraph(1036733,3)\n",
        "buildGraph(a,b,\"arts_council_depth3_b2.gexf\",2)"
      ],
      "metadata": {
        "id": "klE4HzsYUgkQ"
      },
      "execution_count": null,
      "outputs": []
    },
    {
      "cell_type": "code",
      "source": [
        "#UNICEF\n",
        "a,b = bfsGraph(3957500,3)\n",
        "buildGraph(a,b,\"unicef_depth3_b1.gexf\",1)"
      ],
      "metadata": {
        "id": "T_WaUBrXH3bl"
      },
      "execution_count": null,
      "outputs": []
    }
  ]
}