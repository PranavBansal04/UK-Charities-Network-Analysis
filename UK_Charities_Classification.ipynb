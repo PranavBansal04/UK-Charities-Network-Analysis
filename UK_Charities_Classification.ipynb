{
  "nbformat": 4,
  "nbformat_minor": 0,
  "metadata": {
    "colab": {
      "name": "UK_Charities_Classification.ipynb",
      "provenance": [],
      "collapsed_sections": [],
      "mount_file_id": "1EK_Z1Ld_jGlkV1cAeZkQS-g_iRkWIR2w",
      "authorship_tag": "ABX9TyNt1g96Xyeg47kQ4eOKtMxd"
    },
    "kernelspec": {
      "name": "python3",
      "display_name": "Python 3"
    },
    "language_info": {
      "name": "python"
    }
  },
  "cells": [
    {
      "cell_type": "markdown",
      "source": [
        "# Classification of UK Charities\n",
        "In this notebook, data from several sources has been used to classify UK charities"
      ],
      "metadata": {
        "id": "y6oKrsYmG1bB"
      }
    },
    {
      "cell_type": "code",
      "execution_count": 1,
      "metadata": {
        "colab": {
          "base_uri": "https://localhost:8080/"
        },
        "id": "eyp9mRZ28DF9",
        "outputId": "96fec7b9-e40c-4542-ee62-fb9bbbc04d1d"
      },
      "outputs": [
        {
          "output_type": "stream",
          "name": "stdout",
          "text": [
            "Drive already mounted at /content/drive/; to attempt to forcibly remount, call drive.mount(\"/content/drive/\", force_remount=True).\n"
          ]
        }
      ],
      "source": [
        "from google.colab import drive\n",
        "drive.mount('/content/drive/')"
      ]
    },
    {
      "cell_type": "code",
      "source": [
        "import json\n",
        "import pandas as pd\n",
        "import networkx as nx\n",
        "from numpy.core.numeric import NaN\n",
        "with open('drive/My Drive/UK_Data/json/publicextract.charity_trustee.json', encoding=\"utf-8-sig\") as f:\n",
        "  data = json.load(f)\n",
        "print(len(data))\n",
        "print(json.dumps(data[0],indent=4))"
      ],
      "metadata": {
        "colab": {
          "base_uri": "https://localhost:8080/"
        },
        "id": "0u1oLDkm8Ldx",
        "outputId": "e1b8b5bb-51f1-4c87-c5c1-742c0c596bdf"
      },
      "execution_count": 2,
      "outputs": [
        {
          "output_type": "stream",
          "name": "stdout",
          "text": [
            "942096\n",
            "{\n",
            "    \"date_of_extract\": \"2022-01-11T00:00:00\",\n",
            "    \"organisation_number\": 521013,\n",
            "    \"registered_charity_number\": 521013,\n",
            "    \"linked_charity_number\": 0,\n",
            "    \"trustee_id\": 23760,\n",
            "    \"trustee_name\": \"AUGHTON PARISH COUNCIL\",\n",
            "    \"trustee_is_chair\": false,\n",
            "    \"individual_or_organisation\": \"O\",\n",
            "    \"trustee_date_of_appointment\": null\n",
            "}\n"
          ]
        }
      ]
    },
    {
      "cell_type": "markdown",
      "source": [
        "- In the charity_trustee table we have all combinations of trustees and charities.\n",
        "- Website https://register-of-charities.charitycommission.gov.uk/sector-data/sector-overview\n"
      ],
      "metadata": {
        "id": "fqLXWLwoNRR6"
      }
    },
    {
      "cell_type": "code",
      "source": [
        "members = {}\n",
        "orgs = {}\n",
        "\n",
        "for trustee in data:\n",
        "    tid = trustee['trustee_id']\n",
        "    oid = trustee['organisation_number']\n",
        "    if(tid not in members):\n",
        "        members[tid] = [trustee]\n",
        "    else:\n",
        "        members[tid].append(trustee)\n",
        "    if(oid not in orgs):\n",
        "        orgs[oid] = [trustee]\n",
        "    else:\n",
        "        orgs[oid].append(trustee)\n",
        "\n",
        "print(\"Total Trustees : \",len(members))\n",
        "print(\"Total Organizations: \",len(orgs))"
      ],
      "metadata": {
        "colab": {
          "base_uri": "https://localhost:8080/"
        },
        "id": "pGuNLGO_8L6v",
        "outputId": "0a1fd3e9-bd71-4336-dad0-9b372c7304f4"
      },
      "execution_count": 3,
      "outputs": [
        {
          "output_type": "stream",
          "name": "stdout",
          "text": [
            "Total Trustees :  851555\n",
            "Total Organizations:  170190\n"
          ]
        }
      ]
    },
    {
      "cell_type": "code",
      "source": [
        "with open('drive/My Drive/UK_Data/json/publicextract.charity.json', encoding=\"utf-8-sig\") as f:\n",
        "  charity_data = json.load(f)\n",
        "\n",
        "print(len(charity_data))\n",
        "print(json.dumps(charity_data[3],indent=4))"
      ],
      "metadata": {
        "colab": {
          "base_uri": "https://localhost:8080/"
        },
        "id": "4YHOT8vv8NSW",
        "outputId": "531f4036-49a0-42ec-d5db-76ee8ccd406e"
      },
      "execution_count": 4,
      "outputs": [
        {
          "output_type": "stream",
          "name": "stdout",
          "text": [
            "376413\n",
            "{\n",
            "    \"date_of_extract\": \"2022-01-11T00:00:00\",\n",
            "    \"organisation_number\": 4,\n",
            "    \"registered_charity_number\": 200028,\n",
            "    \"linked_charity_number\": 2,\n",
            "    \"charity_name\": \"TOWN LANDS CHARITY FOR THE CHURCH\",\n",
            "    \"charity_type\": null,\n",
            "    \"charity_registration_status\": \"Removed\",\n",
            "    \"date_of_registration\": \"1961-10-19T00:00:00\",\n",
            "    \"date_of_removal\": \"1997-09-17T00:00:00\",\n",
            "    \"charity_reporting_status\": null,\n",
            "    \"latest_acc_fin_period_start_date\": null,\n",
            "    \"latest_acc_fin_period_end_date\": null,\n",
            "    \"latest_income\": null,\n",
            "    \"latest_expenditure\": null,\n",
            "    \"charity_contact_address1\": null,\n",
            "    \"charity_contact_address2\": null,\n",
            "    \"charity_contact_address3\": null,\n",
            "    \"charity_contact_address4\": null,\n",
            "    \"charity_contact_address5\": null,\n",
            "    \"charity_contact_postcode\": null,\n",
            "    \"charity_contact_phone\": null,\n",
            "    \"charity_contact_email\": null,\n",
            "    \"charity_contact_web\": null,\n",
            "    \"charity_company_registration_number\": null,\n",
            "    \"charity_insolvent\": false,\n",
            "    \"charity_in_administration\": false,\n",
            "    \"charity_previously_excepted\": null,\n",
            "    \"charity_is_cdf_or_cif\": null,\n",
            "    \"charity_is_cio\": null,\n",
            "    \"cio_is_dissolved\": null,\n",
            "    \"date_cio_dissolution_notice\": null,\n",
            "    \"charity_activities\": null,\n",
            "    \"charity_gift_aid\": null,\n",
            "    \"charity_has_land\": null\n",
            "}\n"
          ]
        }
      ]
    },
    {
      "cell_type": "code",
      "source": [
        "total_registered_main = 0\n",
        "total_registered_linked = 0\n",
        "total_removed = 0\n",
        "nc = 0\n",
        "for i in charity_data:\n",
        "  if(i['charity_registration_status']!=\"Removed\"):\n",
        "    if(i['linked_charity_number']!=0):\n",
        "      total_registered_linked+=1\n",
        "    else:\n",
        "      total_registered_main+=1\n",
        "      if(i['charity_activities']==None):\n",
        "        nc+=1\n",
        "  else:\n",
        "    total_removed+=1\n",
        "\n",
        "print(\"Total Registered Main : \",total_registered_main)\n",
        "print(\"Total Registered Linked: \",total_registered_linked)\n",
        "print(\"Total Removed : \",total_removed)\n",
        "print(nc)"
      ],
      "metadata": {
        "colab": {
          "base_uri": "https://localhost:8080/"
        },
        "id": "b7PUnutaLLGd",
        "outputId": "b39815f1-bf7c-4fbe-de3b-922b07049687"
      },
      "execution_count": 5,
      "outputs": [
        {
          "output_type": "stream",
          "name": "stdout",
          "text": [
            "Total Registered Main :  170570\n",
            "Total Registered Linked:  15166\n",
            "Total Removed :  190677\n",
            "6029\n"
          ]
        }
      ]
    },
    {
      "cell_type": "code",
      "source": [
        "for i in charity_data:\n",
        "  if(i['registered_charity_number']==200027):\n",
        "    print(i)\n",
        "# print(charity_data[0])\n"
      ],
      "metadata": {
        "colab": {
          "base_uri": "https://localhost:8080/"
        },
        "id": "kW4KsQ0y8PL0",
        "outputId": "41728e35-8231-413e-9ce5-c932a9c3f2a2"
      },
      "execution_count": 6,
      "outputs": [
        {
          "output_type": "stream",
          "name": "stdout",
          "text": [
            "{'date_of_extract': '2022-01-11T00:00:00', 'organisation_number': 1, 'registered_charity_number': 200027, 'linked_charity_number': 1, 'charity_name': 'POTTERNE MISSION ROOM AND TRUST', 'charity_type': None, 'charity_registration_status': 'Removed', 'date_of_registration': '1962-05-17T00:00:00', 'date_of_removal': '2014-04-16T00:00:00', 'charity_reporting_status': None, 'latest_acc_fin_period_start_date': None, 'latest_acc_fin_period_end_date': None, 'latest_income': None, 'latest_expenditure': None, 'charity_contact_address1': None, 'charity_contact_address2': None, 'charity_contact_address3': None, 'charity_contact_address4': None, 'charity_contact_address5': None, 'charity_contact_postcode': None, 'charity_contact_phone': None, 'charity_contact_email': None, 'charity_contact_web': None, 'charity_company_registration_number': None, 'charity_insolvent': False, 'charity_in_administration': False, 'charity_previously_excepted': None, 'charity_is_cdf_or_cif': None, 'charity_is_cio': None, 'cio_is_dissolved': None, 'date_cio_dissolution_notice': None, 'charity_activities': None, 'charity_gift_aid': None, 'charity_has_land': None}\n",
            "{'date_of_extract': '2022-01-11T00:00:00', 'organisation_number': 2, 'registered_charity_number': 200027, 'linked_charity_number': 2, 'charity_name': 'HITCHAM FREE CHURCH', 'charity_type': None, 'charity_registration_status': 'Registered', 'date_of_registration': '1962-05-17T00:00:00', 'date_of_removal': None, 'charity_reporting_status': None, 'latest_acc_fin_period_start_date': None, 'latest_acc_fin_period_end_date': None, 'latest_income': None, 'latest_expenditure': None, 'charity_contact_address1': None, 'charity_contact_address2': None, 'charity_contact_address3': None, 'charity_contact_address4': None, 'charity_contact_address5': None, 'charity_contact_postcode': None, 'charity_contact_phone': None, 'charity_contact_email': None, 'charity_contact_web': None, 'charity_company_registration_number': None, 'charity_insolvent': False, 'charity_in_administration': False, 'charity_previously_excepted': None, 'charity_is_cdf_or_cif': None, 'charity_is_cio': None, 'cio_is_dissolved': None, 'date_cio_dissolution_notice': None, 'charity_activities': None, 'charity_gift_aid': None, 'charity_has_land': None}\n",
            "{'date_of_extract': '2022-01-11T00:00:00', 'organisation_number': 200027, 'registered_charity_number': 200027, 'linked_charity_number': 0, 'charity_name': 'RURAL MINISTRIES', 'charity_type': 'Charitable company', 'charity_registration_status': 'Registered', 'date_of_registration': '1962-05-17T00:00:00', 'date_of_removal': None, 'charity_reporting_status': 'Submission Received', 'latest_acc_fin_period_start_date': '2020-04-01T00:00:00', 'latest_acc_fin_period_end_date': '2021-03-31T00:00:00', 'latest_income': 93073.0, 'latest_expenditure': 264019.0, 'charity_contact_address1': 'Rural Ministries', 'charity_contact_address2': 'PO Box 293', 'charity_contact_address3': 'ROYSTON', 'charity_contact_address4': None, 'charity_contact_address5': None, 'charity_contact_postcode': 'SG8 1FS', 'charity_contact_phone': '01763 878539', 'charity_contact_email': 'office@ruralministries.org.uk', 'charity_contact_web': 'www.ruralministries.org.uk', 'charity_company_registration_number': '00688281', 'charity_insolvent': False, 'charity_in_administration': False, 'charity_previously_excepted': False, 'charity_is_cdf_or_cif': None, 'charity_is_cio': False, 'cio_is_dissolved': False, 'date_cio_dissolution_notice': None, 'charity_activities': 'To support rural churches in their growth and development and assist in the planting of new rural churches.', 'charity_gift_aid': True, 'charity_has_land': True}\n"
          ]
        }
      ]
    },
    {
      "cell_type": "markdown",
      "source": [
        "*   For charity classification we have charity_activities field in the charity table which has a description(one line summary) of how the charity spends its money, might be used for classification. This field is not None only for the parent organisations, i.e. orgs with linked charity no. = 0. \n",
        "*   charity_governing_document table has a charitable_objects field which is a paragraph desscription. Might be used for charity classification.\n",
        "*   there seems to be a discrepency, in the charity table - charity no. 200027 points to POTTERNE MISSION ROOM AND TRUST but while searched online on the website 200027 points to RURAL MINISTRIES => RESOLVED - the latter seems to be the main organisation and the former is a linked charity which was removed\n",
        "\n",
        "*   there are many cases where a single charity is classified into various types i.e. it has various \"what\" descriptions in the charity classification table. same goes for other fields - \"WHO\" and \"HOW\". Therefore, the provided classification will create ambiguity if directly used."
      ],
      "metadata": {
        "id": "mcJ0V-KU8Sjt"
      }
    },
    {
      "cell_type": "markdown",
      "source": [
        "# Charities with income >  10 Million"
      ],
      "metadata": {
        "id": "pZw4OvTzJr3U"
      }
    },
    {
      "cell_type": "code",
      "source": [
        "#Lets try figuring out charities with income over 10 Million Pounds\n",
        "charity10m = []\n",
        "count10m = 0\n",
        "for charity in charity_data:\n",
        "  if(charity['charity_registration_status']!=\"Removed\" and \n",
        "     charity['latest_income']!= None and \n",
        "     charity['latest_income'] >= 10000000):\n",
        "    count10m+=1\n",
        "    charity10m.append(charity)\n",
        "print(count10m)"
      ],
      "metadata": {
        "colab": {
          "base_uri": "https://localhost:8080/"
        },
        "id": "GvbM8IPePmUm",
        "outputId": "bf016e52-4c85-48b9-b6d1-86e1e0c57097"
      },
      "execution_count": 7,
      "outputs": [
        {
          "output_type": "stream",
          "name": "stdout",
          "text": [
            "1329\n"
          ]
        }
      ]
    },
    {
      "cell_type": "code",
      "source": [
        "#Sort charity10m in descending order of income\n",
        "n = len(charity10m)\n",
        "for i in range(n-1):\n",
        "    for j in range(0, n-i-1):\n",
        "        if charity10m[j]['latest_income'] < charity10m[j + 1]['latest_income'] :\n",
        "            charity10m[j], charity10m[j + 1] = charity10m[j + 1], charity10m[j]\n",
        "\n",
        "# charity10m[:10]\n",
        "for i in charity10m[0:10]:\n",
        "  print(i['charity_name'],\"|\",i['registered_charity_number'],\"|\",i['organisation_number'])"
      ],
      "metadata": {
        "colab": {
          "base_uri": "https://localhost:8080/"
        },
        "id": "30HBzoYHRU82",
        "outputId": "0b0df93f-eb2c-43da-cdb3-c01591a16b22"
      },
      "execution_count": 8,
      "outputs": [
        {
          "output_type": "stream",
          "name": "stdout",
          "text": [
            "THE ARTS COUNCIL OF ENGLAND | 1036733 | 1036733\n",
            "LLOYD'S REGISTER FOUNDATION | 1145988 | 5025687\n",
            "THE BRITISH COUNCIL | 209131 | 209131\n",
            "INTERNATIONAL FINANCE FACILITY FOR IMMUNISATION COMPANY | 1115413 | 4016873\n",
            "THE CHARITIES AID FOUNDATION | 268369 | 268369\n",
            "SAVE THE CHILDREN INTERNATIONAL | 1076822 | 3961959\n",
            "NUFFIELD HEALTH | 205533 | 205533\n",
            "CANCER RESEARCH UK | 1089464 | 3987102\n",
            "CARDIFF UNIVERSITY | 1136855 | 5010420\n",
            "UNITED CHURCH SCHOOLS FOUNDATION LTD | 313999 | 313999\n"
          ]
        }
      ]
    },
    {
      "cell_type": "code",
      "source": [
        "print(json.dumps(charity10m[0],indent=3))"
      ],
      "metadata": {
        "colab": {
          "base_uri": "https://localhost:8080/"
        },
        "id": "V5Tlh5s3SU6t",
        "outputId": "1789afd6-5d51-4138-c365-8b4fc026f974"
      },
      "execution_count": 9,
      "outputs": [
        {
          "output_type": "stream",
          "name": "stdout",
          "text": [
            "{\n",
            "   \"date_of_extract\": \"2022-01-11T00:00:00\",\n",
            "   \"organisation_number\": 1036733,\n",
            "   \"registered_charity_number\": 1036733,\n",
            "   \"linked_charity_number\": 0,\n",
            "   \"charity_name\": \"THE ARTS COUNCIL OF ENGLAND\",\n",
            "   \"charity_type\": \"Other\",\n",
            "   \"charity_registration_status\": \"Registered\",\n",
            "   \"date_of_registration\": \"1994-04-19T00:00:00\",\n",
            "   \"date_of_removal\": null,\n",
            "   \"charity_reporting_status\": \"Submission Received\",\n",
            "   \"latest_acc_fin_period_start_date\": \"2020-04-01T00:00:00\",\n",
            "   \"latest_acc_fin_period_end_date\": \"2021-03-31T00:00:00\",\n",
            "   \"latest_income\": 1488506017.0,\n",
            "   \"latest_expenditure\": 1419616010.0,\n",
            "   \"charity_contact_address1\": \"21 Bloomsbury Street\",\n",
            "   \"charity_contact_address2\": \"London\",\n",
            "   \"charity_contact_address3\": null,\n",
            "   \"charity_contact_address4\": null,\n",
            "   \"charity_contact_address5\": null,\n",
            "   \"charity_contact_postcode\": \"WC1B 3HF\",\n",
            "   \"charity_contact_phone\": \"08453006200\",\n",
            "   \"charity_contact_email\": \"enquiries@artscouncil.org.uk\",\n",
            "   \"charity_contact_web\": \"www.artscouncil.org.uk\",\n",
            "   \"charity_company_registration_number\": null,\n",
            "   \"charity_insolvent\": false,\n",
            "   \"charity_in_administration\": false,\n",
            "   \"charity_previously_excepted\": false,\n",
            "   \"charity_is_cdf_or_cif\": null,\n",
            "   \"charity_is_cio\": false,\n",
            "   \"cio_is_dissolved\": false,\n",
            "   \"date_cio_dissolution_notice\": null,\n",
            "   \"charity_activities\": \"Arts Council England works to get great art to everyone by championing, developing and investing in artistic experiences that enrich people's lives.  As the national development agency for the arts we support a range of artistic activities, acting as an independent body at arm's length from government.  'Achieving great art for everyone' is our 10-year strategic framework for the arts.\",\n",
            "   \"charity_gift_aid\": false,\n",
            "   \"charity_has_land\": true\n",
            "}\n"
          ]
        }
      ]
    },
    {
      "cell_type": "code",
      "source": [
        "# create a dict for accessing charity information through organisation number\n",
        "charity = {}\n",
        "for ch in charity_data:\n",
        "    charity[ch['organisation_number']] = ch\n",
        "# charity"
      ],
      "metadata": {
        "id": "qylgjIqB8XPt"
      },
      "execution_count": 10,
      "outputs": []
    },
    {
      "cell_type": "code",
      "source": [
        "with open('drive/My Drive/UK_Data/json/publicextract.charity_governing_document.json', encoding=\"utf-8-sig\") as f:\n",
        "  charity_governing_document = json.load(f)\n",
        "\n",
        "print(len(charity_governing_document))"
      ],
      "metadata": {
        "colab": {
          "base_uri": "https://localhost:8080/"
        },
        "id": "wJ4FxPho84Au",
        "outputId": "353b4cef-105d-4631-dec7-038c9f457278"
      },
      "execution_count": 11,
      "outputs": [
        {
          "output_type": "stream",
          "name": "stdout",
          "text": [
            "376413\n"
          ]
        }
      ]
    },
    {
      "cell_type": "code",
      "source": [
        "# create a dict for accessing governing document info using organisation number\n",
        "charity_governing_document_data = {}\n",
        "for i in charity_governing_document:\n",
        "  charity_governing_document_data[i['organisation_number']] = i"
      ],
      "metadata": {
        "id": "Q3SeA5vcfrOl"
      },
      "execution_count": 12,
      "outputs": []
    },
    {
      "cell_type": "code",
      "source": [
        "# check if all charities have data in the charitable object column\n",
        "count = 0\n",
        "c2=0\n",
        "empty_objects = []\n",
        "for i in charity_governing_document:\n",
        "  if(i['charitable_objects'] == None):\n",
        "    empty_objects.append(i)\n",
        "    # print(i)\n",
        "    if(i['linked_charity_number']!=0):\n",
        "      c2+=1\n",
        "    else:\n",
        "      count+=1\n",
        "\n",
        "print(count)\n",
        "print(c2)"
      ],
      "metadata": {
        "colab": {
          "base_uri": "https://localhost:8080/"
        },
        "id": "7Ynt7IHQ9qFu",
        "outputId": "092ffbc4-a411-42b7-cb13-6b80b7f809bf"
      },
      "execution_count": 13,
      "outputs": [
        {
          "output_type": "stream",
          "name": "stdout",
          "text": [
            "13\n",
            "27\n"
          ]
        }
      ]
    },
    {
      "cell_type": "markdown",
      "source": [
        "There are 27 Parent orgs and 13 linked charities in charity_governing_document table which have empty chartiable objects column."
      ],
      "metadata": {
        "id": "Zxwyn4jP-TbZ"
      }
    },
    {
      "cell_type": "code",
      "source": [
        "# check how many charities with empty charitable objects are still registered\n",
        "registered = 0\n",
        "removed = 0\n",
        "for i in empty_objects:\n",
        "  if(charity[i['organisation_number']]['charity_registration_status'] == \"Removed\"):\n",
        "    removed+=1\n",
        "  else:\n",
        "    registered+=1\n",
        "    # print(i)\n",
        "\n",
        "print(\"Registered = \",registered)\n",
        "print(\"Removed = \",removed)"
      ],
      "metadata": {
        "colab": {
          "base_uri": "https://localhost:8080/"
        },
        "id": "GkA5h03NAPT1",
        "outputId": "4b4990f7-135c-4048-da61-a1315f74b37f"
      },
      "execution_count": 14,
      "outputs": [
        {
          "output_type": "stream",
          "name": "stdout",
          "text": [
            "Registered =  24\n",
            "Removed =  16\n"
          ]
        }
      ]
    },
    {
      "cell_type": "markdown",
      "source": [
        "Out of 40 (13+27) charities that have empty charitable objects, 24 are still registered and only 16 are removed. However we can still simply ignore these charities since they only contribute to an extremely small fraction of all charities in the dataset."
      ],
      "metadata": {
        "id": "J55X6jMJA3Su"
      }
    },
    {
      "cell_type": "code",
      "source": [
        "charity_classification = pd.read_csv(\"drive/My Drive/UK_Data/text/publicextract.charity_classification.txt\",sep=\"\\t\")\n",
        "# refer to the data definition file on the website to understand detailed description of each table and the columns\n",
        "print(len(charity_classification))\n",
        "%load_ext google.colab.data_table\n",
        "charity_classification.head(10)"
      ],
      "metadata": {
        "colab": {
          "base_uri": "https://localhost:8080/",
          "height": 323
        },
        "id": "Ety_dTgIrLQW",
        "outputId": "b5508234-8dab-4270-87c5-3228295c42d4"
      },
      "execution_count": 15,
      "outputs": [
        {
          "output_type": "stream",
          "name": "stdout",
          "text": [
            "1602240\n"
          ]
        },
        {
          "output_type": "execute_result",
          "data": {
            "text/plain": [
              "               date_of_extract  organisation_number  \\\n",
              "0  2022-01-11 00:00:00.0000000               200001   \n",
              "1  2022-01-11 00:00:00.0000000               200001   \n",
              "2  2022-01-11 00:00:00.0000000               200001   \n",
              "3  2022-01-11 00:00:00.0000000               200001   \n",
              "4  2022-01-11 00:00:00.0000000               200001   \n",
              "5  2022-01-11 00:00:00.0000000               200001   \n",
              "6  2022-01-11 00:00:00.0000000               200001   \n",
              "7  2022-01-11 00:00:00.0000000               200002   \n",
              "8  2022-01-11 00:00:00.0000000               200002   \n",
              "9  2022-01-11 00:00:00.0000000               200002   \n",
              "\n",
              "   registered_charity_number  linked_charity_number  classification_code  \\\n",
              "0                     200001                      0                  101   \n",
              "1                     200001                      0                  102   \n",
              "2                     200001                      0                  109   \n",
              "3                     200001                      0                  112   \n",
              "4                     200001                      0                  201   \n",
              "5                     200001                      0                  301   \n",
              "6                     200001                      0                  302   \n",
              "7                     200002                      0                  102   \n",
              "8                     200002                      0                  105   \n",
              "9                     200002                      0                  201   \n",
              "\n",
              "  classification_type           classification_description  \n",
              "0                What          General Charitable Purposes  \n",
              "1                What                   Education/training  \n",
              "2                What        Arts/culture/heritage/science  \n",
              "3                What    Environment/conservation/heritage  \n",
              "4                 Who                Children/young People  \n",
              "5                 How          Makes Grants To Individuals  \n",
              "6                 How        Makes Grants To Organisations  \n",
              "7                What                   Education/training  \n",
              "8                What  The Prevention Or Relief Of Poverty  \n",
              "9                 Who                Children/young People  "
            ],
            "text/html": [
              "\n",
              "  <div id=\"df-b30bf402-1408-4912-a12e-a50a241058bd\">\n",
              "    <div class=\"colab-df-container\">\n",
              "      <div>\n",
              "<style scoped>\n",
              "    .dataframe tbody tr th:only-of-type {\n",
              "        vertical-align: middle;\n",
              "    }\n",
              "\n",
              "    .dataframe tbody tr th {\n",
              "        vertical-align: top;\n",
              "    }\n",
              "\n",
              "    .dataframe thead th {\n",
              "        text-align: right;\n",
              "    }\n",
              "</style>\n",
              "<table border=\"1\" class=\"dataframe\">\n",
              "  <thead>\n",
              "    <tr style=\"text-align: right;\">\n",
              "      <th></th>\n",
              "      <th>date_of_extract</th>\n",
              "      <th>organisation_number</th>\n",
              "      <th>registered_charity_number</th>\n",
              "      <th>linked_charity_number</th>\n",
              "      <th>classification_code</th>\n",
              "      <th>classification_type</th>\n",
              "      <th>classification_description</th>\n",
              "    </tr>\n",
              "  </thead>\n",
              "  <tbody>\n",
              "    <tr>\n",
              "      <th>0</th>\n",
              "      <td>2022-01-11 00:00:00.0000000</td>\n",
              "      <td>200001</td>\n",
              "      <td>200001</td>\n",
              "      <td>0</td>\n",
              "      <td>101</td>\n",
              "      <td>What</td>\n",
              "      <td>General Charitable Purposes</td>\n",
              "    </tr>\n",
              "    <tr>\n",
              "      <th>1</th>\n",
              "      <td>2022-01-11 00:00:00.0000000</td>\n",
              "      <td>200001</td>\n",
              "      <td>200001</td>\n",
              "      <td>0</td>\n",
              "      <td>102</td>\n",
              "      <td>What</td>\n",
              "      <td>Education/training</td>\n",
              "    </tr>\n",
              "    <tr>\n",
              "      <th>2</th>\n",
              "      <td>2022-01-11 00:00:00.0000000</td>\n",
              "      <td>200001</td>\n",
              "      <td>200001</td>\n",
              "      <td>0</td>\n",
              "      <td>109</td>\n",
              "      <td>What</td>\n",
              "      <td>Arts/culture/heritage/science</td>\n",
              "    </tr>\n",
              "    <tr>\n",
              "      <th>3</th>\n",
              "      <td>2022-01-11 00:00:00.0000000</td>\n",
              "      <td>200001</td>\n",
              "      <td>200001</td>\n",
              "      <td>0</td>\n",
              "      <td>112</td>\n",
              "      <td>What</td>\n",
              "      <td>Environment/conservation/heritage</td>\n",
              "    </tr>\n",
              "    <tr>\n",
              "      <th>4</th>\n",
              "      <td>2022-01-11 00:00:00.0000000</td>\n",
              "      <td>200001</td>\n",
              "      <td>200001</td>\n",
              "      <td>0</td>\n",
              "      <td>201</td>\n",
              "      <td>Who</td>\n",
              "      <td>Children/young People</td>\n",
              "    </tr>\n",
              "    <tr>\n",
              "      <th>5</th>\n",
              "      <td>2022-01-11 00:00:00.0000000</td>\n",
              "      <td>200001</td>\n",
              "      <td>200001</td>\n",
              "      <td>0</td>\n",
              "      <td>301</td>\n",
              "      <td>How</td>\n",
              "      <td>Makes Grants To Individuals</td>\n",
              "    </tr>\n",
              "    <tr>\n",
              "      <th>6</th>\n",
              "      <td>2022-01-11 00:00:00.0000000</td>\n",
              "      <td>200001</td>\n",
              "      <td>200001</td>\n",
              "      <td>0</td>\n",
              "      <td>302</td>\n",
              "      <td>How</td>\n",
              "      <td>Makes Grants To Organisations</td>\n",
              "    </tr>\n",
              "    <tr>\n",
              "      <th>7</th>\n",
              "      <td>2022-01-11 00:00:00.0000000</td>\n",
              "      <td>200002</td>\n",
              "      <td>200002</td>\n",
              "      <td>0</td>\n",
              "      <td>102</td>\n",
              "      <td>What</td>\n",
              "      <td>Education/training</td>\n",
              "    </tr>\n",
              "    <tr>\n",
              "      <th>8</th>\n",
              "      <td>2022-01-11 00:00:00.0000000</td>\n",
              "      <td>200002</td>\n",
              "      <td>200002</td>\n",
              "      <td>0</td>\n",
              "      <td>105</td>\n",
              "      <td>What</td>\n",
              "      <td>The Prevention Or Relief Of Poverty</td>\n",
              "    </tr>\n",
              "    <tr>\n",
              "      <th>9</th>\n",
              "      <td>2022-01-11 00:00:00.0000000</td>\n",
              "      <td>200002</td>\n",
              "      <td>200002</td>\n",
              "      <td>0</td>\n",
              "      <td>201</td>\n",
              "      <td>Who</td>\n",
              "      <td>Children/young People</td>\n",
              "    </tr>\n",
              "  </tbody>\n",
              "</table>\n",
              "</div>\n",
              "      <button class=\"colab-df-convert\" onclick=\"convertToInteractive('df-b30bf402-1408-4912-a12e-a50a241058bd')\"\n",
              "              title=\"Convert this dataframe to an interactive table.\"\n",
              "              style=\"display:none;\">\n",
              "        \n",
              "  <svg xmlns=\"http://www.w3.org/2000/svg\" height=\"24px\"viewBox=\"0 0 24 24\"\n",
              "       width=\"24px\">\n",
              "    <path d=\"M0 0h24v24H0V0z\" fill=\"none\"/>\n",
              "    <path d=\"M18.56 5.44l.94 2.06.94-2.06 2.06-.94-2.06-.94-.94-2.06-.94 2.06-2.06.94zm-11 1L8.5 8.5l.94-2.06 2.06-.94-2.06-.94L8.5 2.5l-.94 2.06-2.06.94zm10 10l.94 2.06.94-2.06 2.06-.94-2.06-.94-.94-2.06-.94 2.06-2.06.94z\"/><path d=\"M17.41 7.96l-1.37-1.37c-.4-.4-.92-.59-1.43-.59-.52 0-1.04.2-1.43.59L10.3 9.45l-7.72 7.72c-.78.78-.78 2.05 0 2.83L4 21.41c.39.39.9.59 1.41.59.51 0 1.02-.2 1.41-.59l7.78-7.78 2.81-2.81c.8-.78.8-2.07 0-2.86zM5.41 20L4 18.59l7.72-7.72 1.47 1.35L5.41 20z\"/>\n",
              "  </svg>\n",
              "      </button>\n",
              "      \n",
              "  <style>\n",
              "    .colab-df-container {\n",
              "      display:flex;\n",
              "      flex-wrap:wrap;\n",
              "      gap: 12px;\n",
              "    }\n",
              "\n",
              "    .colab-df-convert {\n",
              "      background-color: #E8F0FE;\n",
              "      border: none;\n",
              "      border-radius: 50%;\n",
              "      cursor: pointer;\n",
              "      display: none;\n",
              "      fill: #1967D2;\n",
              "      height: 32px;\n",
              "      padding: 0 0 0 0;\n",
              "      width: 32px;\n",
              "    }\n",
              "\n",
              "    .colab-df-convert:hover {\n",
              "      background-color: #E2EBFA;\n",
              "      box-shadow: 0px 1px 2px rgba(60, 64, 67, 0.3), 0px 1px 3px 1px rgba(60, 64, 67, 0.15);\n",
              "      fill: #174EA6;\n",
              "    }\n",
              "\n",
              "    [theme=dark] .colab-df-convert {\n",
              "      background-color: #3B4455;\n",
              "      fill: #D2E3FC;\n",
              "    }\n",
              "\n",
              "    [theme=dark] .colab-df-convert:hover {\n",
              "      background-color: #434B5C;\n",
              "      box-shadow: 0px 1px 3px 1px rgba(0, 0, 0, 0.15);\n",
              "      filter: drop-shadow(0px 1px 2px rgba(0, 0, 0, 0.3));\n",
              "      fill: #FFFFFF;\n",
              "    }\n",
              "  </style>\n",
              "\n",
              "      <script>\n",
              "        const buttonEl =\n",
              "          document.querySelector('#df-b30bf402-1408-4912-a12e-a50a241058bd button.colab-df-convert');\n",
              "        buttonEl.style.display =\n",
              "          google.colab.kernel.accessAllowed ? 'block' : 'none';\n",
              "\n",
              "        async function convertToInteractive(key) {\n",
              "          const element = document.querySelector('#df-b30bf402-1408-4912-a12e-a50a241058bd');\n",
              "          const dataTable =\n",
              "            await google.colab.kernel.invokeFunction('convertToInteractive',\n",
              "                                                     [key], {});\n",
              "          if (!dataTable) return;\n",
              "\n",
              "          const docLinkHtml = 'Like what you see? Visit the ' +\n",
              "            '<a target=\"_blank\" href=https://colab.research.google.com/notebooks/data_table.ipynb>data table notebook</a>'\n",
              "            + ' to learn more about interactive tables.';\n",
              "          element.innerHTML = '';\n",
              "          dataTable['output_type'] = 'display_data';\n",
              "          await google.colab.output.renderOutput(dataTable, element);\n",
              "          const docLink = document.createElement('div');\n",
              "          docLink.innerHTML = docLinkHtml;\n",
              "          element.appendChild(docLink);\n",
              "        }\n",
              "      </script>\n",
              "    </div>\n",
              "  </div>\n",
              "  "
            ],
            "application/vnd.google.colaboratory.module+javascript": "\n      import \"https://ssl.gstatic.com/colaboratory/data_table/f872b2c2305463fd/data_table.js\";\n\n      window.createDataTable({\n        data: [[{\n            'v': 0,\n            'f': \"0\",\n        },\n\"2022-01-11 00:00:00.0000000\",\n{\n            'v': 200001,\n            'f': \"200001\",\n        },\n{\n            'v': 200001,\n            'f': \"200001\",\n        },\n{\n            'v': 0,\n            'f': \"0\",\n        },\n{\n            'v': 101,\n            'f': \"101\",\n        },\n\"What\",\n\"General Charitable Purposes\"],\n [{\n            'v': 1,\n            'f': \"1\",\n        },\n\"2022-01-11 00:00:00.0000000\",\n{\n            'v': 200001,\n            'f': \"200001\",\n        },\n{\n            'v': 200001,\n            'f': \"200001\",\n        },\n{\n            'v': 0,\n            'f': \"0\",\n        },\n{\n            'v': 102,\n            'f': \"102\",\n        },\n\"What\",\n\"Education/training\"],\n [{\n            'v': 2,\n            'f': \"2\",\n        },\n\"2022-01-11 00:00:00.0000000\",\n{\n            'v': 200001,\n            'f': \"200001\",\n        },\n{\n            'v': 200001,\n            'f': \"200001\",\n        },\n{\n            'v': 0,\n            'f': \"0\",\n        },\n{\n            'v': 109,\n            'f': \"109\",\n        },\n\"What\",\n\"Arts/culture/heritage/science\"],\n [{\n            'v': 3,\n            'f': \"3\",\n        },\n\"2022-01-11 00:00:00.0000000\",\n{\n            'v': 200001,\n            'f': \"200001\",\n        },\n{\n            'v': 200001,\n            'f': \"200001\",\n        },\n{\n            'v': 0,\n            'f': \"0\",\n        },\n{\n            'v': 112,\n            'f': \"112\",\n        },\n\"What\",\n\"Environment/conservation/heritage\"],\n [{\n            'v': 4,\n            'f': \"4\",\n        },\n\"2022-01-11 00:00:00.0000000\",\n{\n            'v': 200001,\n            'f': \"200001\",\n        },\n{\n            'v': 200001,\n            'f': \"200001\",\n        },\n{\n            'v': 0,\n            'f': \"0\",\n        },\n{\n            'v': 201,\n            'f': \"201\",\n        },\n\"Who\",\n\"Children/young People\"],\n [{\n            'v': 5,\n            'f': \"5\",\n        },\n\"2022-01-11 00:00:00.0000000\",\n{\n            'v': 200001,\n            'f': \"200001\",\n        },\n{\n            'v': 200001,\n            'f': \"200001\",\n        },\n{\n            'v': 0,\n            'f': \"0\",\n        },\n{\n            'v': 301,\n            'f': \"301\",\n        },\n\"How\",\n\"Makes Grants To Individuals\"],\n [{\n            'v': 6,\n            'f': \"6\",\n        },\n\"2022-01-11 00:00:00.0000000\",\n{\n            'v': 200001,\n            'f': \"200001\",\n        },\n{\n            'v': 200001,\n            'f': \"200001\",\n        },\n{\n            'v': 0,\n            'f': \"0\",\n        },\n{\n            'v': 302,\n            'f': \"302\",\n        },\n\"How\",\n\"Makes Grants To Organisations\"],\n [{\n            'v': 7,\n            'f': \"7\",\n        },\n\"2022-01-11 00:00:00.0000000\",\n{\n            'v': 200002,\n            'f': \"200002\",\n        },\n{\n            'v': 200002,\n            'f': \"200002\",\n        },\n{\n            'v': 0,\n            'f': \"0\",\n        },\n{\n            'v': 102,\n            'f': \"102\",\n        },\n\"What\",\n\"Education/training\"],\n [{\n            'v': 8,\n            'f': \"8\",\n        },\n\"2022-01-11 00:00:00.0000000\",\n{\n            'v': 200002,\n            'f': \"200002\",\n        },\n{\n            'v': 200002,\n            'f': \"200002\",\n        },\n{\n            'v': 0,\n            'f': \"0\",\n        },\n{\n            'v': 105,\n            'f': \"105\",\n        },\n\"What\",\n\"The Prevention Or Relief Of Poverty\"],\n [{\n            'v': 9,\n            'f': \"9\",\n        },\n\"2022-01-11 00:00:00.0000000\",\n{\n            'v': 200002,\n            'f': \"200002\",\n        },\n{\n            'v': 200002,\n            'f': \"200002\",\n        },\n{\n            'v': 0,\n            'f': \"0\",\n        },\n{\n            'v': 201,\n            'f': \"201\",\n        },\n\"Who\",\n\"Children/young People\"]],\n        columns: [[\"number\", \"index\"], [\"string\", \"date_of_extract\"], [\"number\", \"organisation_number\"], [\"number\", \"registered_charity_number\"], [\"number\", \"linked_charity_number\"], [\"number\", \"classification_code\"], [\"string\", \"classification_type\"], [\"string\", \"classification_description\"]],\n        columnOptions: [{\"width\": \"1px\", \"className\": \"index_column\"}],\n        rowsPerPage: 25,\n        helpUrl: \"https://colab.research.google.com/notebooks/data_table.ipynb\",\n        suppressOutputScrolling: true,\n        minimumWidth: undefined,\n      });\n    "
          },
          "metadata": {},
          "execution_count": 15
        }
      ]
    },
    {
      "cell_type": "code",
      "source": [
        "from collections import Counter\n",
        "Counter(charity_classification['classification_description'])"
      ],
      "metadata": {
        "colab": {
          "base_uri": "https://localhost:8080/"
        },
        "id": "_64C1_q9rf-f",
        "outputId": "27b9b61e-edde-4351-ecec-dd4c904b7049"
      },
      "execution_count": 16,
      "outputs": [
        {
          "output_type": "execute_result",
          "data": {
            "text/plain": [
              "Counter({'Accommodation/housing': 12403,\n",
              "         'Acts As An Umbrella Or Resource Body': 22142,\n",
              "         'Amateur Sport': 38753,\n",
              "         'Animals': 5927,\n",
              "         'Armed Forces/emergency Service Efficiency': 1280,\n",
              "         'Arts/culture/heritage/science': 42296,\n",
              "         'Children/young People': 137840,\n",
              "         'Disability': 37201,\n",
              "         'Economic/community Development/employment': 32546,\n",
              "         'Education/training': 127657,\n",
              "         'Elderly/old People': 71150,\n",
              "         'Environment/conservation/heritage': 26619,\n",
              "         'General Charitable Purposes': 79955,\n",
              "         'Human Rights/religious Or Racial Harmony/equality Or Diversity': 7261,\n",
              "         'Makes Grants To Individuals': 50204,\n",
              "         'Makes Grants To Organisations': 69375,\n",
              "         'Other Charitable Activities': 32804,\n",
              "         'Other Charitable Purposes': 16954,\n",
              "         'Other Charities Or Voluntary Bodies': 57079,\n",
              "         'Other Defined Groups': 41642,\n",
              "         'Overseas Aid/famine Relief': 15070,\n",
              "         'People Of A Particular Ethnic Or Racial Origin': 22043,\n",
              "         'People With Disabilities': 66727,\n",
              "         'Provides Advocacy/advice/information': 63750,\n",
              "         'Provides Buildings/facilities/open Space': 70017,\n",
              "         'Provides Human Resources': 48850,\n",
              "         'Provides Other Finance': 14529,\n",
              "         'Provides Services': 98356,\n",
              "         'Recreation': 18213,\n",
              "         'Religious Activities': 45985,\n",
              "         'Sponsors Or Undertakes Research': 18752,\n",
              "         'The Advancement Of Health Or Saving Of Lives': 42537,\n",
              "         'The General Public/mankind': 117925,\n",
              "         'The Prevention Or Relief Of Poverty': 48398})"
            ]
          },
          "metadata": {},
          "execution_count": 16
        }
      ]
    },
    {
      "cell_type": "code",
      "source": [
        "# we are only concerned with the descriptions corresponding to 'What' classification type\n",
        "filtered = charity_classification[charity_classification['classification_type'] == 'What']\n",
        "print(filtered.shape)\n",
        "filtered.head(10)"
      ],
      "metadata": {
        "colab": {
          "base_uri": "https://localhost:8080/",
          "height": 323
        },
        "id": "IYGhp08jrh_G",
        "outputId": "8f0897b0-407a-47fb-90a4-c01f55abc6f9"
      },
      "execution_count": 17,
      "outputs": [
        {
          "output_type": "stream",
          "name": "stdout",
          "text": [
            "(599055, 7)\n"
          ]
        },
        {
          "output_type": "execute_result",
          "data": {
            "text/plain": [
              "                date_of_extract  organisation_number  \\\n",
              "0   2022-01-11 00:00:00.0000000               200001   \n",
              "1   2022-01-11 00:00:00.0000000               200001   \n",
              "2   2022-01-11 00:00:00.0000000               200001   \n",
              "3   2022-01-11 00:00:00.0000000               200001   \n",
              "7   2022-01-11 00:00:00.0000000               200002   \n",
              "8   2022-01-11 00:00:00.0000000               200002   \n",
              "17  2022-01-11 00:00:00.0000000               200009   \n",
              "18  2022-01-11 00:00:00.0000000               200009   \n",
              "19  2022-01-11 00:00:00.0000000               200009   \n",
              "22  2022-01-11 00:00:00.0000000               200012   \n",
              "\n",
              "    registered_charity_number  linked_charity_number  classification_code  \\\n",
              "0                      200001                      0                  101   \n",
              "1                      200001                      0                  102   \n",
              "2                      200001                      0                  109   \n",
              "3                      200001                      0                  112   \n",
              "7                      200002                      0                  102   \n",
              "8                      200002                      0                  105   \n",
              "17                     200009                      0                  101   \n",
              "18                     200009                      0                  102   \n",
              "19                     200009                      0                  103   \n",
              "22                     200012                      0                  103   \n",
              "\n",
              "   classification_type                    classification_description  \n",
              "0                 What                   General Charitable Purposes  \n",
              "1                 What                            Education/training  \n",
              "2                 What                 Arts/culture/heritage/science  \n",
              "3                 What             Environment/conservation/heritage  \n",
              "7                 What                            Education/training  \n",
              "8                 What           The Prevention Or Relief Of Poverty  \n",
              "17                What                   General Charitable Purposes  \n",
              "18                What                            Education/training  \n",
              "19                What  The Advancement Of Health Or Saving Of Lives  \n",
              "22                What  The Advancement Of Health Or Saving Of Lives  "
            ],
            "text/html": [
              "\n",
              "  <div id=\"df-35d16493-9a61-43a5-b970-17f927f7d42a\">\n",
              "    <div class=\"colab-df-container\">\n",
              "      <div>\n",
              "<style scoped>\n",
              "    .dataframe tbody tr th:only-of-type {\n",
              "        vertical-align: middle;\n",
              "    }\n",
              "\n",
              "    .dataframe tbody tr th {\n",
              "        vertical-align: top;\n",
              "    }\n",
              "\n",
              "    .dataframe thead th {\n",
              "        text-align: right;\n",
              "    }\n",
              "</style>\n",
              "<table border=\"1\" class=\"dataframe\">\n",
              "  <thead>\n",
              "    <tr style=\"text-align: right;\">\n",
              "      <th></th>\n",
              "      <th>date_of_extract</th>\n",
              "      <th>organisation_number</th>\n",
              "      <th>registered_charity_number</th>\n",
              "      <th>linked_charity_number</th>\n",
              "      <th>classification_code</th>\n",
              "      <th>classification_type</th>\n",
              "      <th>classification_description</th>\n",
              "    </tr>\n",
              "  </thead>\n",
              "  <tbody>\n",
              "    <tr>\n",
              "      <th>0</th>\n",
              "      <td>2022-01-11 00:00:00.0000000</td>\n",
              "      <td>200001</td>\n",
              "      <td>200001</td>\n",
              "      <td>0</td>\n",
              "      <td>101</td>\n",
              "      <td>What</td>\n",
              "      <td>General Charitable Purposes</td>\n",
              "    </tr>\n",
              "    <tr>\n",
              "      <th>1</th>\n",
              "      <td>2022-01-11 00:00:00.0000000</td>\n",
              "      <td>200001</td>\n",
              "      <td>200001</td>\n",
              "      <td>0</td>\n",
              "      <td>102</td>\n",
              "      <td>What</td>\n",
              "      <td>Education/training</td>\n",
              "    </tr>\n",
              "    <tr>\n",
              "      <th>2</th>\n",
              "      <td>2022-01-11 00:00:00.0000000</td>\n",
              "      <td>200001</td>\n",
              "      <td>200001</td>\n",
              "      <td>0</td>\n",
              "      <td>109</td>\n",
              "      <td>What</td>\n",
              "      <td>Arts/culture/heritage/science</td>\n",
              "    </tr>\n",
              "    <tr>\n",
              "      <th>3</th>\n",
              "      <td>2022-01-11 00:00:00.0000000</td>\n",
              "      <td>200001</td>\n",
              "      <td>200001</td>\n",
              "      <td>0</td>\n",
              "      <td>112</td>\n",
              "      <td>What</td>\n",
              "      <td>Environment/conservation/heritage</td>\n",
              "    </tr>\n",
              "    <tr>\n",
              "      <th>7</th>\n",
              "      <td>2022-01-11 00:00:00.0000000</td>\n",
              "      <td>200002</td>\n",
              "      <td>200002</td>\n",
              "      <td>0</td>\n",
              "      <td>102</td>\n",
              "      <td>What</td>\n",
              "      <td>Education/training</td>\n",
              "    </tr>\n",
              "    <tr>\n",
              "      <th>8</th>\n",
              "      <td>2022-01-11 00:00:00.0000000</td>\n",
              "      <td>200002</td>\n",
              "      <td>200002</td>\n",
              "      <td>0</td>\n",
              "      <td>105</td>\n",
              "      <td>What</td>\n",
              "      <td>The Prevention Or Relief Of Poverty</td>\n",
              "    </tr>\n",
              "    <tr>\n",
              "      <th>17</th>\n",
              "      <td>2022-01-11 00:00:00.0000000</td>\n",
              "      <td>200009</td>\n",
              "      <td>200009</td>\n",
              "      <td>0</td>\n",
              "      <td>101</td>\n",
              "      <td>What</td>\n",
              "      <td>General Charitable Purposes</td>\n",
              "    </tr>\n",
              "    <tr>\n",
              "      <th>18</th>\n",
              "      <td>2022-01-11 00:00:00.0000000</td>\n",
              "      <td>200009</td>\n",
              "      <td>200009</td>\n",
              "      <td>0</td>\n",
              "      <td>102</td>\n",
              "      <td>What</td>\n",
              "      <td>Education/training</td>\n",
              "    </tr>\n",
              "    <tr>\n",
              "      <th>19</th>\n",
              "      <td>2022-01-11 00:00:00.0000000</td>\n",
              "      <td>200009</td>\n",
              "      <td>200009</td>\n",
              "      <td>0</td>\n",
              "      <td>103</td>\n",
              "      <td>What</td>\n",
              "      <td>The Advancement Of Health Or Saving Of Lives</td>\n",
              "    </tr>\n",
              "    <tr>\n",
              "      <th>22</th>\n",
              "      <td>2022-01-11 00:00:00.0000000</td>\n",
              "      <td>200012</td>\n",
              "      <td>200012</td>\n",
              "      <td>0</td>\n",
              "      <td>103</td>\n",
              "      <td>What</td>\n",
              "      <td>The Advancement Of Health Or Saving Of Lives</td>\n",
              "    </tr>\n",
              "  </tbody>\n",
              "</table>\n",
              "</div>\n",
              "      <button class=\"colab-df-convert\" onclick=\"convertToInteractive('df-35d16493-9a61-43a5-b970-17f927f7d42a')\"\n",
              "              title=\"Convert this dataframe to an interactive table.\"\n",
              "              style=\"display:none;\">\n",
              "        \n",
              "  <svg xmlns=\"http://www.w3.org/2000/svg\" height=\"24px\"viewBox=\"0 0 24 24\"\n",
              "       width=\"24px\">\n",
              "    <path d=\"M0 0h24v24H0V0z\" fill=\"none\"/>\n",
              "    <path d=\"M18.56 5.44l.94 2.06.94-2.06 2.06-.94-2.06-.94-.94-2.06-.94 2.06-2.06.94zm-11 1L8.5 8.5l.94-2.06 2.06-.94-2.06-.94L8.5 2.5l-.94 2.06-2.06.94zm10 10l.94 2.06.94-2.06 2.06-.94-2.06-.94-.94-2.06-.94 2.06-2.06.94z\"/><path d=\"M17.41 7.96l-1.37-1.37c-.4-.4-.92-.59-1.43-.59-.52 0-1.04.2-1.43.59L10.3 9.45l-7.72 7.72c-.78.78-.78 2.05 0 2.83L4 21.41c.39.39.9.59 1.41.59.51 0 1.02-.2 1.41-.59l7.78-7.78 2.81-2.81c.8-.78.8-2.07 0-2.86zM5.41 20L4 18.59l7.72-7.72 1.47 1.35L5.41 20z\"/>\n",
              "  </svg>\n",
              "      </button>\n",
              "      \n",
              "  <style>\n",
              "    .colab-df-container {\n",
              "      display:flex;\n",
              "      flex-wrap:wrap;\n",
              "      gap: 12px;\n",
              "    }\n",
              "\n",
              "    .colab-df-convert {\n",
              "      background-color: #E8F0FE;\n",
              "      border: none;\n",
              "      border-radius: 50%;\n",
              "      cursor: pointer;\n",
              "      display: none;\n",
              "      fill: #1967D2;\n",
              "      height: 32px;\n",
              "      padding: 0 0 0 0;\n",
              "      width: 32px;\n",
              "    }\n",
              "\n",
              "    .colab-df-convert:hover {\n",
              "      background-color: #E2EBFA;\n",
              "      box-shadow: 0px 1px 2px rgba(60, 64, 67, 0.3), 0px 1px 3px 1px rgba(60, 64, 67, 0.15);\n",
              "      fill: #174EA6;\n",
              "    }\n",
              "\n",
              "    [theme=dark] .colab-df-convert {\n",
              "      background-color: #3B4455;\n",
              "      fill: #D2E3FC;\n",
              "    }\n",
              "\n",
              "    [theme=dark] .colab-df-convert:hover {\n",
              "      background-color: #434B5C;\n",
              "      box-shadow: 0px 1px 3px 1px rgba(0, 0, 0, 0.15);\n",
              "      filter: drop-shadow(0px 1px 2px rgba(0, 0, 0, 0.3));\n",
              "      fill: #FFFFFF;\n",
              "    }\n",
              "  </style>\n",
              "\n",
              "      <script>\n",
              "        const buttonEl =\n",
              "          document.querySelector('#df-35d16493-9a61-43a5-b970-17f927f7d42a button.colab-df-convert');\n",
              "        buttonEl.style.display =\n",
              "          google.colab.kernel.accessAllowed ? 'block' : 'none';\n",
              "\n",
              "        async function convertToInteractive(key) {\n",
              "          const element = document.querySelector('#df-35d16493-9a61-43a5-b970-17f927f7d42a');\n",
              "          const dataTable =\n",
              "            await google.colab.kernel.invokeFunction('convertToInteractive',\n",
              "                                                     [key], {});\n",
              "          if (!dataTable) return;\n",
              "\n",
              "          const docLinkHtml = 'Like what you see? Visit the ' +\n",
              "            '<a target=\"_blank\" href=https://colab.research.google.com/notebooks/data_table.ipynb>data table notebook</a>'\n",
              "            + ' to learn more about interactive tables.';\n",
              "          element.innerHTML = '';\n",
              "          dataTable['output_type'] = 'display_data';\n",
              "          await google.colab.output.renderOutput(dataTable, element);\n",
              "          const docLink = document.createElement('div');\n",
              "          docLink.innerHTML = docLinkHtml;\n",
              "          element.appendChild(docLink);\n",
              "        }\n",
              "      </script>\n",
              "    </div>\n",
              "  </div>\n",
              "  "
            ],
            "application/vnd.google.colaboratory.module+javascript": "\n      import \"https://ssl.gstatic.com/colaboratory/data_table/f872b2c2305463fd/data_table.js\";\n\n      window.createDataTable({\n        data: [[{\n            'v': 0,\n            'f': \"0\",\n        },\n\"2022-01-11 00:00:00.0000000\",\n{\n            'v': 200001,\n            'f': \"200001\",\n        },\n{\n            'v': 200001,\n            'f': \"200001\",\n        },\n{\n            'v': 0,\n            'f': \"0\",\n        },\n{\n            'v': 101,\n            'f': \"101\",\n        },\n\"What\",\n\"General Charitable Purposes\"],\n [{\n            'v': 1,\n            'f': \"1\",\n        },\n\"2022-01-11 00:00:00.0000000\",\n{\n            'v': 200001,\n            'f': \"200001\",\n        },\n{\n            'v': 200001,\n            'f': \"200001\",\n        },\n{\n            'v': 0,\n            'f': \"0\",\n        },\n{\n            'v': 102,\n            'f': \"102\",\n        },\n\"What\",\n\"Education/training\"],\n [{\n            'v': 2,\n            'f': \"2\",\n        },\n\"2022-01-11 00:00:00.0000000\",\n{\n            'v': 200001,\n            'f': \"200001\",\n        },\n{\n            'v': 200001,\n            'f': \"200001\",\n        },\n{\n            'v': 0,\n            'f': \"0\",\n        },\n{\n            'v': 109,\n            'f': \"109\",\n        },\n\"What\",\n\"Arts/culture/heritage/science\"],\n [{\n            'v': 3,\n            'f': \"3\",\n        },\n\"2022-01-11 00:00:00.0000000\",\n{\n            'v': 200001,\n            'f': \"200001\",\n        },\n{\n            'v': 200001,\n            'f': \"200001\",\n        },\n{\n            'v': 0,\n            'f': \"0\",\n        },\n{\n            'v': 112,\n            'f': \"112\",\n        },\n\"What\",\n\"Environment/conservation/heritage\"],\n [{\n            'v': 7,\n            'f': \"7\",\n        },\n\"2022-01-11 00:00:00.0000000\",\n{\n            'v': 200002,\n            'f': \"200002\",\n        },\n{\n            'v': 200002,\n            'f': \"200002\",\n        },\n{\n            'v': 0,\n            'f': \"0\",\n        },\n{\n            'v': 102,\n            'f': \"102\",\n        },\n\"What\",\n\"Education/training\"],\n [{\n            'v': 8,\n            'f': \"8\",\n        },\n\"2022-01-11 00:00:00.0000000\",\n{\n            'v': 200002,\n            'f': \"200002\",\n        },\n{\n            'v': 200002,\n            'f': \"200002\",\n        },\n{\n            'v': 0,\n            'f': \"0\",\n        },\n{\n            'v': 105,\n            'f': \"105\",\n        },\n\"What\",\n\"The Prevention Or Relief Of Poverty\"],\n [{\n            'v': 17,\n            'f': \"17\",\n        },\n\"2022-01-11 00:00:00.0000000\",\n{\n            'v': 200009,\n            'f': \"200009\",\n        },\n{\n            'v': 200009,\n            'f': \"200009\",\n        },\n{\n            'v': 0,\n            'f': \"0\",\n        },\n{\n            'v': 101,\n            'f': \"101\",\n        },\n\"What\",\n\"General Charitable Purposes\"],\n [{\n            'v': 18,\n            'f': \"18\",\n        },\n\"2022-01-11 00:00:00.0000000\",\n{\n            'v': 200009,\n            'f': \"200009\",\n        },\n{\n            'v': 200009,\n            'f': \"200009\",\n        },\n{\n            'v': 0,\n            'f': \"0\",\n        },\n{\n            'v': 102,\n            'f': \"102\",\n        },\n\"What\",\n\"Education/training\"],\n [{\n            'v': 19,\n            'f': \"19\",\n        },\n\"2022-01-11 00:00:00.0000000\",\n{\n            'v': 200009,\n            'f': \"200009\",\n        },\n{\n            'v': 200009,\n            'f': \"200009\",\n        },\n{\n            'v': 0,\n            'f': \"0\",\n        },\n{\n            'v': 103,\n            'f': \"103\",\n        },\n\"What\",\n\"The Advancement Of Health Or Saving Of Lives\"],\n [{\n            'v': 22,\n            'f': \"22\",\n        },\n\"2022-01-11 00:00:00.0000000\",\n{\n            'v': 200012,\n            'f': \"200012\",\n        },\n{\n            'v': 200012,\n            'f': \"200012\",\n        },\n{\n            'v': 0,\n            'f': \"0\",\n        },\n{\n            'v': 103,\n            'f': \"103\",\n        },\n\"What\",\n\"The Advancement Of Health Or Saving Of Lives\"]],\n        columns: [[\"number\", \"index\"], [\"string\", \"date_of_extract\"], [\"number\", \"organisation_number\"], [\"number\", \"registered_charity_number\"], [\"number\", \"linked_charity_number\"], [\"number\", \"classification_code\"], [\"string\", \"classification_type\"], [\"string\", \"classification_description\"]],\n        columnOptions: [{\"width\": \"1px\", \"className\": \"index_column\"}],\n        rowsPerPage: 25,\n        helpUrl: \"https://colab.research.google.com/notebooks/data_table.ipynb\",\n        suppressOutputScrolling: true,\n        minimumWidth: undefined,\n      });\n    "
          },
          "metadata": {},
          "execution_count": 17
        }
      ]
    },
    {
      "cell_type": "code",
      "source": [
        "Counter(filtered['classification_description'])"
      ],
      "metadata": {
        "colab": {
          "base_uri": "https://localhost:8080/"
        },
        "id": "MJhp356VsNcB",
        "outputId": "95a76042-4dc3-454b-ae81-7f803215a46c"
      },
      "execution_count": 18,
      "outputs": [
        {
          "output_type": "execute_result",
          "data": {
            "text/plain": [
              "Counter({'Accommodation/housing': 12403,\n",
              "         'Amateur Sport': 38753,\n",
              "         'Animals': 5927,\n",
              "         'Armed Forces/emergency Service Efficiency': 1280,\n",
              "         'Arts/culture/heritage/science': 42296,\n",
              "         'Disability': 37201,\n",
              "         'Economic/community Development/employment': 32546,\n",
              "         'Education/training': 127657,\n",
              "         'Environment/conservation/heritage': 26619,\n",
              "         'General Charitable Purposes': 79955,\n",
              "         'Human Rights/religious Or Racial Harmony/equality Or Diversity': 7261,\n",
              "         'Other Charitable Purposes': 16954,\n",
              "         'Overseas Aid/famine Relief': 15070,\n",
              "         'Recreation': 18213,\n",
              "         'Religious Activities': 45985,\n",
              "         'The Advancement Of Health Or Saving Of Lives': 42537,\n",
              "         'The Prevention Or Relief Of Poverty': 48398})"
            ]
          },
          "metadata": {},
          "execution_count": 18
        }
      ]
    },
    {
      "cell_type": "code",
      "source": [
        "# count the number of classifications for each organisation\n",
        "classification_count = Counter(filtered['organisation_number'])\n",
        "pc=0\n",
        "for i in classification_count.items():\n",
        "  print(i)\n",
        "  pc+=1\n",
        "  if pc==10:\n",
        "    break"
      ],
      "metadata": {
        "id": "U7rBCqYEs9b9",
        "colab": {
          "base_uri": "https://localhost:8080/"
        },
        "outputId": "22154b6a-1d9d-43f0-b4d0-48a6fd16b9e2"
      },
      "execution_count": 19,
      "outputs": [
        {
          "output_type": "stream",
          "name": "stdout",
          "text": [
            "(200001, 4)\n",
            "(200002, 2)\n",
            "(200009, 3)\n",
            "(200012, 3)\n",
            "(200014, 1)\n",
            "(200017, 1)\n",
            "(200023, 3)\n",
            "(200024, 2)\n",
            "(200027, 1)\n",
            "(200032, 2)\n"
          ]
        }
      ]
    },
    {
      "cell_type": "code",
      "source": [
        "# we only want to work with charities that are still registered\n",
        "ar = []\n",
        "for i in charity_data:\n",
        "  if(i['charity_registration_status']!=\"Removed\"):\n",
        "    ar.append(i['organisation_number'])\n",
        "    \n",
        "len(set(ar))"
      ],
      "metadata": {
        "id": "1iwI2bdsvqaS",
        "colab": {
          "base_uri": "https://localhost:8080/"
        },
        "outputId": "de824dc6-24d6-4a0b-ca94-b2d99b3aedb5"
      },
      "execution_count": 20,
      "outputs": [
        {
          "output_type": "execute_result",
          "data": {
            "text/plain": [
              "185736"
            ]
          },
          "metadata": {},
          "execution_count": 20
        }
      ]
    },
    {
      "cell_type": "code",
      "source": [
        "# check the number of charities from registered charities that have a classification provided in the classification table\n",
        "final = set(ar).intersection(set(classification_count.keys()))\n",
        "len(final)"
      ],
      "metadata": {
        "colab": {
          "base_uri": "https://localhost:8080/"
        },
        "id": "Nc6AUanJwqgP",
        "outputId": "2916c485-3547-47d7-8202-449614097920"
      },
      "execution_count": 21,
      "outputs": [
        {
          "output_type": "execute_result",
          "data": {
            "text/plain": [
              "170390"
            ]
          },
          "metadata": {},
          "execution_count": 21
        }
      ]
    },
    {
      "cell_type": "code",
      "source": [
        "# counting the number of charities having n classifications\n",
        "count_num_type = {}\n",
        "for i in classification_count:\n",
        "  if(i in final):\n",
        "    idx = classification_count[i]\n",
        "    if(idx in count_num_type):\n",
        "      count_num_type[idx]+=1\n",
        "    else:\n",
        "      count_num_type[idx] = 1\n",
        "  \n",
        "print(sum(count_num_type.values()))\n",
        "count_num_type"
      ],
      "metadata": {
        "id": "ElhpfvKluWHD",
        "colab": {
          "base_uri": "https://localhost:8080/"
        },
        "outputId": "30cadfa9-7ae9-470c-e690-301d9fb28814"
      },
      "execution_count": 22,
      "outputs": [
        {
          "output_type": "stream",
          "name": "stdout",
          "text": [
            "170390\n"
          ]
        },
        {
          "output_type": "execute_result",
          "data": {
            "text/plain": [
              "{1: 71916,\n",
              " 2: 37278,\n",
              " 3: 23460,\n",
              " 4: 14493,\n",
              " 5: 9097,\n",
              " 6: 5523,\n",
              " 7: 3483,\n",
              " 8: 2119,\n",
              " 9: 1237,\n",
              " 10: 776,\n",
              " 11: 433,\n",
              " 12: 288,\n",
              " 13: 150,\n",
              " 14: 71,\n",
              " 15: 29,\n",
              " 16: 21,\n",
              " 17: 16}"
            ]
          },
          "metadata": {},
          "execution_count": 22
        }
      ]
    },
    {
      "cell_type": "markdown",
      "source": [
        "- a lot of charities (71916) have just 1 classification\n",
        "- around 100,000 charities are classified into more than 1 category"
      ],
      "metadata": {
        "id": "xSKgayo5wHqB"
      }
    },
    {
      "cell_type": "code",
      "source": [
        "# lets work with charities that have a unique classification - classified only into a single category\n",
        "unique_category = []\n",
        "for i in classification_count:\n",
        "  if(classification_count[i]==1 and (i in final) ):\n",
        "    unique_category.append(i)\n",
        "\n",
        "unique_category[:10]"
      ],
      "metadata": {
        "id": "ztJjbigbzCwv",
        "colab": {
          "base_uri": "https://localhost:8080/"
        },
        "outputId": "885b57cb-9d15-456d-883e-06cc88fcba11"
      },
      "execution_count": 23,
      "outputs": [
        {
          "output_type": "execute_result",
          "data": {
            "text/plain": [
              "[200017,\n",
              " 200027,\n",
              " 200040,\n",
              " 200044,\n",
              " 200048,\n",
              " 200049,\n",
              " 200055,\n",
              " 200076,\n",
              " 200079,\n",
              " 200097]"
            ]
          },
          "metadata": {},
          "execution_count": 23
        }
      ]
    },
    {
      "cell_type": "code",
      "source": [
        "# filtering data for charities with unique category\n",
        "filtered_single = filtered[filtered['organisation_number'].isin(unique_category) ]\n",
        "filtered_single.shape"
      ],
      "metadata": {
        "colab": {
          "base_uri": "https://localhost:8080/"
        },
        "id": "x-A3RbtiyCUx",
        "outputId": "d2c04891-ea99-4e83-8c3c-e0ba01783dcb"
      },
      "execution_count": 24,
      "outputs": [
        {
          "output_type": "execute_result",
          "data": {
            "text/plain": [
              "(71916, 7)"
            ]
          },
          "metadata": {},
          "execution_count": 24
        }
      ]
    },
    {
      "cell_type": "code",
      "source": [
        "# view classification of charities, it will not include overlapping results since each charity is only assigned a single category\n",
        "Counter(filtered_single['classification_description'])"
      ],
      "metadata": {
        "colab": {
          "base_uri": "https://localhost:8080/"
        },
        "id": "3KHvgeLIzzfw",
        "outputId": "dc370e16-da41-4e8e-ae42-ceb699cfcb1e"
      },
      "execution_count": 25,
      "outputs": [
        {
          "output_type": "execute_result",
          "data": {
            "text/plain": [
              "Counter({'Accommodation/housing': 1692,\n",
              "         'Amateur Sport': 3178,\n",
              "         'Animals': 1183,\n",
              "         'Armed Forces/emergency Service Efficiency': 96,\n",
              "         'Arts/culture/heritage/science': 3589,\n",
              "         'Disability': 2616,\n",
              "         'Economic/community Development/employment': 562,\n",
              "         'Education/training': 21003,\n",
              "         'Environment/conservation/heritage': 2376,\n",
              "         'General Charitable Purposes': 12207,\n",
              "         'Human Rights/religious Or Racial Harmony/equality Or Diversity': 198,\n",
              "         'Other Charitable Purposes': 2284,\n",
              "         'Overseas Aid/famine Relief': 88,\n",
              "         'Recreation': 1088,\n",
              "         'Religious Activities': 12871,\n",
              "         'The Advancement Of Health Or Saving Of Lives': 3457,\n",
              "         'The Prevention Or Relief Of Poverty': 3428})"
            ]
          },
          "metadata": {},
          "execution_count": 25
        }
      ]
    },
    {
      "cell_type": "markdown",
      "source": [
        "# Non Profit Classifier\n",
        "- Mapping UK charities to US charity classification\n",
        "- https://github.com/ma-ji/npo_classifier\n",
        "- based on NTEE classification - https://en.wikipedia.org/wiki/National_Taxonomy_of_Exempt_Entities#:~:text=The%20National%20Taxonomy%20of%20Exempt%20Entities%20%28NTEE%29%20is,case%20when%20the%20organization%20is%20recognized%20as%20tax-exempt\n",
        "- NTEE code structure - https://nccs.urban.org/project/national-taxonomy-exempt-entities-ntee-codes#overview\n"
      ],
      "metadata": {
        "id": "aDKC56Y4x4-v"
      }
    },
    {
      "cell_type": "code",
      "source": [
        "!pip install transformers"
      ],
      "metadata": {
        "colab": {
          "base_uri": "https://localhost:8080/"
        },
        "id": "IEtriXjuyIsb",
        "outputId": "edd23277-c6af-4872-e570-8447053a05dd"
      },
      "execution_count": 26,
      "outputs": [
        {
          "output_type": "stream",
          "name": "stdout",
          "text": [
            "Collecting transformers\n",
            "  Downloading transformers-4.18.0-py3-none-any.whl (4.0 MB)\n",
            "\u001b[K     |████████████████████████████████| 4.0 MB 5.3 MB/s \n",
            "\u001b[?25hCollecting huggingface-hub<1.0,>=0.1.0\n",
            "  Downloading huggingface_hub-0.5.1-py3-none-any.whl (77 kB)\n",
            "\u001b[K     |████████████████████████████████| 77 kB 6.0 MB/s \n",
            "\u001b[?25hCollecting pyyaml>=5.1\n",
            "  Downloading PyYAML-6.0-cp37-cp37m-manylinux_2_5_x86_64.manylinux1_x86_64.manylinux_2_12_x86_64.manylinux2010_x86_64.whl (596 kB)\n",
            "\u001b[K     |████████████████████████████████| 596 kB 45.8 MB/s \n",
            "\u001b[?25hRequirement already satisfied: requests in /usr/local/lib/python3.7/dist-packages (from transformers) (2.23.0)\n",
            "Requirement already satisfied: tqdm>=4.27 in /usr/local/lib/python3.7/dist-packages (from transformers) (4.64.0)\n",
            "Requirement already satisfied: regex!=2019.12.17 in /usr/local/lib/python3.7/dist-packages (from transformers) (2019.12.20)\n",
            "Requirement already satisfied: numpy>=1.17 in /usr/local/lib/python3.7/dist-packages (from transformers) (1.21.6)\n",
            "Collecting tokenizers!=0.11.3,<0.13,>=0.11.1\n",
            "  Downloading tokenizers-0.12.1-cp37-cp37m-manylinux_2_12_x86_64.manylinux2010_x86_64.whl (6.6 MB)\n",
            "\u001b[K     |████████████████████████████████| 6.6 MB 35.1 MB/s \n",
            "\u001b[?25hCollecting sacremoses\n",
            "  Downloading sacremoses-0.0.53.tar.gz (880 kB)\n",
            "\u001b[K     |████████████████████████████████| 880 kB 61.9 MB/s \n",
            "\u001b[?25hRequirement already satisfied: filelock in /usr/local/lib/python3.7/dist-packages (from transformers) (3.6.0)\n",
            "Requirement already satisfied: importlib-metadata in /usr/local/lib/python3.7/dist-packages (from transformers) (4.11.3)\n",
            "Requirement already satisfied: packaging>=20.0 in /usr/local/lib/python3.7/dist-packages (from transformers) (21.3)\n",
            "Requirement already satisfied: typing-extensions>=3.7.4.3 in /usr/local/lib/python3.7/dist-packages (from huggingface-hub<1.0,>=0.1.0->transformers) (4.2.0)\n",
            "Requirement already satisfied: pyparsing!=3.0.5,>=2.0.2 in /usr/local/lib/python3.7/dist-packages (from packaging>=20.0->transformers) (3.0.8)\n",
            "Requirement already satisfied: zipp>=0.5 in /usr/local/lib/python3.7/dist-packages (from importlib-metadata->transformers) (3.8.0)\n",
            "Requirement already satisfied: urllib3!=1.25.0,!=1.25.1,<1.26,>=1.21.1 in /usr/local/lib/python3.7/dist-packages (from requests->transformers) (1.24.3)\n",
            "Requirement already satisfied: chardet<4,>=3.0.2 in /usr/local/lib/python3.7/dist-packages (from requests->transformers) (3.0.4)\n",
            "Requirement already satisfied: certifi>=2017.4.17 in /usr/local/lib/python3.7/dist-packages (from requests->transformers) (2021.10.8)\n",
            "Requirement already satisfied: idna<3,>=2.5 in /usr/local/lib/python3.7/dist-packages (from requests->transformers) (2.10)\n",
            "Requirement already satisfied: six in /usr/local/lib/python3.7/dist-packages (from sacremoses->transformers) (1.15.0)\n",
            "Requirement already satisfied: click in /usr/local/lib/python3.7/dist-packages (from sacremoses->transformers) (7.1.2)\n",
            "Requirement already satisfied: joblib in /usr/local/lib/python3.7/dist-packages (from sacremoses->transformers) (1.1.0)\n",
            "Building wheels for collected packages: sacremoses\n",
            "  Building wheel for sacremoses (setup.py) ... \u001b[?25l\u001b[?25hdone\n",
            "  Created wheel for sacremoses: filename=sacremoses-0.0.53-py3-none-any.whl size=895260 sha256=cb1aa29dc59527737c9753def00aa4e450a972f8e12b7ccacaafd2e66171985c\n",
            "  Stored in directory: /root/.cache/pip/wheels/87/39/dd/a83eeef36d0bf98e7a4d1933a4ad2d660295a40613079bafc9\n",
            "Successfully built sacremoses\n",
            "Installing collected packages: pyyaml, tokenizers, sacremoses, huggingface-hub, transformers\n",
            "  Attempting uninstall: pyyaml\n",
            "    Found existing installation: PyYAML 3.13\n",
            "    Uninstalling PyYAML-3.13:\n",
            "      Successfully uninstalled PyYAML-3.13\n",
            "Successfully installed huggingface-hub-0.5.1 pyyaml-6.0 sacremoses-0.0.53 tokenizers-0.12.1 transformers-4.18.0\n"
          ]
        }
      ]
    },
    {
      "cell_type": "code",
      "source": [
        "import requests\n",
        "exec(requests.get('https://raw.githubusercontent.com/ma-ji/npo_classifier/master/API/npoclass.py').text)"
      ],
      "metadata": {
        "id": "MVBfJid3YuKN"
      },
      "execution_count": 27,
      "outputs": []
    },
    {
      "cell_type": "code",
      "source": [
        "!pip3 install pickle5\n",
        "import pickle5 as pickle"
      ],
      "metadata": {
        "colab": {
          "base_uri": "https://localhost:8080/"
        },
        "id": "z6Lu8O5pnYsS",
        "outputId": "6d441383-c15a-4ae0-bb60-f03a7d8487e2"
      },
      "execution_count": 28,
      "outputs": [
        {
          "output_type": "stream",
          "name": "stdout",
          "text": [
            "Collecting pickle5\n",
            "  Downloading pickle5-0.0.12-cp37-cp37m-manylinux_2_5_x86_64.manylinux1_x86_64.whl (256 kB)\n",
            "\u001b[?25l\r\u001b[K     |█▎                              | 10 kB 15.7 MB/s eta 0:00:01\r\u001b[K     |██▋                             | 20 kB 5.2 MB/s eta 0:00:01\r\u001b[K     |███▉                            | 30 kB 4.4 MB/s eta 0:00:01\r\u001b[K     |█████▏                          | 40 kB 4.3 MB/s eta 0:00:01\r\u001b[K     |██████▍                         | 51 kB 3.6 MB/s eta 0:00:01\r\u001b[K     |███████▊                        | 61 kB 4.3 MB/s eta 0:00:01\r\u001b[K     |█████████                       | 71 kB 4.4 MB/s eta 0:00:01\r\u001b[K     |██████████▎                     | 81 kB 5.0 MB/s eta 0:00:01\r\u001b[K     |███████████▌                    | 92 kB 4.9 MB/s eta 0:00:01\r\u001b[K     |████████████▉                   | 102 kB 4.8 MB/s eta 0:00:01\r\u001b[K     |██████████████                  | 112 kB 4.8 MB/s eta 0:00:01\r\u001b[K     |███████████████▍                | 122 kB 4.8 MB/s eta 0:00:01\r\u001b[K     |████████████████▋               | 133 kB 4.8 MB/s eta 0:00:01\r\u001b[K     |██████████████████              | 143 kB 4.8 MB/s eta 0:00:01\r\u001b[K     |███████████████████▏            | 153 kB 4.8 MB/s eta 0:00:01\r\u001b[K     |████████████████████▌           | 163 kB 4.8 MB/s eta 0:00:01\r\u001b[K     |█████████████████████▊          | 174 kB 4.8 MB/s eta 0:00:01\r\u001b[K     |███████████████████████         | 184 kB 4.8 MB/s eta 0:00:01\r\u001b[K     |████████████████████████▎       | 194 kB 4.8 MB/s eta 0:00:01\r\u001b[K     |█████████████████████████▋      | 204 kB 4.8 MB/s eta 0:00:01\r\u001b[K     |██████████████████████████▉     | 215 kB 4.8 MB/s eta 0:00:01\r\u001b[K     |████████████████████████████▏   | 225 kB 4.8 MB/s eta 0:00:01\r\u001b[K     |█████████████████████████████▍  | 235 kB 4.8 MB/s eta 0:00:01\r\u001b[K     |██████████████████████████████▊ | 245 kB 4.8 MB/s eta 0:00:01\r\u001b[K     |████████████████████████████████| 256 kB 4.8 MB/s eta 0:00:01\r\u001b[K     |████████████████████████████████| 256 kB 4.8 MB/s \n",
            "\u001b[?25hInstalling collected packages: pickle5\n",
            "Successfully installed pickle5-0.0.12\n"
          ]
        }
      ]
    },
    {
      "cell_type": "markdown",
      "source": [
        "- refer to the documentation on github website to learn more about using the ML classifier API\n",
        "- API => npoclass(inputs, gpu_core=True, model_path=None, ntee_type='bc', n_jobs=4, backend='multiprocessing', batch_size_dl=64, verbose=1)"
      ],
      "metadata": {
        "id": "xPRQIcbFeFYI"
      }
    },
    {
      "cell_type": "code",
      "source": [
        "# testing out the classifier\n",
        "# make sure you have uploaded the model data to your drive so that it can be accessed by the API\n",
        "out = npoclass(\"helping poor individuals\",\n",
        "               True,\n",
        "               \"drive/My Drive/UK_Data/npoclass_model_bc/\",\n",
        "               'bc')\n",
        "print(out)"
      ],
      "metadata": {
        "colab": {
          "base_uri": "https://localhost:8080/"
        },
        "id": "2JLkNtToZu_-",
        "outputId": "a0dbf332-37f5-4d74-f481-973b1de43844"
      },
      "execution_count": 29,
      "outputs": [
        {
          "output_type": "stream",
          "name": "stdout",
          "text": [
            "No GPU acceleration available or gpu_core=False, using CPU.\n",
            "Encoding inputs ...\n",
            "Predicting categories ...\n"
          ]
        },
        {
          "output_type": "stream",
          "name": "stderr",
          "text": [
            "100%|██████████| 1/1 [00:02<00:00,  2.24s/it]"
          ]
        },
        {
          "output_type": "stream",
          "name": "stdout",
          "text": [
            "[{'recommended': 'V', 'confidence': 'high (>=.99)', 'probabilities': {'I': 0.09410640597343445, 'II': 0.3920310139656067, 'III': 0.024979978799819946, 'IV': 0.8642263412475586, 'IX': 0.04580545425415039, 'V': 0.9937044978141785, 'VI': 0.3575180470943451, 'VII': 0.5676623582839966, 'VIII': 0.5914807319641113}}]\n"
          ]
        },
        {
          "output_type": "stream",
          "name": "stderr",
          "text": [
            "\n"
          ]
        }
      ]
    },
    {
      "cell_type": "markdown",
      "source": [
        "It takes more time than expected to classify a single charity by the API, so it might take a huge amount of time if we want to classify all 170k charities this way."
      ],
      "metadata": {
        "id": "nMjOy_tj1R7t"
      }
    },
    {
      "cell_type": "code",
      "source": [
        "category_map = {\"I\": \"Arts, Culture, and Humanities\",\n",
        "                \"II\": \"Education\",\n",
        "                \"III\": \"Environment and Animals\",\n",
        "                \"IV\": \"Health\",\n",
        "                \"V\": \"Human Services\",\n",
        "                \"VI\": \"International, Foreign Affairs\",\n",
        "                \"VII\": \"Public, Societal Benefit\",\n",
        "                \"VIII\": \"Religion Related\",\n",
        "                \"IX\": \"Mutual/Membership Benefit\",\n",
        "                \"X\": \"Unknown, Unclassified\"}"
      ],
      "metadata": {
        "id": "Hb0Tx4zWtpgc"
      },
      "execution_count": 30,
      "outputs": []
    },
    {
      "cell_type": "code",
      "source": [
        "# create a new dataframe to store the classification results from the ML classifier\n",
        "# more useful columns can be added to this dataframe if required\n",
        "classification_us_data = pd.DataFrame({'organisation_number': pd.Series(dtype='int'),\n",
        "                                       'registered_charity_number': pd.Series(dtype='int'),\n",
        "                                       'charity_name':pd.Series(dtype='str'),\n",
        "                                       'classification_code_us': pd.Series(dtype='str'),\n",
        "                                       'classification_description_us':pd.Series(dtype='str'),\n",
        "                                       'confidence':pd.Series(dtype='float')})"
      ],
      "metadata": {
        "id": "V51ntWb2zKbt"
      },
      "execution_count": 31,
      "outputs": []
    },
    {
      "cell_type": "code",
      "source": [
        "# we will be using this 'final' list which contains the organisaiton numbers of all registered charities\n",
        "# we will be using the description from the charity activities column to be given as input to the classifier\n",
        "parent_list = list(final)\n",
        "cc = 0\n",
        "compression_opts = dict(method='zip',\n",
        "                        archive_name='classification_us_data.csv')\n",
        "\n",
        "# a list of charity descriptions can be given as input to the API, which will save time in the overall classification due to API response time\n",
        "# we basically want to iterate over all the charities in the parent_list and sent theit activity decriptions as inputs to the API\n",
        "# in the code chunk below classification has been done in groups of 20 to save time and to ensure that no data is lost due to network issue\n",
        "# if for some reason the notebook disconnects or the code produces some error then the results fetched till that point will all be save in the output file\n",
        "# in case if the connection is lost and for loop is broken then it is best to first download the output file from the notebook environment\n",
        "# and then read in the dataframe from the output file and then start the loop again from the point where it was broken\n",
        "# make sure to modify the start and end range and the step size of the for loop according the the requirement\n",
        "\n",
        "CHUNK_SIZE = 20 # define the chunk size - no. of charities to be processed together\n",
        "\n",
        "for i in range (630,650,CHUNK_SIZE):\n",
        "  # separating out 20 ids\n",
        "  chunk_list = parent_list[i:i+CHUNK_SIZE]\n",
        "  print(chunk_list)\n",
        "  #  input list will contains descriptions for the corresponding 20 organisations\n",
        "  input_list = []\n",
        "  for j in chunk_list:\n",
        "    if(charity[j]['charity_activities']!=None):\n",
        "      input_list.append(charity[j]['charity_activities'])\n",
        "  # get the prediction from the API\n",
        "  pred = npoclass(input_list,\n",
        "              True,\n",
        "              \"drive/My Drive/UK_Data/npoclass_model_bc/\",\n",
        "              'bc',\n",
        "              batch_size_dl=128)\n",
        "  # if the charity activities column is empty for a charity then simply add its classification as unknown/unclassified\n",
        "  for jj in range(len(chunk_list)):\n",
        "    if(charity[chunk_list[jj]]['charity_activities']==None):\n",
        "      pred.insert(jj,{\"recommended\":\"X\"})\n",
        "  \n",
        "  # insert the data for all charities in the chunk list to the main dataframe\n",
        "  for k in range (len(pred)):\n",
        "    org_num = chunk_list[k]\n",
        "    element = pred[k]\n",
        "    classification_us_data = classification_us_data.append({'organisation_number': int(org_num), \n",
        "                                  'registered_charity_number': int(charity[org_num]['registered_charity_number']),\n",
        "                                  'charity_name':charity[org_num]['charity_name'],\n",
        "                                  'classification_code_us':element['recommended'],\n",
        "                                  'classification_description_us':category_map[element['recommended']],\n",
        "                                  'confidence':0 if element['recommended']=='X' else round(element['probabilities'][element['recommended']],2)},\n",
        "                                  ignore_index=True)\n",
        "  \n",
        "  # save the dataframe at every step so that no progress is lost, note that the code will simply keep overwriting the output file\n",
        "  classification_us_data.to_csv('classification_us_data.zip', index=False,\n",
        "          compression=compression_opts)\n",
        "\n",
        "\n"
      ],
      "metadata": {
        "colab": {
          "base_uri": "https://localhost:8080/"
        },
        "id": "HmTa3t8J1JGF",
        "outputId": "3a95689d-265d-4054-f0b2-31088188ad0a"
      },
      "execution_count": 32,
      "outputs": [
        {
          "output_type": "stream",
          "name": "stdout",
          "text": [
            "[524965, 1049252, 524967, 1049253, 1049257, 1049254, 524971, 1049259, 524973, 1049261, 524975, 1049265, 524978, 524979, 524980, 1049266, 5002040, 524984, 524985, 524986]\n",
            "No GPU acceleration available or gpu_core=False, using CPU.\n",
            "Encoding inputs ...\n"
          ]
        },
        {
          "output_type": "stream",
          "name": "stderr",
          "text": [
            "[Parallel(n_jobs=4)]: Using backend MultiprocessingBackend with 4 concurrent workers.\n",
            "[Parallel(n_jobs=4)]: Done  20 out of  20 | elapsed:    0.3s finished\n"
          ]
        },
        {
          "output_type": "stream",
          "name": "stdout",
          "text": [
            "Predicting categories ...\n"
          ]
        },
        {
          "output_type": "stream",
          "name": "stderr",
          "text": [
            "100%|██████████| 1/1 [00:42<00:00, 42.35s/it]\n"
          ]
        }
      ]
    },
    {
      "cell_type": "code",
      "source": [
        "classification_us_data[:10]"
      ],
      "metadata": {
        "colab": {
          "base_uri": "https://localhost:8080/",
          "height": 305
        },
        "id": "75saWL6UC7AJ",
        "outputId": "4047444b-5420-4ae0-e45f-4232231e863c"
      },
      "execution_count": 33,
      "outputs": [
        {
          "output_type": "execute_result",
          "data": {
            "text/plain": [
              "   organisation_number  registered_charity_number  \\\n",
              "0               524965                     524965   \n",
              "1              1049252                    1049252   \n",
              "2               524967                     524967   \n",
              "3              1049253                    1049253   \n",
              "4              1049257                    1049257   \n",
              "5              1049254                    1049254   \n",
              "6               524971                     524971   \n",
              "7              1049259                    1049259   \n",
              "8               524973                     524973   \n",
              "9              1049261                    1049261   \n",
              "\n",
              "                                        charity_name classification_code_us  \\\n",
              "0             ABERGAVENNY DIVISION GUIDE ASSOCIATION                      V   \n",
              "1                                  CHARTERHOUSE CLUB                     II   \n",
              "2                            ABERGAVENNY SCOUT GROUP                      V   \n",
              "3  SOUTH WOOTTON GRANT MAINTAINED JUNIOR SCHOOL A...                    VII   \n",
              "4        ST GABRIELS MEDICAL CENTRE CHARITABLE TRUST                     IV   \n",
              "5                                U3A - BANSTEAD AREA                    VII   \n",
              "6                       1ST CEFN FFOREST SCOUT GROUP                      V   \n",
              "7                                    NK THEATRE ARTS                      I   \n",
              "8                           1ST CAERLEON SCOUT GROUP                      V   \n",
              "9             THE JOHN DARLOW MEDICAL EDUCATION FUND                      V   \n",
              "\n",
              "   classification_description_us  confidence  \n",
              "0                 Human Services        1.00  \n",
              "1                      Education        0.97  \n",
              "2                 Human Services        1.00  \n",
              "3       Public, Societal Benefit        0.99  \n",
              "4                         Health        0.99  \n",
              "5       Public, Societal Benefit        0.91  \n",
              "6                 Human Services        1.00  \n",
              "7  Arts, Culture, and Humanities        1.00  \n",
              "8                 Human Services        1.00  \n",
              "9                 Human Services        0.99  "
            ],
            "text/html": [
              "\n",
              "  <div id=\"df-991ef493-fbab-42e4-b072-023a43e8bdfc\">\n",
              "    <div class=\"colab-df-container\">\n",
              "      <div>\n",
              "<style scoped>\n",
              "    .dataframe tbody tr th:only-of-type {\n",
              "        vertical-align: middle;\n",
              "    }\n",
              "\n",
              "    .dataframe tbody tr th {\n",
              "        vertical-align: top;\n",
              "    }\n",
              "\n",
              "    .dataframe thead th {\n",
              "        text-align: right;\n",
              "    }\n",
              "</style>\n",
              "<table border=\"1\" class=\"dataframe\">\n",
              "  <thead>\n",
              "    <tr style=\"text-align: right;\">\n",
              "      <th></th>\n",
              "      <th>organisation_number</th>\n",
              "      <th>registered_charity_number</th>\n",
              "      <th>charity_name</th>\n",
              "      <th>classification_code_us</th>\n",
              "      <th>classification_description_us</th>\n",
              "      <th>confidence</th>\n",
              "    </tr>\n",
              "  </thead>\n",
              "  <tbody>\n",
              "    <tr>\n",
              "      <th>0</th>\n",
              "      <td>524965</td>\n",
              "      <td>524965</td>\n",
              "      <td>ABERGAVENNY DIVISION GUIDE ASSOCIATION</td>\n",
              "      <td>V</td>\n",
              "      <td>Human Services</td>\n",
              "      <td>1.00</td>\n",
              "    </tr>\n",
              "    <tr>\n",
              "      <th>1</th>\n",
              "      <td>1049252</td>\n",
              "      <td>1049252</td>\n",
              "      <td>CHARTERHOUSE CLUB</td>\n",
              "      <td>II</td>\n",
              "      <td>Education</td>\n",
              "      <td>0.97</td>\n",
              "    </tr>\n",
              "    <tr>\n",
              "      <th>2</th>\n",
              "      <td>524967</td>\n",
              "      <td>524967</td>\n",
              "      <td>ABERGAVENNY SCOUT GROUP</td>\n",
              "      <td>V</td>\n",
              "      <td>Human Services</td>\n",
              "      <td>1.00</td>\n",
              "    </tr>\n",
              "    <tr>\n",
              "      <th>3</th>\n",
              "      <td>1049253</td>\n",
              "      <td>1049253</td>\n",
              "      <td>SOUTH WOOTTON GRANT MAINTAINED JUNIOR SCHOOL A...</td>\n",
              "      <td>VII</td>\n",
              "      <td>Public, Societal Benefit</td>\n",
              "      <td>0.99</td>\n",
              "    </tr>\n",
              "    <tr>\n",
              "      <th>4</th>\n",
              "      <td>1049257</td>\n",
              "      <td>1049257</td>\n",
              "      <td>ST GABRIELS MEDICAL CENTRE CHARITABLE TRUST</td>\n",
              "      <td>IV</td>\n",
              "      <td>Health</td>\n",
              "      <td>0.99</td>\n",
              "    </tr>\n",
              "    <tr>\n",
              "      <th>5</th>\n",
              "      <td>1049254</td>\n",
              "      <td>1049254</td>\n",
              "      <td>U3A - BANSTEAD AREA</td>\n",
              "      <td>VII</td>\n",
              "      <td>Public, Societal Benefit</td>\n",
              "      <td>0.91</td>\n",
              "    </tr>\n",
              "    <tr>\n",
              "      <th>6</th>\n",
              "      <td>524971</td>\n",
              "      <td>524971</td>\n",
              "      <td>1ST CEFN FFOREST SCOUT GROUP</td>\n",
              "      <td>V</td>\n",
              "      <td>Human Services</td>\n",
              "      <td>1.00</td>\n",
              "    </tr>\n",
              "    <tr>\n",
              "      <th>7</th>\n",
              "      <td>1049259</td>\n",
              "      <td>1049259</td>\n",
              "      <td>NK THEATRE ARTS</td>\n",
              "      <td>I</td>\n",
              "      <td>Arts, Culture, and Humanities</td>\n",
              "      <td>1.00</td>\n",
              "    </tr>\n",
              "    <tr>\n",
              "      <th>8</th>\n",
              "      <td>524973</td>\n",
              "      <td>524973</td>\n",
              "      <td>1ST CAERLEON SCOUT GROUP</td>\n",
              "      <td>V</td>\n",
              "      <td>Human Services</td>\n",
              "      <td>1.00</td>\n",
              "    </tr>\n",
              "    <tr>\n",
              "      <th>9</th>\n",
              "      <td>1049261</td>\n",
              "      <td>1049261</td>\n",
              "      <td>THE JOHN DARLOW MEDICAL EDUCATION FUND</td>\n",
              "      <td>V</td>\n",
              "      <td>Human Services</td>\n",
              "      <td>0.99</td>\n",
              "    </tr>\n",
              "  </tbody>\n",
              "</table>\n",
              "</div>\n",
              "      <button class=\"colab-df-convert\" onclick=\"convertToInteractive('df-991ef493-fbab-42e4-b072-023a43e8bdfc')\"\n",
              "              title=\"Convert this dataframe to an interactive table.\"\n",
              "              style=\"display:none;\">\n",
              "        \n",
              "  <svg xmlns=\"http://www.w3.org/2000/svg\" height=\"24px\"viewBox=\"0 0 24 24\"\n",
              "       width=\"24px\">\n",
              "    <path d=\"M0 0h24v24H0V0z\" fill=\"none\"/>\n",
              "    <path d=\"M18.56 5.44l.94 2.06.94-2.06 2.06-.94-2.06-.94-.94-2.06-.94 2.06-2.06.94zm-11 1L8.5 8.5l.94-2.06 2.06-.94-2.06-.94L8.5 2.5l-.94 2.06-2.06.94zm10 10l.94 2.06.94-2.06 2.06-.94-2.06-.94-.94-2.06-.94 2.06-2.06.94z\"/><path d=\"M17.41 7.96l-1.37-1.37c-.4-.4-.92-.59-1.43-.59-.52 0-1.04.2-1.43.59L10.3 9.45l-7.72 7.72c-.78.78-.78 2.05 0 2.83L4 21.41c.39.39.9.59 1.41.59.51 0 1.02-.2 1.41-.59l7.78-7.78 2.81-2.81c.8-.78.8-2.07 0-2.86zM5.41 20L4 18.59l7.72-7.72 1.47 1.35L5.41 20z\"/>\n",
              "  </svg>\n",
              "      </button>\n",
              "      \n",
              "  <style>\n",
              "    .colab-df-container {\n",
              "      display:flex;\n",
              "      flex-wrap:wrap;\n",
              "      gap: 12px;\n",
              "    }\n",
              "\n",
              "    .colab-df-convert {\n",
              "      background-color: #E8F0FE;\n",
              "      border: none;\n",
              "      border-radius: 50%;\n",
              "      cursor: pointer;\n",
              "      display: none;\n",
              "      fill: #1967D2;\n",
              "      height: 32px;\n",
              "      padding: 0 0 0 0;\n",
              "      width: 32px;\n",
              "    }\n",
              "\n",
              "    .colab-df-convert:hover {\n",
              "      background-color: #E2EBFA;\n",
              "      box-shadow: 0px 1px 2px rgba(60, 64, 67, 0.3), 0px 1px 3px 1px rgba(60, 64, 67, 0.15);\n",
              "      fill: #174EA6;\n",
              "    }\n",
              "\n",
              "    [theme=dark] .colab-df-convert {\n",
              "      background-color: #3B4455;\n",
              "      fill: #D2E3FC;\n",
              "    }\n",
              "\n",
              "    [theme=dark] .colab-df-convert:hover {\n",
              "      background-color: #434B5C;\n",
              "      box-shadow: 0px 1px 3px 1px rgba(0, 0, 0, 0.15);\n",
              "      filter: drop-shadow(0px 1px 2px rgba(0, 0, 0, 0.3));\n",
              "      fill: #FFFFFF;\n",
              "    }\n",
              "  </style>\n",
              "\n",
              "      <script>\n",
              "        const buttonEl =\n",
              "          document.querySelector('#df-991ef493-fbab-42e4-b072-023a43e8bdfc button.colab-df-convert');\n",
              "        buttonEl.style.display =\n",
              "          google.colab.kernel.accessAllowed ? 'block' : 'none';\n",
              "\n",
              "        async function convertToInteractive(key) {\n",
              "          const element = document.querySelector('#df-991ef493-fbab-42e4-b072-023a43e8bdfc');\n",
              "          const dataTable =\n",
              "            await google.colab.kernel.invokeFunction('convertToInteractive',\n",
              "                                                     [key], {});\n",
              "          if (!dataTable) return;\n",
              "\n",
              "          const docLinkHtml = 'Like what you see? Visit the ' +\n",
              "            '<a target=\"_blank\" href=https://colab.research.google.com/notebooks/data_table.ipynb>data table notebook</a>'\n",
              "            + ' to learn more about interactive tables.';\n",
              "          element.innerHTML = '';\n",
              "          dataTable['output_type'] = 'display_data';\n",
              "          await google.colab.output.renderOutput(dataTable, element);\n",
              "          const docLink = document.createElement('div');\n",
              "          docLink.innerHTML = docLinkHtml;\n",
              "          element.appendChild(docLink);\n",
              "        }\n",
              "      </script>\n",
              "    </div>\n",
              "  </div>\n",
              "  "
            ],
            "application/vnd.google.colaboratory.module+javascript": "\n      import \"https://ssl.gstatic.com/colaboratory/data_table/f872b2c2305463fd/data_table.js\";\n\n      window.createDataTable({\n        data: [[{\n            'v': 0,\n            'f': \"0\",\n        },\n{\n            'v': 524965,\n            'f': \"524965\",\n        },\n{\n            'v': 524965,\n            'f': \"524965\",\n        },\n\"ABERGAVENNY DIVISION GUIDE ASSOCIATION\",\n\"V\",\n\"Human Services\",\n{\n            'v': 1.0,\n            'f': \"1.0\",\n        }],\n [{\n            'v': 1,\n            'f': \"1\",\n        },\n{\n            'v': 1049252,\n            'f': \"1049252\",\n        },\n{\n            'v': 1049252,\n            'f': \"1049252\",\n        },\n\"CHARTERHOUSE CLUB\",\n\"II\",\n\"Education\",\n{\n            'v': 0.97,\n            'f': \"0.97\",\n        }],\n [{\n            'v': 2,\n            'f': \"2\",\n        },\n{\n            'v': 524967,\n            'f': \"524967\",\n        },\n{\n            'v': 524967,\n            'f': \"524967\",\n        },\n\"ABERGAVENNY SCOUT GROUP\",\n\"V\",\n\"Human Services\",\n{\n            'v': 1.0,\n            'f': \"1.0\",\n        }],\n [{\n            'v': 3,\n            'f': \"3\",\n        },\n{\n            'v': 1049253,\n            'f': \"1049253\",\n        },\n{\n            'v': 1049253,\n            'f': \"1049253\",\n        },\n\"SOUTH WOOTTON GRANT MAINTAINED JUNIOR SCHOOL ASSOCIATION\",\n\"VII\",\n\"Public, Societal Benefit\",\n{\n            'v': 0.99,\n            'f': \"0.99\",\n        }],\n [{\n            'v': 4,\n            'f': \"4\",\n        },\n{\n            'v': 1049257,\n            'f': \"1049257\",\n        },\n{\n            'v': 1049257,\n            'f': \"1049257\",\n        },\n\"ST GABRIELS MEDICAL CENTRE CHARITABLE TRUST\",\n\"IV\",\n\"Health\",\n{\n            'v': 0.99,\n            'f': \"0.99\",\n        }],\n [{\n            'v': 5,\n            'f': \"5\",\n        },\n{\n            'v': 1049254,\n            'f': \"1049254\",\n        },\n{\n            'v': 1049254,\n            'f': \"1049254\",\n        },\n\"U3A - BANSTEAD AREA\",\n\"VII\",\n\"Public, Societal Benefit\",\n{\n            'v': 0.91,\n            'f': \"0.91\",\n        }],\n [{\n            'v': 6,\n            'f': \"6\",\n        },\n{\n            'v': 524971,\n            'f': \"524971\",\n        },\n{\n            'v': 524971,\n            'f': \"524971\",\n        },\n\"1ST CEFN FFOREST SCOUT GROUP\",\n\"V\",\n\"Human Services\",\n{\n            'v': 1.0,\n            'f': \"1.0\",\n        }],\n [{\n            'v': 7,\n            'f': \"7\",\n        },\n{\n            'v': 1049259,\n            'f': \"1049259\",\n        },\n{\n            'v': 1049259,\n            'f': \"1049259\",\n        },\n\"NK THEATRE ARTS\",\n\"I\",\n\"Arts, Culture, and Humanities\",\n{\n            'v': 1.0,\n            'f': \"1.0\",\n        }],\n [{\n            'v': 8,\n            'f': \"8\",\n        },\n{\n            'v': 524973,\n            'f': \"524973\",\n        },\n{\n            'v': 524973,\n            'f': \"524973\",\n        },\n\"1ST CAERLEON SCOUT GROUP\",\n\"V\",\n\"Human Services\",\n{\n            'v': 1.0,\n            'f': \"1.0\",\n        }],\n [{\n            'v': 9,\n            'f': \"9\",\n        },\n{\n            'v': 1049261,\n            'f': \"1049261\",\n        },\n{\n            'v': 1049261,\n            'f': \"1049261\",\n        },\n\"THE JOHN DARLOW MEDICAL EDUCATION FUND\",\n\"V\",\n\"Human Services\",\n{\n            'v': 0.99,\n            'f': \"0.99\",\n        }]],\n        columns: [[\"number\", \"index\"], [\"number\", \"organisation_number\"], [\"number\", \"registered_charity_number\"], [\"string\", \"charity_name\"], [\"string\", \"classification_code_us\"], [\"string\", \"classification_description_us\"], [\"number\", \"confidence\"]],\n        columnOptions: [{\"width\": \"1px\", \"className\": \"index_column\"}],\n        rowsPerPage: 25,\n        helpUrl: \"https://colab.research.google.com/notebooks/data_table.ipynb\",\n        suppressOutputScrolling: true,\n        minimumWidth: undefined,\n      });\n    "
          },
          "metadata": {},
          "execution_count": 33
        }
      ]
    },
    {
      "cell_type": "code",
      "source": [
        "# predict the classification using charitable object instead of charity activities\n",
        "# this can be integrated in the block above as well\n",
        "classification_us_data1 = classification_us_data\n",
        "activities = []\n",
        "cobjects = []\n",
        "codes = []\n",
        "descp = []\n",
        "confd = []\n",
        "ct = 0\n",
        "for i in classification_us_data1[\"organisation_number\"]:\n",
        "  print(ct)\n",
        "  obj = charity_governing_document_data[i][\"charitable_objects\"]\n",
        "  cobjects.append(obj)\n",
        "  activities.append(charity[i][\"charity_activities\"])\n",
        "  if(obj==None):\n",
        "    codes.append(\"X\")\n",
        "    descp.append(\"Unknown, Unclassified\")\n",
        "    confd.append(0)\n",
        "  else:\n",
        "    pred = npoclass(obj,\n",
        "              True,\n",
        "              \"drive/My Drive/UK_Data/npoclass_model_bc/\",\n",
        "              'bc',\n",
        "              batch_size_dl=128)[0]\n",
        "    codes.append(pred['recommended'])\n",
        "    descp.append(category_map[pred['recommended']])\n",
        "    confd.append(round(pred['probabilities'][pred['recommended']],2))\n",
        "  ct+=1\n",
        "\n"
      ],
      "metadata": {
        "colab": {
          "base_uri": "https://localhost:8080/"
        },
        "id": "jHdRPJAte9_o",
        "outputId": "12ea2402-7137-461a-d241-7c360e837c88"
      },
      "execution_count": 34,
      "outputs": [
        {
          "output_type": "stream",
          "name": "stdout",
          "text": [
            "0\n",
            "No GPU acceleration available or gpu_core=False, using CPU.\n",
            "Encoding inputs ...\n",
            "Predicting categories ...\n"
          ]
        },
        {
          "output_type": "stream",
          "name": "stderr",
          "text": [
            "100%|██████████| 1/1 [00:01<00:00,  1.90s/it]\n"
          ]
        },
        {
          "output_type": "stream",
          "name": "stdout",
          "text": [
            "1\n",
            "No GPU acceleration available or gpu_core=False, using CPU.\n",
            "Encoding inputs ...\n",
            "Predicting categories ...\n"
          ]
        },
        {
          "output_type": "stream",
          "name": "stderr",
          "text": [
            "100%|██████████| 1/1 [00:01<00:00,  1.89s/it]\n"
          ]
        },
        {
          "output_type": "stream",
          "name": "stdout",
          "text": [
            "2\n",
            "No GPU acceleration available or gpu_core=False, using CPU.\n",
            "Encoding inputs ...\n",
            "Predicting categories ...\n"
          ]
        },
        {
          "output_type": "stream",
          "name": "stderr",
          "text": [
            "100%|██████████| 1/1 [00:01<00:00,  1.89s/it]\n"
          ]
        },
        {
          "output_type": "stream",
          "name": "stdout",
          "text": [
            "3\n",
            "No GPU acceleration available or gpu_core=False, using CPU.\n",
            "Encoding inputs ...\n",
            "Predicting categories ...\n"
          ]
        },
        {
          "output_type": "stream",
          "name": "stderr",
          "text": [
            "100%|██████████| 1/1 [00:01<00:00,  1.89s/it]\n"
          ]
        },
        {
          "output_type": "stream",
          "name": "stdout",
          "text": [
            "4\n",
            "No GPU acceleration available or gpu_core=False, using CPU.\n",
            "Encoding inputs ...\n",
            "Predicting categories ...\n"
          ]
        },
        {
          "output_type": "stream",
          "name": "stderr",
          "text": [
            "100%|██████████| 1/1 [00:01<00:00,  1.90s/it]\n"
          ]
        },
        {
          "output_type": "stream",
          "name": "stdout",
          "text": [
            "5\n",
            "No GPU acceleration available or gpu_core=False, using CPU.\n",
            "Encoding inputs ...\n",
            "Predicting categories ...\n"
          ]
        },
        {
          "output_type": "stream",
          "name": "stderr",
          "text": [
            "100%|██████████| 1/1 [00:01<00:00,  1.94s/it]\n"
          ]
        },
        {
          "output_type": "stream",
          "name": "stdout",
          "text": [
            "6\n",
            "No GPU acceleration available or gpu_core=False, using CPU.\n",
            "Encoding inputs ...\n",
            "Predicting categories ...\n"
          ]
        },
        {
          "output_type": "stream",
          "name": "stderr",
          "text": [
            "100%|██████████| 1/1 [00:01<00:00,  1.95s/it]\n"
          ]
        },
        {
          "output_type": "stream",
          "name": "stdout",
          "text": [
            "7\n",
            "No GPU acceleration available or gpu_core=False, using CPU.\n",
            "Encoding inputs ...\n",
            "Predicting categories ...\n"
          ]
        },
        {
          "output_type": "stream",
          "name": "stderr",
          "text": [
            "100%|██████████| 1/1 [00:01<00:00,  1.91s/it]\n"
          ]
        },
        {
          "output_type": "stream",
          "name": "stdout",
          "text": [
            "8\n",
            "No GPU acceleration available or gpu_core=False, using CPU.\n",
            "Encoding inputs ...\n",
            "Predicting categories ...\n"
          ]
        },
        {
          "output_type": "stream",
          "name": "stderr",
          "text": [
            "100%|██████████| 1/1 [00:01<00:00,  1.94s/it]\n"
          ]
        },
        {
          "output_type": "stream",
          "name": "stdout",
          "text": [
            "9\n",
            "No GPU acceleration available or gpu_core=False, using CPU.\n",
            "Encoding inputs ...\n",
            "Predicting categories ...\n"
          ]
        },
        {
          "output_type": "stream",
          "name": "stderr",
          "text": [
            "100%|██████████| 1/1 [00:01<00:00,  1.90s/it]\n"
          ]
        },
        {
          "output_type": "stream",
          "name": "stdout",
          "text": [
            "10\n",
            "No GPU acceleration available or gpu_core=False, using CPU.\n",
            "Encoding inputs ...\n",
            "Predicting categories ...\n"
          ]
        },
        {
          "output_type": "stream",
          "name": "stderr",
          "text": [
            "100%|██████████| 1/1 [00:01<00:00,  1.86s/it]\n"
          ]
        },
        {
          "output_type": "stream",
          "name": "stdout",
          "text": [
            "11\n",
            "No GPU acceleration available or gpu_core=False, using CPU.\n",
            "Encoding inputs ...\n",
            "Predicting categories ...\n"
          ]
        },
        {
          "output_type": "stream",
          "name": "stderr",
          "text": [
            "100%|██████████| 1/1 [00:01<00:00,  1.91s/it]\n"
          ]
        },
        {
          "output_type": "stream",
          "name": "stdout",
          "text": [
            "12\n",
            "No GPU acceleration available or gpu_core=False, using CPU.\n",
            "Encoding inputs ...\n",
            "Predicting categories ...\n"
          ]
        },
        {
          "output_type": "stream",
          "name": "stderr",
          "text": [
            "100%|██████████| 1/1 [00:01<00:00,  1.95s/it]\n"
          ]
        },
        {
          "output_type": "stream",
          "name": "stdout",
          "text": [
            "13\n",
            "No GPU acceleration available or gpu_core=False, using CPU.\n",
            "Encoding inputs ...\n",
            "Predicting categories ...\n"
          ]
        },
        {
          "output_type": "stream",
          "name": "stderr",
          "text": [
            "100%|██████████| 1/1 [00:01<00:00,  1.91s/it]\n"
          ]
        },
        {
          "output_type": "stream",
          "name": "stdout",
          "text": [
            "14\n",
            "No GPU acceleration available or gpu_core=False, using CPU.\n",
            "Encoding inputs ...\n",
            "Predicting categories ...\n"
          ]
        },
        {
          "output_type": "stream",
          "name": "stderr",
          "text": [
            "100%|██████████| 1/1 [00:02<00:00,  2.07s/it]\n"
          ]
        },
        {
          "output_type": "stream",
          "name": "stdout",
          "text": [
            "15\n",
            "No GPU acceleration available or gpu_core=False, using CPU.\n",
            "Encoding inputs ...\n",
            "Predicting categories ...\n"
          ]
        },
        {
          "output_type": "stream",
          "name": "stderr",
          "text": [
            "100%|██████████| 1/1 [00:02<00:00,  2.03s/it]\n"
          ]
        },
        {
          "output_type": "stream",
          "name": "stdout",
          "text": [
            "16\n",
            "No GPU acceleration available or gpu_core=False, using CPU.\n",
            "Encoding inputs ...\n",
            "Predicting categories ...\n"
          ]
        },
        {
          "output_type": "stream",
          "name": "stderr",
          "text": [
            "100%|██████████| 1/1 [00:01<00:00,  1.91s/it]\n"
          ]
        },
        {
          "output_type": "stream",
          "name": "stdout",
          "text": [
            "17\n",
            "No GPU acceleration available or gpu_core=False, using CPU.\n",
            "Encoding inputs ...\n",
            "Predicting categories ...\n"
          ]
        },
        {
          "output_type": "stream",
          "name": "stderr",
          "text": [
            "100%|██████████| 1/1 [00:01<00:00,  1.91s/it]\n"
          ]
        },
        {
          "output_type": "stream",
          "name": "stdout",
          "text": [
            "18\n",
            "No GPU acceleration available or gpu_core=False, using CPU.\n",
            "Encoding inputs ...\n",
            "Predicting categories ...\n"
          ]
        },
        {
          "output_type": "stream",
          "name": "stderr",
          "text": [
            "100%|██████████| 1/1 [00:01<00:00,  1.92s/it]\n"
          ]
        },
        {
          "output_type": "stream",
          "name": "stdout",
          "text": [
            "19\n",
            "No GPU acceleration available or gpu_core=False, using CPU.\n",
            "Encoding inputs ...\n",
            "Predicting categories ...\n"
          ]
        },
        {
          "output_type": "stream",
          "name": "stderr",
          "text": [
            "100%|██████████| 1/1 [00:01<00:00,  1.91s/it]\n"
          ]
        }
      ]
    },
    {
      "cell_type": "code",
      "source": [
        "# rename a few columns so that the data from previous data frame inclusing classification using charity activities can be incorporated\n",
        "classification_us_data1 = classification_us_data1.rename(columns={\"classification_code_us\":'classification_code1',\n",
        "                                        \"classification_description_us\":'classification_description1',\n",
        "                                        \"confidence\":\"confidence1\"})\n",
        "classification_us_data1['charity_activities'] = activities\n",
        "classification_us_data1['charitable_objects'] = cobjects\n",
        "classification_us_data1['classification_code2'] = codes\n",
        "classification_us_data1['classification_description2'] = descp\n",
        "classification_us_data1['confidence2'] = confd\n",
        "classification_us_data1.head()"
      ],
      "metadata": {
        "colab": {
          "base_uri": "https://localhost:8080/",
          "height": 1620
        },
        "id": "GXLwkID-yDX-",
        "outputId": "d141b46e-9e01-483d-9400-80465c9033bf"
      },
      "execution_count": 35,
      "outputs": [
        {
          "output_type": "execute_result",
          "data": {
            "text/plain": [
              "   organisation_number  registered_charity_number  \\\n",
              "0               524965                     524965   \n",
              "1              1049252                    1049252   \n",
              "2               524967                     524967   \n",
              "3              1049253                    1049253   \n",
              "4              1049257                    1049257   \n",
              "\n",
              "                                        charity_name classification_code1  \\\n",
              "0             ABERGAVENNY DIVISION GUIDE ASSOCIATION                    V   \n",
              "1                                  CHARTERHOUSE CLUB                   II   \n",
              "2                            ABERGAVENNY SCOUT GROUP                    V   \n",
              "3  SOUTH WOOTTON GRANT MAINTAINED JUNIOR SCHOOL A...                  VII   \n",
              "4        ST GABRIELS MEDICAL CENTRE CHARITABLE TRUST                   IV   \n",
              "\n",
              "  classification_description1  confidence1  \\\n",
              "0              Human Services         1.00   \n",
              "1                   Education         0.97   \n",
              "2              Human Services         1.00   \n",
              "3    Public, Societal Benefit         0.99   \n",
              "4                      Health         0.99   \n",
              "\n",
              "                                  charity_activities  \\\n",
              "0  Charitable objects of the Guide Association as...   \n",
              "1  To provide an educational facility for pupils ...   \n",
              "2  Our charity is under the umbrella of the Scout...   \n",
              "3                                        fundraising   \n",
              "4  General practice, providing services to the co...   \n",
              "\n",
              "                                  charitable_objects classification_code2  \\\n",
              "0  EDUCATING GIRLS AND YOUNG WOMEN TO HELP THEM D...                    V   \n",
              "1  TO PROVIDE OR ASSIST IN THE PROVISION OF FACIL...                   II   \n",
              "2                            ABERGAVENNY SCOUT GROUP                    V   \n",
              "3  TO ADVANCE THE EDUCATION OF THE PUPILS IN THE ...                   II   \n",
              "4  THE RELIEF OF SICKNESS AND THE PRESERVATION AN...                   IV   \n",
              "\n",
              "  classification_description2  confidence2  \n",
              "0              Human Services         0.99  \n",
              "1                   Education         1.00  \n",
              "2              Human Services         1.00  \n",
              "3                   Education         1.00  \n",
              "4                      Health         1.00  "
            ],
            "text/html": [
              "\n",
              "  <div id=\"df-670be542-ed00-4404-bd82-c82822ecb473\">\n",
              "    <div class=\"colab-df-container\">\n",
              "      <div>\n",
              "<style scoped>\n",
              "    .dataframe tbody tr th:only-of-type {\n",
              "        vertical-align: middle;\n",
              "    }\n",
              "\n",
              "    .dataframe tbody tr th {\n",
              "        vertical-align: top;\n",
              "    }\n",
              "\n",
              "    .dataframe thead th {\n",
              "        text-align: right;\n",
              "    }\n",
              "</style>\n",
              "<table border=\"1\" class=\"dataframe\">\n",
              "  <thead>\n",
              "    <tr style=\"text-align: right;\">\n",
              "      <th></th>\n",
              "      <th>organisation_number</th>\n",
              "      <th>registered_charity_number</th>\n",
              "      <th>charity_name</th>\n",
              "      <th>classification_code1</th>\n",
              "      <th>classification_description1</th>\n",
              "      <th>confidence1</th>\n",
              "      <th>charity_activities</th>\n",
              "      <th>charitable_objects</th>\n",
              "      <th>classification_code2</th>\n",
              "      <th>classification_description2</th>\n",
              "      <th>confidence2</th>\n",
              "    </tr>\n",
              "  </thead>\n",
              "  <tbody>\n",
              "    <tr>\n",
              "      <th>0</th>\n",
              "      <td>524965</td>\n",
              "      <td>524965</td>\n",
              "      <td>ABERGAVENNY DIVISION GUIDE ASSOCIATION</td>\n",
              "      <td>V</td>\n",
              "      <td>Human Services</td>\n",
              "      <td>1.00</td>\n",
              "      <td>Charitable objects of the Guide Association as...</td>\n",
              "      <td>EDUCATING GIRLS AND YOUNG WOMEN TO HELP THEM D...</td>\n",
              "      <td>V</td>\n",
              "      <td>Human Services</td>\n",
              "      <td>0.99</td>\n",
              "    </tr>\n",
              "    <tr>\n",
              "      <th>1</th>\n",
              "      <td>1049252</td>\n",
              "      <td>1049252</td>\n",
              "      <td>CHARTERHOUSE CLUB</td>\n",
              "      <td>II</td>\n",
              "      <td>Education</td>\n",
              "      <td>0.97</td>\n",
              "      <td>To provide an educational facility for pupils ...</td>\n",
              "      <td>TO PROVIDE OR ASSIST IN THE PROVISION OF FACIL...</td>\n",
              "      <td>II</td>\n",
              "      <td>Education</td>\n",
              "      <td>1.00</td>\n",
              "    </tr>\n",
              "    <tr>\n",
              "      <th>2</th>\n",
              "      <td>524967</td>\n",
              "      <td>524967</td>\n",
              "      <td>ABERGAVENNY SCOUT GROUP</td>\n",
              "      <td>V</td>\n",
              "      <td>Human Services</td>\n",
              "      <td>1.00</td>\n",
              "      <td>Our charity is under the umbrella of the Scout...</td>\n",
              "      <td>ABERGAVENNY SCOUT GROUP</td>\n",
              "      <td>V</td>\n",
              "      <td>Human Services</td>\n",
              "      <td>1.00</td>\n",
              "    </tr>\n",
              "    <tr>\n",
              "      <th>3</th>\n",
              "      <td>1049253</td>\n",
              "      <td>1049253</td>\n",
              "      <td>SOUTH WOOTTON GRANT MAINTAINED JUNIOR SCHOOL A...</td>\n",
              "      <td>VII</td>\n",
              "      <td>Public, Societal Benefit</td>\n",
              "      <td>0.99</td>\n",
              "      <td>fundraising</td>\n",
              "      <td>TO ADVANCE THE EDUCATION OF THE PUPILS IN THE ...</td>\n",
              "      <td>II</td>\n",
              "      <td>Education</td>\n",
              "      <td>1.00</td>\n",
              "    </tr>\n",
              "    <tr>\n",
              "      <th>4</th>\n",
              "      <td>1049257</td>\n",
              "      <td>1049257</td>\n",
              "      <td>ST GABRIELS MEDICAL CENTRE CHARITABLE TRUST</td>\n",
              "      <td>IV</td>\n",
              "      <td>Health</td>\n",
              "      <td>0.99</td>\n",
              "      <td>General practice, providing services to the co...</td>\n",
              "      <td>THE RELIEF OF SICKNESS AND THE PRESERVATION AN...</td>\n",
              "      <td>IV</td>\n",
              "      <td>Health</td>\n",
              "      <td>1.00</td>\n",
              "    </tr>\n",
              "  </tbody>\n",
              "</table>\n",
              "</div>\n",
              "      <button class=\"colab-df-convert\" onclick=\"convertToInteractive('df-670be542-ed00-4404-bd82-c82822ecb473')\"\n",
              "              title=\"Convert this dataframe to an interactive table.\"\n",
              "              style=\"display:none;\">\n",
              "        \n",
              "  <svg xmlns=\"http://www.w3.org/2000/svg\" height=\"24px\"viewBox=\"0 0 24 24\"\n",
              "       width=\"24px\">\n",
              "    <path d=\"M0 0h24v24H0V0z\" fill=\"none\"/>\n",
              "    <path d=\"M18.56 5.44l.94 2.06.94-2.06 2.06-.94-2.06-.94-.94-2.06-.94 2.06-2.06.94zm-11 1L8.5 8.5l.94-2.06 2.06-.94-2.06-.94L8.5 2.5l-.94 2.06-2.06.94zm10 10l.94 2.06.94-2.06 2.06-.94-2.06-.94-.94-2.06-.94 2.06-2.06.94z\"/><path d=\"M17.41 7.96l-1.37-1.37c-.4-.4-.92-.59-1.43-.59-.52 0-1.04.2-1.43.59L10.3 9.45l-7.72 7.72c-.78.78-.78 2.05 0 2.83L4 21.41c.39.39.9.59 1.41.59.51 0 1.02-.2 1.41-.59l7.78-7.78 2.81-2.81c.8-.78.8-2.07 0-2.86zM5.41 20L4 18.59l7.72-7.72 1.47 1.35L5.41 20z\"/>\n",
              "  </svg>\n",
              "      </button>\n",
              "      \n",
              "  <style>\n",
              "    .colab-df-container {\n",
              "      display:flex;\n",
              "      flex-wrap:wrap;\n",
              "      gap: 12px;\n",
              "    }\n",
              "\n",
              "    .colab-df-convert {\n",
              "      background-color: #E8F0FE;\n",
              "      border: none;\n",
              "      border-radius: 50%;\n",
              "      cursor: pointer;\n",
              "      display: none;\n",
              "      fill: #1967D2;\n",
              "      height: 32px;\n",
              "      padding: 0 0 0 0;\n",
              "      width: 32px;\n",
              "    }\n",
              "\n",
              "    .colab-df-convert:hover {\n",
              "      background-color: #E2EBFA;\n",
              "      box-shadow: 0px 1px 2px rgba(60, 64, 67, 0.3), 0px 1px 3px 1px rgba(60, 64, 67, 0.15);\n",
              "      fill: #174EA6;\n",
              "    }\n",
              "\n",
              "    [theme=dark] .colab-df-convert {\n",
              "      background-color: #3B4455;\n",
              "      fill: #D2E3FC;\n",
              "    }\n",
              "\n",
              "    [theme=dark] .colab-df-convert:hover {\n",
              "      background-color: #434B5C;\n",
              "      box-shadow: 0px 1px 3px 1px rgba(0, 0, 0, 0.15);\n",
              "      filter: drop-shadow(0px 1px 2px rgba(0, 0, 0, 0.3));\n",
              "      fill: #FFFFFF;\n",
              "    }\n",
              "  </style>\n",
              "\n",
              "      <script>\n",
              "        const buttonEl =\n",
              "          document.querySelector('#df-670be542-ed00-4404-bd82-c82822ecb473 button.colab-df-convert');\n",
              "        buttonEl.style.display =\n",
              "          google.colab.kernel.accessAllowed ? 'block' : 'none';\n",
              "\n",
              "        async function convertToInteractive(key) {\n",
              "          const element = document.querySelector('#df-670be542-ed00-4404-bd82-c82822ecb473');\n",
              "          const dataTable =\n",
              "            await google.colab.kernel.invokeFunction('convertToInteractive',\n",
              "                                                     [key], {});\n",
              "          if (!dataTable) return;\n",
              "\n",
              "          const docLinkHtml = 'Like what you see? Visit the ' +\n",
              "            '<a target=\"_blank\" href=https://colab.research.google.com/notebooks/data_table.ipynb>data table notebook</a>'\n",
              "            + ' to learn more about interactive tables.';\n",
              "          element.innerHTML = '';\n",
              "          dataTable['output_type'] = 'display_data';\n",
              "          await google.colab.output.renderOutput(dataTable, element);\n",
              "          const docLink = document.createElement('div');\n",
              "          docLink.innerHTML = docLinkHtml;\n",
              "          element.appendChild(docLink);\n",
              "        }\n",
              "      </script>\n",
              "    </div>\n",
              "  </div>\n",
              "  "
            ],
            "application/vnd.google.colaboratory.module+javascript": "\n      import \"https://ssl.gstatic.com/colaboratory/data_table/f872b2c2305463fd/data_table.js\";\n\n      window.createDataTable({\n        data: [[{\n            'v': 0,\n            'f': \"0\",\n        },\n{\n            'v': 524965,\n            'f': \"524965\",\n        },\n{\n            'v': 524965,\n            'f': \"524965\",\n        },\n\"ABERGAVENNY DIVISION GUIDE ASSOCIATION\",\n\"V\",\n\"Human Services\",\n{\n            'v': 1.0,\n            'f': \"1.0\",\n        },\n\"Charitable objects of the Guide Association as set out in the Royal CharterProviding buildings/facilities/open spaces within the area\",\n\"EDUCATING GIRLS AND YOUNG WOMEN TO HELP THEM DEVELOP EMOTIONALLY, MENTALLY, PHYSICALLY AND SPIRITUALLY SO THAT THEY CAN MAKE A POSITIVE CONTRIBUTION TO THEIR COMMUNITY AND THE WIDER WORLD.\",\n\"V\",\n\"Human Services\",\n{\n            'v': 0.99,\n            'f': \"0.99\",\n        }],\n [{\n            'v': 1,\n            'f': \"1\",\n        },\n{\n            'v': 1049252,\n            'f': \"1049252\",\n        },\n{\n            'v': 1049252,\n            'f': \"1049252\",\n        },\n\"CHARTERHOUSE CLUB\",\n\"II\",\n\"Education\",\n{\n            'v': 0.97,\n            'f': \"0.97\",\n        },\n\"To provide an educational facility for pupils of Charterhouse School and to provide sports facilities for members of the public.\",\n\"TO PROVIDE OR ASSIST IN THE PROVISION OF FACILITIES AT CHARTERHOUSE SCHOOL(A) WHICH WILL ENABLE AND ENCOURAGE PUPILS ATTENDING CHARTERHOUSE SCHOOL AND OTHERSCHOOLS AND EDUCATIONAL ESTABLISHMENTS TO PARTICIPATE IN SPORTING ACTIVITIES THEREBYENSURING THAT DUE ATTENTION IS GIVEN TO THE PHYSICAL EDUCATION AND DEVELOPMENT OF SUCHPUPILS AS WELL AS TO THE DEVELOPMENT AND OCCUPATION OF THEIR MINDS;(B) FOR RECREATION AND OTHER LEISURE TIME OCCUPATION IN THE INTERESTS OF SOCIAL WELFARE.\",\n\"II\",\n\"Education\",\n{\n            'v': 1.0,\n            'f': \"1.0\",\n        }],\n [{\n            'v': 2,\n            'f': \"2\",\n        },\n{\n            'v': 524967,\n            'f': \"524967\",\n        },\n{\n            'v': 524967,\n            'f': \"524967\",\n        },\n\"ABERGAVENNY SCOUT GROUP\",\n\"V\",\n\"Human Services\",\n{\n            'v': 1.0,\n            'f': \"1.0\",\n        },\n\"Our charity is under the umbrella of the Scouting movement. Our activities are varied reaching out to young people from ages 6 upwards. Examples: camping hiking sports cooking etc.\",\n\"ABERGAVENNY SCOUT GROUP\",\n\"V\",\n\"Human Services\",\n{\n            'v': 1.0,\n            'f': \"1.0\",\n        }],\n [{\n            'v': 3,\n            'f': \"3\",\n        },\n{\n            'v': 1049253,\n            'f': \"1049253\",\n        },\n{\n            'v': 1049253,\n            'f': \"1049253\",\n        },\n\"SOUTH WOOTTON GRANT MAINTAINED JUNIOR SCHOOL ASSOCIATION\",\n\"VII\",\n\"Public, Societal Benefit\",\n{\n            'v': 0.99,\n            'f': \"0.99\",\n        },\n\"fundraising\",\n\"TO ADVANCE THE EDUCATION OF THE PUPILS IN THE SCHOOL\",\n\"II\",\n\"Education\",\n{\n            'v': 1.0,\n            'f': \"1.0\",\n        }],\n [{\n            'v': 4,\n            'f': \"4\",\n        },\n{\n            'v': 1049257,\n            'f': \"1049257\",\n        },\n{\n            'v': 1049257,\n            'f': \"1049257\",\n        },\n\"ST GABRIELS MEDICAL CENTRE CHARITABLE TRUST\",\n\"IV\",\n\"Health\",\n{\n            'v': 0.99,\n            'f': \"0.99\",\n        },\n\"General practice, providing services to the community..\",\n\"THE RELIEF OF SICKNESS AND THE PRESERVATION AND PROTECTION OF GOOD HEALTH  OF PERSONS RESIDING IN THE AREA SERVED BY ST GABRIELS MEDICAL CENTRE IN PARTICULAR BY THE PROVISION, IMPROVEMENT, MAINTENANCE AND REPAIR OF MEDICAL AND OTHER FACILITIES AND EQUIPMENT USED IN THE CASE AND TREATMENT OF SUCH PERSONS AND THE ESTABLISHMENT OF A PHLEBOTOMY SERVICE.\",\n\"IV\",\n\"Health\",\n{\n            'v': 1.0,\n            'f': \"1.0\",\n        }]],\n        columns: [[\"number\", \"index\"], [\"number\", \"organisation_number\"], [\"number\", \"registered_charity_number\"], [\"string\", \"charity_name\"], [\"string\", \"classification_code1\"], [\"string\", \"classification_description1\"], [\"number\", \"confidence1\"], [\"string\", \"charity_activities\"], [\"string\", \"charitable_objects\"], [\"string\", \"classification_code2\"], [\"string\", \"classification_description2\"], [\"number\", \"confidence2\"]],\n        columnOptions: [{\"width\": \"1px\", \"className\": \"index_column\"}],\n        rowsPerPage: 25,\n        helpUrl: \"https://colab.research.google.com/notebooks/data_table.ipynb\",\n        suppressOutputScrolling: true,\n        minimumWidth: undefined,\n      });\n    "
          },
          "metadata": {},
          "execution_count": 35
        }
      ]
    },
    {
      "cell_type": "code",
      "source": [
        "# save the data frame to csv\n",
        "classification_us_data1.to_csv('classification_us_data_WHOLE.zip', \n",
        "                                       index=False,\n",
        "                                       compression=compression_opts)"
      ],
      "metadata": {
        "id": "RSH6puDYz2f-"
      },
      "execution_count": 36,
      "outputs": []
    },
    {
      "cell_type": "code",
      "source": [
        "# count how many times different category predicitons were given for charity activity and charitable object based classification\n",
        "dc=0 # difference count\n",
        "for index, row in classification_us_data1.iterrows():\n",
        "  if(row['classification_code1'] !=row['classification_code2']):\n",
        "    dc+=1\n",
        "print(dc)\n"
      ],
      "metadata": {
        "colab": {
          "base_uri": "https://localhost:8080/"
        },
        "id": "-hiWu56mB3rH",
        "outputId": "371b3028-44ae-45f3-d307-5ea281350345"
      },
      "execution_count": 37,
      "outputs": [
        {
          "output_type": "stream",
          "name": "stdout",
          "text": [
            "7\n"
          ]
        }
      ]
    },
    {
      "cell_type": "markdown",
      "source": [
        "This might not be an appropriate classification for us since it is not really producing same output based on charity activity and charitable object. Moreover, it does take some time to get the classification from the API so it might take a lot of time to classify all the charities. This is something that can be explored more in future but for now the focus is being shifted to a new classification found below."
      ],
      "metadata": {
        "id": "1dgJLGkD9WdT"
      }
    },
    {
      "cell_type": "markdown",
      "source": [
        "### Classification by charityclassification.org.uk - UKCAT - Rules Based Classification\n",
        "- src - https://charityclassification.org.uk\n",
        "- refer to the information provided on classification on the mentioned website\n",
        "- Classification data is already provided, simply download the CSV file from the website and upload it to drive for accessibility."
      ],
      "metadata": {
        "id": "GR8zJNOFPtGZ"
      }
    },
    {
      "cell_type": "code",
      "source": [
        "classification = pd.read_csv('drive/My Drive/UK_Data/Classification/charities_active-ukcat.csv')\n",
        "classification.head()"
      ],
      "metadata": {
        "colab": {
          "base_uri": "https://localhost:8080/",
          "height": 198
        },
        "id": "FIS8pFPSP5eh",
        "outputId": "284ca0d7-7190-42ef-95d7-d5cf064c10f9"
      },
      "execution_count": 73,
      "outputs": [
        {
          "output_type": "execute_result",
          "data": {
            "text/plain": [
              "           org_id ukcat_code\n",
              "0  GB-CHC-1000000         ED\n",
              "1  GB-CHC-1000000      ED102\n",
              "2  GB-CHC-1000001         AR\n",
              "3  GB-CHC-1000001      AR104\n",
              "4  GB-CHC-1000001      AR201"
            ],
            "text/html": [
              "\n",
              "  <div id=\"df-740b52ed-ff82-41eb-bb50-c44c741c693b\">\n",
              "    <div class=\"colab-df-container\">\n",
              "      <div>\n",
              "<style scoped>\n",
              "    .dataframe tbody tr th:only-of-type {\n",
              "        vertical-align: middle;\n",
              "    }\n",
              "\n",
              "    .dataframe tbody tr th {\n",
              "        vertical-align: top;\n",
              "    }\n",
              "\n",
              "    .dataframe thead th {\n",
              "        text-align: right;\n",
              "    }\n",
              "</style>\n",
              "<table border=\"1\" class=\"dataframe\">\n",
              "  <thead>\n",
              "    <tr style=\"text-align: right;\">\n",
              "      <th></th>\n",
              "      <th>org_id</th>\n",
              "      <th>ukcat_code</th>\n",
              "    </tr>\n",
              "  </thead>\n",
              "  <tbody>\n",
              "    <tr>\n",
              "      <th>0</th>\n",
              "      <td>GB-CHC-1000000</td>\n",
              "      <td>ED</td>\n",
              "    </tr>\n",
              "    <tr>\n",
              "      <th>1</th>\n",
              "      <td>GB-CHC-1000000</td>\n",
              "      <td>ED102</td>\n",
              "    </tr>\n",
              "    <tr>\n",
              "      <th>2</th>\n",
              "      <td>GB-CHC-1000001</td>\n",
              "      <td>AR</td>\n",
              "    </tr>\n",
              "    <tr>\n",
              "      <th>3</th>\n",
              "      <td>GB-CHC-1000001</td>\n",
              "      <td>AR104</td>\n",
              "    </tr>\n",
              "    <tr>\n",
              "      <th>4</th>\n",
              "      <td>GB-CHC-1000001</td>\n",
              "      <td>AR201</td>\n",
              "    </tr>\n",
              "  </tbody>\n",
              "</table>\n",
              "</div>\n",
              "      <button class=\"colab-df-convert\" onclick=\"convertToInteractive('df-740b52ed-ff82-41eb-bb50-c44c741c693b')\"\n",
              "              title=\"Convert this dataframe to an interactive table.\"\n",
              "              style=\"display:none;\">\n",
              "        \n",
              "  <svg xmlns=\"http://www.w3.org/2000/svg\" height=\"24px\"viewBox=\"0 0 24 24\"\n",
              "       width=\"24px\">\n",
              "    <path d=\"M0 0h24v24H0V0z\" fill=\"none\"/>\n",
              "    <path d=\"M18.56 5.44l.94 2.06.94-2.06 2.06-.94-2.06-.94-.94-2.06-.94 2.06-2.06.94zm-11 1L8.5 8.5l.94-2.06 2.06-.94-2.06-.94L8.5 2.5l-.94 2.06-2.06.94zm10 10l.94 2.06.94-2.06 2.06-.94-2.06-.94-.94-2.06-.94 2.06-2.06.94z\"/><path d=\"M17.41 7.96l-1.37-1.37c-.4-.4-.92-.59-1.43-.59-.52 0-1.04.2-1.43.59L10.3 9.45l-7.72 7.72c-.78.78-.78 2.05 0 2.83L4 21.41c.39.39.9.59 1.41.59.51 0 1.02-.2 1.41-.59l7.78-7.78 2.81-2.81c.8-.78.8-2.07 0-2.86zM5.41 20L4 18.59l7.72-7.72 1.47 1.35L5.41 20z\"/>\n",
              "  </svg>\n",
              "      </button>\n",
              "      \n",
              "  <style>\n",
              "    .colab-df-container {\n",
              "      display:flex;\n",
              "      flex-wrap:wrap;\n",
              "      gap: 12px;\n",
              "    }\n",
              "\n",
              "    .colab-df-convert {\n",
              "      background-color: #E8F0FE;\n",
              "      border: none;\n",
              "      border-radius: 50%;\n",
              "      cursor: pointer;\n",
              "      display: none;\n",
              "      fill: #1967D2;\n",
              "      height: 32px;\n",
              "      padding: 0 0 0 0;\n",
              "      width: 32px;\n",
              "    }\n",
              "\n",
              "    .colab-df-convert:hover {\n",
              "      background-color: #E2EBFA;\n",
              "      box-shadow: 0px 1px 2px rgba(60, 64, 67, 0.3), 0px 1px 3px 1px rgba(60, 64, 67, 0.15);\n",
              "      fill: #174EA6;\n",
              "    }\n",
              "\n",
              "    [theme=dark] .colab-df-convert {\n",
              "      background-color: #3B4455;\n",
              "      fill: #D2E3FC;\n",
              "    }\n",
              "\n",
              "    [theme=dark] .colab-df-convert:hover {\n",
              "      background-color: #434B5C;\n",
              "      box-shadow: 0px 1px 3px 1px rgba(0, 0, 0, 0.15);\n",
              "      filter: drop-shadow(0px 1px 2px rgba(0, 0, 0, 0.3));\n",
              "      fill: #FFFFFF;\n",
              "    }\n",
              "  </style>\n",
              "\n",
              "      <script>\n",
              "        const buttonEl =\n",
              "          document.querySelector('#df-740b52ed-ff82-41eb-bb50-c44c741c693b button.colab-df-convert');\n",
              "        buttonEl.style.display =\n",
              "          google.colab.kernel.accessAllowed ? 'block' : 'none';\n",
              "\n",
              "        async function convertToInteractive(key) {\n",
              "          const element = document.querySelector('#df-740b52ed-ff82-41eb-bb50-c44c741c693b');\n",
              "          const dataTable =\n",
              "            await google.colab.kernel.invokeFunction('convertToInteractive',\n",
              "                                                     [key], {});\n",
              "          if (!dataTable) return;\n",
              "\n",
              "          const docLinkHtml = 'Like what you see? Visit the ' +\n",
              "            '<a target=\"_blank\" href=https://colab.research.google.com/notebooks/data_table.ipynb>data table notebook</a>'\n",
              "            + ' to learn more about interactive tables.';\n",
              "          element.innerHTML = '';\n",
              "          dataTable['output_type'] = 'display_data';\n",
              "          await google.colab.output.renderOutput(dataTable, element);\n",
              "          const docLink = document.createElement('div');\n",
              "          docLink.innerHTML = docLinkHtml;\n",
              "          element.appendChild(docLink);\n",
              "        }\n",
              "      </script>\n",
              "    </div>\n",
              "  </div>\n",
              "  "
            ],
            "application/vnd.google.colaboratory.module+javascript": "\n      import \"https://ssl.gstatic.com/colaboratory/data_table/f872b2c2305463fd/data_table.js\";\n\n      window.createDataTable({\n        data: [[{\n            'v': 0,\n            'f': \"0\",\n        },\n\"GB-CHC-1000000\",\n\"ED\"],\n [{\n            'v': 1,\n            'f': \"1\",\n        },\n\"GB-CHC-1000000\",\n\"ED102\"],\n [{\n            'v': 2,\n            'f': \"2\",\n        },\n\"GB-CHC-1000001\",\n\"AR\"],\n [{\n            'v': 3,\n            'f': \"3\",\n        },\n\"GB-CHC-1000001\",\n\"AR104\"],\n [{\n            'v': 4,\n            'f': \"4\",\n        },\n\"GB-CHC-1000001\",\n\"AR201\"]],\n        columns: [[\"number\", \"index\"], [\"string\", \"org_id\"], [\"string\", \"ukcat_code\"]],\n        columnOptions: [{\"width\": \"1px\", \"className\": \"index_column\"}],\n        rowsPerPage: 25,\n        helpUrl: \"https://colab.research.google.com/notebooks/data_table.ipynb\",\n        suppressOutputScrolling: true,\n        minimumWidth: undefined,\n      });\n    "
          },
          "metadata": {},
          "execution_count": 73
        }
      ]
    },
    {
      "cell_type": "code",
      "source": [
        "# splitting the first columns into Island, Country and org number\n",
        "\n",
        "# the first part of an org identifier represents the Island\n",
        "\n",
        "# second part represents the country :\n",
        "# CHC - charities in England and Wales\n",
        "# NIC - charities in northern ireland\n",
        "# SC - charities in Scotland\n",
        "\n",
        "# third part is the unique org no.\n",
        "\n",
        "classification[['Island', 'Country', 'organisation_number']] = classification['org_id'].str.split('-', expand=True)\n",
        "classification.head()"
      ],
      "metadata": {
        "colab": {
          "base_uri": "https://localhost:8080/",
          "height": 198
        },
        "id": "sZXkbg2APteV",
        "outputId": "07dae024-4256-466d-c178-f4a2d25e0abb"
      },
      "execution_count": 74,
      "outputs": [
        {
          "output_type": "execute_result",
          "data": {
            "text/plain": [
              "           org_id ukcat_code Island Country organisation_number\n",
              "0  GB-CHC-1000000         ED     GB     CHC             1000000\n",
              "1  GB-CHC-1000000      ED102     GB     CHC             1000000\n",
              "2  GB-CHC-1000001         AR     GB     CHC             1000001\n",
              "3  GB-CHC-1000001      AR104     GB     CHC             1000001\n",
              "4  GB-CHC-1000001      AR201     GB     CHC             1000001"
            ],
            "text/html": [
              "\n",
              "  <div id=\"df-95368205-dbb0-4cfd-85ed-953e4955d0ca\">\n",
              "    <div class=\"colab-df-container\">\n",
              "      <div>\n",
              "<style scoped>\n",
              "    .dataframe tbody tr th:only-of-type {\n",
              "        vertical-align: middle;\n",
              "    }\n",
              "\n",
              "    .dataframe tbody tr th {\n",
              "        vertical-align: top;\n",
              "    }\n",
              "\n",
              "    .dataframe thead th {\n",
              "        text-align: right;\n",
              "    }\n",
              "</style>\n",
              "<table border=\"1\" class=\"dataframe\">\n",
              "  <thead>\n",
              "    <tr style=\"text-align: right;\">\n",
              "      <th></th>\n",
              "      <th>org_id</th>\n",
              "      <th>ukcat_code</th>\n",
              "      <th>Island</th>\n",
              "      <th>Country</th>\n",
              "      <th>organisation_number</th>\n",
              "    </tr>\n",
              "  </thead>\n",
              "  <tbody>\n",
              "    <tr>\n",
              "      <th>0</th>\n",
              "      <td>GB-CHC-1000000</td>\n",
              "      <td>ED</td>\n",
              "      <td>GB</td>\n",
              "      <td>CHC</td>\n",
              "      <td>1000000</td>\n",
              "    </tr>\n",
              "    <tr>\n",
              "      <th>1</th>\n",
              "      <td>GB-CHC-1000000</td>\n",
              "      <td>ED102</td>\n",
              "      <td>GB</td>\n",
              "      <td>CHC</td>\n",
              "      <td>1000000</td>\n",
              "    </tr>\n",
              "    <tr>\n",
              "      <th>2</th>\n",
              "      <td>GB-CHC-1000001</td>\n",
              "      <td>AR</td>\n",
              "      <td>GB</td>\n",
              "      <td>CHC</td>\n",
              "      <td>1000001</td>\n",
              "    </tr>\n",
              "    <tr>\n",
              "      <th>3</th>\n",
              "      <td>GB-CHC-1000001</td>\n",
              "      <td>AR104</td>\n",
              "      <td>GB</td>\n",
              "      <td>CHC</td>\n",
              "      <td>1000001</td>\n",
              "    </tr>\n",
              "    <tr>\n",
              "      <th>4</th>\n",
              "      <td>GB-CHC-1000001</td>\n",
              "      <td>AR201</td>\n",
              "      <td>GB</td>\n",
              "      <td>CHC</td>\n",
              "      <td>1000001</td>\n",
              "    </tr>\n",
              "  </tbody>\n",
              "</table>\n",
              "</div>\n",
              "      <button class=\"colab-df-convert\" onclick=\"convertToInteractive('df-95368205-dbb0-4cfd-85ed-953e4955d0ca')\"\n",
              "              title=\"Convert this dataframe to an interactive table.\"\n",
              "              style=\"display:none;\">\n",
              "        \n",
              "  <svg xmlns=\"http://www.w3.org/2000/svg\" height=\"24px\"viewBox=\"0 0 24 24\"\n",
              "       width=\"24px\">\n",
              "    <path d=\"M0 0h24v24H0V0z\" fill=\"none\"/>\n",
              "    <path d=\"M18.56 5.44l.94 2.06.94-2.06 2.06-.94-2.06-.94-.94-2.06-.94 2.06-2.06.94zm-11 1L8.5 8.5l.94-2.06 2.06-.94-2.06-.94L8.5 2.5l-.94 2.06-2.06.94zm10 10l.94 2.06.94-2.06 2.06-.94-2.06-.94-.94-2.06-.94 2.06-2.06.94z\"/><path d=\"M17.41 7.96l-1.37-1.37c-.4-.4-.92-.59-1.43-.59-.52 0-1.04.2-1.43.59L10.3 9.45l-7.72 7.72c-.78.78-.78 2.05 0 2.83L4 21.41c.39.39.9.59 1.41.59.51 0 1.02-.2 1.41-.59l7.78-7.78 2.81-2.81c.8-.78.8-2.07 0-2.86zM5.41 20L4 18.59l7.72-7.72 1.47 1.35L5.41 20z\"/>\n",
              "  </svg>\n",
              "      </button>\n",
              "      \n",
              "  <style>\n",
              "    .colab-df-container {\n",
              "      display:flex;\n",
              "      flex-wrap:wrap;\n",
              "      gap: 12px;\n",
              "    }\n",
              "\n",
              "    .colab-df-convert {\n",
              "      background-color: #E8F0FE;\n",
              "      border: none;\n",
              "      border-radius: 50%;\n",
              "      cursor: pointer;\n",
              "      display: none;\n",
              "      fill: #1967D2;\n",
              "      height: 32px;\n",
              "      padding: 0 0 0 0;\n",
              "      width: 32px;\n",
              "    }\n",
              "\n",
              "    .colab-df-convert:hover {\n",
              "      background-color: #E2EBFA;\n",
              "      box-shadow: 0px 1px 2px rgba(60, 64, 67, 0.3), 0px 1px 3px 1px rgba(60, 64, 67, 0.15);\n",
              "      fill: #174EA6;\n",
              "    }\n",
              "\n",
              "    [theme=dark] .colab-df-convert {\n",
              "      background-color: #3B4455;\n",
              "      fill: #D2E3FC;\n",
              "    }\n",
              "\n",
              "    [theme=dark] .colab-df-convert:hover {\n",
              "      background-color: #434B5C;\n",
              "      box-shadow: 0px 1px 3px 1px rgba(0, 0, 0, 0.15);\n",
              "      filter: drop-shadow(0px 1px 2px rgba(0, 0, 0, 0.3));\n",
              "      fill: #FFFFFF;\n",
              "    }\n",
              "  </style>\n",
              "\n",
              "      <script>\n",
              "        const buttonEl =\n",
              "          document.querySelector('#df-95368205-dbb0-4cfd-85ed-953e4955d0ca button.colab-df-convert');\n",
              "        buttonEl.style.display =\n",
              "          google.colab.kernel.accessAllowed ? 'block' : 'none';\n",
              "\n",
              "        async function convertToInteractive(key) {\n",
              "          const element = document.querySelector('#df-95368205-dbb0-4cfd-85ed-953e4955d0ca');\n",
              "          const dataTable =\n",
              "            await google.colab.kernel.invokeFunction('convertToInteractive',\n",
              "                                                     [key], {});\n",
              "          if (!dataTable) return;\n",
              "\n",
              "          const docLinkHtml = 'Like what you see? Visit the ' +\n",
              "            '<a target=\"_blank\" href=https://colab.research.google.com/notebooks/data_table.ipynb>data table notebook</a>'\n",
              "            + ' to learn more about interactive tables.';\n",
              "          element.innerHTML = '';\n",
              "          dataTable['output_type'] = 'display_data';\n",
              "          await google.colab.output.renderOutput(dataTable, element);\n",
              "          const docLink = document.createElement('div');\n",
              "          docLink.innerHTML = docLinkHtml;\n",
              "          element.appendChild(docLink);\n",
              "        }\n",
              "      </script>\n",
              "    </div>\n",
              "  </div>\n",
              "  "
            ],
            "application/vnd.google.colaboratory.module+javascript": "\n      import \"https://ssl.gstatic.com/colaboratory/data_table/f872b2c2305463fd/data_table.js\";\n\n      window.createDataTable({\n        data: [[{\n            'v': 0,\n            'f': \"0\",\n        },\n\"GB-CHC-1000000\",\n\"ED\",\n\"GB\",\n\"CHC\",\n\"1000000\"],\n [{\n            'v': 1,\n            'f': \"1\",\n        },\n\"GB-CHC-1000000\",\n\"ED102\",\n\"GB\",\n\"CHC\",\n\"1000000\"],\n [{\n            'v': 2,\n            'f': \"2\",\n        },\n\"GB-CHC-1000001\",\n\"AR\",\n\"GB\",\n\"CHC\",\n\"1000001\"],\n [{\n            'v': 3,\n            'f': \"3\",\n        },\n\"GB-CHC-1000001\",\n\"AR104\",\n\"GB\",\n\"CHC\",\n\"1000001\"],\n [{\n            'v': 4,\n            'f': \"4\",\n        },\n\"GB-CHC-1000001\",\n\"AR201\",\n\"GB\",\n\"CHC\",\n\"1000001\"]],\n        columns: [[\"number\", \"index\"], [\"string\", \"org_id\"], [\"string\", \"ukcat_code\"], [\"string\", \"Island\"], [\"string\", \"Country\"], [\"string\", \"organisation_number\"]],\n        columnOptions: [{\"width\": \"1px\", \"className\": \"index_column\"}],\n        rowsPerPage: 25,\n        helpUrl: \"https://colab.research.google.com/notebooks/data_table.ipynb\",\n        suppressOutputScrolling: true,\n        minimumWidth: undefined,\n      });\n    "
          },
          "metadata": {},
          "execution_count": 74
        }
      ]
    },
    {
      "cell_type": "code",
      "source": [
        "classification.drop(\"org_id\", axis=1, inplace=True)\n",
        "new_cols = ['Island','Country','organisation_number','ukcat_code']\n",
        "classification=classification.reindex(columns=new_cols)\n",
        "print(classification.shape)\n",
        "print(classification.head())\n"
      ],
      "metadata": {
        "colab": {
          "base_uri": "https://localhost:8080/"
        },
        "id": "ofm_w5yWRRAy",
        "outputId": "db2f704e-ce48-4d35-95cc-9cc78f9266bb"
      },
      "execution_count": 75,
      "outputs": [
        {
          "output_type": "stream",
          "name": "stdout",
          "text": [
            "(780301, 4)\n",
            "  Island Country organisation_number ukcat_code\n",
            "0     GB     CHC             1000000         ED\n",
            "1     GB     CHC             1000000      ED102\n",
            "2     GB     CHC             1000001         AR\n",
            "3     GB     CHC             1000001      AR104\n",
            "4     GB     CHC             1000001      AR201\n"
          ]
        }
      ]
    },
    {
      "cell_type": "code",
      "source": [
        "Counter(classification['Island'])\n",
        "# all orgs are inside Great Britain"
      ],
      "metadata": {
        "colab": {
          "base_uri": "https://localhost:8080/"
        },
        "id": "M3ChLYkjjJWU",
        "outputId": "a8c0c029-cac7-471b-e21d-58768fa6900c"
      },
      "execution_count": 76,
      "outputs": [
        {
          "output_type": "execute_result",
          "data": {
            "text/plain": [
              "Counter({'GB': 780301})"
            ]
          },
          "metadata": {},
          "execution_count": 76
        }
      ]
    },
    {
      "cell_type": "code",
      "source": [
        "Counter(classification['Country'])\n",
        "# CHC - England and Wales\n",
        "# NIC - Northern Ireland\n",
        "# SC - Scotland"
      ],
      "metadata": {
        "colab": {
          "base_uri": "https://localhost:8080/"
        },
        "id": "PQrbdCvQ_E8q",
        "outputId": "b5993b41-9b1a-4879-9b6d-460a231d5107"
      },
      "execution_count": 77,
      "outputs": [
        {
          "output_type": "execute_result",
          "data": {
            "text/plain": [
              "Counter({'CHC': 632116, 'NIC': 22850, 'SC': 125335})"
            ]
          },
          "metadata": {},
          "execution_count": 77
        }
      ]
    },
    {
      "cell_type": "code",
      "source": [
        "# focus on charities in England and Wales\n",
        "classification_england = classification[classification['Country']==\"CHC\"]\n",
        "classification_england.shape"
      ],
      "metadata": {
        "colab": {
          "base_uri": "https://localhost:8080/"
        },
        "id": "k1OF0AurjrDn",
        "outputId": "224ea3c2-8fbb-4cb4-eedf-341a6d448ef1"
      },
      "execution_count": 78,
      "outputs": [
        {
          "output_type": "execute_result",
          "data": {
            "text/plain": [
              "(632116, 4)"
            ]
          },
          "metadata": {},
          "execution_count": 78
        }
      ]
    },
    {
      "cell_type": "code",
      "source": [
        "classification_england = classification_england.rename(columns={'ukcat_code':'Code'})\n",
        "classification_england.head()"
      ],
      "metadata": {
        "colab": {
          "base_uri": "https://localhost:8080/",
          "height": 198
        },
        "id": "1OE5olbOnWFW",
        "outputId": "2dfccca4-6473-4ff1-f495-0c0256da8a3f"
      },
      "execution_count": 79,
      "outputs": [
        {
          "output_type": "execute_result",
          "data": {
            "text/plain": [
              "  Island Country organisation_number   Code\n",
              "0     GB     CHC             1000000     ED\n",
              "1     GB     CHC             1000000  ED102\n",
              "2     GB     CHC             1000001     AR\n",
              "3     GB     CHC             1000001  AR104\n",
              "4     GB     CHC             1000001  AR201"
            ],
            "text/html": [
              "\n",
              "  <div id=\"df-b597b60d-4545-49e3-845a-061110bbc549\">\n",
              "    <div class=\"colab-df-container\">\n",
              "      <div>\n",
              "<style scoped>\n",
              "    .dataframe tbody tr th:only-of-type {\n",
              "        vertical-align: middle;\n",
              "    }\n",
              "\n",
              "    .dataframe tbody tr th {\n",
              "        vertical-align: top;\n",
              "    }\n",
              "\n",
              "    .dataframe thead th {\n",
              "        text-align: right;\n",
              "    }\n",
              "</style>\n",
              "<table border=\"1\" class=\"dataframe\">\n",
              "  <thead>\n",
              "    <tr style=\"text-align: right;\">\n",
              "      <th></th>\n",
              "      <th>Island</th>\n",
              "      <th>Country</th>\n",
              "      <th>organisation_number</th>\n",
              "      <th>Code</th>\n",
              "    </tr>\n",
              "  </thead>\n",
              "  <tbody>\n",
              "    <tr>\n",
              "      <th>0</th>\n",
              "      <td>GB</td>\n",
              "      <td>CHC</td>\n",
              "      <td>1000000</td>\n",
              "      <td>ED</td>\n",
              "    </tr>\n",
              "    <tr>\n",
              "      <th>1</th>\n",
              "      <td>GB</td>\n",
              "      <td>CHC</td>\n",
              "      <td>1000000</td>\n",
              "      <td>ED102</td>\n",
              "    </tr>\n",
              "    <tr>\n",
              "      <th>2</th>\n",
              "      <td>GB</td>\n",
              "      <td>CHC</td>\n",
              "      <td>1000001</td>\n",
              "      <td>AR</td>\n",
              "    </tr>\n",
              "    <tr>\n",
              "      <th>3</th>\n",
              "      <td>GB</td>\n",
              "      <td>CHC</td>\n",
              "      <td>1000001</td>\n",
              "      <td>AR104</td>\n",
              "    </tr>\n",
              "    <tr>\n",
              "      <th>4</th>\n",
              "      <td>GB</td>\n",
              "      <td>CHC</td>\n",
              "      <td>1000001</td>\n",
              "      <td>AR201</td>\n",
              "    </tr>\n",
              "  </tbody>\n",
              "</table>\n",
              "</div>\n",
              "      <button class=\"colab-df-convert\" onclick=\"convertToInteractive('df-b597b60d-4545-49e3-845a-061110bbc549')\"\n",
              "              title=\"Convert this dataframe to an interactive table.\"\n",
              "              style=\"display:none;\">\n",
              "        \n",
              "  <svg xmlns=\"http://www.w3.org/2000/svg\" height=\"24px\"viewBox=\"0 0 24 24\"\n",
              "       width=\"24px\">\n",
              "    <path d=\"M0 0h24v24H0V0z\" fill=\"none\"/>\n",
              "    <path d=\"M18.56 5.44l.94 2.06.94-2.06 2.06-.94-2.06-.94-.94-2.06-.94 2.06-2.06.94zm-11 1L8.5 8.5l.94-2.06 2.06-.94-2.06-.94L8.5 2.5l-.94 2.06-2.06.94zm10 10l.94 2.06.94-2.06 2.06-.94-2.06-.94-.94-2.06-.94 2.06-2.06.94z\"/><path d=\"M17.41 7.96l-1.37-1.37c-.4-.4-.92-.59-1.43-.59-.52 0-1.04.2-1.43.59L10.3 9.45l-7.72 7.72c-.78.78-.78 2.05 0 2.83L4 21.41c.39.39.9.59 1.41.59.51 0 1.02-.2 1.41-.59l7.78-7.78 2.81-2.81c.8-.78.8-2.07 0-2.86zM5.41 20L4 18.59l7.72-7.72 1.47 1.35L5.41 20z\"/>\n",
              "  </svg>\n",
              "      </button>\n",
              "      \n",
              "  <style>\n",
              "    .colab-df-container {\n",
              "      display:flex;\n",
              "      flex-wrap:wrap;\n",
              "      gap: 12px;\n",
              "    }\n",
              "\n",
              "    .colab-df-convert {\n",
              "      background-color: #E8F0FE;\n",
              "      border: none;\n",
              "      border-radius: 50%;\n",
              "      cursor: pointer;\n",
              "      display: none;\n",
              "      fill: #1967D2;\n",
              "      height: 32px;\n",
              "      padding: 0 0 0 0;\n",
              "      width: 32px;\n",
              "    }\n",
              "\n",
              "    .colab-df-convert:hover {\n",
              "      background-color: #E2EBFA;\n",
              "      box-shadow: 0px 1px 2px rgba(60, 64, 67, 0.3), 0px 1px 3px 1px rgba(60, 64, 67, 0.15);\n",
              "      fill: #174EA6;\n",
              "    }\n",
              "\n",
              "    [theme=dark] .colab-df-convert {\n",
              "      background-color: #3B4455;\n",
              "      fill: #D2E3FC;\n",
              "    }\n",
              "\n",
              "    [theme=dark] .colab-df-convert:hover {\n",
              "      background-color: #434B5C;\n",
              "      box-shadow: 0px 1px 3px 1px rgba(0, 0, 0, 0.15);\n",
              "      filter: drop-shadow(0px 1px 2px rgba(0, 0, 0, 0.3));\n",
              "      fill: #FFFFFF;\n",
              "    }\n",
              "  </style>\n",
              "\n",
              "      <script>\n",
              "        const buttonEl =\n",
              "          document.querySelector('#df-b597b60d-4545-49e3-845a-061110bbc549 button.colab-df-convert');\n",
              "        buttonEl.style.display =\n",
              "          google.colab.kernel.accessAllowed ? 'block' : 'none';\n",
              "\n",
              "        async function convertToInteractive(key) {\n",
              "          const element = document.querySelector('#df-b597b60d-4545-49e3-845a-061110bbc549');\n",
              "          const dataTable =\n",
              "            await google.colab.kernel.invokeFunction('convertToInteractive',\n",
              "                                                     [key], {});\n",
              "          if (!dataTable) return;\n",
              "\n",
              "          const docLinkHtml = 'Like what you see? Visit the ' +\n",
              "            '<a target=\"_blank\" href=https://colab.research.google.com/notebooks/data_table.ipynb>data table notebook</a>'\n",
              "            + ' to learn more about interactive tables.';\n",
              "          element.innerHTML = '';\n",
              "          dataTable['output_type'] = 'display_data';\n",
              "          await google.colab.output.renderOutput(dataTable, element);\n",
              "          const docLink = document.createElement('div');\n",
              "          docLink.innerHTML = docLinkHtml;\n",
              "          element.appendChild(docLink);\n",
              "        }\n",
              "      </script>\n",
              "    </div>\n",
              "  </div>\n",
              "  "
            ],
            "application/vnd.google.colaboratory.module+javascript": "\n      import \"https://ssl.gstatic.com/colaboratory/data_table/f872b2c2305463fd/data_table.js\";\n\n      window.createDataTable({\n        data: [[{\n            'v': 0,\n            'f': \"0\",\n        },\n\"GB\",\n\"CHC\",\n\"1000000\",\n\"ED\"],\n [{\n            'v': 1,\n            'f': \"1\",\n        },\n\"GB\",\n\"CHC\",\n\"1000000\",\n\"ED102\"],\n [{\n            'v': 2,\n            'f': \"2\",\n        },\n\"GB\",\n\"CHC\",\n\"1000001\",\n\"AR\"],\n [{\n            'v': 3,\n            'f': \"3\",\n        },\n\"GB\",\n\"CHC\",\n\"1000001\",\n\"AR104\"],\n [{\n            'v': 4,\n            'f': \"4\",\n        },\n\"GB\",\n\"CHC\",\n\"1000001\",\n\"AR201\"]],\n        columns: [[\"number\", \"index\"], [\"string\", \"Island\"], [\"string\", \"Country\"], [\"string\", \"organisation_number\"], [\"string\", \"Code\"]],\n        columnOptions: [{\"width\": \"1px\", \"className\": \"index_column\"}],\n        rowsPerPage: 25,\n        helpUrl: \"https://colab.research.google.com/notebooks/data_table.ipynb\",\n        suppressOutputScrolling: true,\n        minimumWidth: undefined,\n      });\n    "
          },
          "metadata": {},
          "execution_count": 79
        }
      ]
    },
    {
      "cell_type": "code",
      "source": [
        "# charity classification website also provides detailed description for all the classification codes\n",
        "codes = pd.read_csv('drive/My Drive/UK_Data/Classification/ukcat-codes.csv')\n",
        "codes.head()"
      ],
      "metadata": {
        "colab": {
          "base_uri": "https://localhost:8080/",
          "height": 231
        },
        "id": "3TFuzMkQQkOx",
        "outputId": "b6d1d974-6f0a-4732-d01d-880854707033"
      },
      "execution_count": 80,
      "outputs": [
        {
          "output_type": "execute_result",
          "data": {
            "text/plain": [
              "    Code      tag Category Subcategory  Level  \\\n",
              "0     AN  Animals  Animals         NaN      1   \n",
              "1  AN101     Cats  Animals         NaN      3   \n",
              "2  AN102     Dogs  Animals         NaN      3   \n",
              "3  AN103  Donkeys  Animals         NaN      3   \n",
              "4  AN104   Horses  Animals         NaN      3   \n",
              "\n",
              "                                               Notes Related ICNPTSO code  \\\n",
              "0  Includes animals without their own category. I...              E21;E20   \n",
              "1                                                NaN                  NaN   \n",
              "2                                                NaN                  NaN   \n",
              "3                                                NaN          E21;E29;E20   \n",
              "4                                                NaN          E21;E29;E20   \n",
              "\n",
              "                                  Regular expression  \\\n",
              "0  \\b(animals?|cats?|rabbits?|cows?|sheep|pigs?|c...   \n",
              "1                               \\b(cats?|felines?)\\b   \n",
              "2  \\b(dogs?|canines?|kennels?|Rhodesian Ridgeback)\\b   \n",
              "3                      \\b(donkey|donkeys|mule(s)?)\\b   \n",
              "4  \\b(horses?|equine|dressage|(pon(y|ies)+)|horse...   \n",
              "\n",
              "  Exclude regular expression  \n",
              "0                        NaN  \n",
              "1                        NaN  \n",
              "2                        NaN  \n",
              "3                        NaN  \n",
              "4                        NaN  "
            ],
            "text/html": [
              "\n",
              "  <div id=\"df-f0763418-c3db-46ff-a107-bf4f9ba07eba\">\n",
              "    <div class=\"colab-df-container\">\n",
              "      <div>\n",
              "<style scoped>\n",
              "    .dataframe tbody tr th:only-of-type {\n",
              "        vertical-align: middle;\n",
              "    }\n",
              "\n",
              "    .dataframe tbody tr th {\n",
              "        vertical-align: top;\n",
              "    }\n",
              "\n",
              "    .dataframe thead th {\n",
              "        text-align: right;\n",
              "    }\n",
              "</style>\n",
              "<table border=\"1\" class=\"dataframe\">\n",
              "  <thead>\n",
              "    <tr style=\"text-align: right;\">\n",
              "      <th></th>\n",
              "      <th>Code</th>\n",
              "      <th>tag</th>\n",
              "      <th>Category</th>\n",
              "      <th>Subcategory</th>\n",
              "      <th>Level</th>\n",
              "      <th>Notes</th>\n",
              "      <th>Related ICNPTSO code</th>\n",
              "      <th>Regular expression</th>\n",
              "      <th>Exclude regular expression</th>\n",
              "    </tr>\n",
              "  </thead>\n",
              "  <tbody>\n",
              "    <tr>\n",
              "      <th>0</th>\n",
              "      <td>AN</td>\n",
              "      <td>Animals</td>\n",
              "      <td>Animals</td>\n",
              "      <td>NaN</td>\n",
              "      <td>1</td>\n",
              "      <td>Includes animals without their own category. I...</td>\n",
              "      <td>E21;E20</td>\n",
              "      <td>\\b(animals?|cats?|rabbits?|cows?|sheep|pigs?|c...</td>\n",
              "      <td>NaN</td>\n",
              "    </tr>\n",
              "    <tr>\n",
              "      <th>1</th>\n",
              "      <td>AN101</td>\n",
              "      <td>Cats</td>\n",
              "      <td>Animals</td>\n",
              "      <td>NaN</td>\n",
              "      <td>3</td>\n",
              "      <td>NaN</td>\n",
              "      <td>NaN</td>\n",
              "      <td>\\b(cats?|felines?)\\b</td>\n",
              "      <td>NaN</td>\n",
              "    </tr>\n",
              "    <tr>\n",
              "      <th>2</th>\n",
              "      <td>AN102</td>\n",
              "      <td>Dogs</td>\n",
              "      <td>Animals</td>\n",
              "      <td>NaN</td>\n",
              "      <td>3</td>\n",
              "      <td>NaN</td>\n",
              "      <td>NaN</td>\n",
              "      <td>\\b(dogs?|canines?|kennels?|Rhodesian Ridgeback)\\b</td>\n",
              "      <td>NaN</td>\n",
              "    </tr>\n",
              "    <tr>\n",
              "      <th>3</th>\n",
              "      <td>AN103</td>\n",
              "      <td>Donkeys</td>\n",
              "      <td>Animals</td>\n",
              "      <td>NaN</td>\n",
              "      <td>3</td>\n",
              "      <td>NaN</td>\n",
              "      <td>E21;E29;E20</td>\n",
              "      <td>\\b(donkey|donkeys|mule(s)?)\\b</td>\n",
              "      <td>NaN</td>\n",
              "    </tr>\n",
              "    <tr>\n",
              "      <th>4</th>\n",
              "      <td>AN104</td>\n",
              "      <td>Horses</td>\n",
              "      <td>Animals</td>\n",
              "      <td>NaN</td>\n",
              "      <td>3</td>\n",
              "      <td>NaN</td>\n",
              "      <td>E21;E29;E20</td>\n",
              "      <td>\\b(horses?|equine|dressage|(pon(y|ies)+)|horse...</td>\n",
              "      <td>NaN</td>\n",
              "    </tr>\n",
              "  </tbody>\n",
              "</table>\n",
              "</div>\n",
              "      <button class=\"colab-df-convert\" onclick=\"convertToInteractive('df-f0763418-c3db-46ff-a107-bf4f9ba07eba')\"\n",
              "              title=\"Convert this dataframe to an interactive table.\"\n",
              "              style=\"display:none;\">\n",
              "        \n",
              "  <svg xmlns=\"http://www.w3.org/2000/svg\" height=\"24px\"viewBox=\"0 0 24 24\"\n",
              "       width=\"24px\">\n",
              "    <path d=\"M0 0h24v24H0V0z\" fill=\"none\"/>\n",
              "    <path d=\"M18.56 5.44l.94 2.06.94-2.06 2.06-.94-2.06-.94-.94-2.06-.94 2.06-2.06.94zm-11 1L8.5 8.5l.94-2.06 2.06-.94-2.06-.94L8.5 2.5l-.94 2.06-2.06.94zm10 10l.94 2.06.94-2.06 2.06-.94-2.06-.94-.94-2.06-.94 2.06-2.06.94z\"/><path d=\"M17.41 7.96l-1.37-1.37c-.4-.4-.92-.59-1.43-.59-.52 0-1.04.2-1.43.59L10.3 9.45l-7.72 7.72c-.78.78-.78 2.05 0 2.83L4 21.41c.39.39.9.59 1.41.59.51 0 1.02-.2 1.41-.59l7.78-7.78 2.81-2.81c.8-.78.8-2.07 0-2.86zM5.41 20L4 18.59l7.72-7.72 1.47 1.35L5.41 20z\"/>\n",
              "  </svg>\n",
              "      </button>\n",
              "      \n",
              "  <style>\n",
              "    .colab-df-container {\n",
              "      display:flex;\n",
              "      flex-wrap:wrap;\n",
              "      gap: 12px;\n",
              "    }\n",
              "\n",
              "    .colab-df-convert {\n",
              "      background-color: #E8F0FE;\n",
              "      border: none;\n",
              "      border-radius: 50%;\n",
              "      cursor: pointer;\n",
              "      display: none;\n",
              "      fill: #1967D2;\n",
              "      height: 32px;\n",
              "      padding: 0 0 0 0;\n",
              "      width: 32px;\n",
              "    }\n",
              "\n",
              "    .colab-df-convert:hover {\n",
              "      background-color: #E2EBFA;\n",
              "      box-shadow: 0px 1px 2px rgba(60, 64, 67, 0.3), 0px 1px 3px 1px rgba(60, 64, 67, 0.15);\n",
              "      fill: #174EA6;\n",
              "    }\n",
              "\n",
              "    [theme=dark] .colab-df-convert {\n",
              "      background-color: #3B4455;\n",
              "      fill: #D2E3FC;\n",
              "    }\n",
              "\n",
              "    [theme=dark] .colab-df-convert:hover {\n",
              "      background-color: #434B5C;\n",
              "      box-shadow: 0px 1px 3px 1px rgba(0, 0, 0, 0.15);\n",
              "      filter: drop-shadow(0px 1px 2px rgba(0, 0, 0, 0.3));\n",
              "      fill: #FFFFFF;\n",
              "    }\n",
              "  </style>\n",
              "\n",
              "      <script>\n",
              "        const buttonEl =\n",
              "          document.querySelector('#df-f0763418-c3db-46ff-a107-bf4f9ba07eba button.colab-df-convert');\n",
              "        buttonEl.style.display =\n",
              "          google.colab.kernel.accessAllowed ? 'block' : 'none';\n",
              "\n",
              "        async function convertToInteractive(key) {\n",
              "          const element = document.querySelector('#df-f0763418-c3db-46ff-a107-bf4f9ba07eba');\n",
              "          const dataTable =\n",
              "            await google.colab.kernel.invokeFunction('convertToInteractive',\n",
              "                                                     [key], {});\n",
              "          if (!dataTable) return;\n",
              "\n",
              "          const docLinkHtml = 'Like what you see? Visit the ' +\n",
              "            '<a target=\"_blank\" href=https://colab.research.google.com/notebooks/data_table.ipynb>data table notebook</a>'\n",
              "            + ' to learn more about interactive tables.';\n",
              "          element.innerHTML = '';\n",
              "          dataTable['output_type'] = 'display_data';\n",
              "          await google.colab.output.renderOutput(dataTable, element);\n",
              "          const docLink = document.createElement('div');\n",
              "          docLink.innerHTML = docLinkHtml;\n",
              "          element.appendChild(docLink);\n",
              "        }\n",
              "      </script>\n",
              "    </div>\n",
              "  </div>\n",
              "  "
            ],
            "application/vnd.google.colaboratory.module+javascript": "\n      import \"https://ssl.gstatic.com/colaboratory/data_table/f872b2c2305463fd/data_table.js\";\n\n      window.createDataTable({\n        data: [[{\n            'v': 0,\n            'f': \"0\",\n        },\n\"AN\",\n\"Animals\",\n\"Animals\",\n{\n            'v': NaN,\n            'f': \"NaN\",\n        },\n{\n            'v': 1,\n            'f': \"1\",\n        },\n\"Includes animals without their own category. Includes animal welfare.\",\n\"E21;E20\",\n\"\\\\b(animals?|cats?|rabbits?|cows?|sheep|pigs?|creatures?|swans?|horses?|dogs?|birds?|beekeeper'?s?|veterinary|vetinary|badger|poaching|fish(ery)?|canine|pets?|livestock)\\\\b\",\n{\n            'v': NaN,\n            'f': \"NaN\",\n        }],\n [{\n            'v': 1,\n            'f': \"1\",\n        },\n\"AN101\",\n\"Cats\",\n\"Animals\",\n{\n            'v': NaN,\n            'f': \"NaN\",\n        },\n{\n            'v': 3,\n            'f': \"3\",\n        },\nNaN,\nNaN,\n\"\\\\b(cats?|felines?)\\\\b\",\n{\n            'v': NaN,\n            'f': \"NaN\",\n        }],\n [{\n            'v': 2,\n            'f': \"2\",\n        },\n\"AN102\",\n\"Dogs\",\n\"Animals\",\n{\n            'v': NaN,\n            'f': \"NaN\",\n        },\n{\n            'v': 3,\n            'f': \"3\",\n        },\nNaN,\nNaN,\n\"\\\\b(dogs?|canines?|kennels?|Rhodesian Ridgeback)\\\\b\",\n{\n            'v': NaN,\n            'f': \"NaN\",\n        }],\n [{\n            'v': 3,\n            'f': \"3\",\n        },\n\"AN103\",\n\"Donkeys\",\n\"Animals\",\n{\n            'v': NaN,\n            'f': \"NaN\",\n        },\n{\n            'v': 3,\n            'f': \"3\",\n        },\nNaN,\n\"E21;E29;E20\",\n\"\\\\b(donkey|donkeys|mule(s)?)\\\\b\",\n{\n            'v': NaN,\n            'f': \"NaN\",\n        }],\n [{\n            'v': 4,\n            'f': \"4\",\n        },\n\"AN104\",\n\"Horses\",\n\"Animals\",\n{\n            'v': NaN,\n            'f': \"NaN\",\n        },\n{\n            'v': 3,\n            'f': \"3\",\n        },\nNaN,\n\"E21;E29;E20\",\n\"\\\\b(horses?|equine|dressage|(pon(y|ies)+)|horsemanship)\\\\b\",\n{\n            'v': NaN,\n            'f': \"NaN\",\n        }]],\n        columns: [[\"number\", \"index\"], [\"string\", \"Code\"], [\"string\", \"tag\"], [\"string\", \"Category\"], [\"number\", \"Subcategory\"], [\"number\", \"Level\"], [\"string\", \"Notes\"], [\"string\", \"Related ICNPTSO code\"], [\"string\", \"Regular expression\"], [\"number\", \"Exclude regular expression\"]],\n        columnOptions: [{\"width\": \"1px\", \"className\": \"index_column\"}],\n        rowsPerPage: 25,\n        helpUrl: \"https://colab.research.google.com/notebooks/data_table.ipynb\",\n        suppressOutputScrolling: true,\n        minimumWidth: undefined,\n      });\n    "
          },
          "metadata": {},
          "execution_count": 80
        }
      ]
    },
    {
      "cell_type": "code",
      "source": [
        "# merge the previous data frame with code description dataframe\n",
        "classification_england = classification_england.merge(codes,on=\"Code\",how=\"left\")\n",
        "classification_england.head()"
      ],
      "metadata": {
        "colab": {
          "base_uri": "https://localhost:8080/",
          "height": 297
        },
        "id": "7RwpZrROHzcU",
        "outputId": "c249d3a6-f12c-4501-9c68-246588f7df8f"
      },
      "execution_count": 81,
      "outputs": [
        {
          "output_type": "execute_result",
          "data": {
            "text/plain": [
              "  Island Country organisation_number   Code                tag   Category  \\\n",
              "0     GB     CHC             1000000     ED          Education  Education   \n",
              "1     GB     CHC             1000000  ED102  Further education  Education   \n",
              "2     GB     CHC             1000001     AR               Arts       Arts   \n",
              "3     GB     CHC             1000001  AR104        Visual arts       Arts   \n",
              "4     GB     CHC             1000001  AR201               Film       Arts   \n",
              "\n",
              "            Subcategory  Level                            Notes  \\\n",
              "0                   NaN      1                              NaN   \n",
              "1                   NaN      3                              NaN   \n",
              "2                   NaN      1                  Includes crafts   \n",
              "3                   NaN      3  Consider relationship with arts   \n",
              "4  Media and publishing      3                              NaN   \n",
              "\n",
              "  Related ICNPTSO code                                 Regular expression  \\\n",
              "0                  B90                               \\b(education(al)?)\\b   \n",
              "1                  B21                  \\b(colleges?|further education)\\b   \n",
              "2                  A10                                        \\b(arts?)\\b   \n",
              "3                  A11  \\b(painting|sculpture|sculpting|crafts|craftin...   \n",
              "4                  A11                                \\b(films?|cinema)\\b   \n",
              "\n",
              "  Exclude regular expression  \n",
              "0                        NaN  \n",
              "1                        NaN  \n",
              "2                        NaN  \n",
              "3                        NaN  \n",
              "4                        NaN  "
            ],
            "text/html": [
              "\n",
              "  <div id=\"df-2861350e-98cc-4364-85fe-553709727d98\">\n",
              "    <div class=\"colab-df-container\">\n",
              "      <div>\n",
              "<style scoped>\n",
              "    .dataframe tbody tr th:only-of-type {\n",
              "        vertical-align: middle;\n",
              "    }\n",
              "\n",
              "    .dataframe tbody tr th {\n",
              "        vertical-align: top;\n",
              "    }\n",
              "\n",
              "    .dataframe thead th {\n",
              "        text-align: right;\n",
              "    }\n",
              "</style>\n",
              "<table border=\"1\" class=\"dataframe\">\n",
              "  <thead>\n",
              "    <tr style=\"text-align: right;\">\n",
              "      <th></th>\n",
              "      <th>Island</th>\n",
              "      <th>Country</th>\n",
              "      <th>organisation_number</th>\n",
              "      <th>Code</th>\n",
              "      <th>tag</th>\n",
              "      <th>Category</th>\n",
              "      <th>Subcategory</th>\n",
              "      <th>Level</th>\n",
              "      <th>Notes</th>\n",
              "      <th>Related ICNPTSO code</th>\n",
              "      <th>Regular expression</th>\n",
              "      <th>Exclude regular expression</th>\n",
              "    </tr>\n",
              "  </thead>\n",
              "  <tbody>\n",
              "    <tr>\n",
              "      <th>0</th>\n",
              "      <td>GB</td>\n",
              "      <td>CHC</td>\n",
              "      <td>1000000</td>\n",
              "      <td>ED</td>\n",
              "      <td>Education</td>\n",
              "      <td>Education</td>\n",
              "      <td>NaN</td>\n",
              "      <td>1</td>\n",
              "      <td>NaN</td>\n",
              "      <td>B90</td>\n",
              "      <td>\\b(education(al)?)\\b</td>\n",
              "      <td>NaN</td>\n",
              "    </tr>\n",
              "    <tr>\n",
              "      <th>1</th>\n",
              "      <td>GB</td>\n",
              "      <td>CHC</td>\n",
              "      <td>1000000</td>\n",
              "      <td>ED102</td>\n",
              "      <td>Further education</td>\n",
              "      <td>Education</td>\n",
              "      <td>NaN</td>\n",
              "      <td>3</td>\n",
              "      <td>NaN</td>\n",
              "      <td>B21</td>\n",
              "      <td>\\b(colleges?|further education)\\b</td>\n",
              "      <td>NaN</td>\n",
              "    </tr>\n",
              "    <tr>\n",
              "      <th>2</th>\n",
              "      <td>GB</td>\n",
              "      <td>CHC</td>\n",
              "      <td>1000001</td>\n",
              "      <td>AR</td>\n",
              "      <td>Arts</td>\n",
              "      <td>Arts</td>\n",
              "      <td>NaN</td>\n",
              "      <td>1</td>\n",
              "      <td>Includes crafts</td>\n",
              "      <td>A10</td>\n",
              "      <td>\\b(arts?)\\b</td>\n",
              "      <td>NaN</td>\n",
              "    </tr>\n",
              "    <tr>\n",
              "      <th>3</th>\n",
              "      <td>GB</td>\n",
              "      <td>CHC</td>\n",
              "      <td>1000001</td>\n",
              "      <td>AR104</td>\n",
              "      <td>Visual arts</td>\n",
              "      <td>Arts</td>\n",
              "      <td>NaN</td>\n",
              "      <td>3</td>\n",
              "      <td>Consider relationship with arts</td>\n",
              "      <td>A11</td>\n",
              "      <td>\\b(painting|sculpture|sculpting|crafts|craftin...</td>\n",
              "      <td>NaN</td>\n",
              "    </tr>\n",
              "    <tr>\n",
              "      <th>4</th>\n",
              "      <td>GB</td>\n",
              "      <td>CHC</td>\n",
              "      <td>1000001</td>\n",
              "      <td>AR201</td>\n",
              "      <td>Film</td>\n",
              "      <td>Arts</td>\n",
              "      <td>Media and publishing</td>\n",
              "      <td>3</td>\n",
              "      <td>NaN</td>\n",
              "      <td>A11</td>\n",
              "      <td>\\b(films?|cinema)\\b</td>\n",
              "      <td>NaN</td>\n",
              "    </tr>\n",
              "  </tbody>\n",
              "</table>\n",
              "</div>\n",
              "      <button class=\"colab-df-convert\" onclick=\"convertToInteractive('df-2861350e-98cc-4364-85fe-553709727d98')\"\n",
              "              title=\"Convert this dataframe to an interactive table.\"\n",
              "              style=\"display:none;\">\n",
              "        \n",
              "  <svg xmlns=\"http://www.w3.org/2000/svg\" height=\"24px\"viewBox=\"0 0 24 24\"\n",
              "       width=\"24px\">\n",
              "    <path d=\"M0 0h24v24H0V0z\" fill=\"none\"/>\n",
              "    <path d=\"M18.56 5.44l.94 2.06.94-2.06 2.06-.94-2.06-.94-.94-2.06-.94 2.06-2.06.94zm-11 1L8.5 8.5l.94-2.06 2.06-.94-2.06-.94L8.5 2.5l-.94 2.06-2.06.94zm10 10l.94 2.06.94-2.06 2.06-.94-2.06-.94-.94-2.06-.94 2.06-2.06.94z\"/><path d=\"M17.41 7.96l-1.37-1.37c-.4-.4-.92-.59-1.43-.59-.52 0-1.04.2-1.43.59L10.3 9.45l-7.72 7.72c-.78.78-.78 2.05 0 2.83L4 21.41c.39.39.9.59 1.41.59.51 0 1.02-.2 1.41-.59l7.78-7.78 2.81-2.81c.8-.78.8-2.07 0-2.86zM5.41 20L4 18.59l7.72-7.72 1.47 1.35L5.41 20z\"/>\n",
              "  </svg>\n",
              "      </button>\n",
              "      \n",
              "  <style>\n",
              "    .colab-df-container {\n",
              "      display:flex;\n",
              "      flex-wrap:wrap;\n",
              "      gap: 12px;\n",
              "    }\n",
              "\n",
              "    .colab-df-convert {\n",
              "      background-color: #E8F0FE;\n",
              "      border: none;\n",
              "      border-radius: 50%;\n",
              "      cursor: pointer;\n",
              "      display: none;\n",
              "      fill: #1967D2;\n",
              "      height: 32px;\n",
              "      padding: 0 0 0 0;\n",
              "      width: 32px;\n",
              "    }\n",
              "\n",
              "    .colab-df-convert:hover {\n",
              "      background-color: #E2EBFA;\n",
              "      box-shadow: 0px 1px 2px rgba(60, 64, 67, 0.3), 0px 1px 3px 1px rgba(60, 64, 67, 0.15);\n",
              "      fill: #174EA6;\n",
              "    }\n",
              "\n",
              "    [theme=dark] .colab-df-convert {\n",
              "      background-color: #3B4455;\n",
              "      fill: #D2E3FC;\n",
              "    }\n",
              "\n",
              "    [theme=dark] .colab-df-convert:hover {\n",
              "      background-color: #434B5C;\n",
              "      box-shadow: 0px 1px 3px 1px rgba(0, 0, 0, 0.15);\n",
              "      filter: drop-shadow(0px 1px 2px rgba(0, 0, 0, 0.3));\n",
              "      fill: #FFFFFF;\n",
              "    }\n",
              "  </style>\n",
              "\n",
              "      <script>\n",
              "        const buttonEl =\n",
              "          document.querySelector('#df-2861350e-98cc-4364-85fe-553709727d98 button.colab-df-convert');\n",
              "        buttonEl.style.display =\n",
              "          google.colab.kernel.accessAllowed ? 'block' : 'none';\n",
              "\n",
              "        async function convertToInteractive(key) {\n",
              "          const element = document.querySelector('#df-2861350e-98cc-4364-85fe-553709727d98');\n",
              "          const dataTable =\n",
              "            await google.colab.kernel.invokeFunction('convertToInteractive',\n",
              "                                                     [key], {});\n",
              "          if (!dataTable) return;\n",
              "\n",
              "          const docLinkHtml = 'Like what you see? Visit the ' +\n",
              "            '<a target=\"_blank\" href=https://colab.research.google.com/notebooks/data_table.ipynb>data table notebook</a>'\n",
              "            + ' to learn more about interactive tables.';\n",
              "          element.innerHTML = '';\n",
              "          dataTable['output_type'] = 'display_data';\n",
              "          await google.colab.output.renderOutput(dataTable, element);\n",
              "          const docLink = document.createElement('div');\n",
              "          docLink.innerHTML = docLinkHtml;\n",
              "          element.appendChild(docLink);\n",
              "        }\n",
              "      </script>\n",
              "    </div>\n",
              "  </div>\n",
              "  "
            ],
            "application/vnd.google.colaboratory.module+javascript": "\n      import \"https://ssl.gstatic.com/colaboratory/data_table/f872b2c2305463fd/data_table.js\";\n\n      window.createDataTable({\n        data: [[{\n            'v': 0,\n            'f': \"0\",\n        },\n\"GB\",\n\"CHC\",\n\"1000000\",\n\"ED\",\n\"Education\",\n\"Education\",\nNaN,\n{\n            'v': 1,\n            'f': \"1\",\n        },\nNaN,\n\"B90\",\n\"\\\\b(education(al)?)\\\\b\",\n{\n            'v': NaN,\n            'f': \"NaN\",\n        }],\n [{\n            'v': 1,\n            'f': \"1\",\n        },\n\"GB\",\n\"CHC\",\n\"1000000\",\n\"ED102\",\n\"Further education\",\n\"Education\",\nNaN,\n{\n            'v': 3,\n            'f': \"3\",\n        },\nNaN,\n\"B21\",\n\"\\\\b(colleges?|further education)\\\\b\",\n{\n            'v': NaN,\n            'f': \"NaN\",\n        }],\n [{\n            'v': 2,\n            'f': \"2\",\n        },\n\"GB\",\n\"CHC\",\n\"1000001\",\n\"AR\",\n\"Arts\",\n\"Arts\",\nNaN,\n{\n            'v': 1,\n            'f': \"1\",\n        },\n\"Includes crafts\",\n\"A10\",\n\"\\\\b(arts?)\\\\b\",\n{\n            'v': NaN,\n            'f': \"NaN\",\n        }],\n [{\n            'v': 3,\n            'f': \"3\",\n        },\n\"GB\",\n\"CHC\",\n\"1000001\",\n\"AR104\",\n\"Visual arts\",\n\"Arts\",\nNaN,\n{\n            'v': 3,\n            'f': \"3\",\n        },\n\"Consider relationship with arts\",\n\"A11\",\n\"\\\\b(painting|sculpture|sculpting|crafts|crafting|embroidery|ceramics|photography|visual arts?|photography|gallery|artistic works)\\\\b\",\n{\n            'v': NaN,\n            'f': \"NaN\",\n        }],\n [{\n            'v': 4,\n            'f': \"4\",\n        },\n\"GB\",\n\"CHC\",\n\"1000001\",\n\"AR201\",\n\"Film\",\n\"Arts\",\n\"Media and publishing\",\n{\n            'v': 3,\n            'f': \"3\",\n        },\nNaN,\n\"A11\",\n\"\\\\b(films?|cinema)\\\\b\",\n{\n            'v': NaN,\n            'f': \"NaN\",\n        }]],\n        columns: [[\"number\", \"index\"], [\"string\", \"Island\"], [\"string\", \"Country\"], [\"string\", \"organisation_number\"], [\"string\", \"Code\"], [\"string\", \"tag\"], [\"string\", \"Category\"], [\"string\", \"Subcategory\"], [\"number\", \"Level\"], [\"string\", \"Notes\"], [\"string\", \"Related ICNPTSO code\"], [\"string\", \"Regular expression\"], [\"number\", \"Exclude regular expression\"]],\n        columnOptions: [{\"width\": \"1px\", \"className\": \"index_column\"}],\n        rowsPerPage: 25,\n        helpUrl: \"https://colab.research.google.com/notebooks/data_table.ipynb\",\n        suppressOutputScrolling: true,\n        minimumWidth: undefined,\n      });\n    "
          },
          "metadata": {},
          "execution_count": 81
        }
      ]
    },
    {
      "cell_type": "code",
      "source": [
        "# dropping the columns that won't be required\n",
        "classification_england.drop(['Regular expression','Exclude regular expression'], axis=1, inplace=True)\n",
        "classification_england.head()\n"
      ],
      "metadata": {
        "colab": {
          "base_uri": "https://localhost:8080/",
          "height": 198
        },
        "id": "xd437bHKISDe",
        "outputId": "df96100a-6ca7-4800-ba55-c5f9e1d15a42"
      },
      "execution_count": 82,
      "outputs": [
        {
          "output_type": "execute_result",
          "data": {
            "text/plain": [
              "  Island Country organisation_number   Code                tag   Category  \\\n",
              "0     GB     CHC             1000000     ED          Education  Education   \n",
              "1     GB     CHC             1000000  ED102  Further education  Education   \n",
              "2     GB     CHC             1000001     AR               Arts       Arts   \n",
              "3     GB     CHC             1000001  AR104        Visual arts       Arts   \n",
              "4     GB     CHC             1000001  AR201               Film       Arts   \n",
              "\n",
              "            Subcategory  Level                            Notes  \\\n",
              "0                   NaN      1                              NaN   \n",
              "1                   NaN      3                              NaN   \n",
              "2                   NaN      1                  Includes crafts   \n",
              "3                   NaN      3  Consider relationship with arts   \n",
              "4  Media and publishing      3                              NaN   \n",
              "\n",
              "  Related ICNPTSO code  \n",
              "0                  B90  \n",
              "1                  B21  \n",
              "2                  A10  \n",
              "3                  A11  \n",
              "4                  A11  "
            ],
            "text/html": [
              "\n",
              "  <div id=\"df-351f2c5f-0d11-4621-8809-497cca50247e\">\n",
              "    <div class=\"colab-df-container\">\n",
              "      <div>\n",
              "<style scoped>\n",
              "    .dataframe tbody tr th:only-of-type {\n",
              "        vertical-align: middle;\n",
              "    }\n",
              "\n",
              "    .dataframe tbody tr th {\n",
              "        vertical-align: top;\n",
              "    }\n",
              "\n",
              "    .dataframe thead th {\n",
              "        text-align: right;\n",
              "    }\n",
              "</style>\n",
              "<table border=\"1\" class=\"dataframe\">\n",
              "  <thead>\n",
              "    <tr style=\"text-align: right;\">\n",
              "      <th></th>\n",
              "      <th>Island</th>\n",
              "      <th>Country</th>\n",
              "      <th>organisation_number</th>\n",
              "      <th>Code</th>\n",
              "      <th>tag</th>\n",
              "      <th>Category</th>\n",
              "      <th>Subcategory</th>\n",
              "      <th>Level</th>\n",
              "      <th>Notes</th>\n",
              "      <th>Related ICNPTSO code</th>\n",
              "    </tr>\n",
              "  </thead>\n",
              "  <tbody>\n",
              "    <tr>\n",
              "      <th>0</th>\n",
              "      <td>GB</td>\n",
              "      <td>CHC</td>\n",
              "      <td>1000000</td>\n",
              "      <td>ED</td>\n",
              "      <td>Education</td>\n",
              "      <td>Education</td>\n",
              "      <td>NaN</td>\n",
              "      <td>1</td>\n",
              "      <td>NaN</td>\n",
              "      <td>B90</td>\n",
              "    </tr>\n",
              "    <tr>\n",
              "      <th>1</th>\n",
              "      <td>GB</td>\n",
              "      <td>CHC</td>\n",
              "      <td>1000000</td>\n",
              "      <td>ED102</td>\n",
              "      <td>Further education</td>\n",
              "      <td>Education</td>\n",
              "      <td>NaN</td>\n",
              "      <td>3</td>\n",
              "      <td>NaN</td>\n",
              "      <td>B21</td>\n",
              "    </tr>\n",
              "    <tr>\n",
              "      <th>2</th>\n",
              "      <td>GB</td>\n",
              "      <td>CHC</td>\n",
              "      <td>1000001</td>\n",
              "      <td>AR</td>\n",
              "      <td>Arts</td>\n",
              "      <td>Arts</td>\n",
              "      <td>NaN</td>\n",
              "      <td>1</td>\n",
              "      <td>Includes crafts</td>\n",
              "      <td>A10</td>\n",
              "    </tr>\n",
              "    <tr>\n",
              "      <th>3</th>\n",
              "      <td>GB</td>\n",
              "      <td>CHC</td>\n",
              "      <td>1000001</td>\n",
              "      <td>AR104</td>\n",
              "      <td>Visual arts</td>\n",
              "      <td>Arts</td>\n",
              "      <td>NaN</td>\n",
              "      <td>3</td>\n",
              "      <td>Consider relationship with arts</td>\n",
              "      <td>A11</td>\n",
              "    </tr>\n",
              "    <tr>\n",
              "      <th>4</th>\n",
              "      <td>GB</td>\n",
              "      <td>CHC</td>\n",
              "      <td>1000001</td>\n",
              "      <td>AR201</td>\n",
              "      <td>Film</td>\n",
              "      <td>Arts</td>\n",
              "      <td>Media and publishing</td>\n",
              "      <td>3</td>\n",
              "      <td>NaN</td>\n",
              "      <td>A11</td>\n",
              "    </tr>\n",
              "  </tbody>\n",
              "</table>\n",
              "</div>\n",
              "      <button class=\"colab-df-convert\" onclick=\"convertToInteractive('df-351f2c5f-0d11-4621-8809-497cca50247e')\"\n",
              "              title=\"Convert this dataframe to an interactive table.\"\n",
              "              style=\"display:none;\">\n",
              "        \n",
              "  <svg xmlns=\"http://www.w3.org/2000/svg\" height=\"24px\"viewBox=\"0 0 24 24\"\n",
              "       width=\"24px\">\n",
              "    <path d=\"M0 0h24v24H0V0z\" fill=\"none\"/>\n",
              "    <path d=\"M18.56 5.44l.94 2.06.94-2.06 2.06-.94-2.06-.94-.94-2.06-.94 2.06-2.06.94zm-11 1L8.5 8.5l.94-2.06 2.06-.94-2.06-.94L8.5 2.5l-.94 2.06-2.06.94zm10 10l.94 2.06.94-2.06 2.06-.94-2.06-.94-.94-2.06-.94 2.06-2.06.94z\"/><path d=\"M17.41 7.96l-1.37-1.37c-.4-.4-.92-.59-1.43-.59-.52 0-1.04.2-1.43.59L10.3 9.45l-7.72 7.72c-.78.78-.78 2.05 0 2.83L4 21.41c.39.39.9.59 1.41.59.51 0 1.02-.2 1.41-.59l7.78-7.78 2.81-2.81c.8-.78.8-2.07 0-2.86zM5.41 20L4 18.59l7.72-7.72 1.47 1.35L5.41 20z\"/>\n",
              "  </svg>\n",
              "      </button>\n",
              "      \n",
              "  <style>\n",
              "    .colab-df-container {\n",
              "      display:flex;\n",
              "      flex-wrap:wrap;\n",
              "      gap: 12px;\n",
              "    }\n",
              "\n",
              "    .colab-df-convert {\n",
              "      background-color: #E8F0FE;\n",
              "      border: none;\n",
              "      border-radius: 50%;\n",
              "      cursor: pointer;\n",
              "      display: none;\n",
              "      fill: #1967D2;\n",
              "      height: 32px;\n",
              "      padding: 0 0 0 0;\n",
              "      width: 32px;\n",
              "    }\n",
              "\n",
              "    .colab-df-convert:hover {\n",
              "      background-color: #E2EBFA;\n",
              "      box-shadow: 0px 1px 2px rgba(60, 64, 67, 0.3), 0px 1px 3px 1px rgba(60, 64, 67, 0.15);\n",
              "      fill: #174EA6;\n",
              "    }\n",
              "\n",
              "    [theme=dark] .colab-df-convert {\n",
              "      background-color: #3B4455;\n",
              "      fill: #D2E3FC;\n",
              "    }\n",
              "\n",
              "    [theme=dark] .colab-df-convert:hover {\n",
              "      background-color: #434B5C;\n",
              "      box-shadow: 0px 1px 3px 1px rgba(0, 0, 0, 0.15);\n",
              "      filter: drop-shadow(0px 1px 2px rgba(0, 0, 0, 0.3));\n",
              "      fill: #FFFFFF;\n",
              "    }\n",
              "  </style>\n",
              "\n",
              "      <script>\n",
              "        const buttonEl =\n",
              "          document.querySelector('#df-351f2c5f-0d11-4621-8809-497cca50247e button.colab-df-convert');\n",
              "        buttonEl.style.display =\n",
              "          google.colab.kernel.accessAllowed ? 'block' : 'none';\n",
              "\n",
              "        async function convertToInteractive(key) {\n",
              "          const element = document.querySelector('#df-351f2c5f-0d11-4621-8809-497cca50247e');\n",
              "          const dataTable =\n",
              "            await google.colab.kernel.invokeFunction('convertToInteractive',\n",
              "                                                     [key], {});\n",
              "          if (!dataTable) return;\n",
              "\n",
              "          const docLinkHtml = 'Like what you see? Visit the ' +\n",
              "            '<a target=\"_blank\" href=https://colab.research.google.com/notebooks/data_table.ipynb>data table notebook</a>'\n",
              "            + ' to learn more about interactive tables.';\n",
              "          element.innerHTML = '';\n",
              "          dataTable['output_type'] = 'display_data';\n",
              "          await google.colab.output.renderOutput(dataTable, element);\n",
              "          const docLink = document.createElement('div');\n",
              "          docLink.innerHTML = docLinkHtml;\n",
              "          element.appendChild(docLink);\n",
              "        }\n",
              "      </script>\n",
              "    </div>\n",
              "  </div>\n",
              "  "
            ],
            "application/vnd.google.colaboratory.module+javascript": "\n      import \"https://ssl.gstatic.com/colaboratory/data_table/f872b2c2305463fd/data_table.js\";\n\n      window.createDataTable({\n        data: [[{\n            'v': 0,\n            'f': \"0\",\n        },\n\"GB\",\n\"CHC\",\n\"1000000\",\n\"ED\",\n\"Education\",\n\"Education\",\nNaN,\n{\n            'v': 1,\n            'f': \"1\",\n        },\nNaN,\n\"B90\"],\n [{\n            'v': 1,\n            'f': \"1\",\n        },\n\"GB\",\n\"CHC\",\n\"1000000\",\n\"ED102\",\n\"Further education\",\n\"Education\",\nNaN,\n{\n            'v': 3,\n            'f': \"3\",\n        },\nNaN,\n\"B21\"],\n [{\n            'v': 2,\n            'f': \"2\",\n        },\n\"GB\",\n\"CHC\",\n\"1000001\",\n\"AR\",\n\"Arts\",\n\"Arts\",\nNaN,\n{\n            'v': 1,\n            'f': \"1\",\n        },\n\"Includes crafts\",\n\"A10\"],\n [{\n            'v': 3,\n            'f': \"3\",\n        },\n\"GB\",\n\"CHC\",\n\"1000001\",\n\"AR104\",\n\"Visual arts\",\n\"Arts\",\nNaN,\n{\n            'v': 3,\n            'f': \"3\",\n        },\n\"Consider relationship with arts\",\n\"A11\"],\n [{\n            'v': 4,\n            'f': \"4\",\n        },\n\"GB\",\n\"CHC\",\n\"1000001\",\n\"AR201\",\n\"Film\",\n\"Arts\",\n\"Media and publishing\",\n{\n            'v': 3,\n            'f': \"3\",\n        },\nNaN,\n\"A11\"]],\n        columns: [[\"number\", \"index\"], [\"string\", \"Island\"], [\"string\", \"Country\"], [\"string\", \"organisation_number\"], [\"string\", \"Code\"], [\"string\", \"tag\"], [\"string\", \"Category\"], [\"string\", \"Subcategory\"], [\"number\", \"Level\"], [\"string\", \"Notes\"], [\"string\", \"Related ICNPTSO code\"]],\n        columnOptions: [{\"width\": \"1px\", \"className\": \"index_column\"}],\n        rowsPerPage: 25,\n        helpUrl: \"https://colab.research.google.com/notebooks/data_table.ipynb\",\n        suppressOutputScrolling: true,\n        minimumWidth: undefined,\n      });\n    "
          },
          "metadata": {},
          "execution_count": 82
        }
      ]
    },
    {
      "cell_type": "code",
      "source": [
        "Counter(classification_england['Category'])"
      ],
      "metadata": {
        "colab": {
          "base_uri": "https://localhost:8080/"
        },
        "id": "vsU53xzL9mEK",
        "outputId": "898a0b2f-b867-47cc-fcb5-323c12e88cf7"
      },
      "execution_count": 83,
      "outputs": [
        {
          "output_type": "execute_result",
          "data": {
            "text/plain": [
              "Counter({'Animals': 4965,\n",
              "         'Armed forces': 2695,\n",
              "         'Arts': 36935,\n",
              "         'Associations': 47471,\n",
              "         'Beneficiary group': 99636,\n",
              "         'Charitable activities': 34723,\n",
              "         'Charity and VCS support': 31201,\n",
              "         'Childcare': 10855,\n",
              "         'Crime and Justice': 1792,\n",
              "         'Economic and community development': 10726,\n",
              "         'Education': 114570,\n",
              "         'Environment': 2616,\n",
              "         'Facilities': 18876,\n",
              "         'Health': 30711,\n",
              "         'Heritage': 11542,\n",
              "         'Housing': 13328,\n",
              "         'Leisure': 26808,\n",
              "         'Professions': 1138,\n",
              "         'Religion': 78009,\n",
              "         'Research': 8795,\n",
              "         'Saving of lives': 2827,\n",
              "         'Social care': 3391,\n",
              "         'Social welfare': 35715,\n",
              "         'Society': 2791})"
            ]
          },
          "metadata": {},
          "execution_count": 83
        }
      ]
    },
    {
      "cell_type": "code",
      "source": [
        "# add some more data to the classification dataframe such as no. of trustees, \n",
        "# latest income, expenditure and registration status\n",
        "n_trustees = []\n",
        "latest_income = []\n",
        "latest_expenditure = []\n",
        "registration_status = []\n",
        "ctr = 0\n",
        "for i,row in classification_england.iterrows():\n",
        "  if(ctr%20000==0):\n",
        "    print(ctr,end=\" \")\n",
        "  id = int(row['organisation_number'])\n",
        "  try:\n",
        "    n_trustees.append(len(orgs[id]))\n",
        "  except:\n",
        "    n_trustees.append(None)\n",
        "  try:\n",
        "    latest_income.append(charity[id]['latest_income'])\n",
        "    latest_expenditure.append(charity[id]['latest_expenditure'])\n",
        "    registration_status.append(charity[id]['charity_registration_status'])\n",
        "  except:\n",
        "    latest_income.append(0)\n",
        "    latest_expenditure.append(0)\n",
        "    registration_status.append(\"Unknown\")\n",
        "  ctr+=1"
      ],
      "metadata": {
        "colab": {
          "base_uri": "https://localhost:8080/"
        },
        "id": "VBRFc94uwwcv",
        "outputId": "a9206091-ea29-4b64-d11c-750648870575"
      },
      "execution_count": 84,
      "outputs": [
        {
          "output_type": "stream",
          "name": "stdout",
          "text": [
            "0 20000 40000 60000 80000 100000 120000 140000 160000 180000 200000 220000 240000 260000 280000 300000 320000 340000 360000 380000 400000 420000 440000 460000 480000 500000 520000 540000 560000 580000 600000 620000 "
          ]
        }
      ]
    },
    {
      "cell_type": "code",
      "source": [
        "# update the dataframe\n",
        "classification_england['num_trustees'] = n_trustees\n",
        "classification_england['latest_income'] = latest_income\n",
        "classification_england['latest_expenditure'] = latest_expenditure\n",
        "classification_england['registration_status'] = registration_status\n",
        "classification_england.head()"
      ],
      "metadata": {
        "colab": {
          "base_uri": "https://localhost:8080/",
          "height": 264
        },
        "id": "f7jauhj3Kn2V",
        "outputId": "64119212-d6a6-4604-dee3-880a6eef0bc9"
      },
      "execution_count": 85,
      "outputs": [
        {
          "output_type": "execute_result",
          "data": {
            "text/plain": [
              "  Island Country organisation_number   Code                tag   Category  \\\n",
              "0     GB     CHC             1000000     ED          Education  Education   \n",
              "1     GB     CHC             1000000  ED102  Further education  Education   \n",
              "2     GB     CHC             1000001     AR               Arts       Arts   \n",
              "3     GB     CHC             1000001  AR104        Visual arts       Arts   \n",
              "4     GB     CHC             1000001  AR201               Film       Arts   \n",
              "\n",
              "            Subcategory  Level                            Notes  \\\n",
              "0                   NaN      1                              NaN   \n",
              "1                   NaN      3                              NaN   \n",
              "2                   NaN      1                  Includes crafts   \n",
              "3                   NaN      3  Consider relationship with arts   \n",
              "4  Media and publishing      3                              NaN   \n",
              "\n",
              "  Related ICNPTSO code  num_trustees  latest_income  latest_expenditure  \\\n",
              "0                  B90           9.0       101992.0            349277.0   \n",
              "1                  B21           9.0       101992.0            349277.0   \n",
              "2                  A10          11.0        91129.0            131934.0   \n",
              "3                  A11          11.0        91129.0            131934.0   \n",
              "4                  A11          11.0        91129.0            131934.0   \n",
              "\n",
              "  registration_status  \n",
              "0          Registered  \n",
              "1          Registered  \n",
              "2          Registered  \n",
              "3          Registered  \n",
              "4          Registered  "
            ],
            "text/html": [
              "\n",
              "  <div id=\"df-cfcc3245-85ab-45b4-8c79-757ab12ea524\">\n",
              "    <div class=\"colab-df-container\">\n",
              "      <div>\n",
              "<style scoped>\n",
              "    .dataframe tbody tr th:only-of-type {\n",
              "        vertical-align: middle;\n",
              "    }\n",
              "\n",
              "    .dataframe tbody tr th {\n",
              "        vertical-align: top;\n",
              "    }\n",
              "\n",
              "    .dataframe thead th {\n",
              "        text-align: right;\n",
              "    }\n",
              "</style>\n",
              "<table border=\"1\" class=\"dataframe\">\n",
              "  <thead>\n",
              "    <tr style=\"text-align: right;\">\n",
              "      <th></th>\n",
              "      <th>Island</th>\n",
              "      <th>Country</th>\n",
              "      <th>organisation_number</th>\n",
              "      <th>Code</th>\n",
              "      <th>tag</th>\n",
              "      <th>Category</th>\n",
              "      <th>Subcategory</th>\n",
              "      <th>Level</th>\n",
              "      <th>Notes</th>\n",
              "      <th>Related ICNPTSO code</th>\n",
              "      <th>num_trustees</th>\n",
              "      <th>latest_income</th>\n",
              "      <th>latest_expenditure</th>\n",
              "      <th>registration_status</th>\n",
              "    </tr>\n",
              "  </thead>\n",
              "  <tbody>\n",
              "    <tr>\n",
              "      <th>0</th>\n",
              "      <td>GB</td>\n",
              "      <td>CHC</td>\n",
              "      <td>1000000</td>\n",
              "      <td>ED</td>\n",
              "      <td>Education</td>\n",
              "      <td>Education</td>\n",
              "      <td>NaN</td>\n",
              "      <td>1</td>\n",
              "      <td>NaN</td>\n",
              "      <td>B90</td>\n",
              "      <td>9.0</td>\n",
              "      <td>101992.0</td>\n",
              "      <td>349277.0</td>\n",
              "      <td>Registered</td>\n",
              "    </tr>\n",
              "    <tr>\n",
              "      <th>1</th>\n",
              "      <td>GB</td>\n",
              "      <td>CHC</td>\n",
              "      <td>1000000</td>\n",
              "      <td>ED102</td>\n",
              "      <td>Further education</td>\n",
              "      <td>Education</td>\n",
              "      <td>NaN</td>\n",
              "      <td>3</td>\n",
              "      <td>NaN</td>\n",
              "      <td>B21</td>\n",
              "      <td>9.0</td>\n",
              "      <td>101992.0</td>\n",
              "      <td>349277.0</td>\n",
              "      <td>Registered</td>\n",
              "    </tr>\n",
              "    <tr>\n",
              "      <th>2</th>\n",
              "      <td>GB</td>\n",
              "      <td>CHC</td>\n",
              "      <td>1000001</td>\n",
              "      <td>AR</td>\n",
              "      <td>Arts</td>\n",
              "      <td>Arts</td>\n",
              "      <td>NaN</td>\n",
              "      <td>1</td>\n",
              "      <td>Includes crafts</td>\n",
              "      <td>A10</td>\n",
              "      <td>11.0</td>\n",
              "      <td>91129.0</td>\n",
              "      <td>131934.0</td>\n",
              "      <td>Registered</td>\n",
              "    </tr>\n",
              "    <tr>\n",
              "      <th>3</th>\n",
              "      <td>GB</td>\n",
              "      <td>CHC</td>\n",
              "      <td>1000001</td>\n",
              "      <td>AR104</td>\n",
              "      <td>Visual arts</td>\n",
              "      <td>Arts</td>\n",
              "      <td>NaN</td>\n",
              "      <td>3</td>\n",
              "      <td>Consider relationship with arts</td>\n",
              "      <td>A11</td>\n",
              "      <td>11.0</td>\n",
              "      <td>91129.0</td>\n",
              "      <td>131934.0</td>\n",
              "      <td>Registered</td>\n",
              "    </tr>\n",
              "    <tr>\n",
              "      <th>4</th>\n",
              "      <td>GB</td>\n",
              "      <td>CHC</td>\n",
              "      <td>1000001</td>\n",
              "      <td>AR201</td>\n",
              "      <td>Film</td>\n",
              "      <td>Arts</td>\n",
              "      <td>Media and publishing</td>\n",
              "      <td>3</td>\n",
              "      <td>NaN</td>\n",
              "      <td>A11</td>\n",
              "      <td>11.0</td>\n",
              "      <td>91129.0</td>\n",
              "      <td>131934.0</td>\n",
              "      <td>Registered</td>\n",
              "    </tr>\n",
              "  </tbody>\n",
              "</table>\n",
              "</div>\n",
              "      <button class=\"colab-df-convert\" onclick=\"convertToInteractive('df-cfcc3245-85ab-45b4-8c79-757ab12ea524')\"\n",
              "              title=\"Convert this dataframe to an interactive table.\"\n",
              "              style=\"display:none;\">\n",
              "        \n",
              "  <svg xmlns=\"http://www.w3.org/2000/svg\" height=\"24px\"viewBox=\"0 0 24 24\"\n",
              "       width=\"24px\">\n",
              "    <path d=\"M0 0h24v24H0V0z\" fill=\"none\"/>\n",
              "    <path d=\"M18.56 5.44l.94 2.06.94-2.06 2.06-.94-2.06-.94-.94-2.06-.94 2.06-2.06.94zm-11 1L8.5 8.5l.94-2.06 2.06-.94-2.06-.94L8.5 2.5l-.94 2.06-2.06.94zm10 10l.94 2.06.94-2.06 2.06-.94-2.06-.94-.94-2.06-.94 2.06-2.06.94z\"/><path d=\"M17.41 7.96l-1.37-1.37c-.4-.4-.92-.59-1.43-.59-.52 0-1.04.2-1.43.59L10.3 9.45l-7.72 7.72c-.78.78-.78 2.05 0 2.83L4 21.41c.39.39.9.59 1.41.59.51 0 1.02-.2 1.41-.59l7.78-7.78 2.81-2.81c.8-.78.8-2.07 0-2.86zM5.41 20L4 18.59l7.72-7.72 1.47 1.35L5.41 20z\"/>\n",
              "  </svg>\n",
              "      </button>\n",
              "      \n",
              "  <style>\n",
              "    .colab-df-container {\n",
              "      display:flex;\n",
              "      flex-wrap:wrap;\n",
              "      gap: 12px;\n",
              "    }\n",
              "\n",
              "    .colab-df-convert {\n",
              "      background-color: #E8F0FE;\n",
              "      border: none;\n",
              "      border-radius: 50%;\n",
              "      cursor: pointer;\n",
              "      display: none;\n",
              "      fill: #1967D2;\n",
              "      height: 32px;\n",
              "      padding: 0 0 0 0;\n",
              "      width: 32px;\n",
              "    }\n",
              "\n",
              "    .colab-df-convert:hover {\n",
              "      background-color: #E2EBFA;\n",
              "      box-shadow: 0px 1px 2px rgba(60, 64, 67, 0.3), 0px 1px 3px 1px rgba(60, 64, 67, 0.15);\n",
              "      fill: #174EA6;\n",
              "    }\n",
              "\n",
              "    [theme=dark] .colab-df-convert {\n",
              "      background-color: #3B4455;\n",
              "      fill: #D2E3FC;\n",
              "    }\n",
              "\n",
              "    [theme=dark] .colab-df-convert:hover {\n",
              "      background-color: #434B5C;\n",
              "      box-shadow: 0px 1px 3px 1px rgba(0, 0, 0, 0.15);\n",
              "      filter: drop-shadow(0px 1px 2px rgba(0, 0, 0, 0.3));\n",
              "      fill: #FFFFFF;\n",
              "    }\n",
              "  </style>\n",
              "\n",
              "      <script>\n",
              "        const buttonEl =\n",
              "          document.querySelector('#df-cfcc3245-85ab-45b4-8c79-757ab12ea524 button.colab-df-convert');\n",
              "        buttonEl.style.display =\n",
              "          google.colab.kernel.accessAllowed ? 'block' : 'none';\n",
              "\n",
              "        async function convertToInteractive(key) {\n",
              "          const element = document.querySelector('#df-cfcc3245-85ab-45b4-8c79-757ab12ea524');\n",
              "          const dataTable =\n",
              "            await google.colab.kernel.invokeFunction('convertToInteractive',\n",
              "                                                     [key], {});\n",
              "          if (!dataTable) return;\n",
              "\n",
              "          const docLinkHtml = 'Like what you see? Visit the ' +\n",
              "            '<a target=\"_blank\" href=https://colab.research.google.com/notebooks/data_table.ipynb>data table notebook</a>'\n",
              "            + ' to learn more about interactive tables.';\n",
              "          element.innerHTML = '';\n",
              "          dataTable['output_type'] = 'display_data';\n",
              "          await google.colab.output.renderOutput(dataTable, element);\n",
              "          const docLink = document.createElement('div');\n",
              "          docLink.innerHTML = docLinkHtml;\n",
              "          element.appendChild(docLink);\n",
              "        }\n",
              "      </script>\n",
              "    </div>\n",
              "  </div>\n",
              "  "
            ],
            "application/vnd.google.colaboratory.module+javascript": "\n      import \"https://ssl.gstatic.com/colaboratory/data_table/f872b2c2305463fd/data_table.js\";\n\n      window.createDataTable({\n        data: [[{\n            'v': 0,\n            'f': \"0\",\n        },\n\"GB\",\n\"CHC\",\n\"1000000\",\n\"ED\",\n\"Education\",\n\"Education\",\nNaN,\n{\n            'v': 1,\n            'f': \"1\",\n        },\nNaN,\n\"B90\",\n{\n            'v': 9.0,\n            'f': \"9.0\",\n        },\n{\n            'v': 101992.0,\n            'f': \"101992.0\",\n        },\n{\n            'v': 349277.0,\n            'f': \"349277.0\",\n        },\n\"Registered\"],\n [{\n            'v': 1,\n            'f': \"1\",\n        },\n\"GB\",\n\"CHC\",\n\"1000000\",\n\"ED102\",\n\"Further education\",\n\"Education\",\nNaN,\n{\n            'v': 3,\n            'f': \"3\",\n        },\nNaN,\n\"B21\",\n{\n            'v': 9.0,\n            'f': \"9.0\",\n        },\n{\n            'v': 101992.0,\n            'f': \"101992.0\",\n        },\n{\n            'v': 349277.0,\n            'f': \"349277.0\",\n        },\n\"Registered\"],\n [{\n            'v': 2,\n            'f': \"2\",\n        },\n\"GB\",\n\"CHC\",\n\"1000001\",\n\"AR\",\n\"Arts\",\n\"Arts\",\nNaN,\n{\n            'v': 1,\n            'f': \"1\",\n        },\n\"Includes crafts\",\n\"A10\",\n{\n            'v': 11.0,\n            'f': \"11.0\",\n        },\n{\n            'v': 91129.0,\n            'f': \"91129.0\",\n        },\n{\n            'v': 131934.0,\n            'f': \"131934.0\",\n        },\n\"Registered\"],\n [{\n            'v': 3,\n            'f': \"3\",\n        },\n\"GB\",\n\"CHC\",\n\"1000001\",\n\"AR104\",\n\"Visual arts\",\n\"Arts\",\nNaN,\n{\n            'v': 3,\n            'f': \"3\",\n        },\n\"Consider relationship with arts\",\n\"A11\",\n{\n            'v': 11.0,\n            'f': \"11.0\",\n        },\n{\n            'v': 91129.0,\n            'f': \"91129.0\",\n        },\n{\n            'v': 131934.0,\n            'f': \"131934.0\",\n        },\n\"Registered\"],\n [{\n            'v': 4,\n            'f': \"4\",\n        },\n\"GB\",\n\"CHC\",\n\"1000001\",\n\"AR201\",\n\"Film\",\n\"Arts\",\n\"Media and publishing\",\n{\n            'v': 3,\n            'f': \"3\",\n        },\nNaN,\n\"A11\",\n{\n            'v': 11.0,\n            'f': \"11.0\",\n        },\n{\n            'v': 91129.0,\n            'f': \"91129.0\",\n        },\n{\n            'v': 131934.0,\n            'f': \"131934.0\",\n        },\n\"Registered\"]],\n        columns: [[\"number\", \"index\"], [\"string\", \"Island\"], [\"string\", \"Country\"], [\"string\", \"organisation_number\"], [\"string\", \"Code\"], [\"string\", \"tag\"], [\"string\", \"Category\"], [\"string\", \"Subcategory\"], [\"number\", \"Level\"], [\"string\", \"Notes\"], [\"string\", \"Related ICNPTSO code\"], [\"number\", \"num_trustees\"], [\"number\", \"latest_income\"], [\"number\", \"latest_expenditure\"], [\"string\", \"registration_status\"]],\n        columnOptions: [{\"width\": \"1px\", \"className\": \"index_column\"}],\n        rowsPerPage: 25,\n        helpUrl: \"https://colab.research.google.com/notebooks/data_table.ipynb\",\n        suppressOutputScrolling: true,\n        minimumWidth: undefined,\n      });\n    "
          },
          "metadata": {},
          "execution_count": 85
        }
      ]
    },
    {
      "cell_type": "code",
      "source": [
        "Counter(classification_england['registration_status'])"
      ],
      "metadata": {
        "colab": {
          "base_uri": "https://localhost:8080/"
        },
        "id": "HgkxgJrxPGa0",
        "outputId": "7bb99323-9dd4-4a31-bacc-fa2e33026c43"
      },
      "execution_count": 86,
      "outputs": [
        {
          "output_type": "execute_result",
          "data": {
            "text/plain": [
              "Counter({'Registered': 242395, 'Removed': 20, 'Unknown': 389701})"
            ]
          },
          "metadata": {},
          "execution_count": 86
        }
      ]
    },
    {
      "cell_type": "code",
      "source": [
        "#filtering out charities with \"Removed\" or \"Unknown\" registration status from the dataframe\n",
        "classification_england_filtered = classification_england[classification_england['registration_status'] == 'Registered']\n",
        "print(classification_england_filtered.shape)"
      ],
      "metadata": {
        "colab": {
          "base_uri": "https://localhost:8080/"
        },
        "id": "FwHXUgmR1FST",
        "outputId": "506413e9-743c-456d-f27a-cc6683dc63fc"
      },
      "execution_count": 87,
      "outputs": [
        {
          "output_type": "stream",
          "name": "stdout",
          "text": [
            "(242395, 14)\n"
          ]
        }
      ]
    },
    {
      "cell_type": "code",
      "source": [
        "#adding a column with each entry 1 so that the nubmber of charities in each category can be counted at the time of aggregation using groupby\n",
        "rws = classification_england_filtered.shape[0]\n",
        "nums = [1 for i in range(rws)]\n",
        "classification_england_filtered['total_organisations'] = nums\n",
        "classification_england_filtered.head()"
      ],
      "metadata": {
        "colab": {
          "base_uri": "https://localhost:8080/",
          "height": 297
        },
        "id": "6opkZROuT8yO",
        "outputId": "81e33b2c-2f66-4657-fc11-1bd0e3cb44bc"
      },
      "execution_count": 88,
      "outputs": [
        {
          "output_type": "execute_result",
          "data": {
            "text/plain": [
              "  Island Country organisation_number   Code                tag   Category  \\\n",
              "0     GB     CHC             1000000     ED          Education  Education   \n",
              "1     GB     CHC             1000000  ED102  Further education  Education   \n",
              "2     GB     CHC             1000001     AR               Arts       Arts   \n",
              "3     GB     CHC             1000001  AR104        Visual arts       Arts   \n",
              "4     GB     CHC             1000001  AR201               Film       Arts   \n",
              "\n",
              "            Subcategory  Level                            Notes  \\\n",
              "0                   NaN      1                              NaN   \n",
              "1                   NaN      3                              NaN   \n",
              "2                   NaN      1                  Includes crafts   \n",
              "3                   NaN      3  Consider relationship with arts   \n",
              "4  Media and publishing      3                              NaN   \n",
              "\n",
              "  Related ICNPTSO code  num_trustees  latest_income  latest_expenditure  \\\n",
              "0                  B90           9.0       101992.0            349277.0   \n",
              "1                  B21           9.0       101992.0            349277.0   \n",
              "2                  A10          11.0        91129.0            131934.0   \n",
              "3                  A11          11.0        91129.0            131934.0   \n",
              "4                  A11          11.0        91129.0            131934.0   \n",
              "\n",
              "  registration_status  total_organisations  \n",
              "0          Registered                    1  \n",
              "1          Registered                    1  \n",
              "2          Registered                    1  \n",
              "3          Registered                    1  \n",
              "4          Registered                    1  "
            ],
            "text/html": [
              "\n",
              "  <div id=\"df-b768cc73-c683-4d9b-8546-ee82f971de78\">\n",
              "    <div class=\"colab-df-container\">\n",
              "      <div>\n",
              "<style scoped>\n",
              "    .dataframe tbody tr th:only-of-type {\n",
              "        vertical-align: middle;\n",
              "    }\n",
              "\n",
              "    .dataframe tbody tr th {\n",
              "        vertical-align: top;\n",
              "    }\n",
              "\n",
              "    .dataframe thead th {\n",
              "        text-align: right;\n",
              "    }\n",
              "</style>\n",
              "<table border=\"1\" class=\"dataframe\">\n",
              "  <thead>\n",
              "    <tr style=\"text-align: right;\">\n",
              "      <th></th>\n",
              "      <th>Island</th>\n",
              "      <th>Country</th>\n",
              "      <th>organisation_number</th>\n",
              "      <th>Code</th>\n",
              "      <th>tag</th>\n",
              "      <th>Category</th>\n",
              "      <th>Subcategory</th>\n",
              "      <th>Level</th>\n",
              "      <th>Notes</th>\n",
              "      <th>Related ICNPTSO code</th>\n",
              "      <th>num_trustees</th>\n",
              "      <th>latest_income</th>\n",
              "      <th>latest_expenditure</th>\n",
              "      <th>registration_status</th>\n",
              "      <th>total_organisations</th>\n",
              "    </tr>\n",
              "  </thead>\n",
              "  <tbody>\n",
              "    <tr>\n",
              "      <th>0</th>\n",
              "      <td>GB</td>\n",
              "      <td>CHC</td>\n",
              "      <td>1000000</td>\n",
              "      <td>ED</td>\n",
              "      <td>Education</td>\n",
              "      <td>Education</td>\n",
              "      <td>NaN</td>\n",
              "      <td>1</td>\n",
              "      <td>NaN</td>\n",
              "      <td>B90</td>\n",
              "      <td>9.0</td>\n",
              "      <td>101992.0</td>\n",
              "      <td>349277.0</td>\n",
              "      <td>Registered</td>\n",
              "      <td>1</td>\n",
              "    </tr>\n",
              "    <tr>\n",
              "      <th>1</th>\n",
              "      <td>GB</td>\n",
              "      <td>CHC</td>\n",
              "      <td>1000000</td>\n",
              "      <td>ED102</td>\n",
              "      <td>Further education</td>\n",
              "      <td>Education</td>\n",
              "      <td>NaN</td>\n",
              "      <td>3</td>\n",
              "      <td>NaN</td>\n",
              "      <td>B21</td>\n",
              "      <td>9.0</td>\n",
              "      <td>101992.0</td>\n",
              "      <td>349277.0</td>\n",
              "      <td>Registered</td>\n",
              "      <td>1</td>\n",
              "    </tr>\n",
              "    <tr>\n",
              "      <th>2</th>\n",
              "      <td>GB</td>\n",
              "      <td>CHC</td>\n",
              "      <td>1000001</td>\n",
              "      <td>AR</td>\n",
              "      <td>Arts</td>\n",
              "      <td>Arts</td>\n",
              "      <td>NaN</td>\n",
              "      <td>1</td>\n",
              "      <td>Includes crafts</td>\n",
              "      <td>A10</td>\n",
              "      <td>11.0</td>\n",
              "      <td>91129.0</td>\n",
              "      <td>131934.0</td>\n",
              "      <td>Registered</td>\n",
              "      <td>1</td>\n",
              "    </tr>\n",
              "    <tr>\n",
              "      <th>3</th>\n",
              "      <td>GB</td>\n",
              "      <td>CHC</td>\n",
              "      <td>1000001</td>\n",
              "      <td>AR104</td>\n",
              "      <td>Visual arts</td>\n",
              "      <td>Arts</td>\n",
              "      <td>NaN</td>\n",
              "      <td>3</td>\n",
              "      <td>Consider relationship with arts</td>\n",
              "      <td>A11</td>\n",
              "      <td>11.0</td>\n",
              "      <td>91129.0</td>\n",
              "      <td>131934.0</td>\n",
              "      <td>Registered</td>\n",
              "      <td>1</td>\n",
              "    </tr>\n",
              "    <tr>\n",
              "      <th>4</th>\n",
              "      <td>GB</td>\n",
              "      <td>CHC</td>\n",
              "      <td>1000001</td>\n",
              "      <td>AR201</td>\n",
              "      <td>Film</td>\n",
              "      <td>Arts</td>\n",
              "      <td>Media and publishing</td>\n",
              "      <td>3</td>\n",
              "      <td>NaN</td>\n",
              "      <td>A11</td>\n",
              "      <td>11.0</td>\n",
              "      <td>91129.0</td>\n",
              "      <td>131934.0</td>\n",
              "      <td>Registered</td>\n",
              "      <td>1</td>\n",
              "    </tr>\n",
              "  </tbody>\n",
              "</table>\n",
              "</div>\n",
              "      <button class=\"colab-df-convert\" onclick=\"convertToInteractive('df-b768cc73-c683-4d9b-8546-ee82f971de78')\"\n",
              "              title=\"Convert this dataframe to an interactive table.\"\n",
              "              style=\"display:none;\">\n",
              "        \n",
              "  <svg xmlns=\"http://www.w3.org/2000/svg\" height=\"24px\"viewBox=\"0 0 24 24\"\n",
              "       width=\"24px\">\n",
              "    <path d=\"M0 0h24v24H0V0z\" fill=\"none\"/>\n",
              "    <path d=\"M18.56 5.44l.94 2.06.94-2.06 2.06-.94-2.06-.94-.94-2.06-.94 2.06-2.06.94zm-11 1L8.5 8.5l.94-2.06 2.06-.94-2.06-.94L8.5 2.5l-.94 2.06-2.06.94zm10 10l.94 2.06.94-2.06 2.06-.94-2.06-.94-.94-2.06-.94 2.06-2.06.94z\"/><path d=\"M17.41 7.96l-1.37-1.37c-.4-.4-.92-.59-1.43-.59-.52 0-1.04.2-1.43.59L10.3 9.45l-7.72 7.72c-.78.78-.78 2.05 0 2.83L4 21.41c.39.39.9.59 1.41.59.51 0 1.02-.2 1.41-.59l7.78-7.78 2.81-2.81c.8-.78.8-2.07 0-2.86zM5.41 20L4 18.59l7.72-7.72 1.47 1.35L5.41 20z\"/>\n",
              "  </svg>\n",
              "      </button>\n",
              "      \n",
              "  <style>\n",
              "    .colab-df-container {\n",
              "      display:flex;\n",
              "      flex-wrap:wrap;\n",
              "      gap: 12px;\n",
              "    }\n",
              "\n",
              "    .colab-df-convert {\n",
              "      background-color: #E8F0FE;\n",
              "      border: none;\n",
              "      border-radius: 50%;\n",
              "      cursor: pointer;\n",
              "      display: none;\n",
              "      fill: #1967D2;\n",
              "      height: 32px;\n",
              "      padding: 0 0 0 0;\n",
              "      width: 32px;\n",
              "    }\n",
              "\n",
              "    .colab-df-convert:hover {\n",
              "      background-color: #E2EBFA;\n",
              "      box-shadow: 0px 1px 2px rgba(60, 64, 67, 0.3), 0px 1px 3px 1px rgba(60, 64, 67, 0.15);\n",
              "      fill: #174EA6;\n",
              "    }\n",
              "\n",
              "    [theme=dark] .colab-df-convert {\n",
              "      background-color: #3B4455;\n",
              "      fill: #D2E3FC;\n",
              "    }\n",
              "\n",
              "    [theme=dark] .colab-df-convert:hover {\n",
              "      background-color: #434B5C;\n",
              "      box-shadow: 0px 1px 3px 1px rgba(0, 0, 0, 0.15);\n",
              "      filter: drop-shadow(0px 1px 2px rgba(0, 0, 0, 0.3));\n",
              "      fill: #FFFFFF;\n",
              "    }\n",
              "  </style>\n",
              "\n",
              "      <script>\n",
              "        const buttonEl =\n",
              "          document.querySelector('#df-b768cc73-c683-4d9b-8546-ee82f971de78 button.colab-df-convert');\n",
              "        buttonEl.style.display =\n",
              "          google.colab.kernel.accessAllowed ? 'block' : 'none';\n",
              "\n",
              "        async function convertToInteractive(key) {\n",
              "          const element = document.querySelector('#df-b768cc73-c683-4d9b-8546-ee82f971de78');\n",
              "          const dataTable =\n",
              "            await google.colab.kernel.invokeFunction('convertToInteractive',\n",
              "                                                     [key], {});\n",
              "          if (!dataTable) return;\n",
              "\n",
              "          const docLinkHtml = 'Like what you see? Visit the ' +\n",
              "            '<a target=\"_blank\" href=https://colab.research.google.com/notebooks/data_table.ipynb>data table notebook</a>'\n",
              "            + ' to learn more about interactive tables.';\n",
              "          element.innerHTML = '';\n",
              "          dataTable['output_type'] = 'display_data';\n",
              "          await google.colab.output.renderOutput(dataTable, element);\n",
              "          const docLink = document.createElement('div');\n",
              "          docLink.innerHTML = docLinkHtml;\n",
              "          element.appendChild(docLink);\n",
              "        }\n",
              "      </script>\n",
              "    </div>\n",
              "  </div>\n",
              "  "
            ],
            "application/vnd.google.colaboratory.module+javascript": "\n      import \"https://ssl.gstatic.com/colaboratory/data_table/f872b2c2305463fd/data_table.js\";\n\n      window.createDataTable({\n        data: [[{\n            'v': 0,\n            'f': \"0\",\n        },\n\"GB\",\n\"CHC\",\n\"1000000\",\n\"ED\",\n\"Education\",\n\"Education\",\nNaN,\n{\n            'v': 1,\n            'f': \"1\",\n        },\nNaN,\n\"B90\",\n{\n            'v': 9.0,\n            'f': \"9.0\",\n        },\n{\n            'v': 101992.0,\n            'f': \"101992.0\",\n        },\n{\n            'v': 349277.0,\n            'f': \"349277.0\",\n        },\n\"Registered\",\n{\n            'v': 1,\n            'f': \"1\",\n        }],\n [{\n            'v': 1,\n            'f': \"1\",\n        },\n\"GB\",\n\"CHC\",\n\"1000000\",\n\"ED102\",\n\"Further education\",\n\"Education\",\nNaN,\n{\n            'v': 3,\n            'f': \"3\",\n        },\nNaN,\n\"B21\",\n{\n            'v': 9.0,\n            'f': \"9.0\",\n        },\n{\n            'v': 101992.0,\n            'f': \"101992.0\",\n        },\n{\n            'v': 349277.0,\n            'f': \"349277.0\",\n        },\n\"Registered\",\n{\n            'v': 1,\n            'f': \"1\",\n        }],\n [{\n            'v': 2,\n            'f': \"2\",\n        },\n\"GB\",\n\"CHC\",\n\"1000001\",\n\"AR\",\n\"Arts\",\n\"Arts\",\nNaN,\n{\n            'v': 1,\n            'f': \"1\",\n        },\n\"Includes crafts\",\n\"A10\",\n{\n            'v': 11.0,\n            'f': \"11.0\",\n        },\n{\n            'v': 91129.0,\n            'f': \"91129.0\",\n        },\n{\n            'v': 131934.0,\n            'f': \"131934.0\",\n        },\n\"Registered\",\n{\n            'v': 1,\n            'f': \"1\",\n        }],\n [{\n            'v': 3,\n            'f': \"3\",\n        },\n\"GB\",\n\"CHC\",\n\"1000001\",\n\"AR104\",\n\"Visual arts\",\n\"Arts\",\nNaN,\n{\n            'v': 3,\n            'f': \"3\",\n        },\n\"Consider relationship with arts\",\n\"A11\",\n{\n            'v': 11.0,\n            'f': \"11.0\",\n        },\n{\n            'v': 91129.0,\n            'f': \"91129.0\",\n        },\n{\n            'v': 131934.0,\n            'f': \"131934.0\",\n        },\n\"Registered\",\n{\n            'v': 1,\n            'f': \"1\",\n        }],\n [{\n            'v': 4,\n            'f': \"4\",\n        },\n\"GB\",\n\"CHC\",\n\"1000001\",\n\"AR201\",\n\"Film\",\n\"Arts\",\n\"Media and publishing\",\n{\n            'v': 3,\n            'f': \"3\",\n        },\nNaN,\n\"A11\",\n{\n            'v': 11.0,\n            'f': \"11.0\",\n        },\n{\n            'v': 91129.0,\n            'f': \"91129.0\",\n        },\n{\n            'v': 131934.0,\n            'f': \"131934.0\",\n        },\n\"Registered\",\n{\n            'v': 1,\n            'f': \"1\",\n        }]],\n        columns: [[\"number\", \"index\"], [\"string\", \"Island\"], [\"string\", \"Country\"], [\"string\", \"organisation_number\"], [\"string\", \"Code\"], [\"string\", \"tag\"], [\"string\", \"Category\"], [\"string\", \"Subcategory\"], [\"number\", \"Level\"], [\"string\", \"Notes\"], [\"string\", \"Related ICNPTSO code\"], [\"number\", \"num_trustees\"], [\"number\", \"latest_income\"], [\"number\", \"latest_expenditure\"], [\"string\", \"registration_status\"], [\"number\", \"total_organisations\"]],\n        columnOptions: [{\"width\": \"1px\", \"className\": \"index_column\"}],\n        rowsPerPage: 25,\n        helpUrl: \"https://colab.research.google.com/notebooks/data_table.ipynb\",\n        suppressOutputScrolling: true,\n        minimumWidth: undefined,\n      });\n    "
          },
          "metadata": {},
          "execution_count": 88
        }
      ]
    },
    {
      "cell_type": "code",
      "source": [
        "# aggregate all the data into tags\n",
        "groupedbyTag = classification_england_filtered.groupby('tag').agg({'total_organisations':'sum',\n",
        "                                                                   'num_trustees':'sum',\n",
        "                                                                   'latest_income':'sum',\n",
        "                                                                   'latest_expenditure':'sum'})\n",
        "\n",
        "groupedbyTag.head()"
      ],
      "metadata": {
        "colab": {
          "base_uri": "https://localhost:8080/",
          "height": 198
        },
        "id": "VPv43clAROeH",
        "outputId": "c1babd33-6aef-468b-f38c-c1f36924dbcf"
      },
      "execution_count": 89,
      "outputs": [
        {
          "output_type": "execute_result",
          "data": {
            "text/plain": [
              "                          total_organisations  num_trustees  latest_income  \\\n",
              "tag                                                                          \n",
              "Abuse                                     131         768.0   1.408717e+08   \n",
              "Accommodation                            2677       15644.0   4.641294e+09   \n",
              "Addiction and dependency                  148         970.0   5.967594e+08   \n",
              "Adult day care                            313        1913.0   6.306379e+08   \n",
              "Adult education                            98         705.0   1.738870e+08   \n",
              "\n",
              "                          latest_expenditure  \n",
              "tag                                           \n",
              "Abuse                           1.302116e+08  \n",
              "Accommodation                   4.635481e+09  \n",
              "Addiction and dependency        5.972269e+08  \n",
              "Adult day care                  5.900206e+08  \n",
              "Adult education                 1.639250e+08  "
            ],
            "text/html": [
              "\n",
              "  <div id=\"df-df524f21-629b-4421-9968-166c7fe78104\">\n",
              "    <div class=\"colab-df-container\">\n",
              "      <div>\n",
              "<style scoped>\n",
              "    .dataframe tbody tr th:only-of-type {\n",
              "        vertical-align: middle;\n",
              "    }\n",
              "\n",
              "    .dataframe tbody tr th {\n",
              "        vertical-align: top;\n",
              "    }\n",
              "\n",
              "    .dataframe thead th {\n",
              "        text-align: right;\n",
              "    }\n",
              "</style>\n",
              "<table border=\"1\" class=\"dataframe\">\n",
              "  <thead>\n",
              "    <tr style=\"text-align: right;\">\n",
              "      <th></th>\n",
              "      <th>total_organisations</th>\n",
              "      <th>num_trustees</th>\n",
              "      <th>latest_income</th>\n",
              "      <th>latest_expenditure</th>\n",
              "    </tr>\n",
              "    <tr>\n",
              "      <th>tag</th>\n",
              "      <th></th>\n",
              "      <th></th>\n",
              "      <th></th>\n",
              "      <th></th>\n",
              "    </tr>\n",
              "  </thead>\n",
              "  <tbody>\n",
              "    <tr>\n",
              "      <th>Abuse</th>\n",
              "      <td>131</td>\n",
              "      <td>768.0</td>\n",
              "      <td>1.408717e+08</td>\n",
              "      <td>1.302116e+08</td>\n",
              "    </tr>\n",
              "    <tr>\n",
              "      <th>Accommodation</th>\n",
              "      <td>2677</td>\n",
              "      <td>15644.0</td>\n",
              "      <td>4.641294e+09</td>\n",
              "      <td>4.635481e+09</td>\n",
              "    </tr>\n",
              "    <tr>\n",
              "      <th>Addiction and dependency</th>\n",
              "      <td>148</td>\n",
              "      <td>970.0</td>\n",
              "      <td>5.967594e+08</td>\n",
              "      <td>5.972269e+08</td>\n",
              "    </tr>\n",
              "    <tr>\n",
              "      <th>Adult day care</th>\n",
              "      <td>313</td>\n",
              "      <td>1913.0</td>\n",
              "      <td>6.306379e+08</td>\n",
              "      <td>5.900206e+08</td>\n",
              "    </tr>\n",
              "    <tr>\n",
              "      <th>Adult education</th>\n",
              "      <td>98</td>\n",
              "      <td>705.0</td>\n",
              "      <td>1.738870e+08</td>\n",
              "      <td>1.639250e+08</td>\n",
              "    </tr>\n",
              "  </tbody>\n",
              "</table>\n",
              "</div>\n",
              "      <button class=\"colab-df-convert\" onclick=\"convertToInteractive('df-df524f21-629b-4421-9968-166c7fe78104')\"\n",
              "              title=\"Convert this dataframe to an interactive table.\"\n",
              "              style=\"display:none;\">\n",
              "        \n",
              "  <svg xmlns=\"http://www.w3.org/2000/svg\" height=\"24px\"viewBox=\"0 0 24 24\"\n",
              "       width=\"24px\">\n",
              "    <path d=\"M0 0h24v24H0V0z\" fill=\"none\"/>\n",
              "    <path d=\"M18.56 5.44l.94 2.06.94-2.06 2.06-.94-2.06-.94-.94-2.06-.94 2.06-2.06.94zm-11 1L8.5 8.5l.94-2.06 2.06-.94-2.06-.94L8.5 2.5l-.94 2.06-2.06.94zm10 10l.94 2.06.94-2.06 2.06-.94-2.06-.94-.94-2.06-.94 2.06-2.06.94z\"/><path d=\"M17.41 7.96l-1.37-1.37c-.4-.4-.92-.59-1.43-.59-.52 0-1.04.2-1.43.59L10.3 9.45l-7.72 7.72c-.78.78-.78 2.05 0 2.83L4 21.41c.39.39.9.59 1.41.59.51 0 1.02-.2 1.41-.59l7.78-7.78 2.81-2.81c.8-.78.8-2.07 0-2.86zM5.41 20L4 18.59l7.72-7.72 1.47 1.35L5.41 20z\"/>\n",
              "  </svg>\n",
              "      </button>\n",
              "      \n",
              "  <style>\n",
              "    .colab-df-container {\n",
              "      display:flex;\n",
              "      flex-wrap:wrap;\n",
              "      gap: 12px;\n",
              "    }\n",
              "\n",
              "    .colab-df-convert {\n",
              "      background-color: #E8F0FE;\n",
              "      border: none;\n",
              "      border-radius: 50%;\n",
              "      cursor: pointer;\n",
              "      display: none;\n",
              "      fill: #1967D2;\n",
              "      height: 32px;\n",
              "      padding: 0 0 0 0;\n",
              "      width: 32px;\n",
              "    }\n",
              "\n",
              "    .colab-df-convert:hover {\n",
              "      background-color: #E2EBFA;\n",
              "      box-shadow: 0px 1px 2px rgba(60, 64, 67, 0.3), 0px 1px 3px 1px rgba(60, 64, 67, 0.15);\n",
              "      fill: #174EA6;\n",
              "    }\n",
              "\n",
              "    [theme=dark] .colab-df-convert {\n",
              "      background-color: #3B4455;\n",
              "      fill: #D2E3FC;\n",
              "    }\n",
              "\n",
              "    [theme=dark] .colab-df-convert:hover {\n",
              "      background-color: #434B5C;\n",
              "      box-shadow: 0px 1px 3px 1px rgba(0, 0, 0, 0.15);\n",
              "      filter: drop-shadow(0px 1px 2px rgba(0, 0, 0, 0.3));\n",
              "      fill: #FFFFFF;\n",
              "    }\n",
              "  </style>\n",
              "\n",
              "      <script>\n",
              "        const buttonEl =\n",
              "          document.querySelector('#df-df524f21-629b-4421-9968-166c7fe78104 button.colab-df-convert');\n",
              "        buttonEl.style.display =\n",
              "          google.colab.kernel.accessAllowed ? 'block' : 'none';\n",
              "\n",
              "        async function convertToInteractive(key) {\n",
              "          const element = document.querySelector('#df-df524f21-629b-4421-9968-166c7fe78104');\n",
              "          const dataTable =\n",
              "            await google.colab.kernel.invokeFunction('convertToInteractive',\n",
              "                                                     [key], {});\n",
              "          if (!dataTable) return;\n",
              "\n",
              "          const docLinkHtml = 'Like what you see? Visit the ' +\n",
              "            '<a target=\"_blank\" href=https://colab.research.google.com/notebooks/data_table.ipynb>data table notebook</a>'\n",
              "            + ' to learn more about interactive tables.';\n",
              "          element.innerHTML = '';\n",
              "          dataTable['output_type'] = 'display_data';\n",
              "          await google.colab.output.renderOutput(dataTable, element);\n",
              "          const docLink = document.createElement('div');\n",
              "          docLink.innerHTML = docLinkHtml;\n",
              "          element.appendChild(docLink);\n",
              "        }\n",
              "      </script>\n",
              "    </div>\n",
              "  </div>\n",
              "  "
            ],
            "application/vnd.google.colaboratory.module+javascript": "\n      import \"https://ssl.gstatic.com/colaboratory/data_table/f872b2c2305463fd/data_table.js\";\n\n      window.createDataTable({\n        data: [[\"Abuse\",\n{\n            'v': 131,\n            'f': \"131\",\n        },\n{\n            'v': 768.0,\n            'f': \"768.0\",\n        },\n{\n            'v': 140871680.0,\n            'f': \"140871680.0\",\n        },\n{\n            'v': 130211602.0,\n            'f': \"130211602.0\",\n        }],\n [\"Accommodation\",\n{\n            'v': 2677,\n            'f': \"2677\",\n        },\n{\n            'v': 15644.0,\n            'f': \"15644.0\",\n        },\n{\n            'v': 4641294476.0,\n            'f': \"4641294476.0\",\n        },\n{\n            'v': 4635481151.0,\n            'f': \"4635481151.0\",\n        }],\n [\"Addiction and dependency\",\n{\n            'v': 148,\n            'f': \"148\",\n        },\n{\n            'v': 970.0,\n            'f': \"970.0\",\n        },\n{\n            'v': 596759401.0,\n            'f': \"596759401.0\",\n        },\n{\n            'v': 597226864.0,\n            'f': \"597226864.0\",\n        }],\n [\"Adult day care\",\n{\n            'v': 313,\n            'f': \"313\",\n        },\n{\n            'v': 1913.0,\n            'f': \"1913.0\",\n        },\n{\n            'v': 630637900.0,\n            'f': \"630637900.0\",\n        },\n{\n            'v': 590020634.0,\n            'f': \"590020634.0\",\n        }],\n [\"Adult education\",\n{\n            'v': 98,\n            'f': \"98\",\n        },\n{\n            'v': 705.0,\n            'f': \"705.0\",\n        },\n{\n            'v': 173886973.0,\n            'f': \"173886973.0\",\n        },\n{\n            'v': 163925001.0,\n            'f': \"163925001.0\",\n        }]],\n        columns: [[\"string\", \"tag\"], [\"number\", \"total_organisations\"], [\"number\", \"num_trustees\"], [\"number\", \"latest_income\"], [\"number\", \"latest_expenditure\"]],\n        columnOptions: [{\"width\": \"1px\", \"className\": \"index_column\"}],\n        rowsPerPage: 25,\n        helpUrl: \"https://colab.research.google.com/notebooks/data_table.ipynb\",\n        suppressOutputScrolling: true,\n        minimumWidth: undefined,\n      });\n    "
          },
          "metadata": {},
          "execution_count": 89
        }
      ]
    },
    {
      "cell_type": "code",
      "source": [
        "# aggregate all data into categories\n",
        "groupedbyCategory = classification_england_filtered.groupby('Category').agg({'total_organisations':'sum',\n",
        "                                                                             'num_trustees':'sum',\n",
        "                                                                             'latest_income':'sum',\n",
        "                                                                             'latest_expenditure':'sum'})\n",
        "\n",
        "groupedbyCategory.head()"
      ],
      "metadata": {
        "colab": {
          "base_uri": "https://localhost:8080/",
          "height": 198
        },
        "id": "ORbAzlVwTDLA",
        "outputId": "9c26a4d1-645c-463d-fcc3-40a824578de4"
      },
      "execution_count": 90,
      "outputs": [
        {
          "output_type": "execute_result",
          "data": {
            "text/plain": [
              "                   total_organisations  num_trustees  latest_income  \\\n",
              "Category                                                              \n",
              "Animals                           1543        9295.0   1.719326e+09   \n",
              "Armed forces                      1158        6978.0   1.196735e+09   \n",
              "Arts                             14595       91011.0   8.888893e+09   \n",
              "Associations                     25878      131342.0   3.094910e+09   \n",
              "Beneficiary group                36824      194147.0   2.671014e+10   \n",
              "\n",
              "                   latest_expenditure  \n",
              "Category                               \n",
              "Animals                  1.798192e+09  \n",
              "Armed forces             1.289832e+09  \n",
              "Arts                     8.863788e+09  \n",
              "Associations             3.020831e+09  \n",
              "Beneficiary group        2.632054e+10  "
            ],
            "text/html": [
              "\n",
              "  <div id=\"df-0d15b589-e5c7-48b4-a10c-0822bd4f8c0d\">\n",
              "    <div class=\"colab-df-container\">\n",
              "      <div>\n",
              "<style scoped>\n",
              "    .dataframe tbody tr th:only-of-type {\n",
              "        vertical-align: middle;\n",
              "    }\n",
              "\n",
              "    .dataframe tbody tr th {\n",
              "        vertical-align: top;\n",
              "    }\n",
              "\n",
              "    .dataframe thead th {\n",
              "        text-align: right;\n",
              "    }\n",
              "</style>\n",
              "<table border=\"1\" class=\"dataframe\">\n",
              "  <thead>\n",
              "    <tr style=\"text-align: right;\">\n",
              "      <th></th>\n",
              "      <th>total_organisations</th>\n",
              "      <th>num_trustees</th>\n",
              "      <th>latest_income</th>\n",
              "      <th>latest_expenditure</th>\n",
              "    </tr>\n",
              "    <tr>\n",
              "      <th>Category</th>\n",
              "      <th></th>\n",
              "      <th></th>\n",
              "      <th></th>\n",
              "      <th></th>\n",
              "    </tr>\n",
              "  </thead>\n",
              "  <tbody>\n",
              "    <tr>\n",
              "      <th>Animals</th>\n",
              "      <td>1543</td>\n",
              "      <td>9295.0</td>\n",
              "      <td>1.719326e+09</td>\n",
              "      <td>1.798192e+09</td>\n",
              "    </tr>\n",
              "    <tr>\n",
              "      <th>Armed forces</th>\n",
              "      <td>1158</td>\n",
              "      <td>6978.0</td>\n",
              "      <td>1.196735e+09</td>\n",
              "      <td>1.289832e+09</td>\n",
              "    </tr>\n",
              "    <tr>\n",
              "      <th>Arts</th>\n",
              "      <td>14595</td>\n",
              "      <td>91011.0</td>\n",
              "      <td>8.888893e+09</td>\n",
              "      <td>8.863788e+09</td>\n",
              "    </tr>\n",
              "    <tr>\n",
              "      <th>Associations</th>\n",
              "      <td>25878</td>\n",
              "      <td>131342.0</td>\n",
              "      <td>3.094910e+09</td>\n",
              "      <td>3.020831e+09</td>\n",
              "    </tr>\n",
              "    <tr>\n",
              "      <th>Beneficiary group</th>\n",
              "      <td>36824</td>\n",
              "      <td>194147.0</td>\n",
              "      <td>2.671014e+10</td>\n",
              "      <td>2.632054e+10</td>\n",
              "    </tr>\n",
              "  </tbody>\n",
              "</table>\n",
              "</div>\n",
              "      <button class=\"colab-df-convert\" onclick=\"convertToInteractive('df-0d15b589-e5c7-48b4-a10c-0822bd4f8c0d')\"\n",
              "              title=\"Convert this dataframe to an interactive table.\"\n",
              "              style=\"display:none;\">\n",
              "        \n",
              "  <svg xmlns=\"http://www.w3.org/2000/svg\" height=\"24px\"viewBox=\"0 0 24 24\"\n",
              "       width=\"24px\">\n",
              "    <path d=\"M0 0h24v24H0V0z\" fill=\"none\"/>\n",
              "    <path d=\"M18.56 5.44l.94 2.06.94-2.06 2.06-.94-2.06-.94-.94-2.06-.94 2.06-2.06.94zm-11 1L8.5 8.5l.94-2.06 2.06-.94-2.06-.94L8.5 2.5l-.94 2.06-2.06.94zm10 10l.94 2.06.94-2.06 2.06-.94-2.06-.94-.94-2.06-.94 2.06-2.06.94z\"/><path d=\"M17.41 7.96l-1.37-1.37c-.4-.4-.92-.59-1.43-.59-.52 0-1.04.2-1.43.59L10.3 9.45l-7.72 7.72c-.78.78-.78 2.05 0 2.83L4 21.41c.39.39.9.59 1.41.59.51 0 1.02-.2 1.41-.59l7.78-7.78 2.81-2.81c.8-.78.8-2.07 0-2.86zM5.41 20L4 18.59l7.72-7.72 1.47 1.35L5.41 20z\"/>\n",
              "  </svg>\n",
              "      </button>\n",
              "      \n",
              "  <style>\n",
              "    .colab-df-container {\n",
              "      display:flex;\n",
              "      flex-wrap:wrap;\n",
              "      gap: 12px;\n",
              "    }\n",
              "\n",
              "    .colab-df-convert {\n",
              "      background-color: #E8F0FE;\n",
              "      border: none;\n",
              "      border-radius: 50%;\n",
              "      cursor: pointer;\n",
              "      display: none;\n",
              "      fill: #1967D2;\n",
              "      height: 32px;\n",
              "      padding: 0 0 0 0;\n",
              "      width: 32px;\n",
              "    }\n",
              "\n",
              "    .colab-df-convert:hover {\n",
              "      background-color: #E2EBFA;\n",
              "      box-shadow: 0px 1px 2px rgba(60, 64, 67, 0.3), 0px 1px 3px 1px rgba(60, 64, 67, 0.15);\n",
              "      fill: #174EA6;\n",
              "    }\n",
              "\n",
              "    [theme=dark] .colab-df-convert {\n",
              "      background-color: #3B4455;\n",
              "      fill: #D2E3FC;\n",
              "    }\n",
              "\n",
              "    [theme=dark] .colab-df-convert:hover {\n",
              "      background-color: #434B5C;\n",
              "      box-shadow: 0px 1px 3px 1px rgba(0, 0, 0, 0.15);\n",
              "      filter: drop-shadow(0px 1px 2px rgba(0, 0, 0, 0.3));\n",
              "      fill: #FFFFFF;\n",
              "    }\n",
              "  </style>\n",
              "\n",
              "      <script>\n",
              "        const buttonEl =\n",
              "          document.querySelector('#df-0d15b589-e5c7-48b4-a10c-0822bd4f8c0d button.colab-df-convert');\n",
              "        buttonEl.style.display =\n",
              "          google.colab.kernel.accessAllowed ? 'block' : 'none';\n",
              "\n",
              "        async function convertToInteractive(key) {\n",
              "          const element = document.querySelector('#df-0d15b589-e5c7-48b4-a10c-0822bd4f8c0d');\n",
              "          const dataTable =\n",
              "            await google.colab.kernel.invokeFunction('convertToInteractive',\n",
              "                                                     [key], {});\n",
              "          if (!dataTable) return;\n",
              "\n",
              "          const docLinkHtml = 'Like what you see? Visit the ' +\n",
              "            '<a target=\"_blank\" href=https://colab.research.google.com/notebooks/data_table.ipynb>data table notebook</a>'\n",
              "            + ' to learn more about interactive tables.';\n",
              "          element.innerHTML = '';\n",
              "          dataTable['output_type'] = 'display_data';\n",
              "          await google.colab.output.renderOutput(dataTable, element);\n",
              "          const docLink = document.createElement('div');\n",
              "          docLink.innerHTML = docLinkHtml;\n",
              "          element.appendChild(docLink);\n",
              "        }\n",
              "      </script>\n",
              "    </div>\n",
              "  </div>\n",
              "  "
            ],
            "application/vnd.google.colaboratory.module+javascript": "\n      import \"https://ssl.gstatic.com/colaboratory/data_table/f872b2c2305463fd/data_table.js\";\n\n      window.createDataTable({\n        data: [[\"Animals\",\n{\n            'v': 1543,\n            'f': \"1543\",\n        },\n{\n            'v': 9295.0,\n            'f': \"9295.0\",\n        },\n{\n            'v': 1719326120.0,\n            'f': \"1719326120.0\",\n        },\n{\n            'v': 1798192058.0,\n            'f': \"1798192058.0\",\n        }],\n [\"Armed forces\",\n{\n            'v': 1158,\n            'f': \"1158\",\n        },\n{\n            'v': 6978.0,\n            'f': \"6978.0\",\n        },\n{\n            'v': 1196735073.0,\n            'f': \"1196735073.0\",\n        },\n{\n            'v': 1289832116.0,\n            'f': \"1289832116.0\",\n        }],\n [\"Arts\",\n{\n            'v': 14595,\n            'f': \"14595\",\n        },\n{\n            'v': 91011.0,\n            'f': \"91011.0\",\n        },\n{\n            'v': 8888893035.0,\n            'f': \"8888893035.0\",\n        },\n{\n            'v': 8863787763.0,\n            'f': \"8863787763.0\",\n        }],\n [\"Associations\",\n{\n            'v': 25878,\n            'f': \"25878\",\n        },\n{\n            'v': 131342.0,\n            'f': \"131342.0\",\n        },\n{\n            'v': 3094909630.0,\n            'f': \"3094909630.0\",\n        },\n{\n            'v': 3020831492.0,\n            'f': \"3020831492.0\",\n        }],\n [\"Beneficiary group\",\n{\n            'v': 36824,\n            'f': \"36824\",\n        },\n{\n            'v': 194147.0,\n            'f': \"194147.0\",\n        },\n{\n            'v': 26710139881.0,\n            'f': \"26710139881.0\",\n        },\n{\n            'v': 26320542595.0,\n            'f': \"26320542595.0\",\n        }]],\n        columns: [[\"string\", \"Category\"], [\"number\", \"total_organisations\"], [\"number\", \"num_trustees\"], [\"number\", \"latest_income\"], [\"number\", \"latest_expenditure\"]],\n        columnOptions: [{\"width\": \"1px\", \"className\": \"index_column\"}],\n        rowsPerPage: 25,\n        helpUrl: \"https://colab.research.google.com/notebooks/data_table.ipynb\",\n        suppressOutputScrolling: true,\n        minimumWidth: undefined,\n      });\n    "
          },
          "metadata": {},
          "execution_count": 90
        }
      ]
    },
    {
      "cell_type": "code",
      "source": [
        "# save the dataframes as CSVs\n",
        "compression_opts1 = dict(method='zip',archive_name='gropuedbyTag.csv')\n",
        "compression_opts2 = dict(method='zip',archive_name='gropuedbyCategory.csv')\n",
        "groupedbyTag.to_csv('groupedbyTag.zip', index=True, compression=compression_opts1)\n",
        "groupedbyCategory.to_csv('groupedbyCategory.zip', index=True, compression=compression_opts2)"
      ],
      "metadata": {
        "id": "6TwgZIS2Uvt_"
      },
      "execution_count": 56,
      "outputs": []
    },
    {
      "cell_type": "code",
      "source": [
        "compression_opts = dict(method='zip',\n",
        "                        archive_name='classification_england_filtered.csv')\n",
        "classification_england_filtered.to_csv('classification_england_filtered.zip', index=False, compression=compression_opts)"
      ],
      "metadata": {
        "id": "Y6YhwVKFPAPB"
      },
      "execution_count": 57,
      "outputs": []
    },
    {
      "cell_type": "code",
      "source": [
        "compression_opts = dict(method='zip',\n",
        "                        archive_name='classification_england_whole.csv')\n",
        "classification_england.to_csv('classification_england_whole.zip', index=False, compression=compression_opts)"
      ],
      "metadata": {
        "id": "mfjIuAZPXDsz"
      },
      "execution_count": 58,
      "outputs": []
    },
    {
      "cell_type": "code",
      "source": [
        "#REMOVING CATEGORY DUPLICATES FOR AN ORGANISATION\n",
        "# there are rows in the main dataframe where the org no. and category is same but the the tags or sub categories are different\n",
        "# we need to account for them while groupong by categories as it will produce false results if not taken into account\n",
        "classification_england_filtered_category = classification_england_filtered.drop_duplicates(subset =[\"organisation_number\",\"Category\"],\n",
        "                                                                                  keep = \"first\", inplace = False)\n",
        "print(classification_england_filtered_category.shape)\n",
        "classification_england_filtered_category.head()"
      ],
      "metadata": {
        "colab": {
          "base_uri": "https://localhost:8080/",
          "height": 414
        },
        "id": "h6BvO_ho5zIH",
        "outputId": "40aada39-33b6-4883-aef7-cddc2764b47a"
      },
      "execution_count": 91,
      "outputs": [
        {
          "output_type": "stream",
          "name": "stdout",
          "text": [
            "(173125, 15)\n"
          ]
        },
        {
          "output_type": "execute_result",
          "data": {
            "text/plain": [
              "  Island Country organisation_number   Code                       tag  \\\n",
              "0     GB     CHC             1000000     ED                 Education   \n",
              "2     GB     CHC             1000001     AR                      Arts   \n",
              "7     GB     CHC             1000002  BE200  People with disabilities   \n",
              "8     GB     CHC             1000002  SW105        Individual poverty   \n",
              "9     GB     CHC             1000003     AR                      Arts   \n",
              "\n",
              "            Category               Subcategory  Level  \\\n",
              "0          Education                       NaN      1   \n",
              "2               Arts                       NaN      1   \n",
              "7  Beneficiary group  People with disabilities      2   \n",
              "8     Social welfare                       NaN      3   \n",
              "9               Arts                       NaN      1   \n",
              "\n",
              "                                               Notes Related ICNPTSO code  \\\n",
              "0                                                NaN                  B90   \n",
              "2                                    Includes crafts                  A10   \n",
              "7  Includes 'disability', see also separate categ...              D13;G16   \n",
              "8                   Includes financial disadvantage               G11;D19   \n",
              "9                                    Includes crafts                  A10   \n",
              "\n",
              "   num_trustees  latest_income  latest_expenditure registration_status  \\\n",
              "0           9.0       101992.0            349277.0          Registered   \n",
              "2          11.0        91129.0            131934.0          Registered   \n",
              "7           2.0            0.0                 0.0          Registered   \n",
              "8           2.0            0.0                 0.0          Registered   \n",
              "9           4.0        16443.0             25269.0          Registered   \n",
              "\n",
              "   total_organisations  \n",
              "0                    1  \n",
              "2                    1  \n",
              "7                    1  \n",
              "8                    1  \n",
              "9                    1  "
            ],
            "text/html": [
              "\n",
              "  <div id=\"df-91a35fa3-b800-4b52-b777-6a9de6f32d90\">\n",
              "    <div class=\"colab-df-container\">\n",
              "      <div>\n",
              "<style scoped>\n",
              "    .dataframe tbody tr th:only-of-type {\n",
              "        vertical-align: middle;\n",
              "    }\n",
              "\n",
              "    .dataframe tbody tr th {\n",
              "        vertical-align: top;\n",
              "    }\n",
              "\n",
              "    .dataframe thead th {\n",
              "        text-align: right;\n",
              "    }\n",
              "</style>\n",
              "<table border=\"1\" class=\"dataframe\">\n",
              "  <thead>\n",
              "    <tr style=\"text-align: right;\">\n",
              "      <th></th>\n",
              "      <th>Island</th>\n",
              "      <th>Country</th>\n",
              "      <th>organisation_number</th>\n",
              "      <th>Code</th>\n",
              "      <th>tag</th>\n",
              "      <th>Category</th>\n",
              "      <th>Subcategory</th>\n",
              "      <th>Level</th>\n",
              "      <th>Notes</th>\n",
              "      <th>Related ICNPTSO code</th>\n",
              "      <th>num_trustees</th>\n",
              "      <th>latest_income</th>\n",
              "      <th>latest_expenditure</th>\n",
              "      <th>registration_status</th>\n",
              "      <th>total_organisations</th>\n",
              "    </tr>\n",
              "  </thead>\n",
              "  <tbody>\n",
              "    <tr>\n",
              "      <th>0</th>\n",
              "      <td>GB</td>\n",
              "      <td>CHC</td>\n",
              "      <td>1000000</td>\n",
              "      <td>ED</td>\n",
              "      <td>Education</td>\n",
              "      <td>Education</td>\n",
              "      <td>NaN</td>\n",
              "      <td>1</td>\n",
              "      <td>NaN</td>\n",
              "      <td>B90</td>\n",
              "      <td>9.0</td>\n",
              "      <td>101992.0</td>\n",
              "      <td>349277.0</td>\n",
              "      <td>Registered</td>\n",
              "      <td>1</td>\n",
              "    </tr>\n",
              "    <tr>\n",
              "      <th>2</th>\n",
              "      <td>GB</td>\n",
              "      <td>CHC</td>\n",
              "      <td>1000001</td>\n",
              "      <td>AR</td>\n",
              "      <td>Arts</td>\n",
              "      <td>Arts</td>\n",
              "      <td>NaN</td>\n",
              "      <td>1</td>\n",
              "      <td>Includes crafts</td>\n",
              "      <td>A10</td>\n",
              "      <td>11.0</td>\n",
              "      <td>91129.0</td>\n",
              "      <td>131934.0</td>\n",
              "      <td>Registered</td>\n",
              "      <td>1</td>\n",
              "    </tr>\n",
              "    <tr>\n",
              "      <th>7</th>\n",
              "      <td>GB</td>\n",
              "      <td>CHC</td>\n",
              "      <td>1000002</td>\n",
              "      <td>BE200</td>\n",
              "      <td>People with disabilities</td>\n",
              "      <td>Beneficiary group</td>\n",
              "      <td>People with disabilities</td>\n",
              "      <td>2</td>\n",
              "      <td>Includes 'disability', see also separate categ...</td>\n",
              "      <td>D13;G16</td>\n",
              "      <td>2.0</td>\n",
              "      <td>0.0</td>\n",
              "      <td>0.0</td>\n",
              "      <td>Registered</td>\n",
              "      <td>1</td>\n",
              "    </tr>\n",
              "    <tr>\n",
              "      <th>8</th>\n",
              "      <td>GB</td>\n",
              "      <td>CHC</td>\n",
              "      <td>1000002</td>\n",
              "      <td>SW105</td>\n",
              "      <td>Individual poverty</td>\n",
              "      <td>Social welfare</td>\n",
              "      <td>NaN</td>\n",
              "      <td>3</td>\n",
              "      <td>Includes financial disadvantage</td>\n",
              "      <td>G11;D19</td>\n",
              "      <td>2.0</td>\n",
              "      <td>0.0</td>\n",
              "      <td>0.0</td>\n",
              "      <td>Registered</td>\n",
              "      <td>1</td>\n",
              "    </tr>\n",
              "    <tr>\n",
              "      <th>9</th>\n",
              "      <td>GB</td>\n",
              "      <td>CHC</td>\n",
              "      <td>1000003</td>\n",
              "      <td>AR</td>\n",
              "      <td>Arts</td>\n",
              "      <td>Arts</td>\n",
              "      <td>NaN</td>\n",
              "      <td>1</td>\n",
              "      <td>Includes crafts</td>\n",
              "      <td>A10</td>\n",
              "      <td>4.0</td>\n",
              "      <td>16443.0</td>\n",
              "      <td>25269.0</td>\n",
              "      <td>Registered</td>\n",
              "      <td>1</td>\n",
              "    </tr>\n",
              "  </tbody>\n",
              "</table>\n",
              "</div>\n",
              "      <button class=\"colab-df-convert\" onclick=\"convertToInteractive('df-91a35fa3-b800-4b52-b777-6a9de6f32d90')\"\n",
              "              title=\"Convert this dataframe to an interactive table.\"\n",
              "              style=\"display:none;\">\n",
              "        \n",
              "  <svg xmlns=\"http://www.w3.org/2000/svg\" height=\"24px\"viewBox=\"0 0 24 24\"\n",
              "       width=\"24px\">\n",
              "    <path d=\"M0 0h24v24H0V0z\" fill=\"none\"/>\n",
              "    <path d=\"M18.56 5.44l.94 2.06.94-2.06 2.06-.94-2.06-.94-.94-2.06-.94 2.06-2.06.94zm-11 1L8.5 8.5l.94-2.06 2.06-.94-2.06-.94L8.5 2.5l-.94 2.06-2.06.94zm10 10l.94 2.06.94-2.06 2.06-.94-2.06-.94-.94-2.06-.94 2.06-2.06.94z\"/><path d=\"M17.41 7.96l-1.37-1.37c-.4-.4-.92-.59-1.43-.59-.52 0-1.04.2-1.43.59L10.3 9.45l-7.72 7.72c-.78.78-.78 2.05 0 2.83L4 21.41c.39.39.9.59 1.41.59.51 0 1.02-.2 1.41-.59l7.78-7.78 2.81-2.81c.8-.78.8-2.07 0-2.86zM5.41 20L4 18.59l7.72-7.72 1.47 1.35L5.41 20z\"/>\n",
              "  </svg>\n",
              "      </button>\n",
              "      \n",
              "  <style>\n",
              "    .colab-df-container {\n",
              "      display:flex;\n",
              "      flex-wrap:wrap;\n",
              "      gap: 12px;\n",
              "    }\n",
              "\n",
              "    .colab-df-convert {\n",
              "      background-color: #E8F0FE;\n",
              "      border: none;\n",
              "      border-radius: 50%;\n",
              "      cursor: pointer;\n",
              "      display: none;\n",
              "      fill: #1967D2;\n",
              "      height: 32px;\n",
              "      padding: 0 0 0 0;\n",
              "      width: 32px;\n",
              "    }\n",
              "\n",
              "    .colab-df-convert:hover {\n",
              "      background-color: #E2EBFA;\n",
              "      box-shadow: 0px 1px 2px rgba(60, 64, 67, 0.3), 0px 1px 3px 1px rgba(60, 64, 67, 0.15);\n",
              "      fill: #174EA6;\n",
              "    }\n",
              "\n",
              "    [theme=dark] .colab-df-convert {\n",
              "      background-color: #3B4455;\n",
              "      fill: #D2E3FC;\n",
              "    }\n",
              "\n",
              "    [theme=dark] .colab-df-convert:hover {\n",
              "      background-color: #434B5C;\n",
              "      box-shadow: 0px 1px 3px 1px rgba(0, 0, 0, 0.15);\n",
              "      filter: drop-shadow(0px 1px 2px rgba(0, 0, 0, 0.3));\n",
              "      fill: #FFFFFF;\n",
              "    }\n",
              "  </style>\n",
              "\n",
              "      <script>\n",
              "        const buttonEl =\n",
              "          document.querySelector('#df-91a35fa3-b800-4b52-b777-6a9de6f32d90 button.colab-df-convert');\n",
              "        buttonEl.style.display =\n",
              "          google.colab.kernel.accessAllowed ? 'block' : 'none';\n",
              "\n",
              "        async function convertToInteractive(key) {\n",
              "          const element = document.querySelector('#df-91a35fa3-b800-4b52-b777-6a9de6f32d90');\n",
              "          const dataTable =\n",
              "            await google.colab.kernel.invokeFunction('convertToInteractive',\n",
              "                                                     [key], {});\n",
              "          if (!dataTable) return;\n",
              "\n",
              "          const docLinkHtml = 'Like what you see? Visit the ' +\n",
              "            '<a target=\"_blank\" href=https://colab.research.google.com/notebooks/data_table.ipynb>data table notebook</a>'\n",
              "            + ' to learn more about interactive tables.';\n",
              "          element.innerHTML = '';\n",
              "          dataTable['output_type'] = 'display_data';\n",
              "          await google.colab.output.renderOutput(dataTable, element);\n",
              "          const docLink = document.createElement('div');\n",
              "          docLink.innerHTML = docLinkHtml;\n",
              "          element.appendChild(docLink);\n",
              "        }\n",
              "      </script>\n",
              "    </div>\n",
              "  </div>\n",
              "  "
            ],
            "application/vnd.google.colaboratory.module+javascript": "\n      import \"https://ssl.gstatic.com/colaboratory/data_table/f872b2c2305463fd/data_table.js\";\n\n      window.createDataTable({\n        data: [[{\n            'v': 0,\n            'f': \"0\",\n        },\n\"GB\",\n\"CHC\",\n\"1000000\",\n\"ED\",\n\"Education\",\n\"Education\",\nNaN,\n{\n            'v': 1,\n            'f': \"1\",\n        },\nNaN,\n\"B90\",\n{\n            'v': 9.0,\n            'f': \"9.0\",\n        },\n{\n            'v': 101992.0,\n            'f': \"101992.0\",\n        },\n{\n            'v': 349277.0,\n            'f': \"349277.0\",\n        },\n\"Registered\",\n{\n            'v': 1,\n            'f': \"1\",\n        }],\n [{\n            'v': 2,\n            'f': \"2\",\n        },\n\"GB\",\n\"CHC\",\n\"1000001\",\n\"AR\",\n\"Arts\",\n\"Arts\",\nNaN,\n{\n            'v': 1,\n            'f': \"1\",\n        },\n\"Includes crafts\",\n\"A10\",\n{\n            'v': 11.0,\n            'f': \"11.0\",\n        },\n{\n            'v': 91129.0,\n            'f': \"91129.0\",\n        },\n{\n            'v': 131934.0,\n            'f': \"131934.0\",\n        },\n\"Registered\",\n{\n            'v': 1,\n            'f': \"1\",\n        }],\n [{\n            'v': 7,\n            'f': \"7\",\n        },\n\"GB\",\n\"CHC\",\n\"1000002\",\n\"BE200\",\n\"People with disabilities\",\n\"Beneficiary group\",\n\"People with disabilities\",\n{\n            'v': 2,\n            'f': \"2\",\n        },\n\"Includes 'disability', see also separate category 'people with learning disabilities'\",\n\"D13;G16\",\n{\n            'v': 2.0,\n            'f': \"2.0\",\n        },\n{\n            'v': 0.0,\n            'f': \"0.0\",\n        },\n{\n            'v': 0.0,\n            'f': \"0.0\",\n        },\n\"Registered\",\n{\n            'v': 1,\n            'f': \"1\",\n        }],\n [{\n            'v': 8,\n            'f': \"8\",\n        },\n\"GB\",\n\"CHC\",\n\"1000002\",\n\"SW105\",\n\"Individual poverty\",\n\"Social welfare\",\nNaN,\n{\n            'v': 3,\n            'f': \"3\",\n        },\n\"Includes financial disadvantage \",\n\"G11;D19\",\n{\n            'v': 2.0,\n            'f': \"2.0\",\n        },\n{\n            'v': 0.0,\n            'f': \"0.0\",\n        },\n{\n            'v': 0.0,\n            'f': \"0.0\",\n        },\n\"Registered\",\n{\n            'v': 1,\n            'f': \"1\",\n        }],\n [{\n            'v': 9,\n            'f': \"9\",\n        },\n\"GB\",\n\"CHC\",\n\"1000003\",\n\"AR\",\n\"Arts\",\n\"Arts\",\nNaN,\n{\n            'v': 1,\n            'f': \"1\",\n        },\n\"Includes crafts\",\n\"A10\",\n{\n            'v': 4.0,\n            'f': \"4.0\",\n        },\n{\n            'v': 16443.0,\n            'f': \"16443.0\",\n        },\n{\n            'v': 25269.0,\n            'f': \"25269.0\",\n        },\n\"Registered\",\n{\n            'v': 1,\n            'f': \"1\",\n        }]],\n        columns: [[\"number\", \"index\"], [\"string\", \"Island\"], [\"string\", \"Country\"], [\"string\", \"organisation_number\"], [\"string\", \"Code\"], [\"string\", \"tag\"], [\"string\", \"Category\"], [\"string\", \"Subcategory\"], [\"number\", \"Level\"], [\"string\", \"Notes\"], [\"string\", \"Related ICNPTSO code\"], [\"number\", \"num_trustees\"], [\"number\", \"latest_income\"], [\"number\", \"latest_expenditure\"], [\"string\", \"registration_status\"], [\"number\", \"total_organisations\"]],\n        columnOptions: [{\"width\": \"1px\", \"className\": \"index_column\"}],\n        rowsPerPage: 25,\n        helpUrl: \"https://colab.research.google.com/notebooks/data_table.ipynb\",\n        suppressOutputScrolling: true,\n        minimumWidth: undefined,\n      });\n    "
          },
          "metadata": {},
          "execution_count": 91
        }
      ]
    },
    {
      "cell_type": "code",
      "source": [
        "classification_england_filtered_category.to_csv('classification_england_filtered_RemovedCategoryDuplicates.zip', index=False, compression=compression_opts)"
      ],
      "metadata": {
        "id": "VEWtNthWZzCP"
      },
      "execution_count": 60,
      "outputs": []
    },
    {
      "cell_type": "code",
      "source": [
        "#Grouping by category again after removing the duplicates\n",
        "groupedbyCategory_filtered = classification_england_filtered_category.groupby('Category').agg({'total_organisations':'sum',\n",
        "                                                                             'num_trustees':'sum',\n",
        "                                                                             'latest_income':'sum',\n",
        "                                                                             'latest_expenditure':'sum'})\n",
        "\n",
        "groupedbyCategory_filtered.head()"
      ],
      "metadata": {
        "colab": {
          "base_uri": "https://localhost:8080/",
          "height": 198
        },
        "id": "YdABF-ur8nRx",
        "outputId": "c6fc0bdf-5456-455f-99be-7eaee117de13"
      },
      "execution_count": 92,
      "outputs": [
        {
          "output_type": "execute_result",
          "data": {
            "text/plain": [
              "                   total_organisations  num_trustees  latest_income  \\\n",
              "Category                                                              \n",
              "Animals                           1098        6773.0   1.239507e+09   \n",
              "Armed forces                       845        5014.0   9.386814e+08   \n",
              "Arts                              9058       54968.0   6.286894e+09   \n",
              "Associations                     20680      105866.0   2.813041e+09   \n",
              "Beneficiary group                25262      132958.0   1.580136e+10   \n",
              "\n",
              "                   latest_expenditure  \n",
              "Category                               \n",
              "Animals                  1.271909e+09  \n",
              "Armed forces             9.919472e+08  \n",
              "Arts                     6.269809e+09  \n",
              "Associations             2.751299e+09  \n",
              "Beneficiary group        1.565230e+10  "
            ],
            "text/html": [
              "\n",
              "  <div id=\"df-d228a5d8-cee0-4378-9718-38ae60f1c06f\">\n",
              "    <div class=\"colab-df-container\">\n",
              "      <div>\n",
              "<style scoped>\n",
              "    .dataframe tbody tr th:only-of-type {\n",
              "        vertical-align: middle;\n",
              "    }\n",
              "\n",
              "    .dataframe tbody tr th {\n",
              "        vertical-align: top;\n",
              "    }\n",
              "\n",
              "    .dataframe thead th {\n",
              "        text-align: right;\n",
              "    }\n",
              "</style>\n",
              "<table border=\"1\" class=\"dataframe\">\n",
              "  <thead>\n",
              "    <tr style=\"text-align: right;\">\n",
              "      <th></th>\n",
              "      <th>total_organisations</th>\n",
              "      <th>num_trustees</th>\n",
              "      <th>latest_income</th>\n",
              "      <th>latest_expenditure</th>\n",
              "    </tr>\n",
              "    <tr>\n",
              "      <th>Category</th>\n",
              "      <th></th>\n",
              "      <th></th>\n",
              "      <th></th>\n",
              "      <th></th>\n",
              "    </tr>\n",
              "  </thead>\n",
              "  <tbody>\n",
              "    <tr>\n",
              "      <th>Animals</th>\n",
              "      <td>1098</td>\n",
              "      <td>6773.0</td>\n",
              "      <td>1.239507e+09</td>\n",
              "      <td>1.271909e+09</td>\n",
              "    </tr>\n",
              "    <tr>\n",
              "      <th>Armed forces</th>\n",
              "      <td>845</td>\n",
              "      <td>5014.0</td>\n",
              "      <td>9.386814e+08</td>\n",
              "      <td>9.919472e+08</td>\n",
              "    </tr>\n",
              "    <tr>\n",
              "      <th>Arts</th>\n",
              "      <td>9058</td>\n",
              "      <td>54968.0</td>\n",
              "      <td>6.286894e+09</td>\n",
              "      <td>6.269809e+09</td>\n",
              "    </tr>\n",
              "    <tr>\n",
              "      <th>Associations</th>\n",
              "      <td>20680</td>\n",
              "      <td>105866.0</td>\n",
              "      <td>2.813041e+09</td>\n",
              "      <td>2.751299e+09</td>\n",
              "    </tr>\n",
              "    <tr>\n",
              "      <th>Beneficiary group</th>\n",
              "      <td>25262</td>\n",
              "      <td>132958.0</td>\n",
              "      <td>1.580136e+10</td>\n",
              "      <td>1.565230e+10</td>\n",
              "    </tr>\n",
              "  </tbody>\n",
              "</table>\n",
              "</div>\n",
              "      <button class=\"colab-df-convert\" onclick=\"convertToInteractive('df-d228a5d8-cee0-4378-9718-38ae60f1c06f')\"\n",
              "              title=\"Convert this dataframe to an interactive table.\"\n",
              "              style=\"display:none;\">\n",
              "        \n",
              "  <svg xmlns=\"http://www.w3.org/2000/svg\" height=\"24px\"viewBox=\"0 0 24 24\"\n",
              "       width=\"24px\">\n",
              "    <path d=\"M0 0h24v24H0V0z\" fill=\"none\"/>\n",
              "    <path d=\"M18.56 5.44l.94 2.06.94-2.06 2.06-.94-2.06-.94-.94-2.06-.94 2.06-2.06.94zm-11 1L8.5 8.5l.94-2.06 2.06-.94-2.06-.94L8.5 2.5l-.94 2.06-2.06.94zm10 10l.94 2.06.94-2.06 2.06-.94-2.06-.94-.94-2.06-.94 2.06-2.06.94z\"/><path d=\"M17.41 7.96l-1.37-1.37c-.4-.4-.92-.59-1.43-.59-.52 0-1.04.2-1.43.59L10.3 9.45l-7.72 7.72c-.78.78-.78 2.05 0 2.83L4 21.41c.39.39.9.59 1.41.59.51 0 1.02-.2 1.41-.59l7.78-7.78 2.81-2.81c.8-.78.8-2.07 0-2.86zM5.41 20L4 18.59l7.72-7.72 1.47 1.35L5.41 20z\"/>\n",
              "  </svg>\n",
              "      </button>\n",
              "      \n",
              "  <style>\n",
              "    .colab-df-container {\n",
              "      display:flex;\n",
              "      flex-wrap:wrap;\n",
              "      gap: 12px;\n",
              "    }\n",
              "\n",
              "    .colab-df-convert {\n",
              "      background-color: #E8F0FE;\n",
              "      border: none;\n",
              "      border-radius: 50%;\n",
              "      cursor: pointer;\n",
              "      display: none;\n",
              "      fill: #1967D2;\n",
              "      height: 32px;\n",
              "      padding: 0 0 0 0;\n",
              "      width: 32px;\n",
              "    }\n",
              "\n",
              "    .colab-df-convert:hover {\n",
              "      background-color: #E2EBFA;\n",
              "      box-shadow: 0px 1px 2px rgba(60, 64, 67, 0.3), 0px 1px 3px 1px rgba(60, 64, 67, 0.15);\n",
              "      fill: #174EA6;\n",
              "    }\n",
              "\n",
              "    [theme=dark] .colab-df-convert {\n",
              "      background-color: #3B4455;\n",
              "      fill: #D2E3FC;\n",
              "    }\n",
              "\n",
              "    [theme=dark] .colab-df-convert:hover {\n",
              "      background-color: #434B5C;\n",
              "      box-shadow: 0px 1px 3px 1px rgba(0, 0, 0, 0.15);\n",
              "      filter: drop-shadow(0px 1px 2px rgba(0, 0, 0, 0.3));\n",
              "      fill: #FFFFFF;\n",
              "    }\n",
              "  </style>\n",
              "\n",
              "      <script>\n",
              "        const buttonEl =\n",
              "          document.querySelector('#df-d228a5d8-cee0-4378-9718-38ae60f1c06f button.colab-df-convert');\n",
              "        buttonEl.style.display =\n",
              "          google.colab.kernel.accessAllowed ? 'block' : 'none';\n",
              "\n",
              "        async function convertToInteractive(key) {\n",
              "          const element = document.querySelector('#df-d228a5d8-cee0-4378-9718-38ae60f1c06f');\n",
              "          const dataTable =\n",
              "            await google.colab.kernel.invokeFunction('convertToInteractive',\n",
              "                                                     [key], {});\n",
              "          if (!dataTable) return;\n",
              "\n",
              "          const docLinkHtml = 'Like what you see? Visit the ' +\n",
              "            '<a target=\"_blank\" href=https://colab.research.google.com/notebooks/data_table.ipynb>data table notebook</a>'\n",
              "            + ' to learn more about interactive tables.';\n",
              "          element.innerHTML = '';\n",
              "          dataTable['output_type'] = 'display_data';\n",
              "          await google.colab.output.renderOutput(dataTable, element);\n",
              "          const docLink = document.createElement('div');\n",
              "          docLink.innerHTML = docLinkHtml;\n",
              "          element.appendChild(docLink);\n",
              "        }\n",
              "      </script>\n",
              "    </div>\n",
              "  </div>\n",
              "  "
            ],
            "application/vnd.google.colaboratory.module+javascript": "\n      import \"https://ssl.gstatic.com/colaboratory/data_table/f872b2c2305463fd/data_table.js\";\n\n      window.createDataTable({\n        data: [[\"Animals\",\n{\n            'v': 1098,\n            'f': \"1098\",\n        },\n{\n            'v': 6773.0,\n            'f': \"6773.0\",\n        },\n{\n            'v': 1239506840.0,\n            'f': \"1239506840.0\",\n        },\n{\n            'v': 1271908944.0,\n            'f': \"1271908944.0\",\n        }],\n [\"Armed forces\",\n{\n            'v': 845,\n            'f': \"845\",\n        },\n{\n            'v': 5014.0,\n            'f': \"5014.0\",\n        },\n{\n            'v': 938681394.0,\n            'f': \"938681394.0\",\n        },\n{\n            'v': 991947184.0,\n            'f': \"991947184.0\",\n        }],\n [\"Arts\",\n{\n            'v': 9058,\n            'f': \"9058\",\n        },\n{\n            'v': 54968.0,\n            'f': \"54968.0\",\n        },\n{\n            'v': 6286894300.0,\n            'f': \"6286894300.0\",\n        },\n{\n            'v': 6269808594.0,\n            'f': \"6269808594.0\",\n        }],\n [\"Associations\",\n{\n            'v': 20680,\n            'f': \"20680\",\n        },\n{\n            'v': 105866.0,\n            'f': \"105866.0\",\n        },\n{\n            'v': 2813040813.0,\n            'f': \"2813040813.0\",\n        },\n{\n            'v': 2751299145.0,\n            'f': \"2751299145.0\",\n        }],\n [\"Beneficiary group\",\n{\n            'v': 25262,\n            'f': \"25262\",\n        },\n{\n            'v': 132958.0,\n            'f': \"132958.0\",\n        },\n{\n            'v': 15801356953.0,\n            'f': \"15801356953.0\",\n        },\n{\n            'v': 15652298028.0,\n            'f': \"15652298028.0\",\n        }]],\n        columns: [[\"string\", \"Category\"], [\"number\", \"total_organisations\"], [\"number\", \"num_trustees\"], [\"number\", \"latest_income\"], [\"number\", \"latest_expenditure\"]],\n        columnOptions: [{\"width\": \"1px\", \"className\": \"index_column\"}],\n        rowsPerPage: 25,\n        helpUrl: \"https://colab.research.google.com/notebooks/data_table.ipynb\",\n        suppressOutputScrolling: true,\n        minimumWidth: undefined,\n      });\n    "
          },
          "metadata": {},
          "execution_count": 92
        }
      ]
    },
    {
      "cell_type": "code",
      "source": [
        "compression_opts111 = dict(method='zip',archive_name='gropuedbyCategory_filtered.csv')\n",
        "groupedbyCategory_filtered.to_csv('groupedbyCategory_filtered.zip', index=True, compression=compression_opts111)"
      ],
      "metadata": {
        "id": "BysfDVgq8--8"
      },
      "execution_count": 62,
      "outputs": []
    },
    {
      "cell_type": "code",
      "source": [
        "#Arranged in decreasing number of total organisations\n",
        "groupedbyCategory_filtered.sort_values(by=['total_organisations'],ascending=False)\n"
      ],
      "metadata": {
        "colab": {
          "base_uri": "https://localhost:8080/",
          "height": 607
        },
        "id": "Iwsk4EPW-bF5",
        "outputId": "ead05391-ea92-48e9-8c5d-e66c5410baac"
      },
      "execution_count": 93,
      "outputs": [
        {
          "output_type": "execute_result",
          "data": {
            "text/plain": [
              "                                    total_organisations  num_trustees  \\\n",
              "Category                                                                \n",
              "Beneficiary group                                 25262      132958.0   \n",
              "Education                                         24937      133785.0   \n",
              "Associations                                      20680      105866.0   \n",
              "Charity and VCS support                           11794       54377.0   \n",
              "Religion                                          11426       58041.0   \n",
              "Charitable activities                             11046       58894.0   \n",
              "Facilities                                        10499       57487.0   \n",
              "Social welfare                                     9857       48476.0   \n",
              "Arts                                               9058       54968.0   \n",
              "Leisure                                            9046       48137.0   \n",
              "Health                                             5857       34821.0   \n",
              "Housing                                            4402       25691.0   \n",
              "Childcare                                          4056       19501.0   \n",
              "Heritage                                           3761       24798.0   \n",
              "Economic and community development                 3063       18292.0   \n",
              "Research                                           2744       18502.0   \n",
              "Animals                                            1098        6773.0   \n",
              "Social care                                        1047        6246.0   \n",
              "Armed forces                                        845        5014.0   \n",
              "Professions                                         683        3785.0   \n",
              "Saving of lives                                     646        3488.0   \n",
              "Society                                             508        3239.0   \n",
              "Environment                                         496        3351.0   \n",
              "Crime and Justice                                   314        2039.0   \n",
              "\n",
              "                                    latest_income  latest_expenditure  \n",
              "Category                                                               \n",
              "Beneficiary group                    1.580136e+10        1.565230e+10  \n",
              "Education                            1.863456e+10        1.819386e+10  \n",
              "Associations                         2.813041e+09        2.751299e+09  \n",
              "Charity and VCS support              4.006932e+09        4.007274e+09  \n",
              "Religion                             5.765834e+09        5.555539e+09  \n",
              "Charitable activities                7.683247e+09        8.632737e+09  \n",
              "Facilities                           7.793328e+08        7.370693e+08  \n",
              "Social welfare                       4.755827e+09        4.814662e+09  \n",
              "Arts                                 6.286894e+09        6.269809e+09  \n",
              "Leisure                              2.001227e+09        2.001660e+09  \n",
              "Health                               1.022948e+10        1.075946e+10  \n",
              "Housing                              5.431347e+09        5.411800e+09  \n",
              "Childcare                            8.645901e+08        8.432468e+08  \n",
              "Heritage                             1.533209e+09        1.509095e+09  \n",
              "Economic and community development   2.925287e+09        2.884785e+09  \n",
              "Research                             4.951187e+09        5.675731e+09  \n",
              "Animals                              1.239507e+09        1.271909e+09  \n",
              "Social care                          2.779518e+09        2.719290e+09  \n",
              "Armed forces                         9.386814e+08        9.919472e+08  \n",
              "Professions                          4.476061e+08        4.585679e+08  \n",
              "Saving of lives                      2.095373e+09        2.060581e+09  \n",
              "Society                              4.017397e+08        3.694542e+08  \n",
              "Environment                          7.240836e+08        6.750106e+08  \n",
              "Crime and Justice                    1.041919e+09        1.018596e+09  "
            ],
            "text/html": [
              "\n",
              "  <div id=\"df-ed59d34d-5433-4a21-9f43-79a0699b70e6\">\n",
              "    <div class=\"colab-df-container\">\n",
              "      <div>\n",
              "<style scoped>\n",
              "    .dataframe tbody tr th:only-of-type {\n",
              "        vertical-align: middle;\n",
              "    }\n",
              "\n",
              "    .dataframe tbody tr th {\n",
              "        vertical-align: top;\n",
              "    }\n",
              "\n",
              "    .dataframe thead th {\n",
              "        text-align: right;\n",
              "    }\n",
              "</style>\n",
              "<table border=\"1\" class=\"dataframe\">\n",
              "  <thead>\n",
              "    <tr style=\"text-align: right;\">\n",
              "      <th></th>\n",
              "      <th>total_organisations</th>\n",
              "      <th>num_trustees</th>\n",
              "      <th>latest_income</th>\n",
              "      <th>latest_expenditure</th>\n",
              "    </tr>\n",
              "    <tr>\n",
              "      <th>Category</th>\n",
              "      <th></th>\n",
              "      <th></th>\n",
              "      <th></th>\n",
              "      <th></th>\n",
              "    </tr>\n",
              "  </thead>\n",
              "  <tbody>\n",
              "    <tr>\n",
              "      <th>Beneficiary group</th>\n",
              "      <td>25262</td>\n",
              "      <td>132958.0</td>\n",
              "      <td>1.580136e+10</td>\n",
              "      <td>1.565230e+10</td>\n",
              "    </tr>\n",
              "    <tr>\n",
              "      <th>Education</th>\n",
              "      <td>24937</td>\n",
              "      <td>133785.0</td>\n",
              "      <td>1.863456e+10</td>\n",
              "      <td>1.819386e+10</td>\n",
              "    </tr>\n",
              "    <tr>\n",
              "      <th>Associations</th>\n",
              "      <td>20680</td>\n",
              "      <td>105866.0</td>\n",
              "      <td>2.813041e+09</td>\n",
              "      <td>2.751299e+09</td>\n",
              "    </tr>\n",
              "    <tr>\n",
              "      <th>Charity and VCS support</th>\n",
              "      <td>11794</td>\n",
              "      <td>54377.0</td>\n",
              "      <td>4.006932e+09</td>\n",
              "      <td>4.007274e+09</td>\n",
              "    </tr>\n",
              "    <tr>\n",
              "      <th>Religion</th>\n",
              "      <td>11426</td>\n",
              "      <td>58041.0</td>\n",
              "      <td>5.765834e+09</td>\n",
              "      <td>5.555539e+09</td>\n",
              "    </tr>\n",
              "    <tr>\n",
              "      <th>Charitable activities</th>\n",
              "      <td>11046</td>\n",
              "      <td>58894.0</td>\n",
              "      <td>7.683247e+09</td>\n",
              "      <td>8.632737e+09</td>\n",
              "    </tr>\n",
              "    <tr>\n",
              "      <th>Facilities</th>\n",
              "      <td>10499</td>\n",
              "      <td>57487.0</td>\n",
              "      <td>7.793328e+08</td>\n",
              "      <td>7.370693e+08</td>\n",
              "    </tr>\n",
              "    <tr>\n",
              "      <th>Social welfare</th>\n",
              "      <td>9857</td>\n",
              "      <td>48476.0</td>\n",
              "      <td>4.755827e+09</td>\n",
              "      <td>4.814662e+09</td>\n",
              "    </tr>\n",
              "    <tr>\n",
              "      <th>Arts</th>\n",
              "      <td>9058</td>\n",
              "      <td>54968.0</td>\n",
              "      <td>6.286894e+09</td>\n",
              "      <td>6.269809e+09</td>\n",
              "    </tr>\n",
              "    <tr>\n",
              "      <th>Leisure</th>\n",
              "      <td>9046</td>\n",
              "      <td>48137.0</td>\n",
              "      <td>2.001227e+09</td>\n",
              "      <td>2.001660e+09</td>\n",
              "    </tr>\n",
              "    <tr>\n",
              "      <th>Health</th>\n",
              "      <td>5857</td>\n",
              "      <td>34821.0</td>\n",
              "      <td>1.022948e+10</td>\n",
              "      <td>1.075946e+10</td>\n",
              "    </tr>\n",
              "    <tr>\n",
              "      <th>Housing</th>\n",
              "      <td>4402</td>\n",
              "      <td>25691.0</td>\n",
              "      <td>5.431347e+09</td>\n",
              "      <td>5.411800e+09</td>\n",
              "    </tr>\n",
              "    <tr>\n",
              "      <th>Childcare</th>\n",
              "      <td>4056</td>\n",
              "      <td>19501.0</td>\n",
              "      <td>8.645901e+08</td>\n",
              "      <td>8.432468e+08</td>\n",
              "    </tr>\n",
              "    <tr>\n",
              "      <th>Heritage</th>\n",
              "      <td>3761</td>\n",
              "      <td>24798.0</td>\n",
              "      <td>1.533209e+09</td>\n",
              "      <td>1.509095e+09</td>\n",
              "    </tr>\n",
              "    <tr>\n",
              "      <th>Economic and community development</th>\n",
              "      <td>3063</td>\n",
              "      <td>18292.0</td>\n",
              "      <td>2.925287e+09</td>\n",
              "      <td>2.884785e+09</td>\n",
              "    </tr>\n",
              "    <tr>\n",
              "      <th>Research</th>\n",
              "      <td>2744</td>\n",
              "      <td>18502.0</td>\n",
              "      <td>4.951187e+09</td>\n",
              "      <td>5.675731e+09</td>\n",
              "    </tr>\n",
              "    <tr>\n",
              "      <th>Animals</th>\n",
              "      <td>1098</td>\n",
              "      <td>6773.0</td>\n",
              "      <td>1.239507e+09</td>\n",
              "      <td>1.271909e+09</td>\n",
              "    </tr>\n",
              "    <tr>\n",
              "      <th>Social care</th>\n",
              "      <td>1047</td>\n",
              "      <td>6246.0</td>\n",
              "      <td>2.779518e+09</td>\n",
              "      <td>2.719290e+09</td>\n",
              "    </tr>\n",
              "    <tr>\n",
              "      <th>Armed forces</th>\n",
              "      <td>845</td>\n",
              "      <td>5014.0</td>\n",
              "      <td>9.386814e+08</td>\n",
              "      <td>9.919472e+08</td>\n",
              "    </tr>\n",
              "    <tr>\n",
              "      <th>Professions</th>\n",
              "      <td>683</td>\n",
              "      <td>3785.0</td>\n",
              "      <td>4.476061e+08</td>\n",
              "      <td>4.585679e+08</td>\n",
              "    </tr>\n",
              "    <tr>\n",
              "      <th>Saving of lives</th>\n",
              "      <td>646</td>\n",
              "      <td>3488.0</td>\n",
              "      <td>2.095373e+09</td>\n",
              "      <td>2.060581e+09</td>\n",
              "    </tr>\n",
              "    <tr>\n",
              "      <th>Society</th>\n",
              "      <td>508</td>\n",
              "      <td>3239.0</td>\n",
              "      <td>4.017397e+08</td>\n",
              "      <td>3.694542e+08</td>\n",
              "    </tr>\n",
              "    <tr>\n",
              "      <th>Environment</th>\n",
              "      <td>496</td>\n",
              "      <td>3351.0</td>\n",
              "      <td>7.240836e+08</td>\n",
              "      <td>6.750106e+08</td>\n",
              "    </tr>\n",
              "    <tr>\n",
              "      <th>Crime and Justice</th>\n",
              "      <td>314</td>\n",
              "      <td>2039.0</td>\n",
              "      <td>1.041919e+09</td>\n",
              "      <td>1.018596e+09</td>\n",
              "    </tr>\n",
              "  </tbody>\n",
              "</table>\n",
              "</div>\n",
              "      <button class=\"colab-df-convert\" onclick=\"convertToInteractive('df-ed59d34d-5433-4a21-9f43-79a0699b70e6')\"\n",
              "              title=\"Convert this dataframe to an interactive table.\"\n",
              "              style=\"display:none;\">\n",
              "        \n",
              "  <svg xmlns=\"http://www.w3.org/2000/svg\" height=\"24px\"viewBox=\"0 0 24 24\"\n",
              "       width=\"24px\">\n",
              "    <path d=\"M0 0h24v24H0V0z\" fill=\"none\"/>\n",
              "    <path d=\"M18.56 5.44l.94 2.06.94-2.06 2.06-.94-2.06-.94-.94-2.06-.94 2.06-2.06.94zm-11 1L8.5 8.5l.94-2.06 2.06-.94-2.06-.94L8.5 2.5l-.94 2.06-2.06.94zm10 10l.94 2.06.94-2.06 2.06-.94-2.06-.94-.94-2.06-.94 2.06-2.06.94z\"/><path d=\"M17.41 7.96l-1.37-1.37c-.4-.4-.92-.59-1.43-.59-.52 0-1.04.2-1.43.59L10.3 9.45l-7.72 7.72c-.78.78-.78 2.05 0 2.83L4 21.41c.39.39.9.59 1.41.59.51 0 1.02-.2 1.41-.59l7.78-7.78 2.81-2.81c.8-.78.8-2.07 0-2.86zM5.41 20L4 18.59l7.72-7.72 1.47 1.35L5.41 20z\"/>\n",
              "  </svg>\n",
              "      </button>\n",
              "      \n",
              "  <style>\n",
              "    .colab-df-container {\n",
              "      display:flex;\n",
              "      flex-wrap:wrap;\n",
              "      gap: 12px;\n",
              "    }\n",
              "\n",
              "    .colab-df-convert {\n",
              "      background-color: #E8F0FE;\n",
              "      border: none;\n",
              "      border-radius: 50%;\n",
              "      cursor: pointer;\n",
              "      display: none;\n",
              "      fill: #1967D2;\n",
              "      height: 32px;\n",
              "      padding: 0 0 0 0;\n",
              "      width: 32px;\n",
              "    }\n",
              "\n",
              "    .colab-df-convert:hover {\n",
              "      background-color: #E2EBFA;\n",
              "      box-shadow: 0px 1px 2px rgba(60, 64, 67, 0.3), 0px 1px 3px 1px rgba(60, 64, 67, 0.15);\n",
              "      fill: #174EA6;\n",
              "    }\n",
              "\n",
              "    [theme=dark] .colab-df-convert {\n",
              "      background-color: #3B4455;\n",
              "      fill: #D2E3FC;\n",
              "    }\n",
              "\n",
              "    [theme=dark] .colab-df-convert:hover {\n",
              "      background-color: #434B5C;\n",
              "      box-shadow: 0px 1px 3px 1px rgba(0, 0, 0, 0.15);\n",
              "      filter: drop-shadow(0px 1px 2px rgba(0, 0, 0, 0.3));\n",
              "      fill: #FFFFFF;\n",
              "    }\n",
              "  </style>\n",
              "\n",
              "      <script>\n",
              "        const buttonEl =\n",
              "          document.querySelector('#df-ed59d34d-5433-4a21-9f43-79a0699b70e6 button.colab-df-convert');\n",
              "        buttonEl.style.display =\n",
              "          google.colab.kernel.accessAllowed ? 'block' : 'none';\n",
              "\n",
              "        async function convertToInteractive(key) {\n",
              "          const element = document.querySelector('#df-ed59d34d-5433-4a21-9f43-79a0699b70e6');\n",
              "          const dataTable =\n",
              "            await google.colab.kernel.invokeFunction('convertToInteractive',\n",
              "                                                     [key], {});\n",
              "          if (!dataTable) return;\n",
              "\n",
              "          const docLinkHtml = 'Like what you see? Visit the ' +\n",
              "            '<a target=\"_blank\" href=https://colab.research.google.com/notebooks/data_table.ipynb>data table notebook</a>'\n",
              "            + ' to learn more about interactive tables.';\n",
              "          element.innerHTML = '';\n",
              "          dataTable['output_type'] = 'display_data';\n",
              "          await google.colab.output.renderOutput(dataTable, element);\n",
              "          const docLink = document.createElement('div');\n",
              "          docLink.innerHTML = docLinkHtml;\n",
              "          element.appendChild(docLink);\n",
              "        }\n",
              "      </script>\n",
              "    </div>\n",
              "  </div>\n",
              "  "
            ],
            "application/vnd.google.colaboratory.module+javascript": "\n      import \"https://ssl.gstatic.com/colaboratory/data_table/f872b2c2305463fd/data_table.js\";\n\n      window.createDataTable({\n        data: [[\"Beneficiary group\",\n{\n            'v': 25262,\n            'f': \"25262\",\n        },\n{\n            'v': 132958.0,\n            'f': \"132958.0\",\n        },\n{\n            'v': 15801356953.0,\n            'f': \"15801356953.0\",\n        },\n{\n            'v': 15652298028.0,\n            'f': \"15652298028.0\",\n        }],\n [\"Education\",\n{\n            'v': 24937,\n            'f': \"24937\",\n        },\n{\n            'v': 133785.0,\n            'f': \"133785.0\",\n        },\n{\n            'v': 18634558733.0,\n            'f': \"18634558733.0\",\n        },\n{\n            'v': 18193858669.0,\n            'f': \"18193858669.0\",\n        }],\n [\"Associations\",\n{\n            'v': 20680,\n            'f': \"20680\",\n        },\n{\n            'v': 105866.0,\n            'f': \"105866.0\",\n        },\n{\n            'v': 2813040813.0,\n            'f': \"2813040813.0\",\n        },\n{\n            'v': 2751299145.0,\n            'f': \"2751299145.0\",\n        }],\n [\"Charity and VCS support\",\n{\n            'v': 11794,\n            'f': \"11794\",\n        },\n{\n            'v': 54377.0,\n            'f': \"54377.0\",\n        },\n{\n            'v': 4006932402.0,\n            'f': \"4006932402.0\",\n        },\n{\n            'v': 4007273696.0,\n            'f': \"4007273696.0\",\n        }],\n [\"Religion\",\n{\n            'v': 11426,\n            'f': \"11426\",\n        },\n{\n            'v': 58041.0,\n            'f': \"58041.0\",\n        },\n{\n            'v': 5765833846.0,\n            'f': \"5765833846.0\",\n        },\n{\n            'v': 5555538804.0,\n            'f': \"5555538804.0\",\n        }],\n [\"Charitable activities\",\n{\n            'v': 11046,\n            'f': \"11046\",\n        },\n{\n            'v': 58894.0,\n            'f': \"58894.0\",\n        },\n{\n            'v': 7683246874.0,\n            'f': \"7683246874.0\",\n        },\n{\n            'v': 8632737051.0,\n            'f': \"8632737051.0\",\n        }],\n [\"Facilities\",\n{\n            'v': 10499,\n            'f': \"10499\",\n        },\n{\n            'v': 57487.0,\n            'f': \"57487.0\",\n        },\n{\n            'v': 779332849.0,\n            'f': \"779332849.0\",\n        },\n{\n            'v': 737069334.0,\n            'f': \"737069334.0\",\n        }],\n [\"Social welfare\",\n{\n            'v': 9857,\n            'f': \"9857\",\n        },\n{\n            'v': 48476.0,\n            'f': \"48476.0\",\n        },\n{\n            'v': 4755827186.0,\n            'f': \"4755827186.0\",\n        },\n{\n            'v': 4814662231.0,\n            'f': \"4814662231.0\",\n        }],\n [\"Arts\",\n{\n            'v': 9058,\n            'f': \"9058\",\n        },\n{\n            'v': 54968.0,\n            'f': \"54968.0\",\n        },\n{\n            'v': 6286894300.0,\n            'f': \"6286894300.0\",\n        },\n{\n            'v': 6269808594.0,\n            'f': \"6269808594.0\",\n        }],\n [\"Leisure\",\n{\n            'v': 9046,\n            'f': \"9046\",\n        },\n{\n            'v': 48137.0,\n            'f': \"48137.0\",\n        },\n{\n            'v': 2001226728.0,\n            'f': \"2001226728.0\",\n        },\n{\n            'v': 2001659839.0,\n            'f': \"2001659839.0\",\n        }],\n [\"Health\",\n{\n            'v': 5857,\n            'f': \"5857\",\n        },\n{\n            'v': 34821.0,\n            'f': \"34821.0\",\n        },\n{\n            'v': 10229476764.0,\n            'f': \"10229476764.0\",\n        },\n{\n            'v': 10759463578.0,\n            'f': \"10759463578.0\",\n        }],\n [\"Housing\",\n{\n            'v': 4402,\n            'f': \"4402\",\n        },\n{\n            'v': 25691.0,\n            'f': \"25691.0\",\n        },\n{\n            'v': 5431347380.0,\n            'f': \"5431347380.0\",\n        },\n{\n            'v': 5411800304.0,\n            'f': \"5411800304.0\",\n        }],\n [\"Childcare\",\n{\n            'v': 4056,\n            'f': \"4056\",\n        },\n{\n            'v': 19501.0,\n            'f': \"19501.0\",\n        },\n{\n            'v': 864590074.0,\n            'f': \"864590074.0\",\n        },\n{\n            'v': 843246846.0,\n            'f': \"843246846.0\",\n        }],\n [\"Heritage\",\n{\n            'v': 3761,\n            'f': \"3761\",\n        },\n{\n            'v': 24798.0,\n            'f': \"24798.0\",\n        },\n{\n            'v': 1533208514.0,\n            'f': \"1533208514.0\",\n        },\n{\n            'v': 1509094762.0,\n            'f': \"1509094762.0\",\n        }],\n [\"Economic and community development\",\n{\n            'v': 3063,\n            'f': \"3063\",\n        },\n{\n            'v': 18292.0,\n            'f': \"18292.0\",\n        },\n{\n            'v': 2925286959.0,\n            'f': \"2925286959.0\",\n        },\n{\n            'v': 2884784639.0,\n            'f': \"2884784639.0\",\n        }],\n [\"Research\",\n{\n            'v': 2744,\n            'f': \"2744\",\n        },\n{\n            'v': 18502.0,\n            'f': \"18502.0\",\n        },\n{\n            'v': 4951186526.0,\n            'f': \"4951186526.0\",\n        },\n{\n            'v': 5675730982.0,\n            'f': \"5675730982.0\",\n        }],\n [\"Animals\",\n{\n            'v': 1098,\n            'f': \"1098\",\n        },\n{\n            'v': 6773.0,\n            'f': \"6773.0\",\n        },\n{\n            'v': 1239506840.0,\n            'f': \"1239506840.0\",\n        },\n{\n            'v': 1271908944.0,\n            'f': \"1271908944.0\",\n        }],\n [\"Social care\",\n{\n            'v': 1047,\n            'f': \"1047\",\n        },\n{\n            'v': 6246.0,\n            'f': \"6246.0\",\n        },\n{\n            'v': 2779518006.0,\n            'f': \"2779518006.0\",\n        },\n{\n            'v': 2719290414.0,\n            'f': \"2719290414.0\",\n        }],\n [\"Armed forces\",\n{\n            'v': 845,\n            'f': \"845\",\n        },\n{\n            'v': 5014.0,\n            'f': \"5014.0\",\n        },\n{\n            'v': 938681394.0,\n            'f': \"938681394.0\",\n        },\n{\n            'v': 991947184.0,\n            'f': \"991947184.0\",\n        }],\n [\"Professions\",\n{\n            'v': 683,\n            'f': \"683\",\n        },\n{\n            'v': 3785.0,\n            'f': \"3785.0\",\n        },\n{\n            'v': 447606125.0,\n            'f': \"447606125.0\",\n        },\n{\n            'v': 458567865.0,\n            'f': \"458567865.0\",\n        }],\n [\"Saving of lives\",\n{\n            'v': 646,\n            'f': \"646\",\n        },\n{\n            'v': 3488.0,\n            'f': \"3488.0\",\n        },\n{\n            'v': 2095373114.0,\n            'f': \"2095373114.0\",\n        },\n{\n            'v': 2060580840.0,\n            'f': \"2060580840.0\",\n        }],\n [\"Society\",\n{\n            'v': 508,\n            'f': \"508\",\n        },\n{\n            'v': 3239.0,\n            'f': \"3239.0\",\n        },\n{\n            'v': 401739675.0,\n            'f': \"401739675.0\",\n        },\n{\n            'v': 369454221.0,\n            'f': \"369454221.0\",\n        }],\n [\"Environment\",\n{\n            'v': 496,\n            'f': \"496\",\n        },\n{\n            'v': 3351.0,\n            'f': \"3351.0\",\n        },\n{\n            'v': 724083597.0,\n            'f': \"724083597.0\",\n        },\n{\n            'v': 675010582.0,\n            'f': \"675010582.0\",\n        }],\n [\"Crime and Justice\",\n{\n            'v': 314,\n            'f': \"314\",\n        },\n{\n            'v': 2039.0,\n            'f': \"2039.0\",\n        },\n{\n            'v': 1041919096.0,\n            'f': \"1041919096.0\",\n        },\n{\n            'v': 1018596225.0,\n            'f': \"1018596225.0\",\n        }]],\n        columns: [[\"string\", \"Category\"], [\"number\", \"total_organisations\"], [\"number\", \"num_trustees\"], [\"number\", \"latest_income\"], [\"number\", \"latest_expenditure\"]],\n        columnOptions: [{\"width\": \"1px\", \"className\": \"index_column\"}],\n        rowsPerPage: 25,\n        helpUrl: \"https://colab.research.google.com/notebooks/data_table.ipynb\",\n        suppressOutputScrolling: true,\n        minimumWidth: undefined,\n      });\n    "
          },
          "metadata": {},
          "execution_count": 93
        }
      ]
    },
    {
      "cell_type": "markdown",
      "source": [
        "We have 24 different categories with highest number of organisations in the 'Beneficiary Group' category followed by Education, Associations, Charity and VCS support etc."
      ],
      "metadata": {
        "id": "Ez_cx21zEbqk"
      }
    },
    {
      "cell_type": "markdown",
      "source": [
        "### Classification by charityclassification.org.uk - ICNPTSO - ML Classifier\n",
        "\n",
        "This is something that can be explored in future if required"
      ],
      "metadata": {
        "id": "gQnusYGBLmVj"
      }
    },
    {
      "cell_type": "code",
      "source": [
        ""
      ],
      "metadata": {
        "id": "j9RS-KiaL3sv"
      },
      "execution_count": null,
      "outputs": []
    },
    {
      "cell_type": "code",
      "source": [
        ""
      ],
      "metadata": {
        "id": "JKJAuXs_akAX"
      },
      "execution_count": null,
      "outputs": []
    },
    {
      "cell_type": "code",
      "source": [
        ""
      ],
      "metadata": {
        "id": "TJ-cxpi8akJ3"
      },
      "execution_count": null,
      "outputs": []
    },
    {
      "cell_type": "markdown",
      "source": [
        "### Creating Clean Dataset in Graph Object Form"
      ],
      "metadata": {
        "id": "3WmYpvBgakg0"
      }
    },
    {
      "cell_type": "code",
      "source": [
        "import networkx as nx"
      ],
      "metadata": {
        "id": "E7MMUVYxaqAK"
      },
      "execution_count": 94,
      "outputs": []
    },
    {
      "cell_type": "code",
      "source": [
        "classification_england_filtered_category.reset_index(drop=True,inplace=True)\n",
        "print(classification_england_filtered_category.shape)\n",
        "classification_england_filtered_category.head(5)"
      ],
      "metadata": {
        "colab": {
          "base_uri": "https://localhost:8080/",
          "height": 414
        },
        "id": "NpWDNCubynsE",
        "outputId": "e53556a1-ec5f-48e4-e04a-eacbe849fcf6"
      },
      "execution_count": 95,
      "outputs": [
        {
          "output_type": "stream",
          "name": "stdout",
          "text": [
            "(173125, 15)\n"
          ]
        },
        {
          "output_type": "execute_result",
          "data": {
            "text/plain": [
              "  Island Country organisation_number   Code                       tag  \\\n",
              "0     GB     CHC             1000000     ED                 Education   \n",
              "1     GB     CHC             1000001     AR                      Arts   \n",
              "2     GB     CHC             1000002  BE200  People with disabilities   \n",
              "3     GB     CHC             1000002  SW105        Individual poverty   \n",
              "4     GB     CHC             1000003     AR                      Arts   \n",
              "\n",
              "            Category               Subcategory  Level  \\\n",
              "0          Education                       NaN      1   \n",
              "1               Arts                       NaN      1   \n",
              "2  Beneficiary group  People with disabilities      2   \n",
              "3     Social welfare                       NaN      3   \n",
              "4               Arts                       NaN      1   \n",
              "\n",
              "                                               Notes Related ICNPTSO code  \\\n",
              "0                                                NaN                  B90   \n",
              "1                                    Includes crafts                  A10   \n",
              "2  Includes 'disability', see also separate categ...              D13;G16   \n",
              "3                   Includes financial disadvantage               G11;D19   \n",
              "4                                    Includes crafts                  A10   \n",
              "\n",
              "   num_trustees  latest_income  latest_expenditure registration_status  \\\n",
              "0           9.0       101992.0            349277.0          Registered   \n",
              "1          11.0        91129.0            131934.0          Registered   \n",
              "2           2.0            0.0                 0.0          Registered   \n",
              "3           2.0            0.0                 0.0          Registered   \n",
              "4           4.0        16443.0             25269.0          Registered   \n",
              "\n",
              "   total_organisations  \n",
              "0                    1  \n",
              "1                    1  \n",
              "2                    1  \n",
              "3                    1  \n",
              "4                    1  "
            ],
            "text/html": [
              "\n",
              "  <div id=\"df-c5c57597-35f1-47e5-af40-e236dcd462e3\">\n",
              "    <div class=\"colab-df-container\">\n",
              "      <div>\n",
              "<style scoped>\n",
              "    .dataframe tbody tr th:only-of-type {\n",
              "        vertical-align: middle;\n",
              "    }\n",
              "\n",
              "    .dataframe tbody tr th {\n",
              "        vertical-align: top;\n",
              "    }\n",
              "\n",
              "    .dataframe thead th {\n",
              "        text-align: right;\n",
              "    }\n",
              "</style>\n",
              "<table border=\"1\" class=\"dataframe\">\n",
              "  <thead>\n",
              "    <tr style=\"text-align: right;\">\n",
              "      <th></th>\n",
              "      <th>Island</th>\n",
              "      <th>Country</th>\n",
              "      <th>organisation_number</th>\n",
              "      <th>Code</th>\n",
              "      <th>tag</th>\n",
              "      <th>Category</th>\n",
              "      <th>Subcategory</th>\n",
              "      <th>Level</th>\n",
              "      <th>Notes</th>\n",
              "      <th>Related ICNPTSO code</th>\n",
              "      <th>num_trustees</th>\n",
              "      <th>latest_income</th>\n",
              "      <th>latest_expenditure</th>\n",
              "      <th>registration_status</th>\n",
              "      <th>total_organisations</th>\n",
              "    </tr>\n",
              "  </thead>\n",
              "  <tbody>\n",
              "    <tr>\n",
              "      <th>0</th>\n",
              "      <td>GB</td>\n",
              "      <td>CHC</td>\n",
              "      <td>1000000</td>\n",
              "      <td>ED</td>\n",
              "      <td>Education</td>\n",
              "      <td>Education</td>\n",
              "      <td>NaN</td>\n",
              "      <td>1</td>\n",
              "      <td>NaN</td>\n",
              "      <td>B90</td>\n",
              "      <td>9.0</td>\n",
              "      <td>101992.0</td>\n",
              "      <td>349277.0</td>\n",
              "      <td>Registered</td>\n",
              "      <td>1</td>\n",
              "    </tr>\n",
              "    <tr>\n",
              "      <th>1</th>\n",
              "      <td>GB</td>\n",
              "      <td>CHC</td>\n",
              "      <td>1000001</td>\n",
              "      <td>AR</td>\n",
              "      <td>Arts</td>\n",
              "      <td>Arts</td>\n",
              "      <td>NaN</td>\n",
              "      <td>1</td>\n",
              "      <td>Includes crafts</td>\n",
              "      <td>A10</td>\n",
              "      <td>11.0</td>\n",
              "      <td>91129.0</td>\n",
              "      <td>131934.0</td>\n",
              "      <td>Registered</td>\n",
              "      <td>1</td>\n",
              "    </tr>\n",
              "    <tr>\n",
              "      <th>2</th>\n",
              "      <td>GB</td>\n",
              "      <td>CHC</td>\n",
              "      <td>1000002</td>\n",
              "      <td>BE200</td>\n",
              "      <td>People with disabilities</td>\n",
              "      <td>Beneficiary group</td>\n",
              "      <td>People with disabilities</td>\n",
              "      <td>2</td>\n",
              "      <td>Includes 'disability', see also separate categ...</td>\n",
              "      <td>D13;G16</td>\n",
              "      <td>2.0</td>\n",
              "      <td>0.0</td>\n",
              "      <td>0.0</td>\n",
              "      <td>Registered</td>\n",
              "      <td>1</td>\n",
              "    </tr>\n",
              "    <tr>\n",
              "      <th>3</th>\n",
              "      <td>GB</td>\n",
              "      <td>CHC</td>\n",
              "      <td>1000002</td>\n",
              "      <td>SW105</td>\n",
              "      <td>Individual poverty</td>\n",
              "      <td>Social welfare</td>\n",
              "      <td>NaN</td>\n",
              "      <td>3</td>\n",
              "      <td>Includes financial disadvantage</td>\n",
              "      <td>G11;D19</td>\n",
              "      <td>2.0</td>\n",
              "      <td>0.0</td>\n",
              "      <td>0.0</td>\n",
              "      <td>Registered</td>\n",
              "      <td>1</td>\n",
              "    </tr>\n",
              "    <tr>\n",
              "      <th>4</th>\n",
              "      <td>GB</td>\n",
              "      <td>CHC</td>\n",
              "      <td>1000003</td>\n",
              "      <td>AR</td>\n",
              "      <td>Arts</td>\n",
              "      <td>Arts</td>\n",
              "      <td>NaN</td>\n",
              "      <td>1</td>\n",
              "      <td>Includes crafts</td>\n",
              "      <td>A10</td>\n",
              "      <td>4.0</td>\n",
              "      <td>16443.0</td>\n",
              "      <td>25269.0</td>\n",
              "      <td>Registered</td>\n",
              "      <td>1</td>\n",
              "    </tr>\n",
              "  </tbody>\n",
              "</table>\n",
              "</div>\n",
              "      <button class=\"colab-df-convert\" onclick=\"convertToInteractive('df-c5c57597-35f1-47e5-af40-e236dcd462e3')\"\n",
              "              title=\"Convert this dataframe to an interactive table.\"\n",
              "              style=\"display:none;\">\n",
              "        \n",
              "  <svg xmlns=\"http://www.w3.org/2000/svg\" height=\"24px\"viewBox=\"0 0 24 24\"\n",
              "       width=\"24px\">\n",
              "    <path d=\"M0 0h24v24H0V0z\" fill=\"none\"/>\n",
              "    <path d=\"M18.56 5.44l.94 2.06.94-2.06 2.06-.94-2.06-.94-.94-2.06-.94 2.06-2.06.94zm-11 1L8.5 8.5l.94-2.06 2.06-.94-2.06-.94L8.5 2.5l-.94 2.06-2.06.94zm10 10l.94 2.06.94-2.06 2.06-.94-2.06-.94-.94-2.06-.94 2.06-2.06.94z\"/><path d=\"M17.41 7.96l-1.37-1.37c-.4-.4-.92-.59-1.43-.59-.52 0-1.04.2-1.43.59L10.3 9.45l-7.72 7.72c-.78.78-.78 2.05 0 2.83L4 21.41c.39.39.9.59 1.41.59.51 0 1.02-.2 1.41-.59l7.78-7.78 2.81-2.81c.8-.78.8-2.07 0-2.86zM5.41 20L4 18.59l7.72-7.72 1.47 1.35L5.41 20z\"/>\n",
              "  </svg>\n",
              "      </button>\n",
              "      \n",
              "  <style>\n",
              "    .colab-df-container {\n",
              "      display:flex;\n",
              "      flex-wrap:wrap;\n",
              "      gap: 12px;\n",
              "    }\n",
              "\n",
              "    .colab-df-convert {\n",
              "      background-color: #E8F0FE;\n",
              "      border: none;\n",
              "      border-radius: 50%;\n",
              "      cursor: pointer;\n",
              "      display: none;\n",
              "      fill: #1967D2;\n",
              "      height: 32px;\n",
              "      padding: 0 0 0 0;\n",
              "      width: 32px;\n",
              "    }\n",
              "\n",
              "    .colab-df-convert:hover {\n",
              "      background-color: #E2EBFA;\n",
              "      box-shadow: 0px 1px 2px rgba(60, 64, 67, 0.3), 0px 1px 3px 1px rgba(60, 64, 67, 0.15);\n",
              "      fill: #174EA6;\n",
              "    }\n",
              "\n",
              "    [theme=dark] .colab-df-convert {\n",
              "      background-color: #3B4455;\n",
              "      fill: #D2E3FC;\n",
              "    }\n",
              "\n",
              "    [theme=dark] .colab-df-convert:hover {\n",
              "      background-color: #434B5C;\n",
              "      box-shadow: 0px 1px 3px 1px rgba(0, 0, 0, 0.15);\n",
              "      filter: drop-shadow(0px 1px 2px rgba(0, 0, 0, 0.3));\n",
              "      fill: #FFFFFF;\n",
              "    }\n",
              "  </style>\n",
              "\n",
              "      <script>\n",
              "        const buttonEl =\n",
              "          document.querySelector('#df-c5c57597-35f1-47e5-af40-e236dcd462e3 button.colab-df-convert');\n",
              "        buttonEl.style.display =\n",
              "          google.colab.kernel.accessAllowed ? 'block' : 'none';\n",
              "\n",
              "        async function convertToInteractive(key) {\n",
              "          const element = document.querySelector('#df-c5c57597-35f1-47e5-af40-e236dcd462e3');\n",
              "          const dataTable =\n",
              "            await google.colab.kernel.invokeFunction('convertToInteractive',\n",
              "                                                     [key], {});\n",
              "          if (!dataTable) return;\n",
              "\n",
              "          const docLinkHtml = 'Like what you see? Visit the ' +\n",
              "            '<a target=\"_blank\" href=https://colab.research.google.com/notebooks/data_table.ipynb>data table notebook</a>'\n",
              "            + ' to learn more about interactive tables.';\n",
              "          element.innerHTML = '';\n",
              "          dataTable['output_type'] = 'display_data';\n",
              "          await google.colab.output.renderOutput(dataTable, element);\n",
              "          const docLink = document.createElement('div');\n",
              "          docLink.innerHTML = docLinkHtml;\n",
              "          element.appendChild(docLink);\n",
              "        }\n",
              "      </script>\n",
              "    </div>\n",
              "  </div>\n",
              "  "
            ],
            "application/vnd.google.colaboratory.module+javascript": "\n      import \"https://ssl.gstatic.com/colaboratory/data_table/f872b2c2305463fd/data_table.js\";\n\n      window.createDataTable({\n        data: [[{\n            'v': 0,\n            'f': \"0\",\n        },\n\"GB\",\n\"CHC\",\n\"1000000\",\n\"ED\",\n\"Education\",\n\"Education\",\nNaN,\n{\n            'v': 1,\n            'f': \"1\",\n        },\nNaN,\n\"B90\",\n{\n            'v': 9.0,\n            'f': \"9.0\",\n        },\n{\n            'v': 101992.0,\n            'f': \"101992.0\",\n        },\n{\n            'v': 349277.0,\n            'f': \"349277.0\",\n        },\n\"Registered\",\n{\n            'v': 1,\n            'f': \"1\",\n        }],\n [{\n            'v': 1,\n            'f': \"1\",\n        },\n\"GB\",\n\"CHC\",\n\"1000001\",\n\"AR\",\n\"Arts\",\n\"Arts\",\nNaN,\n{\n            'v': 1,\n            'f': \"1\",\n        },\n\"Includes crafts\",\n\"A10\",\n{\n            'v': 11.0,\n            'f': \"11.0\",\n        },\n{\n            'v': 91129.0,\n            'f': \"91129.0\",\n        },\n{\n            'v': 131934.0,\n            'f': \"131934.0\",\n        },\n\"Registered\",\n{\n            'v': 1,\n            'f': \"1\",\n        }],\n [{\n            'v': 2,\n            'f': \"2\",\n        },\n\"GB\",\n\"CHC\",\n\"1000002\",\n\"BE200\",\n\"People with disabilities\",\n\"Beneficiary group\",\n\"People with disabilities\",\n{\n            'v': 2,\n            'f': \"2\",\n        },\n\"Includes 'disability', see also separate category 'people with learning disabilities'\",\n\"D13;G16\",\n{\n            'v': 2.0,\n            'f': \"2.0\",\n        },\n{\n            'v': 0.0,\n            'f': \"0.0\",\n        },\n{\n            'v': 0.0,\n            'f': \"0.0\",\n        },\n\"Registered\",\n{\n            'v': 1,\n            'f': \"1\",\n        }],\n [{\n            'v': 3,\n            'f': \"3\",\n        },\n\"GB\",\n\"CHC\",\n\"1000002\",\n\"SW105\",\n\"Individual poverty\",\n\"Social welfare\",\nNaN,\n{\n            'v': 3,\n            'f': \"3\",\n        },\n\"Includes financial disadvantage \",\n\"G11;D19\",\n{\n            'v': 2.0,\n            'f': \"2.0\",\n        },\n{\n            'v': 0.0,\n            'f': \"0.0\",\n        },\n{\n            'v': 0.0,\n            'f': \"0.0\",\n        },\n\"Registered\",\n{\n            'v': 1,\n            'f': \"1\",\n        }],\n [{\n            'v': 4,\n            'f': \"4\",\n        },\n\"GB\",\n\"CHC\",\n\"1000003\",\n\"AR\",\n\"Arts\",\n\"Arts\",\nNaN,\n{\n            'v': 1,\n            'f': \"1\",\n        },\n\"Includes crafts\",\n\"A10\",\n{\n            'v': 4.0,\n            'f': \"4.0\",\n        },\n{\n            'v': 16443.0,\n            'f': \"16443.0\",\n        },\n{\n            'v': 25269.0,\n            'f': \"25269.0\",\n        },\n\"Registered\",\n{\n            'v': 1,\n            'f': \"1\",\n        }]],\n        columns: [[\"number\", \"index\"], [\"string\", \"Island\"], [\"string\", \"Country\"], [\"string\", \"organisation_number\"], [\"string\", \"Code\"], [\"string\", \"tag\"], [\"string\", \"Category\"], [\"string\", \"Subcategory\"], [\"number\", \"Level\"], [\"string\", \"Notes\"], [\"string\", \"Related ICNPTSO code\"], [\"number\", \"num_trustees\"], [\"number\", \"latest_income\"], [\"number\", \"latest_expenditure\"], [\"string\", \"registration_status\"], [\"number\", \"total_organisations\"]],\n        columnOptions: [{\"width\": \"1px\", \"className\": \"index_column\"}],\n        rowsPerPage: 25,\n        helpUrl: \"https://colab.research.google.com/notebooks/data_table.ipynb\",\n        suppressOutputScrolling: true,\n        minimumWidth: undefined,\n      });\n    "
          },
          "metadata": {},
          "execution_count": 95
        }
      ]
    },
    {
      "cell_type": "code",
      "source": [
        "#categorywise classification, no category duplicates\n",
        "# `classification_england_filtered_category` includes the individual organisation data classified into unique categories\n",
        "# we are not concerned with tags or sub categories right now\n",
        "# it is still possible that a single organiastion is classified into multiple categories and we want to all of those in the final classification\n",
        "final_classification = {}\n",
        "for i,row in classification_england_filtered_category.iterrows():\n",
        "  nn = row['organisation_number']\n",
        "  if(nn not in final_classification.keys()):\n",
        "    final_classification[nn] = [row['Category']]\n",
        "  else:\n",
        "    final_classification[nn].append(row['Category']) # store all the categories inside an array\n",
        "\n",
        "# the classification categories for an organisation will be accessible by the org number\n"
      ],
      "metadata": {
        "id": "rMPMEU2KdQMg"
      },
      "execution_count": 96,
      "outputs": []
    },
    {
      "cell_type": "code",
      "source": [
        "fc=0\n",
        "for i in final_classification.items():\n",
        "  print(i)\n",
        "  fc+=1\n",
        "  if fc==10:\n",
        "    break"
      ],
      "metadata": {
        "colab": {
          "base_uri": "https://localhost:8080/"
        },
        "id": "4V0fnmiflDnE",
        "outputId": "1c16f932-ff5b-4508-c9ce-f8666e79091d"
      },
      "execution_count": 97,
      "outputs": [
        {
          "output_type": "stream",
          "name": "stdout",
          "text": [
            "('1000000', ['Education'])\n",
            "('1000001', ['Arts'])\n",
            "('1000002', ['Beneficiary group', 'Social welfare'])\n",
            "('1000003', ['Arts', 'Charitable activities', 'Education', 'Heritage', 'Social welfare'])\n",
            "('1000005', ['Facilities', 'Religion'])\n",
            "('1000007', ['Associations', 'Charitable activities', 'Education'])\n",
            "('1000008', ['Associations'])\n",
            "('1000009', ['Charity and VCS support'])\n",
            "('1000013', ['Beneficiary group', 'Charity and VCS support', 'Health'])\n",
            "('1000019', ['Associations', 'Facilities', 'Leisure'])\n"
          ]
        }
      ]
    },
    {
      "cell_type": "code",
      "source": [
        "# fetch all metadata of a particular charity if its registration status is - 'registered'\n",
        "# they keys in the below dictionary are registered charity numbers and not the organisation number\n",
        "final_charity = {}\n",
        "for i in charity.keys():\n",
        "  if(charity[i]['charity_registration_status']==\"Registered\"):\n",
        "    # id = charity[i]['registered_charity_number']\n",
        "    final_charity[i] = charity[i]\n",
        "print(len(final_charity.keys()))\n",
        "print(json.dumps(list(final_charity.items())[0],indent=3))"
      ],
      "metadata": {
        "colab": {
          "base_uri": "https://localhost:8080/"
        },
        "id": "wp1HhVoCpQn2",
        "outputId": "9295ba03-0038-4a57-dc62-b726070312b7"
      },
      "execution_count": 106,
      "outputs": [
        {
          "output_type": "stream",
          "name": "stdout",
          "text": [
            "185736\n",
            "[\n",
            "   2,\n",
            "   {\n",
            "      \"date_of_extract\": \"2022-01-11T00:00:00\",\n",
            "      \"organisation_number\": 2,\n",
            "      \"registered_charity_number\": 200027,\n",
            "      \"linked_charity_number\": 2,\n",
            "      \"charity_name\": \"HITCHAM FREE CHURCH\",\n",
            "      \"charity_type\": null,\n",
            "      \"charity_registration_status\": \"Registered\",\n",
            "      \"date_of_registration\": \"1962-05-17T00:00:00\",\n",
            "      \"date_of_removal\": null,\n",
            "      \"charity_reporting_status\": null,\n",
            "      \"latest_acc_fin_period_start_date\": null,\n",
            "      \"latest_acc_fin_period_end_date\": null,\n",
            "      \"latest_income\": null,\n",
            "      \"latest_expenditure\": null,\n",
            "      \"charity_contact_address1\": null,\n",
            "      \"charity_contact_address2\": null,\n",
            "      \"charity_contact_address3\": null,\n",
            "      \"charity_contact_address4\": null,\n",
            "      \"charity_contact_address5\": null,\n",
            "      \"charity_contact_postcode\": null,\n",
            "      \"charity_contact_phone\": null,\n",
            "      \"charity_contact_email\": null,\n",
            "      \"charity_contact_web\": null,\n",
            "      \"charity_company_registration_number\": null,\n",
            "      \"charity_insolvent\": false,\n",
            "      \"charity_in_administration\": false,\n",
            "      \"charity_previously_excepted\": null,\n",
            "      \"charity_is_cdf_or_cif\": null,\n",
            "      \"charity_is_cio\": null,\n",
            "      \"cio_is_dissolved\": null,\n",
            "      \"date_cio_dissolution_notice\": null,\n",
            "      \"charity_activities\": null,\n",
            "      \"charity_gift_aid\": null,\n",
            "      \"charity_has_land\": null\n",
            "   }\n",
            "]\n"
          ]
        }
      ]
    },
    {
      "cell_type": "code",
      "source": [
        "# check if classification of all the charities is available in the dataset from charityclassification.org\n",
        "ne = []\n",
        "for i in final_charity.keys():\n",
        "  try:\n",
        "    temp = final_classification[str(i)]\n",
        "  except:\n",
        "    ne.append(i)\n",
        "\n",
        "print(len(final_charity.keys()))\n",
        "print(len(ne))"
      ],
      "metadata": {
        "colab": {
          "base_uri": "https://localhost:8080/"
        },
        "id": "rhaGetoYiSHJ",
        "outputId": "d71a6d7d-2cce-4a66-9030-de2c05dc8d3b"
      },
      "execution_count": 107,
      "outputs": [
        {
          "output_type": "stream",
          "name": "stdout",
          "text": [
            "185736\n",
            "117681\n"
          ]
        }
      ]
    },
    {
      "cell_type": "markdown",
      "source": [
        "- 117681 organisation seem to have no classification data from charityclassification.org\n",
        "- 185736 - 117681 = 68055 charities have classifications\n",
        "- need to figure it out, why are the classifications missing? "
      ],
      "metadata": {
        "id": "f4k8d4cImnNm"
      }
    },
    {
      "cell_type": "code",
      "source": [
        "# we need no. of trustees and trustee list for every organisation\n",
        "# trustees are added in a list for corresponsing charity\n",
        "orgs_trustees = {}\n",
        "for i in orgs:\n",
        "  for j in orgs[i]:\n",
        "    if(i not in orgs_trustees.keys()):\n",
        "      orgs_trustees[i] = [(j['trustee_id'],j['trustee_name'])]\n",
        "    else:\n",
        "      orgs_trustees[i].append((j['trustee_id'],j['trustee_name']))\n",
        "\n",
        "list(orgs_trustees.items())[0]"
      ],
      "metadata": {
        "id": "qpfT7XYQhFWk",
        "colab": {
          "base_uri": "https://localhost:8080/"
        },
        "outputId": "860914c4-ab6e-4041-c7a8-283f7728515c"
      },
      "execution_count": 110,
      "outputs": [
        {
          "output_type": "execute_result",
          "data": {
            "text/plain": [
              "(521013, [(23760, 'AUGHTON PARISH COUNCIL')])"
            ]
          },
          "metadata": {},
          "execution_count": 110
        }
      ]
    },
    {
      "cell_type": "code",
      "source": [
        "# we need number of orgs and org list for every trustee\n",
        "# orgs are added into a list for every trustee\n",
        "trustee_orgs = {}\n",
        "for i in members:\n",
        "  for j in members[i]:\n",
        "    id = j['organisation_number']\n",
        "    if i not in trustee_orgs.keys():\n",
        "      trustee_orgs[i] = [(id,charity[id]['charity_name'])]\n",
        "    else:\n",
        "      trustee_orgs[i].append((id,charity[id]['charity_name']))\n",
        "\n",
        "list(trustee_orgs.items())[0]"
      ],
      "metadata": {
        "colab": {
          "base_uri": "https://localhost:8080/"
        },
        "id": "K06sf8FfFarh",
        "outputId": "e0224f7d-f0f2-4531-98e2-ea474559fb35"
      },
      "execution_count": 117,
      "outputs": [
        {
          "output_type": "execute_result",
          "data": {
            "text/plain": [
              "(23760, [(521013, 'RACHEL TAYLOR FOR A PLAYING FIELD')])"
            ]
          },
          "metadata": {},
          "execution_count": 117
        }
      ]
    },
    {
      "cell_type": "code",
      "source": [
        "trusteeList = members.keys()\n",
        "orgList = orgs.keys()\n",
        "print(len(trusteeList),len(set(trusteeList)))\n",
        "print(len(orgList),len(set(orgList)))"
      ],
      "metadata": {
        "colab": {
          "base_uri": "https://localhost:8080/"
        },
        "id": "ypVICQqA0n_e",
        "outputId": "0727ab10-3ec7-4a13-c2bf-0374d7376805"
      },
      "execution_count": 111,
      "outputs": [
        {
          "output_type": "stream",
          "name": "stdout",
          "text": [
            "851555 851555\n",
            "170190 170190\n"
          ]
        }
      ]
    },
    {
      "cell_type": "code",
      "source": [
        "common = set(trusteeList).intersection(set(orgList))\n",
        "print(len(common))"
      ],
      "metadata": {
        "colab": {
          "base_uri": "https://localhost:8080/"
        },
        "id": "yiiiI2WI03Xr",
        "outputId": "3680cfbc-1e76-4413-d444-723e52aa9a51"
      },
      "execution_count": 112,
      "outputs": [
        {
          "output_type": "stream",
          "name": "stdout",
          "text": [
            "1073\n"
          ]
        }
      ]
    },
    {
      "cell_type": "markdown",
      "source": [
        "This might create conflict since we are adding nodes to the network by their ids and if trustees and orgs share some common ids then it will create conflicts and data will be lost."
      ],
      "metadata": {
        "id": "-bOlVJS8ECh7"
      }
    },
    {
      "cell_type": "code",
      "source": [
        "#createing clean graph object dataset\n",
        "G = nx.MultiGraph()\n",
        "count = 0 \n",
        "for i in orgs:\n",
        "  count+=1\n",
        "  G.add_node(i)\n",
        "  # copy metadata\n",
        "  attribute_dict = final_charity[i].copy()\n",
        "  try:\n",
        "    attribute_dict['Classification'] = final_classification[str(i)]\n",
        "  except:\n",
        "    # add an empty list if no classification is found\n",
        "    attribute_dict['Classification'] = []\n",
        "  \n",
        "  # add no. of trustees\n",
        "  attribute_dict['num_trustee'] = len(orgs[i])\n",
        "  attribute_dict['type'] = 0 #denoting the node type as organisation\n",
        "\n",
        "  # add trustee list as attribute to the org node\n",
        "  attribute_dict['trustees'] = orgs_trustees[i]\n",
        "\n",
        "  # node id is the org number\n",
        "  # setting attributes for org i\n",
        "  attrs = {i:attribute_dict}\n",
        "  nx.set_node_attributes(G, attrs)\n",
        "\n",
        "  # add trustee data\n",
        "  for j in orgs_trustees[i]:\n",
        "    #if its a common id\n",
        "    if(j[0] in common):\n",
        "      # add T at the end of the id so that it can be added as a separate node\n",
        "      node_id = str(j[0])+'T'\n",
        "    else:\n",
        "      node_id = j[0]\n",
        "    # add node to the network\n",
        "    G.add_node(node_id)\n",
        "    nattrs = {node_id:{\"Name\":j[1],\"type\":1,\"organisations\":trustee_orgs[j[0]]}} #1 denotes node type as trustee\n",
        "    nx.set_node_attributes(G, nattrs)\n",
        "  if(count%10000==0):\n",
        "    print(count,end=\" \")"
      ],
      "metadata": {
        "colab": {
          "base_uri": "https://localhost:8080/"
        },
        "id": "1zr9eFLu3HcV",
        "outputId": "23319393-921b-4643-8cdc-8616c327e603"
      },
      "execution_count": 130,
      "outputs": [
        {
          "output_type": "stream",
          "name": "stdout",
          "text": [
            "10000 20000 30000 40000 50000 60000 70000 80000 90000 100000 110000 120000 130000 140000 150000 160000 170000 "
          ]
        }
      ]
    },
    {
      "cell_type": "code",
      "source": [
        "G.number_of_nodes()"
      ],
      "metadata": {
        "colab": {
          "base_uri": "https://localhost:8080/"
        },
        "id": "YQLBpDhuALX7",
        "outputId": "8fd0a8b2-fa10-4bde-aa4c-8a3efe2bcfc8"
      },
      "execution_count": 131,
      "outputs": [
        {
          "output_type": "execute_result",
          "data": {
            "text/plain": [
              "1021745"
            ]
          },
          "metadata": {},
          "execution_count": 131
        }
      ]
    },
    {
      "cell_type": "code",
      "source": [
        "#Adding edges\n",
        "for p in members.keys():\n",
        "  # modify the node id if its a common id\n",
        "  if p in common:\n",
        "    node_id = str(p)+'T'\n",
        "  else:\n",
        "    node_id = p\n",
        "  if(node_id in G.nodes(0)):\n",
        "    boards = []\n",
        "    for j in members[p]:\n",
        "      if(j['organisation_number'] in G.nodes()):\n",
        "        boards.append(j['organisation_number'])\n",
        "    res = [ (node_id,sub) for sub in boards ]\n",
        "    G.add_edges_from(res)"
      ],
      "metadata": {
        "id": "MX7zxNjt2LfW"
      },
      "execution_count": 132,
      "outputs": []
    },
    {
      "cell_type": "code",
      "source": [
        "G.nodes[23760]"
      ],
      "metadata": {
        "colab": {
          "base_uri": "https://localhost:8080/"
        },
        "id": "cptLd6GR4ZsG",
        "outputId": "3f001e8d-b978-4c2c-b273-4641e93d780c"
      },
      "execution_count": 135,
      "outputs": [
        {
          "output_type": "execute_result",
          "data": {
            "text/plain": [
              "{'Name': 'AUGHTON PARISH COUNCIL',\n",
              " 'organisations': [(521013, 'RACHEL TAYLOR FOR A PLAYING FIELD')],\n",
              " 'type': 1}"
            ]
          },
          "metadata": {},
          "execution_count": 135
        }
      ]
    },
    {
      "cell_type": "code",
      "source": [
        "G.nodes[3123875]"
      ],
      "metadata": {
        "colab": {
          "base_uri": "https://localhost:8080/"
        },
        "id": "WDdSiVY4vJFz",
        "outputId": "7b7db111-7ce2-4851-d58f-a385e69fc134"
      },
      "execution_count": 136,
      "outputs": [
        {
          "output_type": "execute_result",
          "data": {
            "text/plain": [
              "{'Classification': [],\n",
              " 'charity_activities': 'Making of grants.',\n",
              " 'charity_company_registration_number': None,\n",
              " 'charity_contact_address1': 'RUSHMOOR BOROUGH COUNCIL',\n",
              " 'charity_contact_address2': 'COUNCIL OFFICES',\n",
              " 'charity_contact_address3': 'FARNBOROUGH ROAD',\n",
              " 'charity_contact_address4': 'FARNBOROUGH',\n",
              " 'charity_contact_address5': None,\n",
              " 'charity_contact_email': 'legal@rushmoor.gov.uk',\n",
              " 'charity_contact_phone': '01252398600',\n",
              " 'charity_contact_postcode': 'GU14 7JU',\n",
              " 'charity_contact_web': None,\n",
              " 'charity_gift_aid': False,\n",
              " 'charity_has_land': False,\n",
              " 'charity_in_administration': False,\n",
              " 'charity_insolvent': False,\n",
              " 'charity_is_cdf_or_cif': None,\n",
              " 'charity_is_cio': False,\n",
              " 'charity_name': 'ALFRED HENRY GOODE WILL TRUST',\n",
              " 'charity_previously_excepted': False,\n",
              " 'charity_registration_status': 'Registered',\n",
              " 'charity_reporting_status': 'Submission Overdue',\n",
              " 'charity_type': 'Other',\n",
              " 'cio_is_dissolved': False,\n",
              " 'date_cio_dissolution_notice': None,\n",
              " 'date_of_extract': '2022-01-11T00:00:00',\n",
              " 'date_of_registration': '1999-06-08T00:00:00',\n",
              " 'date_of_removal': None,\n",
              " 'latest_acc_fin_period_end_date': '2021-03-31T00:00:00',\n",
              " 'latest_acc_fin_period_start_date': '2020-04-01T00:00:00',\n",
              " 'latest_expenditure': 0.0,\n",
              " 'latest_income': 123205.0,\n",
              " 'linked_charity_number': 0,\n",
              " 'num_trustee': 1,\n",
              " 'organisation_number': 3123875,\n",
              " 'registered_charity_number': 1075885,\n",
              " 'trustees': [(2394758, 'RUSHMOOR BOROUGH COUNCIL')],\n",
              " 'type': 0}"
            ]
          },
          "metadata": {},
          "execution_count": 136
        }
      ]
    },
    {
      "cell_type": "code",
      "source": [
        "import pickle\n",
        "# export the graph data to a pickle file\n",
        "with open(\"dataset.pickle\", 'wb') as f:\n",
        "    pickle.dump(G, f)\n"
      ],
      "metadata": {
        "id": "Zb2iPYKfq1qF"
      },
      "execution_count": 137,
      "outputs": []
    },
    {
      "cell_type": "code",
      "source": [
        "import pickle\n",
        "# this is how data can be loaded from the saved pickle file for future use\n",
        "# note that the data will be loaded as a networkx multigraph since that was the format it was initially exported in\n",
        "data = pickle.load(open(\"dataset.pickle\", \"rb\"))"
      ],
      "metadata": {
        "id": "-53pkrEjsjdj"
      },
      "execution_count": 138,
      "outputs": []
    },
    {
      "cell_type": "code",
      "source": [
        "type(data)"
      ],
      "metadata": {
        "colab": {
          "base_uri": "https://localhost:8080/"
        },
        "id": "1-H3t1L-JKIT",
        "outputId": "916ef508-1b87-4212-b595-181e88e5df78"
      },
      "execution_count": 142,
      "outputs": [
        {
          "output_type": "execute_result",
          "data": {
            "text/plain": [
              "networkx.classes.multigraph.MultiGraph"
            ]
          },
          "metadata": {},
          "execution_count": 142
        }
      ]
    }
  ]
}